{
 "cells": [
  {
   "cell_type": "markdown",
   "id": "4dffccfc",
   "metadata": {},
   "source": [
    "# Productivity During the First 24 Hours\n",
    "\n"
   ]
  },
  {
   "cell_type": "code",
   "execution_count": 1,
   "id": "f6a0fb82",
   "metadata": {},
   "outputs": [
    {
     "name": "stderr",
     "output_type": "stream",
     "text": [
      "── \u001b[1mAttaching packages\u001b[22m ─────────────────────────────────────── tidyverse 1.3.0 ──\n",
      "\n",
      "\u001b[32m✔\u001b[39m \u001b[34mggplot2\u001b[39m 3.3.2     \u001b[32m✔\u001b[39m \u001b[34mpurrr  \u001b[39m 0.3.4\n",
      "\u001b[32m✔\u001b[39m \u001b[34mtibble \u001b[39m 3.0.4     \u001b[32m✔\u001b[39m \u001b[34mdplyr  \u001b[39m 1.0.2\n",
      "\u001b[32m✔\u001b[39m \u001b[34mtidyr  \u001b[39m 1.1.2     \u001b[32m✔\u001b[39m \u001b[34mstringr\u001b[39m 1.4.0\n",
      "\u001b[32m✔\u001b[39m \u001b[34mreadr  \u001b[39m 1.4.0     \u001b[32m✔\u001b[39m \u001b[34mforcats\u001b[39m 0.5.0\n",
      "\n",
      "── \u001b[1mConflicts\u001b[22m ────────────────────────────────────────── tidyverse_conflicts() ──\n",
      "\u001b[31m✖\u001b[39m \u001b[34mdplyr\u001b[39m::\u001b[32mfilter()\u001b[39m masks \u001b[34mstats\u001b[39m::filter()\n",
      "\u001b[31m✖\u001b[39m \u001b[34mdplyr\u001b[39m::\u001b[32mlag()\u001b[39m    masks \u001b[34mstats\u001b[39m::lag()\n",
      "\n",
      "Loading required package: Rcpp\n",
      "\n",
      "Loading 'brms' package (version 2.16.3). Useful instructions\n",
      "can be found by typing help('brms'). A more detailed introduction\n",
      "to the package is available through vignette('brms_overview').\n",
      "\n",
      "\n",
      "Attaching package: ‘brms’\n",
      "\n",
      "\n",
      "The following object is masked from ‘package:stats’:\n",
      "\n",
      "    ar\n",
      "\n",
      "\n",
      "This is loo version 2.4.1\n",
      "\n",
      "- Online documentation and vignettes at mc-stan.org/loo\n",
      "\n",
      "- As of v2.0.0 loo defaults to 1 core but we recommend using as many as possible. Use the 'cores' argument or set options(mc.cores = NUM_CORES) for an entire session. \n",
      "\n",
      "This is rstanarm version 2.21.1\n",
      "\n",
      "- See https://mc-stan.org/rstanarm/articles/priors for changes to default priors!\n",
      "\n",
      "- Default priors may change, so it's safest to specify priors, even if equivalent to the defaults.\n",
      "\n",
      "- For execution on a local, multicore CPU with excess RAM we recommend calling\n",
      "\n",
      "  options(mc.cores = parallel::detectCores())\n",
      "\n",
      "\n",
      "Attaching package: ‘rstanarm’\n",
      "\n",
      "\n",
      "The following objects are masked from ‘package:brms’:\n",
      "\n",
      "    dirichlet, exponential, get_y, lasso, ngrps\n",
      "\n",
      "\n",
      "\n",
      "Attaching package: ‘lubridate’\n",
      "\n",
      "\n",
      "The following objects are masked from ‘package:base’:\n",
      "\n",
      "    date, intersect, setdiff, union\n",
      "\n",
      "\n",
      "This is bayesplot version 1.7.2\n",
      "\n",
      "- Online documentation and vignettes at mc-stan.org/bayesplot\n",
      "\n",
      "- bayesplot theme set to bayesplot::theme_default()\n",
      "\n",
      "   * Does _not_ affect other ggplot2 plots\n",
      "\n",
      "   * See ?bayesplot_theme_set for details on theme setting\n",
      "\n",
      "Loading required package: Matrix\n",
      "\n",
      "\n",
      "Attaching package: ‘Matrix’\n",
      "\n",
      "\n",
      "The following objects are masked from ‘package:tidyr’:\n",
      "\n",
      "    expand, pack, unpack\n",
      "\n",
      "\n",
      "\n",
      "Attaching package: ‘lme4’\n",
      "\n",
      "\n",
      "The following object is masked from ‘package:brms’:\n",
      "\n",
      "    ngrps\n",
      "\n",
      "\n",
      "For binary classification, the first factor level is assumed to be the event.\n",
      "Use the argument `event_level = \"second\"` to alter this as needed.\n",
      "\n",
      "\n",
      "Attaching package: ‘yardstick’\n",
      "\n",
      "\n",
      "The following object is masked from ‘package:readr’:\n",
      "\n",
      "    spec\n",
      "\n",
      "\n",
      "Loading required package: lattice\n",
      "\n",
      "\n",
      "Attaching package: ‘caret’\n",
      "\n",
      "\n",
      "The following objects are masked from ‘package:yardstick’:\n",
      "\n",
      "    precision, recall, sensitivity, specificity\n",
      "\n",
      "\n",
      "The following objects are masked from ‘package:rstanarm’:\n",
      "\n",
      "    compare_models, R2\n",
      "\n",
      "\n",
      "The following object is masked from ‘package:purrr’:\n",
      "\n",
      "    lift\n",
      "\n",
      "\n"
     ]
    }
   ],
   "source": [
    "library(tidyverse)\n",
    "library(broom)\n",
    "\n",
    "library(brms) # install.packages(\"brms\")\n",
    "library(loo) # install.packages(\"loo\")\n",
    "library(rstanarm) # install.packages(\"rstanarm\")\n",
    "\n",
    "library(lubridate)\n",
    "library(bayesplot)\n",
    "\n",
    "library(lme4)\n",
    "library(yardstick) # install.packages(\"yardstick\")\n",
    "\n",
    "library(caret)"
   ]
  },
  {
   "cell_type": "markdown",
   "id": "22c4116e",
   "metadata": {},
   "source": [
    "# R Configuration variables"
   ]
  },
  {
   "cell_type": "code",
   "execution_count": 2,
   "id": "dcf87d89",
   "metadata": {},
   "outputs": [],
   "source": [
    "## NOTE: `loo`, which we use for model comparisons, has a tendency to use lots or run out of memory.\n",
    "## Therefore, I've often had to set mc.cores to 1 before running it. However, if we set its `pointwise`\n",
    "## parameter, it'll use less memory. And it'll use BLAS, so we restrict the number of BLAS threads to 1.\n",
    "## Then mc.cores controls the number of parallel processes.\n",
    "\n",
    "## blas_set_num_threads() also controls the number of threads that glmer() uses. Depending on the load\n",
    "## on the server at the time we're doing our analysis we can tune the number of threads.\n",
    "\n",
    "library(RhpcBLASctl)\n",
    "blas_set_num_threads(1)\n",
    "options(mc.cores = 4, digits = 3, scipen = 500)\n",
    "\n",
    "# Give me wider plots, please\n",
    "options(repr.plot.width = 14, repr.plot.height = 7)"
   ]
  },
  {
   "cell_type": "markdown",
   "id": "f5916952",
   "metadata": {},
   "source": [
    "# Helper functions"
   ]
  },
  {
   "cell_type": "code",
   "execution_count": 3,
   "id": "d6520809",
   "metadata": {},
   "outputs": [],
   "source": [
    "## Function that takes in a model, the validation set, the name of the predicted column,\n",
    "## and returns a plot of the ROC curve\n",
    "plot_ROC <- function(mod, val_data, col_name) {\n",
    "    val_data$estimate = predict(mod, val_data, type = \"response\")\n",
    "    roc_curve(val_data, {{ col_name }}, estimate, event_level = 'second') %>%\n",
    "        ggplot(aes(x = 1 - specificity, y = sensitivity)) +\n",
    "        geom_path() +\n",
    "        geom_abline(lty = 3) +\n",
    "        coord_equal() +\n",
    "        theme_bw()\n",
    "}"
   ]
  },
  {
   "cell_type": "code",
   "execution_count": 4,
   "id": "53d4f68c",
   "metadata": {},
   "outputs": [],
   "source": [
    "## Function that takes in the filename of the user edit data, reads it in,\n",
    "## and creates all the various derived columns we need.\n",
    "read_user_dataset <- function(dataset_filename) {\n",
    "    read_tsv(\n",
    "        dataset_filename,\n",
    "        col_types = user_dataset_column_types) %>%\n",
    "    mutate(\n",
    "        Group = factor(hp_enabled, levels = c(0, 1), labels = c(\"C\", \"HP\")),\n",
    "        platform = factor(reg_on_mobile == 1, c(FALSE, TRUE), c(\"desktop\", \"mobile\")),\n",
    "        ## Registration month, for later joins on month\n",
    "        reg_month = floor_date(user_registration_timestamp, unit = 'month'),\n",
    "        # Number of edits:\n",
    "        num_total_edits_24hrs = num_article_edits_24hrs + num_other_edits_24hrs,\n",
    "        num_total_edits_2w = num_article_edits_2w + num_other_edits_2w,\n",
    "        num_total_edits = num_total_edits_24hrs + num_total_edits_2w,\n",
    "        num_total_article_edits = num_article_edits_24hrs + num_article_edits_2w,\n",
    "        num_total_other_edits = num_other_edits_24hrs + num_total_edits_2w,\n",
    "        # Log number of total edits is used as a control variable in the revert analysis\n",
    "        log_num_total_edits = log(1 + num_total_edits),\n",
    "        # Number of reverts:\n",
    "        num_reverts_24hrs = num_article_reverts_24hrs + num_other_reverts_24hrs,\n",
    "        num_reverts_2w = num_article_reverts_2w + num_other_reverts_2w,\n",
    "        num_total_reverts = num_reverts_24hrs + num_reverts_2w,\n",
    "        ## Control variables for the number of edits made (used for ex. in revert analysis)\n",
    "        log_num_article_edits_24hrs = log(1 + num_article_edits_24hrs),\n",
    "        log_num_other_edits_24hrs = log(1 + num_other_edits_24hrs),\n",
    "        log_num_edits_24hrs = log(1 + num_article_edits_24hrs + num_other_edits_24hrs),\n",
    "        # Control variables for the number of constructive edits made\n",
    "        log_num_const_article_edits_24hrs = log(\n",
    "            1 + num_article_edits_24hrs - num_article_reverts_24hrs),\n",
    "        log_num_const_other_edits_24hrs = log(\n",
    "            1 + num_other_edits_24hrs - num_other_reverts_24hrs),\n",
    "        log_num_const_edits_24hrs = log(\n",
    "            1 + num_article_edits_24hrs + num_other_edits_24hrs -\n",
    "                num_article_reverts_24hrs - num_other_reverts_24hrs),\n",
    "        # Revert rate:\n",
    "        prop_rev_edits = ifelse(num_total_edits > 0, num_total_reverts / num_total_edits, 0),\n",
    "        # Did they activate?\n",
    "        is_activated_article = num_article_edits_24hrs > 0,\n",
    "        is_activated_other = num_other_edits_24hrs > 0,\n",
    "        is_activated = is_activated_article | is_activated_other,\n",
    "        # Did they activate through constructive edits?\n",
    "        is_const_activated_article = (num_article_edits_24hrs - num_article_reverts_24hrs) > 0,\n",
    "        is_const_activated_other = (num_other_edits_24hrs - num_other_reverts_24hrs) > 0,\n",
    "        is_const_activated = is_const_activated_article | is_const_activated_other,\n",
    "        # Were they retained?\n",
    "        is_retained_article = is_activated_article & (num_article_edits_2w > 0),\n",
    "        is_retained_other = is_activated_other & (num_other_edits_2w > 0),\n",
    "        is_retained = is_activated & ((num_article_edits_2w + num_other_edits_2w) > 0),\n",
    "        # Were they retained through constructive edits?\n",
    "        is_const_retained_article = is_const_activated_article &\n",
    "            ((num_article_edits_2w - num_article_reverts_2w) > 0),\n",
    "        is_const_retained_other = is_const_activated_other &\n",
    "            ((num_other_edits_2w - num_other_reverts_2w) > 0),\n",
    "        is_const_retained = is_const_activated &\n",
    "            ((num_article_edits_2w + num_other_edits_2w -\n",
    "              num_article_reverts_2w - num_other_reverts_2w) > 0)\n",
    "    ) \n",
    "}"
   ]
  },
  {
   "cell_type": "code",
   "execution_count": 5,
   "id": "b3664c64",
   "metadata": {},
   "outputs": [],
   "source": [
    "## Function that takes in the filename of the active editors dataset,\n",
    "## and adds a registration month column for easy joining with the user dataset.\n",
    "read_active_editors_dataset <- function(dataset_filename) {\n",
    "    read_tsv(\n",
    "        dataset_filename,\n",
    "        col_types = active_editors_column_types) %>%\n",
    "    mutate(wiki_db = factor(wiki_db),\n",
    "           reg_month = month + months(1))\n",
    "}"
   ]
  },
  {
   "cell_type": "markdown",
   "id": "b61ff3db",
   "metadata": {},
   "source": [
    "# Experiment Configuration Variables\n",
    "\n",
    "We define a set of configuration variables that are useful for the analysis. One obvious one is where the edit dataset is located.\n",
    "\n",
    "A less obvious one is a variable for when the experiment started. We often use this seeking to model the community's initial response to changes in newcomer behaviour, as well as long-term trends in the outcome variable when working with user data gathered across a relatively long time period."
   ]
  },
  {
   "cell_type": "code",
   "execution_count": 6,
   "id": "e0ed89f2",
   "metadata": {},
   "outputs": [],
   "source": [
    "## Path to the datasets with user edits\n",
    "user_dataset_filenames <- c(\n",
    "    '/home/nettrom/src/2021-Growth-structured-tasks/datasets/add-a-link-edit-data.tsv'\n",
    "    )\n",
    "\n",
    "## Column types in the dataset: wiki is a factor, HP variant is a factor, registration is a date time,\n",
    "## everything else are integers.\n",
    "user_dataset_column_types <- 'fiTiifiiiiiiii'\n",
    "\n",
    "## Path to the dataset with counts of the number of active editors\n",
    "active_editors_filenames <- c()\n",
    "\n",
    "## Column types in the active editors dataset: month is a date, wiki is a factor\n",
    "active_editors_column_types <- 'Dfiii'\n",
    "\n",
    "## Deployment timestamps for Add a Link on each of the wikis\n",
    "## Note that we turn wiki_db into a factor, otherwise wiki_db in the edit dataset\n",
    "## becomes a character after joining the two.\n",
    "exp_start_timestamps <- tribble(\n",
    "    ~wiki_db, ~exp_start_timestamp,\n",
    "    'arwiki', ymd_hms('2021-05-27 19:12:03', tz = 'UTC'),\n",
    "    'bnwiki', ymd_hms('2021-05-27 19:12:03', tz = 'UTC'),\n",
    "    'cswiki', ymd_hms('2021-05-27 19:12:03', tz = 'UTC'),\n",
    "    'viwiki', ymd_hms('2021-05-27 19:12:03', tz = 'UTC'),\n",
    "    'fawiki', ymd_hms('2021-07-21 11:11:21', tz = 'UTC'),\n",
    "    'frwiki', ymd_hms('2021-07-21 11:11:21', tz = 'UTC'),\n",
    "    'huwiki', ymd_hms('2021-07-21 11:11:21', tz = 'UTC'),\n",
    "    'plwiki', ymd_hms('2021-07-21 11:11:21', tz = 'UTC'),\n",
    "    'rowiki', ymd_hms('2021-07-21 11:11:21', tz = 'UTC'),\n",
    "    'ruwiki', ymd_hms('2021-07-21 11:11:21', tz = 'UTC'),\n",
    "\n",
    ") %>% mutate(wiki_db = factor(wiki_db))\n",
    "\n",
    "## Path to the dataset with editing status at account registration\n",
    "editing_status_filenames <- c()\n",
    "\n",
    "## Column types in the editing status dataset: wiki is a factor, everything else are integers\n",
    "editing_status_column_types <- 'fii'\n",
    "\n",
    "## Path to the dataset with Welcome Survey responses\n",
    "survey_response_filenames <- c()\n",
    "\n",
    "## Columns types in the survey response data: user ID is an integer, number of languages is a number,\n",
    "## everything else are factors\n",
    "survey_response_column_types <- 'fifffn'"
   ]
  },
  {
   "cell_type": "markdown",
   "id": "194a8f53",
   "metadata": {},
   "source": [
    "# Data import and setup"
   ]
  },
  {
   "cell_type": "code",
   "execution_count": 7,
   "id": "81633811",
   "metadata": {},
   "outputs": [],
   "source": [
    "user_edit_data <- map_dfr(user_dataset_filenames, read_user_dataset)"
   ]
  },
  {
   "cell_type": "code",
   "execution_count": 8,
   "id": "a009d0d9",
   "metadata": {},
   "outputs": [
    {
     "data": {
      "text/html": [
       "130179"
      ],
      "text/latex": [
       "130179"
      ],
      "text/markdown": [
       "130179"
      ],
      "text/plain": [
       "[1] 130179"
      ]
     },
     "metadata": {},
     "output_type": "display_data"
    }
   ],
   "source": [
    "nrow(user_edit_data)"
   ]
  },
  {
   "cell_type": "markdown",
   "id": "9d02c55c",
   "metadata": {},
   "source": [
    "## Time since experiment start"
   ]
  },
  {
   "cell_type": "markdown",
   "id": "a434fa21",
   "metadata": {},
   "source": [
    "Join the edits data with the experiment timestamps and measure time since the start to enable controlling for that:"
   ]
  },
  {
   "cell_type": "code",
   "execution_count": 9,
   "id": "1fa82870",
   "metadata": {},
   "outputs": [],
   "source": [
    "user_edit_data <- user_edit_data %>%\n",
    "    inner_join(exp_start_timestamps, by = 'wiki_db') %>%\n",
    "    mutate(\n",
    "        # Time as a measurement since deployment\n",
    "        exp_days = difftime(user_registration_timestamp, exp_start_timestamp, units = 'days'),\n",
    "        ln_exp_days = ifelse(exp_days < 0, 0, log(1 + as.numeric(exp_days))),\n",
    "        ln_exp_weeks = ifelse(exp_days < 0, 0, log(1 + as.numeric(exp_days)/7))\n",
    "    )"
   ]
  },
  {
   "cell_type": "code",
   "execution_count": 10,
   "id": "de0a676a",
   "metadata": {},
   "outputs": [
    {
     "data": {
      "text/html": [
       "130179"
      ],
      "text/latex": [
       "130179"
      ],
      "text/markdown": [
       "130179"
      ],
      "text/plain": [
       "[1] 130179"
      ]
     },
     "metadata": {},
     "output_type": "display_data"
    }
   ],
   "source": [
    "nrow(user_edit_data)"
   ]
  },
  {
   "cell_type": "markdown",
   "id": "5bac02b3",
   "metadata": {},
   "source": [
    "Made sure that we're not dropping any users at this stage, we're good to move forward."
   ]
  },
  {
   "cell_type": "markdown",
   "id": "f0a026d4",
   "metadata": {},
   "source": [
    "## Additional variables\n",
    "\n",
    "We've previously focused on Control vs Growth Features in our analysis. In this case we'll focus primarily on Unstructured Link Task vs Add a Link, but also check against the control group. This means we want the single variable `Group` to reflect one of three options depending on `hp_enabled` and `hp_variant`"
   ]
  },
  {
   "cell_type": "code",
   "execution_count": 11,
   "id": "8776ac54",
   "metadata": {},
   "outputs": [],
   "source": [
    "user_edit_data <- user_edit_data %>%\n",
    "    mutate(Group = factor(ifelse(\n",
    "        hp_enabled == 0, 'Control',\n",
    "        ifelse(hp_variant == 'control', 'Unstructured', 'Add-a-link')),\n",
    "                          c('Control', 'Unstructured', 'Add-a-link')))"
   ]
  },
  {
   "cell_type": "markdown",
   "id": "f5a1dcd3",
   "metadata": {},
   "source": [
    "Our productivity model will fit on the total number of constructive article edits during the first 24 hours, so we need a variable for that."
   ]
  },
  {
   "cell_type": "code",
   "execution_count": 12,
   "id": "96e157c8",
   "metadata": {},
   "outputs": [],
   "source": [
    "user_edit_data <- user_edit_data %>%\n",
    "    mutate(num_const_article_edits_24hrs = num_article_edits_24hrs - num_article_reverts_24hrs)"
   ]
  },
  {
   "cell_type": "markdown",
   "id": "9a962de0",
   "metadata": {},
   "source": [
    "## Checking number of accounts for each wiki\n",
    "\n",
    "We might be looking at very small wikis, in case we might want to not include them in the analysis."
   ]
  },
  {
   "cell_type": "code",
   "execution_count": 13,
   "id": "dc248ad6",
   "metadata": {},
   "outputs": [
    {
     "name": "stderr",
     "output_type": "stream",
     "text": [
      "`summarise()` regrouping output by 'wiki_db' (override with `.groups` argument)\n",
      "\n"
     ]
    },
    {
     "data": {
      "text/html": [
       "<table>\n",
       "<caption>A grouped_df: 30 × 3</caption>\n",
       "<thead>\n",
       "\t<tr><th scope=col>wiki_db</th><th scope=col>Group</th><th scope=col>n</th></tr>\n",
       "\t<tr><th scope=col>&lt;fct&gt;</th><th scope=col>&lt;fct&gt;</th><th scope=col>&lt;int&gt;</th></tr>\n",
       "</thead>\n",
       "<tbody>\n",
       "\t<tr><td>arwiki</td><td>Control     </td><td> 7698</td></tr>\n",
       "\t<tr><td>arwiki</td><td>Unstructured</td><td>13426</td></tr>\n",
       "\t<tr><td>arwiki</td><td>Add-a-link  </td><td>13213</td></tr>\n",
       "\t<tr><td>bnwiki</td><td>Control     </td><td> 1583</td></tr>\n",
       "\t<tr><td>bnwiki</td><td>Unstructured</td><td> 2664</td></tr>\n",
       "\t<tr><td>bnwiki</td><td>Add-a-link  </td><td> 2679</td></tr>\n",
       "\t<tr><td>cswiki</td><td>Control     </td><td>  787</td></tr>\n",
       "\t<tr><td>cswiki</td><td>Unstructured</td><td> 1419</td></tr>\n",
       "\t<tr><td>cswiki</td><td>Add-a-link  </td><td> 1447</td></tr>\n",
       "\t<tr><td>fawiki</td><td>Control     </td><td> 2739</td></tr>\n",
       "\t<tr><td>fawiki</td><td>Unstructured</td><td> 5555</td></tr>\n",
       "\t<tr><td>fawiki</td><td>Add-a-link  </td><td> 5440</td></tr>\n",
       "\t<tr><td>frwiki</td><td>Control     </td><td> 5578</td></tr>\n",
       "\t<tr><td>frwiki</td><td>Unstructured</td><td>11146</td></tr>\n",
       "\t<tr><td>frwiki</td><td>Add-a-link  </td><td>11274</td></tr>\n",
       "\t<tr><td>huwiki</td><td>Control     </td><td>  315</td></tr>\n",
       "\t<tr><td>huwiki</td><td>Unstructured</td><td>  638</td></tr>\n",
       "\t<tr><td>huwiki</td><td>Add-a-link  </td><td>  632</td></tr>\n",
       "\t<tr><td>plwiki</td><td>Control     </td><td>  949</td></tr>\n",
       "\t<tr><td>plwiki</td><td>Unstructured</td><td> 1924</td></tr>\n",
       "\t<tr><td>plwiki</td><td>Add-a-link  </td><td> 1930</td></tr>\n",
       "\t<tr><td>rowiki</td><td>Control     </td><td>  294</td></tr>\n",
       "\t<tr><td>rowiki</td><td>Unstructured</td><td>  575</td></tr>\n",
       "\t<tr><td>rowiki</td><td>Add-a-link  </td><td>  565</td></tr>\n",
       "\t<tr><td>ruwiki</td><td>Control     </td><td> 4069</td></tr>\n",
       "\t<tr><td>ruwiki</td><td>Unstructured</td><td> 8176</td></tr>\n",
       "\t<tr><td>ruwiki</td><td>Add-a-link  </td><td> 8222</td></tr>\n",
       "\t<tr><td>viwiki</td><td>Control     </td><td> 3324</td></tr>\n",
       "\t<tr><td>viwiki</td><td>Unstructured</td><td> 5956</td></tr>\n",
       "\t<tr><td>viwiki</td><td>Add-a-link  </td><td> 5962</td></tr>\n",
       "</tbody>\n",
       "</table>\n"
      ],
      "text/latex": [
       "A grouped\\_df: 30 × 3\n",
       "\\begin{tabular}{lll}\n",
       " wiki\\_db & Group & n\\\\\n",
       " <fct> & <fct> & <int>\\\\\n",
       "\\hline\n",
       "\t arwiki & Control      &  7698\\\\\n",
       "\t arwiki & Unstructured & 13426\\\\\n",
       "\t arwiki & Add-a-link   & 13213\\\\\n",
       "\t bnwiki & Control      &  1583\\\\\n",
       "\t bnwiki & Unstructured &  2664\\\\\n",
       "\t bnwiki & Add-a-link   &  2679\\\\\n",
       "\t cswiki & Control      &   787\\\\\n",
       "\t cswiki & Unstructured &  1419\\\\\n",
       "\t cswiki & Add-a-link   &  1447\\\\\n",
       "\t fawiki & Control      &  2739\\\\\n",
       "\t fawiki & Unstructured &  5555\\\\\n",
       "\t fawiki & Add-a-link   &  5440\\\\\n",
       "\t frwiki & Control      &  5578\\\\\n",
       "\t frwiki & Unstructured & 11146\\\\\n",
       "\t frwiki & Add-a-link   & 11274\\\\\n",
       "\t huwiki & Control      &   315\\\\\n",
       "\t huwiki & Unstructured &   638\\\\\n",
       "\t huwiki & Add-a-link   &   632\\\\\n",
       "\t plwiki & Control      &   949\\\\\n",
       "\t plwiki & Unstructured &  1924\\\\\n",
       "\t plwiki & Add-a-link   &  1930\\\\\n",
       "\t rowiki & Control      &   294\\\\\n",
       "\t rowiki & Unstructured &   575\\\\\n",
       "\t rowiki & Add-a-link   &   565\\\\\n",
       "\t ruwiki & Control      &  4069\\\\\n",
       "\t ruwiki & Unstructured &  8176\\\\\n",
       "\t ruwiki & Add-a-link   &  8222\\\\\n",
       "\t viwiki & Control      &  3324\\\\\n",
       "\t viwiki & Unstructured &  5956\\\\\n",
       "\t viwiki & Add-a-link   &  5962\\\\\n",
       "\\end{tabular}\n"
      ],
      "text/markdown": [
       "\n",
       "A grouped_df: 30 × 3\n",
       "\n",
       "| wiki_db &lt;fct&gt; | Group &lt;fct&gt; | n &lt;int&gt; |\n",
       "|---|---|---|\n",
       "| arwiki | Control      |  7698 |\n",
       "| arwiki | Unstructured | 13426 |\n",
       "| arwiki | Add-a-link   | 13213 |\n",
       "| bnwiki | Control      |  1583 |\n",
       "| bnwiki | Unstructured |  2664 |\n",
       "| bnwiki | Add-a-link   |  2679 |\n",
       "| cswiki | Control      |   787 |\n",
       "| cswiki | Unstructured |  1419 |\n",
       "| cswiki | Add-a-link   |  1447 |\n",
       "| fawiki | Control      |  2739 |\n",
       "| fawiki | Unstructured |  5555 |\n",
       "| fawiki | Add-a-link   |  5440 |\n",
       "| frwiki | Control      |  5578 |\n",
       "| frwiki | Unstructured | 11146 |\n",
       "| frwiki | Add-a-link   | 11274 |\n",
       "| huwiki | Control      |   315 |\n",
       "| huwiki | Unstructured |   638 |\n",
       "| huwiki | Add-a-link   |   632 |\n",
       "| plwiki | Control      |   949 |\n",
       "| plwiki | Unstructured |  1924 |\n",
       "| plwiki | Add-a-link   |  1930 |\n",
       "| rowiki | Control      |   294 |\n",
       "| rowiki | Unstructured |   575 |\n",
       "| rowiki | Add-a-link   |   565 |\n",
       "| ruwiki | Control      |  4069 |\n",
       "| ruwiki | Unstructured |  8176 |\n",
       "| ruwiki | Add-a-link   |  8222 |\n",
       "| viwiki | Control      |  3324 |\n",
       "| viwiki | Unstructured |  5956 |\n",
       "| viwiki | Add-a-link   |  5962 |\n",
       "\n"
      ],
      "text/plain": [
       "   wiki_db Group        n    \n",
       "1  arwiki  Control       7698\n",
       "2  arwiki  Unstructured 13426\n",
       "3  arwiki  Add-a-link   13213\n",
       "4  bnwiki  Control       1583\n",
       "5  bnwiki  Unstructured  2664\n",
       "6  bnwiki  Add-a-link    2679\n",
       "7  cswiki  Control        787\n",
       "8  cswiki  Unstructured  1419\n",
       "9  cswiki  Add-a-link    1447\n",
       "10 fawiki  Control       2739\n",
       "11 fawiki  Unstructured  5555\n",
       "12 fawiki  Add-a-link    5440\n",
       "13 frwiki  Control       5578\n",
       "14 frwiki  Unstructured 11146\n",
       "15 frwiki  Add-a-link   11274\n",
       "16 huwiki  Control        315\n",
       "17 huwiki  Unstructured   638\n",
       "18 huwiki  Add-a-link     632\n",
       "19 plwiki  Control        949\n",
       "20 plwiki  Unstructured  1924\n",
       "21 plwiki  Add-a-link    1930\n",
       "22 rowiki  Control        294\n",
       "23 rowiki  Unstructured   575\n",
       "24 rowiki  Add-a-link     565\n",
       "25 ruwiki  Control       4069\n",
       "26 ruwiki  Unstructured  8176\n",
       "27 ruwiki  Add-a-link    8222\n",
       "28 viwiki  Control       3324\n",
       "29 viwiki  Unstructured  5956\n",
       "30 viwiki  Add-a-link    5962"
      ]
     },
     "metadata": {},
     "output_type": "display_data"
    }
   ],
   "source": [
    "user_edit_data %>%\n",
    "    group_by(wiki_db, Group) %>%\n",
    "    summarize(n = n())"
   ]
  },
  {
   "cell_type": "markdown",
   "id": "c5ad7b02",
   "metadata": {},
   "source": [
    "## Splitting into Training, Test, and Validation Datasets\n",
    "\n",
    "Split the dataset into training, test, and validation data sets."
   ]
  },
  {
   "cell_type": "code",
   "execution_count": 14,
   "id": "ca768853",
   "metadata": {},
   "outputs": [
    {
     "name": "stderr",
     "output_type": "stream",
     "text": [
      "Warning message:\n",
      "“The `i` argument of ``[`()` can't be a matrix as of tibble 3.0.0.\n",
      "Convert to a vector.\n",
      "\u001b[90mThis warning is displayed once every 8 hours.\u001b[39m\n",
      "\u001b[90mCall `lifecycle::last_warnings()` to see where this warning was generated.\u001b[39m”\n"
     ]
    }
   ],
   "source": [
    "## set the random seed so train/test/validation splits can be reproduced\n",
    "set.seed(42)\n",
    "\n",
    "trainIndex <- caret::createDataPartition(user_edit_data$Group,\n",
    "                                         p = .8,\n",
    "                                         list = FALSE,\n",
    "                                         times = 1)\n",
    "user_data_train = user_edit_data[trainIndex,]\n",
    "user_data_second = user_edit_data[-trainIndex,]\n",
    "\n",
    "testIndex = caret::createDataPartition(user_data_second$Group, p = .5, list = FALSE, times = 1)\n",
    "\n",
    "user_data_test = user_data_second[testIndex,]\n",
    "user_data_validate = user_data_second[-testIndex,]"
   ]
  },
  {
   "cell_type": "code",
   "execution_count": 15,
   "id": "cae05484",
   "metadata": {},
   "outputs": [],
   "source": [
    "user_data_test$is_activated_fct <- factor(user_data_test$is_activated,\n",
    "                                          labels = c('No', 'Yes'))\n",
    "user_data_validate$is_activated_fct <- factor(user_data_validate$is_activated,\n",
    "                                          labels = c('No', 'Yes'))"
   ]
  },
  {
   "cell_type": "markdown",
   "id": "17009e87",
   "metadata": {},
   "source": [
    "## Visualizing Productivity\n",
    "\n",
    "We'll make box plots of editing based on group, and we'll focus on constructive article edits because that's where we see the strongest effects. This plot uses the `log10(1 + x)` transformation so we get to see all users who didn't make any edits."
   ]
  },
  {
   "cell_type": "code",
   "execution_count": 17,
   "id": "fc584123",
   "metadata": {},
   "outputs": [
    {
     "data": {
      "image/png": "[encoded data removed]",
      "text/plain": [
       "plot without title"
      ]
     },
     "metadata": {
      "image/png": {
       "height": 420,
       "width": 840
      }
     },
     "output_type": "display_data"
    }
   ],
   "source": [
    "user_edit_data %>%\n",
    "    mutate(log_num_const_article_edits_24hrs = log10(1 + num_const_article_edits_24hrs)) %>%\n",
    "    ggplot(aes(x = Group, y = log_num_const_article_edits_24hrs)) +\n",
    "        labs(title = 'Productivity by Group', yaxis_title = 'Number of constructive edits (log 10 scale)') +\n",
    "        geom_boxplot()"
   ]
  },
  {
   "cell_type": "markdown",
   "id": "f5f5a4db",
   "metadata": {},
   "source": [
    "It looks like these groups are largely similar, let's summarize and see what we find."
   ]
  },
  {
   "cell_type": "code",
   "execution_count": 19,
   "id": "0d46173a",
   "metadata": {},
   "outputs": [
    {
     "data": {
      "text/html": [
       "<table>\n",
       "<caption>A grouped_df: 6 × 12</caption>\n",
       "<thead>\n",
       "\t<tr><th scope=col>platform</th><th scope=col>Group</th><th scope=col>min_edits</th><th scope=col>perc_5_edits</th><th scope=col>perc_10_edits</th><th scope=col>perc_25_edits</th><th scope=col>median_edits</th><th scope=col>mean_edits</th><th scope=col>perc_75_edits</th><th scope=col>perc_90_edits</th><th scope=col>perc_95_edits</th><th scope=col>max_edits</th></tr>\n",
       "\t<tr><th scope=col>&lt;fct&gt;</th><th scope=col>&lt;fct&gt;</th><th scope=col>&lt;int&gt;</th><th scope=col>&lt;dbl&gt;</th><th scope=col>&lt;dbl&gt;</th><th scope=col>&lt;dbl&gt;</th><th scope=col>&lt;dbl&gt;</th><th scope=col>&lt;dbl&gt;</th><th scope=col>&lt;dbl&gt;</th><th scope=col>&lt;dbl&gt;</th><th scope=col>&lt;dbl&gt;</th><th scope=col>&lt;int&gt;</th></tr>\n",
       "</thead>\n",
       "<tbody>\n",
       "\t<tr><td>desktop</td><td>Control     </td><td>0</td><td>0</td><td>0</td><td>0</td><td>0</td><td>0.688</td><td>0</td><td>2</td><td>3</td><td>108</td></tr>\n",
       "\t<tr><td>desktop</td><td>Unstructured</td><td>0</td><td>0</td><td>0</td><td>0</td><td>0</td><td>0.722</td><td>1</td><td>2</td><td>3</td><td>208</td></tr>\n",
       "\t<tr><td>desktop</td><td>Add-a-link  </td><td>0</td><td>0</td><td>0</td><td>0</td><td>0</td><td>0.830</td><td>1</td><td>2</td><td>4</td><td>296</td></tr>\n",
       "\t<tr><td>mobile </td><td>Control     </td><td>0</td><td>0</td><td>0</td><td>0</td><td>0</td><td>0.428</td><td>0</td><td>1</td><td>2</td><td> 78</td></tr>\n",
       "\t<tr><td>mobile </td><td>Unstructured</td><td>0</td><td>0</td><td>0</td><td>0</td><td>0</td><td>0.461</td><td>0</td><td>1</td><td>2</td><td> 86</td></tr>\n",
       "\t<tr><td>mobile </td><td>Add-a-link  </td><td>0</td><td>0</td><td>0</td><td>0</td><td>0</td><td>0.581</td><td>0</td><td>1</td><td>3</td><td>153</td></tr>\n",
       "</tbody>\n",
       "</table>\n"
      ],
      "text/latex": [
       "A grouped\\_df: 6 × 12\n",
       "\\begin{tabular}{llllllllllll}\n",
       " platform & Group & min\\_edits & perc\\_5\\_edits & perc\\_10\\_edits & perc\\_25\\_edits & median\\_edits & mean\\_edits & perc\\_75\\_edits & perc\\_90\\_edits & perc\\_95\\_edits & max\\_edits\\\\\n",
       " <fct> & <fct> & <int> & <dbl> & <dbl> & <dbl> & <dbl> & <dbl> & <dbl> & <dbl> & <dbl> & <int>\\\\\n",
       "\\hline\n",
       "\t desktop & Control      & 0 & 0 & 0 & 0 & 0 & 0.688 & 0 & 2 & 3 & 108\\\\\n",
       "\t desktop & Unstructured & 0 & 0 & 0 & 0 & 0 & 0.722 & 1 & 2 & 3 & 208\\\\\n",
       "\t desktop & Add-a-link   & 0 & 0 & 0 & 0 & 0 & 0.830 & 1 & 2 & 4 & 296\\\\\n",
       "\t mobile  & Control      & 0 & 0 & 0 & 0 & 0 & 0.428 & 0 & 1 & 2 &  78\\\\\n",
       "\t mobile  & Unstructured & 0 & 0 & 0 & 0 & 0 & 0.461 & 0 & 1 & 2 &  86\\\\\n",
       "\t mobile  & Add-a-link   & 0 & 0 & 0 & 0 & 0 & 0.581 & 0 & 1 & 3 & 153\\\\\n",
       "\\end{tabular}\n"
      ],
      "text/markdown": [
       "\n",
       "A grouped_df: 6 × 12\n",
       "\n",
       "| platform &lt;fct&gt; | Group &lt;fct&gt; | min_edits &lt;int&gt; | perc_5_edits &lt;dbl&gt; | perc_10_edits &lt;dbl&gt; | perc_25_edits &lt;dbl&gt; | median_edits &lt;dbl&gt; | mean_edits &lt;dbl&gt; | perc_75_edits &lt;dbl&gt; | perc_90_edits &lt;dbl&gt; | perc_95_edits &lt;dbl&gt; | max_edits &lt;int&gt; |\n",
       "|---|---|---|---|---|---|---|---|---|---|---|---|\n",
       "| desktop | Control      | 0 | 0 | 0 | 0 | 0 | 0.688 | 0 | 2 | 3 | 108 |\n",
       "| desktop | Unstructured | 0 | 0 | 0 | 0 | 0 | 0.722 | 1 | 2 | 3 | 208 |\n",
       "| desktop | Add-a-link   | 0 | 0 | 0 | 0 | 0 | 0.830 | 1 | 2 | 4 | 296 |\n",
       "| mobile  | Control      | 0 | 0 | 0 | 0 | 0 | 0.428 | 0 | 1 | 2 |  78 |\n",
       "| mobile  | Unstructured | 0 | 0 | 0 | 0 | 0 | 0.461 | 0 | 1 | 2 |  86 |\n",
       "| mobile  | Add-a-link   | 0 | 0 | 0 | 0 | 0 | 0.581 | 0 | 1 | 3 | 153 |\n",
       "\n"
      ],
      "text/plain": [
       "  platform Group        min_edits perc_5_edits perc_10_edits perc_25_edits\n",
       "1 desktop  Control      0         0            0             0            \n",
       "2 desktop  Unstructured 0         0            0             0            \n",
       "3 desktop  Add-a-link   0         0            0             0            \n",
       "4 mobile   Control      0         0            0             0            \n",
       "5 mobile   Unstructured 0         0            0             0            \n",
       "6 mobile   Add-a-link   0         0            0             0            \n",
       "  median_edits mean_edits perc_75_edits perc_90_edits perc_95_edits max_edits\n",
       "1 0            0.688      0             2             3             108      \n",
       "2 0            0.722      1             2             3             208      \n",
       "3 0            0.830      1             2             4             296      \n",
       "4 0            0.428      0             1             2              78      \n",
       "5 0            0.461      0             1             2              86      \n",
       "6 0            0.581      0             1             3             153      "
      ]
     },
     "metadata": {},
     "output_type": "display_data"
    }
   ],
   "source": [
    "user_edit_data %>%\n",
    "    group_by(platform, Group) %>%\n",
    "    summarise(min_edits = min(num_const_article_edits_24hrs),\n",
    "              perc_5_edits = quantile(num_const_article_edits_24hrs, probs = c(0.05)),\n",
    "              perc_10_edits = quantile(num_const_article_edits_24hrs, probs = c(0.1)),\n",
    "              perc_25_edits = quantile(num_const_article_edits_24hrs, probs = c(0.25)),\n",
    "              median_edits = median(num_const_article_edits_24hrs),\n",
    "              mean_edits = mean(num_const_article_edits_24hrs),\n",
    "              perc_75_edits = quantile(num_const_article_edits_24hrs, probs = c(0.75)),\n",
    "              perc_90_edits = quantile(num_const_article_edits_24hrs, probs = c(0.9)),\n",
    "              perc_95_edits = quantile(num_const_article_edits_24hrs, probs = c(0.95)),\n",
    "              max_edits = max(num_const_article_edits_24hrs),\n",
    "             .groups = 'keep'\n",
    "             )"
   ]
  },
  {
   "cell_type": "markdown",
   "id": "872c0457",
   "metadata": {},
   "source": [
    "## Priors"
   ]
  },
  {
   "cell_type": "code",
   "execution_count": 13,
   "id": "2f46cfa2",
   "metadata": {},
   "outputs": [],
   "source": [
    "## Note that using a student_t distribution for the prior is beneficial because that\n",
    "## distribution handles outliers better than a Normal.\n",
    "## See https://jrnold.github.io/bayesian_notes/robust-regression.html\n",
    "## Thanks to Mikhail for sending that to me!\n",
    "priors <- prior(cauchy(0, 2), class = sd) +\n",
    "  prior(student_t(5, 0, 10), class = b)"
   ]
  },
  {
   "cell_type": "markdown",
   "id": "8c4921c1",
   "metadata": {},
   "source": [
    "# Constructive Article Productivity with Group-level Variation\n",
    "\n",
    "In the analysis of activation, we found meaningful group-level variation in `platform`, and indications of an interaction between `platform` and `Group`. When analysing retention, we found that it mainly followed activation. Similarly as we're doing with edits across the entire time period, we start with a model that follows the activation findings, and then work from there."
   ]
  },
  {
   "cell_type": "code",
   "execution_count": null,
   "id": "cc4909c0",
   "metadata": {},
   "outputs": [
    {
     "name": "stderr",
     "output_type": "stream",
     "text": [
      "Compiling Stan program...\n",
      "\n",
      "Start sampling\n",
      "\n"
     ]
    }
   ],
   "source": [
    "## FIXME: fit this model again because the original one didn't have `platform`\n",
    "## as a population-level predictor for zero-inflation\n",
    "constr.article.edits.24hrs.zinb.1 <- brm(\n",
    "  bf(num_const_article_edits_24hrs ~ platform * Group +\n",
    "     (1 + platform | wiki_db),\n",
    "     zi ~ platform + (1 + platform | wiki_db)),\n",
    "    data = user_edit_data,\n",
    "    family = zero_inflated_negbinomial(),\n",
    "    prior = priors,\n",
    "    iter = 800,\n",
    "    control = list(adapt_delta = 0.99,\n",
    "                 max_treedepth = 15)\n",
    ")"
   ]
  },
  {
   "cell_type": "code",
   "execution_count": null,
   "id": "cbc1ef64",
   "metadata": {},
   "outputs": [],
   "source": [
    "## Save the model\n",
    "save(constr.article.edits.24hrs.zinb.1,\n",
    "     file='../models/constr.article.edits.24hrs.zinb.1.Robj')"
   ]
  },
  {
   "cell_type": "code",
   "execution_count": 19,
   "id": "b352c66f",
   "metadata": {},
   "outputs": [
    {
     "data": {
      "text/plain": [
       " Family: zero_inflated_negbinomial \n",
       "  Links: mu = log; shape = identity; zi = logit \n",
       "Formula: num_const_article_edits_24hrs ~ platform * Group + (1 + platform | wiki_db) \n",
       "         zi ~ platform + (1 + platform | wiki_db)\n",
       "   Data: user_edit_data (Number of observations: 130179) \n",
       "  Draws: 4 chains, each with iter = 800; warmup = 400; thin = 1;\n",
       "         total post-warmup draws = 1600\n",
       "\n",
       "Group-Level Effects: \n",
       "~wiki_db (Number of levels: 10) \n",
       "                                    Estimate Est.Error l-95% CI u-95% CI Rhat\n",
       "sd(Intercept)                           0.28      0.08     0.16     0.48 1.00\n",
       "sd(platformmobile)                      0.31      0.10     0.17     0.55 1.01\n",
       "sd(zi_Intercept)                        3.04      0.86     1.76     5.09 1.00\n",
       "sd(zi_platformmobile)                   2.71      0.83     1.50     4.73 1.00\n",
       "cor(Intercept,platformmobile)          -0.36      0.29    -0.82     0.31 1.00\n",
       "cor(zi_Intercept,zi_platformmobile)    -0.76      0.19    -0.97    -0.27 1.00\n",
       "                                    Bulk_ESS Tail_ESS\n",
       "sd(Intercept)                            715     1050\n",
       "sd(platformmobile)                       850     1133\n",
       "sd(zi_Intercept)                         904     1213\n",
       "sd(zi_platformmobile)                    814      725\n",
       "cor(Intercept,platformmobile)            898     1144\n",
       "cor(zi_Intercept,zi_platformmobile)      888      939\n",
       "\n",
       "Population-Level Effects: \n",
       "                                 Estimate Est.Error l-95% CI u-95% CI Rhat\n",
       "Intercept                           -0.13      0.09    -0.32     0.06 1.01\n",
       "zi_Intercept                        -3.07      1.14    -5.43    -0.92 1.01\n",
       "platformmobile                      -0.32      0.11    -0.53    -0.11 1.00\n",
       "GroupUnstructured                    0.03      0.03    -0.03     0.08 1.00\n",
       "GroupAddMaMlink                      0.17      0.03     0.12     0.23 1.01\n",
       "platformmobile:GroupUnstructured     0.01      0.04    -0.07     0.10 1.00\n",
       "platformmobile:GroupAddMaMlink       0.09      0.04     0.01     0.17 1.01\n",
       "zi_platformmobile                    1.72      1.08    -0.26     4.21 1.00\n",
       "                                 Bulk_ESS Tail_ESS\n",
       "Intercept                             558      807\n",
       "zi_Intercept                          561      652\n",
       "platformmobile                        879      926\n",
       "GroupUnstructured                    1450     1289\n",
       "GroupAddMaMlink                      1387     1274\n",
       "platformmobile:GroupUnstructured     1557     1294\n",
       "platformmobile:GroupAddMaMlink       1487     1390\n",
       "zi_platformmobile                     594      750\n",
       "\n",
       "Family Specific Parameters: \n",
       "      Estimate Est.Error l-95% CI u-95% CI Rhat Bulk_ESS Tail_ESS\n",
       "shape     0.21      0.00     0.20     0.22 1.00     1627     1170\n",
       "\n",
       "Draws were sampled using sampling(NUTS). For each parameter, Bulk_ESS\n",
       "and Tail_ESS are effective sample size measures, and Rhat is the potential\n",
       "scale reduction factor on split chains (at convergence, Rhat = 1)."
      ]
     },
     "metadata": {},
     "output_type": "display_data"
    }
   ],
   "source": [
    "summary(constr.article.edits.24hrs.zinb.1)"
   ]
  },
  {
   "cell_type": "code",
   "execution_count": 36,
   "id": "ae746ee5",
   "metadata": {},
   "outputs": [
    {
     "data": {
      "text/html": [
       "<table>\n",
       "<caption>A matrix: 8 × 4 of type dbl</caption>\n",
       "<thead>\n",
       "\t<tr><th></th><th scope=col>Estimate</th><th scope=col>Est.Error</th><th scope=col>Q2.5</th><th scope=col>Q97.5</th></tr>\n",
       "</thead>\n",
       "<tbody>\n",
       "\t<tr><th scope=row>Intercept</th><td>-0.1293</td><td>0.0909</td><td>-0.3202</td><td> 0.0551</td></tr>\n",
       "\t<tr><th scope=row>zi_Intercept</th><td>-3.0736</td><td>1.1382</td><td>-5.4285</td><td>-0.9174</td></tr>\n",
       "\t<tr><th scope=row>platformmobile</th><td>-0.3175</td><td>0.1065</td><td>-0.5306</td><td>-0.1141</td></tr>\n",
       "\t<tr><th scope=row>GroupUnstructured</th><td> 0.0287</td><td>0.0275</td><td>-0.0250</td><td> 0.0840</td></tr>\n",
       "\t<tr><th scope=row>GroupAddMaMlink</th><td> 0.1746</td><td>0.0273</td><td> 0.1220</td><td> 0.2283</td></tr>\n",
       "\t<tr><th scope=row>platformmobile:GroupUnstructured</th><td> 0.0119</td><td>0.0423</td><td>-0.0713</td><td> 0.0981</td></tr>\n",
       "\t<tr><th scope=row>platformmobile:GroupAddMaMlink</th><td> 0.0896</td><td>0.0416</td><td> 0.0086</td><td> 0.1727</td></tr>\n",
       "\t<tr><th scope=row>zi_platformmobile</th><td> 1.7162</td><td>1.0752</td><td>-0.2595</td><td> 4.2110</td></tr>\n",
       "</tbody>\n",
       "</table>\n"
      ],
      "text/latex": [
       "A matrix: 8 × 4 of type dbl\n",
       "\\begin{tabular}{r|llll}\n",
       "  & Estimate & Est.Error & Q2.5 & Q97.5\\\\\n",
       "\\hline\n",
       "\tIntercept & -0.1293 & 0.0909 & -0.3202 &  0.0551\\\\\n",
       "\tzi\\_Intercept & -3.0736 & 1.1382 & -5.4285 & -0.9174\\\\\n",
       "\tplatformmobile & -0.3175 & 0.1065 & -0.5306 & -0.1141\\\\\n",
       "\tGroupUnstructured &  0.0287 & 0.0275 & -0.0250 &  0.0840\\\\\n",
       "\tGroupAddMaMlink &  0.1746 & 0.0273 &  0.1220 &  0.2283\\\\\n",
       "\tplatformmobile:GroupUnstructured &  0.0119 & 0.0423 & -0.0713 &  0.0981\\\\\n",
       "\tplatformmobile:GroupAddMaMlink &  0.0896 & 0.0416 &  0.0086 &  0.1727\\\\\n",
       "\tzi\\_platformmobile &  1.7162 & 1.0752 & -0.2595 &  4.2110\\\\\n",
       "\\end{tabular}\n"
      ],
      "text/markdown": [
       "\n",
       "A matrix: 8 × 4 of type dbl\n",
       "\n",
       "| <!--/--> | Estimate | Est.Error | Q2.5 | Q97.5 |\n",
       "|---|---|---|---|---|\n",
       "| Intercept | -0.1293 | 0.0909 | -0.3202 |  0.0551 |\n",
       "| zi_Intercept | -3.0736 | 1.1382 | -5.4285 | -0.9174 |\n",
       "| platformmobile | -0.3175 | 0.1065 | -0.5306 | -0.1141 |\n",
       "| GroupUnstructured |  0.0287 | 0.0275 | -0.0250 |  0.0840 |\n",
       "| GroupAddMaMlink |  0.1746 | 0.0273 |  0.1220 |  0.2283 |\n",
       "| platformmobile:GroupUnstructured |  0.0119 | 0.0423 | -0.0713 |  0.0981 |\n",
       "| platformmobile:GroupAddMaMlink |  0.0896 | 0.0416 |  0.0086 |  0.1727 |\n",
       "| zi_platformmobile |  1.7162 | 1.0752 | -0.2595 |  4.2110 |\n",
       "\n"
      ],
      "text/plain": [
       "                                 Estimate Est.Error Q2.5    Q97.5  \n",
       "Intercept                        -0.1293  0.0909    -0.3202  0.0551\n",
       "zi_Intercept                     -3.0736  1.1382    -5.4285 -0.9174\n",
       "platformmobile                   -0.3175  0.1065    -0.5306 -0.1141\n",
       "GroupUnstructured                 0.0287  0.0275    -0.0250  0.0840\n",
       "GroupAddMaMlink                   0.1746  0.0273     0.1220  0.2283\n",
       "platformmobile:GroupUnstructured  0.0119  0.0423    -0.0713  0.0981\n",
       "platformmobile:GroupAddMaMlink    0.0896  0.0416     0.0086  0.1727\n",
       "zi_platformmobile                 1.7162  1.0752    -0.2595  4.2110"
      ]
     },
     "metadata": {},
     "output_type": "display_data"
    }
   ],
   "source": [
    "fixef(constr.article.edits.24hrs.zinb.1)"
   ]
  },
  {
   "cell_type": "markdown",
   "id": "5c69d338",
   "metadata": {},
   "source": [
    "Getting the incident rate for Add a Link, with the 95% credible interval:"
   ]
  },
  {
   "cell_type": "code",
   "execution_count": 37,
   "id": "b716ccc2",
   "metadata": {},
   "outputs": [
    {
     "data": {
      "text/html": [
       "1.19073492415912"
      ],
      "text/latex": [
       "1.19073492415912"
      ],
      "text/markdown": [
       "1.19073492415912"
      ],
      "text/plain": [
       "[1] 1.19"
      ]
     },
     "metadata": {},
     "output_type": "display_data"
    }
   ],
   "source": [
    "exp(fixef(constr.article.edits.24hrs.zinb.1)[5,\"Estimate\"])"
   ]
  },
  {
   "cell_type": "code",
   "execution_count": 38,
   "id": "68c8b3e6",
   "metadata": {},
   "outputs": [
    {
     "data": {
      "text/html": [
       "1.12979895949564"
      ],
      "text/latex": [
       "1.12979895949564"
      ],
      "text/markdown": [
       "1.12979895949564"
      ],
      "text/plain": [
       "[1] 1.13"
      ]
     },
     "metadata": {},
     "output_type": "display_data"
    }
   ],
   "source": [
    "exp(fixef(constr.article.edits.24hrs.zinb.1)[5,\"Q2.5\"])"
   ]
  },
  {
   "cell_type": "code",
   "execution_count": 39,
   "id": "6fb6afce",
   "metadata": {},
   "outputs": [
    {
     "data": {
      "text/html": [
       "1.25645521903942"
      ],
      "text/latex": [
       "1.25645521903942"
      ],
      "text/markdown": [
       "1.25645521903942"
      ],
      "text/plain": [
       "[1] 1.26"
      ]
     },
     "metadata": {},
     "output_type": "display_data"
    }
   ],
   "source": [
    "exp(fixef(constr.article.edits.24hrs.zinb.1)[5,\"Q97.5\"])"
   ]
  },
  {
   "cell_type": "markdown",
   "id": "28052f6c",
   "metadata": {},
   "source": [
    "Similar incident rate for Add a Link on mobile:"
   ]
  },
  {
   "cell_type": "code",
   "execution_count": 41,
   "id": "6326300a",
   "metadata": {},
   "outputs": [
    {
     "data": {
      "text/html": [
       "1.30232443235445"
      ],
      "text/latex": [
       "1.30232443235445"
      ],
      "text/markdown": [
       "1.30232443235445"
      ],
      "text/plain": [
       "[1] 1.3"
      ]
     },
     "metadata": {},
     "output_type": "display_data"
    }
   ],
   "source": [
    "exp(fixef(constr.article.edits.24hrs.zinb.1)[5,\"Estimate\"] + \n",
    "    fixef(constr.article.edits.24hrs.zinb.1)[7,\"Estimate\"])"
   ]
  },
  {
   "cell_type": "code",
   "execution_count": 42,
   "id": "3c6e4f22",
   "metadata": {},
   "outputs": [
    {
     "data": {
      "text/html": [
       "1.13955822252429"
      ],
      "text/latex": [
       "1.13955822252429"
      ],
      "text/markdown": [
       "1.13955822252429"
      ],
      "text/plain": [
       "[1] 1.14"
      ]
     },
     "metadata": {},
     "output_type": "display_data"
    }
   ],
   "source": [
    "exp(fixef(constr.article.edits.24hrs.zinb.1)[5,\"Q2.5\"] + \n",
    "    fixef(constr.article.edits.24hrs.zinb.1)[7,\"Q2.5\"])"
   ]
  },
  {
   "cell_type": "code",
   "execution_count": 43,
   "id": "63de960a",
   "metadata": {},
   "outputs": [
    {
     "data": {
      "text/html": [
       "1.49335182894895"
      ],
      "text/latex": [
       "1.49335182894895"
      ],
      "text/markdown": [
       "1.49335182894895"
      ],
      "text/plain": [
       "[1] 1.49"
      ]
     },
     "metadata": {},
     "output_type": "display_data"
    }
   ],
   "source": [
    "exp(fixef(constr.article.edits.24hrs.zinb.1)[5,\"Q97.5\"] + \n",
    "    fixef(constr.article.edits.24hrs.zinb.1)[7,\"Q97.5\"])"
   ]
  },
  {
   "cell_type": "markdown",
   "id": "15d84c89",
   "metadata": {},
   "source": [
    "Let's use the geometric mean to calculate the increase this time:"
   ]
  },
  {
   "cell_type": "code",
   "execution_count": 70,
   "id": "7f406639",
   "metadata": {},
   "outputs": [
    {
     "data": {
      "text/html": [
       "0.251"
      ],
      "text/latex": [
       "0.251"
      ],
      "text/markdown": [
       "0.251"
      ],
      "text/plain": [
       "[1] 0.251"
      ]
     },
     "metadata": {},
     "output_type": "display_data"
    }
   ],
   "source": [
    "control.geomean <- exp(\n",
    "    mean(\n",
    "        log(\n",
    "            1 + user_edit_data[user_edit_data$Group == \"Control\",]$num_const_article_edits_24hrs\n",
    "        )\n",
    "    )\n",
    ") - 1\n",
    "round(control.geomean, 3)"
   ]
  },
  {
   "cell_type": "code",
   "execution_count": 71,
   "id": "223cedbc",
   "metadata": {},
   "outputs": [
    {
     "data": {
      "text/html": [
       "0.264"
      ],
      "text/latex": [
       "0.264"
      ],
      "text/markdown": [
       "0.264"
      ],
      "text/plain": [
       "[1] 0.264"
      ]
     },
     "metadata": {},
     "output_type": "display_data"
    }
   ],
   "source": [
    "unstructured.geomean <- exp(\n",
    "    mean(\n",
    "        log(\n",
    "            1 + user_edit_data[user_edit_data$Group == \"Unstructured\",]$num_const_article_edits_24hrs\n",
    "        )\n",
    "    )\n",
    ") - 1\n",
    "round(unstructured.geomean, 3)"
   ]
  },
  {
   "cell_type": "code",
   "execution_count": 72,
   "id": "d2091aeb",
   "metadata": {},
   "outputs": [
    {
     "data": {
      "text/html": [
       "0.304"
      ],
      "text/latex": [
       "0.304"
      ],
      "text/markdown": [
       "0.304"
      ],
      "text/plain": [
       "[1] 0.304"
      ]
     },
     "metadata": {},
     "output_type": "display_data"
    }
   ],
   "source": [
    "addalink.geomean <- exp(\n",
    "    mean(\n",
    "        log(\n",
    "            1 + user_edit_data[user_edit_data$Group == \"Add-a-link\",]$num_const_article_edits_24hrs\n",
    "        )\n",
    "    )\n",
    ") - 1\n",
    "round(addalink.geomean, 3)"
   ]
  },
  {
   "cell_type": "code",
   "execution_count": 73,
   "id": "8ae8a98e",
   "metadata": {},
   "outputs": [
    {
     "data": {
      "text/html": [
       "0.013"
      ],
      "text/latex": [
       "0.013"
      ],
      "text/markdown": [
       "0.013"
      ],
      "text/plain": [
       "[1] 0.013"
      ]
     },
     "metadata": {},
     "output_type": "display_data"
    }
   ],
   "source": [
    "round(unstructured.geomean - control.geomean, 3)"
   ]
  },
  {
   "cell_type": "code",
   "execution_count": 74,
   "id": "0bba8380",
   "metadata": {},
   "outputs": [
    {
     "data": {
      "text/html": [
       "0.052"
      ],
      "text/latex": [
       "0.052"
      ],
      "text/markdown": [
       "0.052"
      ],
      "text/plain": [
       "[1] 0.052"
      ]
     },
     "metadata": {},
     "output_type": "display_data"
    }
   ],
   "source": [
    "round(addalink.geomean - control.geomean, 3)"
   ]
  },
  {
   "cell_type": "code",
   "execution_count": 68,
   "id": "d9078264",
   "metadata": {},
   "outputs": [
    {
     "data": {
      "text/html": [
       "5.1"
      ],
      "text/latex": [
       "5.1"
      ],
      "text/markdown": [
       "5.1"
      ],
      "text/plain": [
       "[1] 5.1"
      ]
     },
     "metadata": {},
     "output_type": "display_data"
    }
   ],
   "source": [
    "round(100 * (unstructured.geomean - control.geomean) / control.geomean, 1)"
   ]
  },
  {
   "cell_type": "code",
   "execution_count": 69,
   "id": "3dae485e",
   "metadata": {},
   "outputs": [
    {
     "data": {
      "text/html": [
       "20.9"
      ],
      "text/latex": [
       "20.9"
      ],
      "text/markdown": [
       "20.9"
      ],
      "text/plain": [
       "[1] 20.9"
      ]
     },
     "metadata": {},
     "output_type": "display_data"
    }
   ],
   "source": [
    "round(100 * (addalink.geomean - control.geomean) / control.geomean, 1)"
   ]
  },
  {
   "cell_type": "code",
   "execution_count": 20,
   "id": "f57fe8e1",
   "metadata": {},
   "outputs": [
    {
     "data": {
      "image/png": "[encoded data removed]",
      "text/plain": [
       "plot without title"
      ]
     },
     "metadata": {
      "image/png": {
       "height": 420,
       "width": 840
      }
     },
     "output_type": "display_data"
    }
   ],
   "source": [
    "pp_check(constr.article.edits.24hrs.zinb.1,\n",
    "         ndraws = 100, type = \"bars_grouped\", group = \"wiki_db\") +\n",
    "  ggplot2::coord_cartesian(xlim = c(0, 10));"
   ]
  },
  {
   "cell_type": "markdown",
   "id": "89c98028",
   "metadata": {},
   "source": [
    "Zooming in on the non-zero part of the distributions, because the high zero-rate results in such a compressed graph."
   ]
  },
  {
   "cell_type": "code",
   "execution_count": 21,
   "id": "09b0fd5c",
   "metadata": {},
   "outputs": [
    {
     "data": {
      "image/png": "[encoded data removed]",
      "text/plain": [
       "plot without title"
      ]
     },
     "metadata": {
      "image/png": {
       "height": 420,
       "width": 840
      }
     },
     "output_type": "display_data"
    }
   ],
   "source": [
    "pp_check(constr.article.edits.24hrs.zinb.1,\n",
    "         ndraws = 100, type = \"bars_grouped\", group = \"wiki_db\") +\n",
    "  ggplot2::coord_cartesian(xlim = c(1, 10), ylim = c(0, 5000));"
   ]
  },
  {
   "cell_type": "markdown",
   "id": "915e5aed",
   "metadata": {},
   "source": [
    "## Statistics split by platform"
   ]
  },
  {
   "cell_type": "code",
   "execution_count": 16,
   "id": "26b5682f",
   "metadata": {},
   "outputs": [
    {
     "data": {
      "text/html": [
       "0.309"
      ],
      "text/latex": [
       "0.309"
      ],
      "text/markdown": [
       "0.309"
      ],
      "text/plain": [
       "[1] 0.309"
      ]
     },
     "metadata": {},
     "output_type": "display_data"
    }
   ],
   "source": [
    "control.desktop.geomean <- exp(\n",
    "    mean(\n",
    "        log(\n",
    "            1 + user_edit_data[(user_edit_data$Group == \"Control\" &\n",
    "                                user_edit_data$platform == 'desktop'),]$num_const_article_edits_24hrs\n",
    "        )\n",
    "    )\n",
    ") - 1\n",
    "round(control.desktop.geomean, 3)"
   ]
  },
  {
   "cell_type": "code",
   "execution_count": 18,
   "id": "1c29b5ad",
   "metadata": {},
   "outputs": [
    {
     "data": {
      "text/html": [
       "0.328"
      ],
      "text/latex": [
       "0.328"
      ],
      "text/markdown": [
       "0.328"
      ],
      "text/plain": [
       "[1] 0.328"
      ]
     },
     "metadata": {},
     "output_type": "display_data"
    }
   ],
   "source": [
    "unstructured.desktop.geomean <- exp(\n",
    "    mean(\n",
    "        log(\n",
    "            1 + user_edit_data[(user_edit_data$Group == \"Unstructured\" &\n",
    "                                user_edit_data$platform == 'desktop'),]$num_const_article_edits_24hrs\n",
    "        )\n",
    "    )\n",
    ") - 1\n",
    "round(unstructured.desktop.geomean, 3)"
   ]
  },
  {
   "cell_type": "code",
   "execution_count": 26,
   "id": "cd62c31b",
   "metadata": {},
   "outputs": [
    {
     "data": {
      "text/html": [
       "0.361"
      ],
      "text/latex": [
       "0.361"
      ],
      "text/markdown": [
       "0.361"
      ],
      "text/plain": [
       "[1] 0.361"
      ]
     },
     "metadata": {},
     "output_type": "display_data"
    }
   ],
   "source": [
    "addalink.desktop.geomean <- exp(\n",
    "    mean(\n",
    "        log(\n",
    "            1 + user_edit_data[(user_edit_data$Group == \"Add-a-link\" &\n",
    "                                user_edit_data$platform == 'desktop'),]$num_const_article_edits_24hrs\n",
    "        )\n",
    "    )\n",
    ") - 1\n",
    "round(addalink.desktop.geomean, 3)"
   ]
  },
  {
   "cell_type": "code",
   "execution_count": 29,
   "id": "7044ea34",
   "metadata": {},
   "outputs": [
    {
     "data": {
      "text/html": [
       "0.018"
      ],
      "text/latex": [
       "0.018"
      ],
      "text/markdown": [
       "0.018"
      ],
      "text/plain": [
       "[1] 0.018"
      ]
     },
     "metadata": {},
     "output_type": "display_data"
    }
   ],
   "source": [
    "round(unstructured.desktop.geomean - control.desktop.geomean, 3)"
   ]
  },
  {
   "cell_type": "code",
   "execution_count": 27,
   "id": "d806df1f",
   "metadata": {},
   "outputs": [
    {
     "data": {
      "text/html": [
       "0.052"
      ],
      "text/latex": [
       "0.052"
      ],
      "text/markdown": [
       "0.052"
      ],
      "text/plain": [
       "[1] 0.052"
      ]
     },
     "metadata": {},
     "output_type": "display_data"
    }
   ],
   "source": [
    "round(addalink.desktop.geomean - control.desktop.geomean, 3)"
   ]
  },
  {
   "cell_type": "code",
   "execution_count": 30,
   "id": "01ca9b63",
   "metadata": {},
   "outputs": [
    {
     "data": {
      "text/html": [
       "6"
      ],
      "text/latex": [
       "6"
      ],
      "text/markdown": [
       "6"
      ],
      "text/plain": [
       "[1] 6"
      ]
     },
     "metadata": {},
     "output_type": "display_data"
    }
   ],
   "source": [
    "round(100 * (unstructured.desktop.geomean - control.desktop.geomean) / control.desktop.geomean, 1)"
   ]
  },
  {
   "cell_type": "code",
   "execution_count": 31,
   "id": "4e0ab7d4",
   "metadata": {},
   "outputs": [
    {
     "data": {
      "text/html": [
       "16.7"
      ],
      "text/latex": [
       "16.7"
      ],
      "text/markdown": [
       "16.7"
      ],
      "text/plain": [
       "[1] 16.7"
      ]
     },
     "metadata": {},
     "output_type": "display_data"
    }
   ],
   "source": [
    "round(100 * (addalink.desktop.geomean - control.desktop.geomean) / control.desktop.geomean, 1)"
   ]
  },
  {
   "cell_type": "code",
   "execution_count": 21,
   "id": "152e8456",
   "metadata": {},
   "outputs": [
    {
     "data": {
      "text/html": [
       "0.199"
      ],
      "text/latex": [
       "0.199"
      ],
      "text/markdown": [
       "0.199"
      ],
      "text/plain": [
       "[1] 0.199"
      ]
     },
     "metadata": {},
     "output_type": "display_data"
    }
   ],
   "source": [
    "control.mobile.geomean <- exp(\n",
    "    mean(\n",
    "        log(\n",
    "            1 + user_edit_data[(user_edit_data$Group == \"Control\" &\n",
    "                                user_edit_data$platform == 'mobile'),]$num_const_article_edits_24hrs\n",
    "        )\n",
    "    )\n",
    ") - 1\n",
    "round(control.mobile.geomean, 3)"
   ]
  },
  {
   "cell_type": "code",
   "execution_count": 22,
   "id": "2e90569c",
   "metadata": {},
   "outputs": [
    {
     "data": {
      "text/html": [
       "0.205"
      ],
      "text/latex": [
       "0.205"
      ],
      "text/markdown": [
       "0.205"
      ],
      "text/plain": [
       "[1] 0.205"
      ]
     },
     "metadata": {},
     "output_type": "display_data"
    }
   ],
   "source": [
    "unstructured.mobile.geomean <- exp(\n",
    "    mean(\n",
    "        log(\n",
    "            1 + user_edit_data[(user_edit_data$Group == \"Unstructured\" &\n",
    "                                user_edit_data$platform == 'mobile'),]$num_const_article_edits_24hrs\n",
    "        )\n",
    "    )\n",
    ") - 1\n",
    "round(unstructured.mobile.geomean, 3)"
   ]
  },
  {
   "cell_type": "code",
   "execution_count": 23,
   "id": "ca2d7ae9",
   "metadata": {},
   "outputs": [
    {
     "data": {
      "text/html": [
       "0.25"
      ],
      "text/latex": [
       "0.25"
      ],
      "text/markdown": [
       "0.25"
      ],
      "text/plain": [
       "[1] 0.25"
      ]
     },
     "metadata": {},
     "output_type": "display_data"
    }
   ],
   "source": [
    "addalink.mobile.geomean <- exp(\n",
    "    mean(\n",
    "        log(\n",
    "            1 + user_edit_data[(user_edit_data$Group == \"Add-a-link\" &\n",
    "                                user_edit_data$platform == 'mobile'),]$num_const_article_edits_24hrs\n",
    "        )\n",
    "    )\n",
    ") - 1\n",
    "round(addalink.mobile.geomean, 3)"
   ]
  },
  {
   "cell_type": "code",
   "execution_count": 32,
   "id": "956b5920",
   "metadata": {},
   "outputs": [
    {
     "data": {
      "text/html": [
       "0.006"
      ],
      "text/latex": [
       "0.006"
      ],
      "text/markdown": [
       "0.006"
      ],
      "text/plain": [
       "[1] 0.006"
      ]
     },
     "metadata": {},
     "output_type": "display_data"
    }
   ],
   "source": [
    "round(unstructured.mobile.geomean - control.mobile.geomean, 3)"
   ]
  },
  {
   "cell_type": "code",
   "execution_count": 33,
   "id": "6c58193e",
   "metadata": {},
   "outputs": [
    {
     "data": {
      "text/html": [
       "0.052"
      ],
      "text/latex": [
       "0.052"
      ],
      "text/markdown": [
       "0.052"
      ],
      "text/plain": [
       "[1] 0.052"
      ]
     },
     "metadata": {},
     "output_type": "display_data"
    }
   ],
   "source": [
    "round(addalink.mobile.geomean - control.mobile.geomean, 3)"
   ]
  },
  {
   "cell_type": "code",
   "execution_count": 34,
   "id": "adc2b246",
   "metadata": {},
   "outputs": [
    {
     "data": {
      "text/html": [
       "2.9"
      ],
      "text/latex": [
       "2.9"
      ],
      "text/markdown": [
       "2.9"
      ],
      "text/plain": [
       "[1] 2.9"
      ]
     },
     "metadata": {},
     "output_type": "display_data"
    }
   ],
   "source": [
    "round(100 * (unstructured.mobile.geomean - control.mobile.geomean) / control.mobile.geomean, 1)"
   ]
  },
  {
   "cell_type": "code",
   "execution_count": 35,
   "id": "82fd9479",
   "metadata": {},
   "outputs": [
    {
     "data": {
      "text/html": [
       "26.1"
      ],
      "text/latex": [
       "26.1"
      ],
      "text/markdown": [
       "26.1"
      ],
      "text/plain": [
       "[1] 26.1"
      ]
     },
     "metadata": {},
     "output_type": "display_data"
    }
   ],
   "source": [
    "round(100 * (addalink.mobile.geomean - control.mobile.geomean) / control.mobile.geomean, 1)"
   ]
  },
  {
   "cell_type": "markdown",
   "id": "f45a8660",
   "metadata": {},
   "source": [
    "Curious about how the rounding plays out here:"
   ]
  },
  {
   "cell_type": "code",
   "execution_count": 37,
   "id": "85fe39e5",
   "metadata": {},
   "outputs": [
    {
     "data": {
      "text/html": [
       "0.0515"
      ],
      "text/latex": [
       "0.0515"
      ],
      "text/markdown": [
       "0.0515"
      ],
      "text/plain": [
       "[1] 0.0515"
      ]
     },
     "metadata": {},
     "output_type": "display_data"
    }
   ],
   "source": [
    "round(addalink.desktop.geomean - control.desktop.geomean, 4)"
   ]
  },
  {
   "cell_type": "code",
   "execution_count": 36,
   "id": "160e60d7",
   "metadata": {},
   "outputs": [
    {
     "data": {
      "text/html": [
       "0.0518"
      ],
      "text/latex": [
       "0.0518"
      ],
      "text/markdown": [
       "0.0518"
      ],
      "text/plain": [
       "[1] 0.0518"
      ]
     },
     "metadata": {},
     "output_type": "display_data"
    }
   ],
   "source": [
    "round(addalink.mobile.geomean - control.mobile.geomean, 4)"
   ]
  }
 ],
 "metadata": {
  "kernelspec": {
   "display_name": "R",
   "language": "R",
   "name": "ir"
  },
  "language_info": {
   "codemirror_mode": "r",
   "file_extension": ".r",
   "mimetype": "text/x-r-source",
   "name": "R",
   "pygments_lexer": "r",
   "version": "3.5.2"
  }
 },
 "nbformat": 4,
 "nbformat_minor": 5
}
