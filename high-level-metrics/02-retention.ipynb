{
 "cells": [
  {
   "cell_type": "markdown",
   "id": "34dd5926",
   "metadata": {},
   "source": [
    "# Editor Retention\n",
    "\n"
   ]
  },
  {
   "cell_type": "code",
   "execution_count": 1,
   "id": "91f74983",
   "metadata": {},
   "outputs": [
    {
     "name": "stderr",
     "output_type": "stream",
     "text": [
      "── \u001b[1mAttaching packages\u001b[22m ─────────────────────────────────────── tidyverse 1.3.0 ──\n",
      "\n",
      "\u001b[32m✔\u001b[39m \u001b[34mggplot2\u001b[39m 3.3.2     \u001b[32m✔\u001b[39m \u001b[34mpurrr  \u001b[39m 0.3.4\n",
      "\u001b[32m✔\u001b[39m \u001b[34mtibble \u001b[39m 3.0.4     \u001b[32m✔\u001b[39m \u001b[34mdplyr  \u001b[39m 1.0.2\n",
      "\u001b[32m✔\u001b[39m \u001b[34mtidyr  \u001b[39m 1.1.2     \u001b[32m✔\u001b[39m \u001b[34mstringr\u001b[39m 1.4.0\n",
      "\u001b[32m✔\u001b[39m \u001b[34mreadr  \u001b[39m 1.4.0     \u001b[32m✔\u001b[39m \u001b[34mforcats\u001b[39m 0.5.0\n",
      "\n",
      "── \u001b[1mConflicts\u001b[22m ────────────────────────────────────────── tidyverse_conflicts() ──\n",
      "\u001b[31m✖\u001b[39m \u001b[34mdplyr\u001b[39m::\u001b[32mfilter()\u001b[39m masks \u001b[34mstats\u001b[39m::filter()\n",
      "\u001b[31m✖\u001b[39m \u001b[34mdplyr\u001b[39m::\u001b[32mlag()\u001b[39m    masks \u001b[34mstats\u001b[39m::lag()\n",
      "\n",
      "\n",
      "Attaching package: ‘lubridate’\n",
      "\n",
      "\n",
      "The following objects are masked from ‘package:base’:\n",
      "\n",
      "    date, intersect, setdiff, union\n",
      "\n",
      "\n",
      "This is bayesplot version 1.7.2\n",
      "\n",
      "- Online documentation and vignettes at mc-stan.org/bayesplot\n",
      "\n",
      "- bayesplot theme set to bayesplot::theme_default()\n",
      "\n",
      "   * Does _not_ affect other ggplot2 plots\n",
      "\n",
      "   * See ?bayesplot_theme_set for details on theme setting\n",
      "\n",
      "Loading required package: Matrix\n",
      "\n",
      "\n",
      "Attaching package: ‘Matrix’\n",
      "\n",
      "\n",
      "The following objects are masked from ‘package:tidyr’:\n",
      "\n",
      "    expand, pack, unpack\n",
      "\n",
      "\n",
      "For binary classification, the first factor level is assumed to be the event.\n",
      "Use the argument `event_level = \"second\"` to alter this as needed.\n",
      "\n",
      "\n",
      "Attaching package: ‘yardstick’\n",
      "\n",
      "\n",
      "The following object is masked from ‘package:readr’:\n",
      "\n",
      "    spec\n",
      "\n",
      "\n",
      "Loading required package: lattice\n",
      "\n",
      "\n",
      "Attaching package: ‘caret’\n",
      "\n",
      "\n",
      "The following objects are masked from ‘package:yardstick’:\n",
      "\n",
      "    precision, recall, sensitivity, specificity\n",
      "\n",
      "\n",
      "The following object is masked from ‘package:purrr’:\n",
      "\n",
      "    lift\n",
      "\n",
      "\n"
     ]
    }
   ],
   "source": [
    "library(tidyverse)\n",
    "library(broom)\n",
    "\n",
    "# library(brms) # install.packages(\"brms\")\n",
    "# library(loo) # install.packages(\"loo\")\n",
    "# library(rstanarm) # install.packages(\"rstanarm\")\n",
    "\n",
    "library(lubridate)\n",
    "library(bayesplot)\n",
    "\n",
    "library(lme4)\n",
    "library(yardstick) # install.packages(\"yardstick\")\n",
    "\n",
    "library(caret)"
   ]
  },
  {
   "cell_type": "markdown",
   "id": "1f602d35",
   "metadata": {},
   "source": [
    "# R Configuration variables"
   ]
  },
  {
   "cell_type": "code",
   "execution_count": 2,
   "id": "e9d3ccbe",
   "metadata": {},
   "outputs": [],
   "source": [
    "## NOTE: `loo`, which we use for model comparisons, has a tendency to use lots or run out of memory.\n",
    "## Therefore, I've often had to set mc.cores to 1 before running it. However, if we set its `pointwise`\n",
    "## parameter, it'll use less memory. And it'll use BLAS, so we restrict the number of BLAS threads to 1.\n",
    "## Then mc.cores controls the number of parallel processes.\n",
    "\n",
    "## blas_set_num_threads() also controls the number of threads that glmer() uses. Depending on the load\n",
    "## on the server at the time we're doing our analysis we can tune the number of threads.\n",
    "\n",
    "library(RhpcBLASctl)\n",
    "blas_set_num_threads(1)\n",
    "options(mc.cores = 4, digits = 3, scipen = 500)\n",
    "\n",
    "# Give me wider plots, please\n",
    "options(repr.plot.width = 14, repr.plot.height = 7)"
   ]
  },
  {
   "cell_type": "markdown",
   "id": "cf860331",
   "metadata": {},
   "source": [
    "# Helper functions"
   ]
  },
  {
   "cell_type": "code",
   "execution_count": 3,
   "id": "7ed41cb8",
   "metadata": {},
   "outputs": [],
   "source": [
    "## Function that takes in a model, the validation set, the name of the predicted column,\n",
    "## and returns a plot of the ROC curve\n",
    "plot_ROC <- function(mod, val_data, col_name) {\n",
    "    val_data$estimate = predict(mod, val_data, type = \"response\")\n",
    "    roc_curve(val_data, {{ col_name }}, estimate, event_level = 'second') %>%\n",
    "        ggplot(aes(x = 1 - specificity, y = sensitivity)) +\n",
    "        geom_path() +\n",
    "        geom_abline(lty = 3) +\n",
    "        coord_equal() +\n",
    "        theme_bw()\n",
    "}"
   ]
  },
  {
   "cell_type": "code",
   "execution_count": 4,
   "id": "3b5868b7",
   "metadata": {},
   "outputs": [],
   "source": [
    "## Function that takes in the filename of the user edit data, reads it in,\n",
    "## and creates all the various derived columns we need.\n",
    "read_user_dataset <- function(dataset_filename) {\n",
    "    read_tsv(\n",
    "        dataset_filename,\n",
    "        col_types = user_dataset_column_types) %>%\n",
    "    mutate(\n",
    "        Group = factor(hp_enabled, levels = c(0, 1), labels = c(\"C\", \"HP\")),\n",
    "        platform = factor(reg_on_mobile == 1, c(FALSE, TRUE), c(\"desktop\", \"mobile\")),\n",
    "        ## Registration month, for later joins on month\n",
    "        reg_month = floor_date(user_registration_timestamp, unit = 'month'),\n",
    "        # Number of edits:\n",
    "        num_total_edits_24hrs = num_article_edits_24hrs + num_other_edits_24hrs,\n",
    "        num_total_edits_2w = num_article_edits_2w + num_other_edits_2w,\n",
    "        num_total_edits = num_total_edits_24hrs + num_total_edits_2w,\n",
    "        num_total_article_edits = num_article_edits_24hrs + num_article_edits_2w,\n",
    "        num_total_other_edits = num_other_edits_24hrs + num_total_edits_2w,\n",
    "        # Log number of total edits is used as a control variable in the revert analysis\n",
    "        log_num_total_edits = log(1 + num_total_edits),\n",
    "        # Number of reverts:\n",
    "        num_reverts_24hrs = num_article_reverts_24hrs + num_other_reverts_24hrs,\n",
    "        num_reverts_2w = num_article_reverts_2w + num_other_reverts_2w,\n",
    "        num_total_reverts = num_reverts_24hrs + num_reverts_2w,\n",
    "        ## Control variables for the number of edits made (used for ex. in revert analysis)\n",
    "        log_num_article_edits_24hrs = log(1 + num_article_edits_24hrs),\n",
    "        log_num_other_edits_24hrs = log(1 + num_other_edits_24hrs),\n",
    "        log_num_edits_24hrs = log(1 + num_article_edits_24hrs + num_other_edits_24hrs),\n",
    "        # Control variables for the number of constructive edits made\n",
    "        log_num_const_article_edits_24hrs = log(\n",
    "            1 + num_article_edits_24hrs - num_article_reverts_24hrs),\n",
    "        log_num_const_other_edits_24hrs = log(\n",
    "            1 + num_other_edits_24hrs - num_other_reverts_24hrs),\n",
    "        log_num_const_edits_24hrs = log(\n",
    "            1 + num_article_edits_24hrs + num_other_edits_24hrs -\n",
    "                num_article_reverts_24hrs - num_other_reverts_24hrs),\n",
    "        # Revert rate:\n",
    "        prop_rev_edits = ifelse(num_total_edits > 0, num_total_reverts / num_total_edits, 0),\n",
    "        # Did they activate?\n",
    "        is_activated_article = num_article_edits_24hrs > 0,\n",
    "        is_activated_other = num_other_edits_24hrs > 0,\n",
    "        is_activated = is_activated_article | is_activated_other,\n",
    "        # Did they activate through constructive edits?\n",
    "        is_const_activated_article = (num_article_edits_24hrs - num_article_reverts_24hrs) > 0,\n",
    "        is_const_activated_other = (num_other_edits_24hrs - num_other_reverts_24hrs) > 0,\n",
    "        is_const_activated = is_const_activated_article | is_const_activated_other,\n",
    "        # Were they retained?\n",
    "        is_retained_article = is_activated_article & (num_article_edits_2w > 0),\n",
    "        is_retained_other = is_activated_other & (num_other_edits_2w > 0),\n",
    "        is_retained = is_activated & ((num_article_edits_2w + num_other_edits_2w) > 0),\n",
    "        # Were they retained through constructive edits?\n",
    "        is_const_retained_article = is_const_activated_article &\n",
    "            ((num_article_edits_2w - num_article_reverts_2w) > 0),\n",
    "        is_const_retained_other = is_const_activated_other &\n",
    "            ((num_other_edits_2w - num_other_reverts_2w) > 0),\n",
    "        is_const_retained = is_const_activated &\n",
    "            ((num_article_edits_2w + num_other_edits_2w -\n",
    "              num_article_reverts_2w - num_other_reverts_2w) > 0)\n",
    "    ) \n",
    "}"
   ]
  },
  {
   "cell_type": "code",
   "execution_count": 5,
   "id": "5c0c49fc",
   "metadata": {},
   "outputs": [],
   "source": [
    "## Function that takes in the filename of the active editors dataset,\n",
    "## and adds a registration month column for easy joining with the user dataset.\n",
    "read_active_editors_dataset <- function(dataset_filename) {\n",
    "    read_tsv(\n",
    "        dataset_filename,\n",
    "        col_types = active_editors_column_types) %>%\n",
    "    mutate(wiki_db = factor(wiki_db),\n",
    "           reg_month = month + months(1))\n",
    "}"
   ]
  },
  {
   "cell_type": "markdown",
   "id": "477860fd",
   "metadata": {},
   "source": [
    "# Experiment Configuration Variables\n",
    "\n",
    "We define a set of configuration variables that are useful for the analysis. One obvious one is where the edit dataset is located.\n",
    "\n",
    "A less obvious one is a variable for when the experiment started. We often use this seeking to model the community's initial response to changes in newcomer behaviour, as well as long-term trends in the outcome variable when working with user data gathered across a relatively long time period."
   ]
  },
  {
   "cell_type": "code",
   "execution_count": 6,
   "id": "7f6e7ad1",
   "metadata": {},
   "outputs": [],
   "source": [
    "## Path to the datasets with user edits\n",
    "user_dataset_filenames <- c(\n",
    "    '/home/nettrom/src/2021-Growth-structured-tasks/datasets/add-a-link-edit-data.tsv'\n",
    "    )\n",
    "\n",
    "## Column types in the dataset: wiki is a factor, HP variant is a factor, registration is a date time,\n",
    "## everything else are integers.\n",
    "user_dataset_column_types <- 'fiTiifiiiiiiii'\n",
    "\n",
    "## Path to the dataset with counts of the number of active editors\n",
    "active_editors_filenames <- c()\n",
    "\n",
    "## Column types in the active editors dataset: month is a date, wiki is a factor\n",
    "active_editors_column_types <- 'Dfiii'\n",
    "\n",
    "## Deployment timestamps for Add a Link on each of the wikis\n",
    "## Note that we turn wiki_db into a factor, otherwise wiki_db in the edit dataset\n",
    "## becomes a character after joining the two.\n",
    "exp_start_timestamps <- tribble(\n",
    "    ~wiki_db, ~exp_start_timestamp,\n",
    "    'arwiki', ymd_hms('2021-05-27 19:12:03', tz = 'UTC'),\n",
    "    'bnwiki', ymd_hms('2021-05-27 19:12:03', tz = 'UTC'),\n",
    "    'cswiki', ymd_hms('2021-05-27 19:12:03', tz = 'UTC'),\n",
    "    'viwiki', ymd_hms('2021-05-27 19:12:03', tz = 'UTC'),\n",
    "    'fawiki', ymd_hms('2021-07-21 11:11:21', tz = 'UTC'),\n",
    "    'frwiki', ymd_hms('2021-07-21 11:11:21', tz = 'UTC'),\n",
    "    'huwiki', ymd_hms('2021-07-21 11:11:21', tz = 'UTC'),\n",
    "    'plwiki', ymd_hms('2021-07-21 11:11:21', tz = 'UTC'),\n",
    "    'rowiki', ymd_hms('2021-07-21 11:11:21', tz = 'UTC'),\n",
    "    'ruwiki', ymd_hms('2021-07-21 11:11:21', tz = 'UTC'),\n",
    "\n",
    ") %>% mutate(wiki_db = factor(wiki_db))\n",
    "\n",
    "## Path to the dataset with editing status at account registration\n",
    "editing_status_filenames <- c()\n",
    "\n",
    "## Column types in the editing status dataset: wiki is a factor, everything else are integers\n",
    "editing_status_column_types <- 'fii'\n",
    "\n",
    "## Path to the dataset with Welcome Survey responses\n",
    "survey_response_filenames <- c()\n",
    "\n",
    "## Columns types in the survey response data: user ID is an integer, number of languages is a number,\n",
    "## everything else are factors\n",
    "survey_response_column_types <- 'fifffn'"
   ]
  },
  {
   "cell_type": "markdown",
   "id": "afa80718",
   "metadata": {},
   "source": [
    "# Data import and setup"
   ]
  },
  {
   "cell_type": "code",
   "execution_count": 7,
   "id": "ff6f56d0",
   "metadata": {},
   "outputs": [],
   "source": [
    "user_edit_data <- map_dfr(user_dataset_filenames, read_user_dataset)"
   ]
  },
  {
   "cell_type": "code",
   "execution_count": 8,
   "id": "d8276911",
   "metadata": {},
   "outputs": [
    {
     "data": {
      "text/html": [
       "130179"
      ],
      "text/latex": [
       "130179"
      ],
      "text/markdown": [
       "130179"
      ],
      "text/plain": [
       "[1] 130179"
      ]
     },
     "metadata": {},
     "output_type": "display_data"
    }
   ],
   "source": [
    "nrow(user_edit_data)"
   ]
  },
  {
   "cell_type": "markdown",
   "id": "ebdc7a1c",
   "metadata": {},
   "source": [
    "## Time since experiment start"
   ]
  },
  {
   "cell_type": "markdown",
   "id": "bf2f13e2",
   "metadata": {},
   "source": [
    "Join the edits data with the experiment timestamps and measure time since the start to enable controlling for that:"
   ]
  },
  {
   "cell_type": "code",
   "execution_count": 9,
   "id": "83f63231",
   "metadata": {},
   "outputs": [],
   "source": [
    "user_edit_data <- user_edit_data %>%\n",
    "    inner_join(exp_start_timestamps, by = 'wiki_db') %>%\n",
    "    mutate(\n",
    "        # Time as a measurement since deployment\n",
    "        exp_days = difftime(user_registration_timestamp, exp_start_timestamp, units = 'days'),\n",
    "        ln_exp_days = ifelse(exp_days < 0, 0, log(1 + as.numeric(exp_days))),\n",
    "        ln_exp_weeks = ifelse(exp_days < 0, 0, log(1 + as.numeric(exp_days)/7))\n",
    "    )"
   ]
  },
  {
   "cell_type": "code",
   "execution_count": 10,
   "id": "449bf563",
   "metadata": {},
   "outputs": [
    {
     "data": {
      "text/html": [
       "130179"
      ],
      "text/latex": [
       "130179"
      ],
      "text/markdown": [
       "130179"
      ],
      "text/plain": [
       "[1] 130179"
      ]
     },
     "metadata": {},
     "output_type": "display_data"
    }
   ],
   "source": [
    "nrow(user_edit_data)"
   ]
  },
  {
   "cell_type": "markdown",
   "id": "efb0f9d9",
   "metadata": {},
   "source": [
    "Made sure that we're not dropping any users at this stage, we're good to move forward."
   ]
  },
  {
   "cell_type": "markdown",
   "id": "33e3d398",
   "metadata": {},
   "source": [
    "## Additional variables\n",
    "\n",
    "We've previously focused on Control vs Growth Features in our analysis. In this case we'll focus primarily on Unstructured Link Task vs Add a Link, but also check against the control group. This means we want the single variable `Group` to reflect one of three options depending on `hp_enabled` and `hp_variant`"
   ]
  },
  {
   "cell_type": "code",
   "execution_count": 11,
   "id": "e7d9cb38",
   "metadata": {},
   "outputs": [],
   "source": [
    "user_edit_data <- user_edit_data %>%\n",
    "    mutate(Group = factor(ifelse(\n",
    "        hp_enabled == 0, 'Control',\n",
    "        ifelse(hp_variant == 'control', 'Unstructured', 'Add-a-link')),\n",
    "                          c('Control', 'Unstructured', 'Add-a-link')))"
   ]
  },
  {
   "cell_type": "markdown",
   "id": "55976d75",
   "metadata": {},
   "source": [
    "## Checking number of accounts for each wiki\n",
    "\n",
    "We might be looking at very small wikis, in case we might want to not include them in the analysis."
   ]
  },
  {
   "cell_type": "code",
   "execution_count": 12,
   "id": "06051de1",
   "metadata": {},
   "outputs": [
    {
     "name": "stderr",
     "output_type": "stream",
     "text": [
      "`summarise()` regrouping output by 'wiki_db' (override with `.groups` argument)\n",
      "\n"
     ]
    },
    {
     "data": {
      "text/html": [
       "<table>\n",
       "<caption>A grouped_df: 30 × 3</caption>\n",
       "<thead>\n",
       "\t<tr><th scope=col>wiki_db</th><th scope=col>Group</th><th scope=col>n</th></tr>\n",
       "\t<tr><th scope=col>&lt;fct&gt;</th><th scope=col>&lt;fct&gt;</th><th scope=col>&lt;int&gt;</th></tr>\n",
       "</thead>\n",
       "<tbody>\n",
       "\t<tr><td>arwiki</td><td>Control     </td><td> 7698</td></tr>\n",
       "\t<tr><td>arwiki</td><td>Unstructured</td><td>13426</td></tr>\n",
       "\t<tr><td>arwiki</td><td>Add-a-link  </td><td>13213</td></tr>\n",
       "\t<tr><td>bnwiki</td><td>Control     </td><td> 1583</td></tr>\n",
       "\t<tr><td>bnwiki</td><td>Unstructured</td><td> 2664</td></tr>\n",
       "\t<tr><td>bnwiki</td><td>Add-a-link  </td><td> 2679</td></tr>\n",
       "\t<tr><td>cswiki</td><td>Control     </td><td>  787</td></tr>\n",
       "\t<tr><td>cswiki</td><td>Unstructured</td><td> 1419</td></tr>\n",
       "\t<tr><td>cswiki</td><td>Add-a-link  </td><td> 1447</td></tr>\n",
       "\t<tr><td>fawiki</td><td>Control     </td><td> 2739</td></tr>\n",
       "\t<tr><td>fawiki</td><td>Unstructured</td><td> 5555</td></tr>\n",
       "\t<tr><td>fawiki</td><td>Add-a-link  </td><td> 5440</td></tr>\n",
       "\t<tr><td>frwiki</td><td>Control     </td><td> 5578</td></tr>\n",
       "\t<tr><td>frwiki</td><td>Unstructured</td><td>11146</td></tr>\n",
       "\t<tr><td>frwiki</td><td>Add-a-link  </td><td>11274</td></tr>\n",
       "\t<tr><td>huwiki</td><td>Control     </td><td>  315</td></tr>\n",
       "\t<tr><td>huwiki</td><td>Unstructured</td><td>  638</td></tr>\n",
       "\t<tr><td>huwiki</td><td>Add-a-link  </td><td>  632</td></tr>\n",
       "\t<tr><td>plwiki</td><td>Control     </td><td>  949</td></tr>\n",
       "\t<tr><td>plwiki</td><td>Unstructured</td><td> 1924</td></tr>\n",
       "\t<tr><td>plwiki</td><td>Add-a-link  </td><td> 1930</td></tr>\n",
       "\t<tr><td>rowiki</td><td>Control     </td><td>  294</td></tr>\n",
       "\t<tr><td>rowiki</td><td>Unstructured</td><td>  575</td></tr>\n",
       "\t<tr><td>rowiki</td><td>Add-a-link  </td><td>  565</td></tr>\n",
       "\t<tr><td>ruwiki</td><td>Control     </td><td> 4069</td></tr>\n",
       "\t<tr><td>ruwiki</td><td>Unstructured</td><td> 8176</td></tr>\n",
       "\t<tr><td>ruwiki</td><td>Add-a-link  </td><td> 8222</td></tr>\n",
       "\t<tr><td>viwiki</td><td>Control     </td><td> 3324</td></tr>\n",
       "\t<tr><td>viwiki</td><td>Unstructured</td><td> 5956</td></tr>\n",
       "\t<tr><td>viwiki</td><td>Add-a-link  </td><td> 5962</td></tr>\n",
       "</tbody>\n",
       "</table>\n"
      ],
      "text/latex": [
       "A grouped\\_df: 30 × 3\n",
       "\\begin{tabular}{lll}\n",
       " wiki\\_db & Group & n\\\\\n",
       " <fct> & <fct> & <int>\\\\\n",
       "\\hline\n",
       "\t arwiki & Control      &  7698\\\\\n",
       "\t arwiki & Unstructured & 13426\\\\\n",
       "\t arwiki & Add-a-link   & 13213\\\\\n",
       "\t bnwiki & Control      &  1583\\\\\n",
       "\t bnwiki & Unstructured &  2664\\\\\n",
       "\t bnwiki & Add-a-link   &  2679\\\\\n",
       "\t cswiki & Control      &   787\\\\\n",
       "\t cswiki & Unstructured &  1419\\\\\n",
       "\t cswiki & Add-a-link   &  1447\\\\\n",
       "\t fawiki & Control      &  2739\\\\\n",
       "\t fawiki & Unstructured &  5555\\\\\n",
       "\t fawiki & Add-a-link   &  5440\\\\\n",
       "\t frwiki & Control      &  5578\\\\\n",
       "\t frwiki & Unstructured & 11146\\\\\n",
       "\t frwiki & Add-a-link   & 11274\\\\\n",
       "\t huwiki & Control      &   315\\\\\n",
       "\t huwiki & Unstructured &   638\\\\\n",
       "\t huwiki & Add-a-link   &   632\\\\\n",
       "\t plwiki & Control      &   949\\\\\n",
       "\t plwiki & Unstructured &  1924\\\\\n",
       "\t plwiki & Add-a-link   &  1930\\\\\n",
       "\t rowiki & Control      &   294\\\\\n",
       "\t rowiki & Unstructured &   575\\\\\n",
       "\t rowiki & Add-a-link   &   565\\\\\n",
       "\t ruwiki & Control      &  4069\\\\\n",
       "\t ruwiki & Unstructured &  8176\\\\\n",
       "\t ruwiki & Add-a-link   &  8222\\\\\n",
       "\t viwiki & Control      &  3324\\\\\n",
       "\t viwiki & Unstructured &  5956\\\\\n",
       "\t viwiki & Add-a-link   &  5962\\\\\n",
       "\\end{tabular}\n"
      ],
      "text/markdown": [
       "\n",
       "A grouped_df: 30 × 3\n",
       "\n",
       "| wiki_db &lt;fct&gt; | Group &lt;fct&gt; | n &lt;int&gt; |\n",
       "|---|---|---|\n",
       "| arwiki | Control      |  7698 |\n",
       "| arwiki | Unstructured | 13426 |\n",
       "| arwiki | Add-a-link   | 13213 |\n",
       "| bnwiki | Control      |  1583 |\n",
       "| bnwiki | Unstructured |  2664 |\n",
       "| bnwiki | Add-a-link   |  2679 |\n",
       "| cswiki | Control      |   787 |\n",
       "| cswiki | Unstructured |  1419 |\n",
       "| cswiki | Add-a-link   |  1447 |\n",
       "| fawiki | Control      |  2739 |\n",
       "| fawiki | Unstructured |  5555 |\n",
       "| fawiki | Add-a-link   |  5440 |\n",
       "| frwiki | Control      |  5578 |\n",
       "| frwiki | Unstructured | 11146 |\n",
       "| frwiki | Add-a-link   | 11274 |\n",
       "| huwiki | Control      |   315 |\n",
       "| huwiki | Unstructured |   638 |\n",
       "| huwiki | Add-a-link   |   632 |\n",
       "| plwiki | Control      |   949 |\n",
       "| plwiki | Unstructured |  1924 |\n",
       "| plwiki | Add-a-link   |  1930 |\n",
       "| rowiki | Control      |   294 |\n",
       "| rowiki | Unstructured |   575 |\n",
       "| rowiki | Add-a-link   |   565 |\n",
       "| ruwiki | Control      |  4069 |\n",
       "| ruwiki | Unstructured |  8176 |\n",
       "| ruwiki | Add-a-link   |  8222 |\n",
       "| viwiki | Control      |  3324 |\n",
       "| viwiki | Unstructured |  5956 |\n",
       "| viwiki | Add-a-link   |  5962 |\n",
       "\n"
      ],
      "text/plain": [
       "   wiki_db Group        n    \n",
       "1  arwiki  Control       7698\n",
       "2  arwiki  Unstructured 13426\n",
       "3  arwiki  Add-a-link   13213\n",
       "4  bnwiki  Control       1583\n",
       "5  bnwiki  Unstructured  2664\n",
       "6  bnwiki  Add-a-link    2679\n",
       "7  cswiki  Control        787\n",
       "8  cswiki  Unstructured  1419\n",
       "9  cswiki  Add-a-link    1447\n",
       "10 fawiki  Control       2739\n",
       "11 fawiki  Unstructured  5555\n",
       "12 fawiki  Add-a-link    5440\n",
       "13 frwiki  Control       5578\n",
       "14 frwiki  Unstructured 11146\n",
       "15 frwiki  Add-a-link   11274\n",
       "16 huwiki  Control        315\n",
       "17 huwiki  Unstructured   638\n",
       "18 huwiki  Add-a-link     632\n",
       "19 plwiki  Control        949\n",
       "20 plwiki  Unstructured  1924\n",
       "21 plwiki  Add-a-link    1930\n",
       "22 rowiki  Control        294\n",
       "23 rowiki  Unstructured   575\n",
       "24 rowiki  Add-a-link     565\n",
       "25 ruwiki  Control       4069\n",
       "26 ruwiki  Unstructured  8176\n",
       "27 ruwiki  Add-a-link    8222\n",
       "28 viwiki  Control       3324\n",
       "29 viwiki  Unstructured  5956\n",
       "30 viwiki  Add-a-link    5962"
      ]
     },
     "metadata": {},
     "output_type": "display_data"
    }
   ],
   "source": [
    "user_edit_data %>%\n",
    "    group_by(wiki_db, Group) %>%\n",
    "    summarize(n = n())"
   ]
  },
  {
   "cell_type": "markdown",
   "id": "9de228fc",
   "metadata": {},
   "source": [
    "## Splitting into Training, Test, and Validation Datasets\n",
    "\n",
    "Split the dataset into training, test, and validation data sets."
   ]
  },
  {
   "cell_type": "code",
   "execution_count": 13,
   "id": "8812e64d",
   "metadata": {},
   "outputs": [
    {
     "name": "stderr",
     "output_type": "stream",
     "text": [
      "Warning message:\n",
      "“The `i` argument of ``[`()` can't be a matrix as of tibble 3.0.0.\n",
      "Convert to a vector.\n",
      "\u001b[90mThis warning is displayed once every 8 hours.\u001b[39m\n",
      "\u001b[90mCall `lifecycle::last_warnings()` to see where this warning was generated.\u001b[39m”\n"
     ]
    }
   ],
   "source": [
    "## set the random seed so train/test/validation splits can be reproduced\n",
    "set.seed(42)\n",
    "\n",
    "trainIndex <- caret::createDataPartition(user_edit_data$Group,\n",
    "                                         p = .8,\n",
    "                                         list = FALSE,\n",
    "                                         times = 1)\n",
    "user_data_train = user_edit_data[trainIndex,]\n",
    "user_data_second = user_edit_data[-trainIndex,]\n",
    "\n",
    "testIndex = caret::createDataPartition(user_data_second$Group, p = .5, list = FALSE, times = 1)\n",
    "\n",
    "user_data_test = user_data_second[testIndex,]\n",
    "user_data_validate = user_data_second[-testIndex,]"
   ]
  },
  {
   "cell_type": "code",
   "execution_count": 14,
   "id": "0c858f09",
   "metadata": {},
   "outputs": [],
   "source": [
    "user_data_test$is_activated_fct <- factor(user_data_test$is_activated,\n",
    "                                          labels = c('No', 'Yes'))\n",
    "user_data_validate$is_activated_fct <- factor(user_data_validate$is_activated,\n",
    "                                          labels = c('No', 'Yes'))"
   ]
  },
  {
   "cell_type": "markdown",
   "id": "0e2ea7a4",
   "metadata": {},
   "source": [
    "## Visualizing Retention\n",
    "\n",
    "We'll plot bar charts for retention for the Control, Unstructured, and Add-a-Link user groups.\n",
    "\n",
    "### Retention"
   ]
  },
  {
   "cell_type": "code",
   "execution_count": 23,
   "id": "bc07c523",
   "metadata": {},
   "outputs": [
    {
     "data": {
      "image/png": "[encoded data removed]",
      "text/plain": [
       "plot without title"
      ]
     },
     "metadata": {
      "image/png": {
       "height": 420,
       "width": 840
      }
     },
     "output_type": "display_data"
    }
   ],
   "source": [
    "user_edit_data %>%\n",
    "    group_by(platform, Group, is_retained) %>%\n",
    "    tally() %>%\n",
    "    mutate(per_group = sum(n)) %>%\n",
    "    ungroup() %>%\n",
    "    mutate(perc = 100 * n / per_group, prob = n / per_group) %>%\n",
    "    mutate(SE = sqrt(prob * (1 - prob) / per_group)) %>%\n",
    "    filter(is_retained == TRUE) %>%\n",
    "    ggplot(aes(x = platform, y = perc, fill = Group)) +\n",
    "        labs(title = 'Overall Retention') +\n",
    "        geom_col(position = 'dodge2') + \n",
    "        geom_errorbar(aes(ymin = perc - 100*SE, ymax = perc + 100*SE),\n",
    "                      position = position_dodge2(width = 0.4, padding = 0.5))"
   ]
  },
  {
   "cell_type": "code",
   "execution_count": 24,
   "id": "2fe05416",
   "metadata": {},
   "outputs": [
    {
     "data": {
      "image/png": "[encoded data removed]",
      "text/plain": [
       "plot without title"
      ]
     },
     "metadata": {
      "image/png": {
       "height": 420,
       "width": 840
      }
     },
     "output_type": "display_data"
    }
   ],
   "source": [
    "user_edit_data %>%\n",
    "    group_by(platform, Group, is_const_retained) %>%\n",
    "    tally() %>%\n",
    "    mutate(per_group = sum(n)) %>%\n",
    "    ungroup() %>%\n",
    "    mutate(perc = 100 * n / per_group, prob = n / per_group) %>%\n",
    "    mutate(SE = sqrt(prob * (1 - prob) / per_group)) %>%\n",
    "    filter(is_const_retained == TRUE) %>%\n",
    "    ggplot(aes(x = platform, y = perc, fill = Group)) +\n",
    "        labs(title = 'Overall Constructive Retention') +\n",
    "        geom_col(position = 'dodge2') + \n",
    "        geom_errorbar(aes(ymin = perc - 100*SE, ymax = perc + 100*SE),\n",
    "                      position = position_dodge2(width = 0.4, padding = 0.5))"
   ]
  },
  {
   "cell_type": "code",
   "execution_count": 25,
   "id": "97dd6db5",
   "metadata": {},
   "outputs": [
    {
     "data": {
      "image/png": "[encoded data removed]",
      "text/plain": [
       "plot without title"
      ]
     },
     "metadata": {
      "image/png": {
       "height": 420,
       "width": 840
      }
     },
     "output_type": "display_data"
    }
   ],
   "source": [
    "user_edit_data %>%\n",
    "    group_by(platform, Group, is_const_retained_article) %>%\n",
    "    tally() %>%\n",
    "    mutate(per_group = sum(n)) %>%\n",
    "    ungroup() %>%\n",
    "    mutate(perc = 100 * n / per_group, prob = n / per_group) %>%\n",
    "    mutate(SE = sqrt(prob * (1 - prob) / per_group)) %>%\n",
    "    filter(is_const_retained_article == TRUE) %>%\n",
    "    ggplot(aes(x = platform, y = perc, fill = Group)) +\n",
    "        labs(title = 'Overall Constructive Article Retention') +\n",
    "        scale_fill_discrete(name = \"Treatment Group\",\n",
    "                            breaks = c(\"Control\", \"Unstructured\", \"Add-a-link\"),\n",
    "                            labels = c(\"Control\", \"Unstructured link\", \"Add a Link\")) +\n",
    "        geom_col(position = 'dodge2') + \n",
    "        geom_errorbar(aes(ymin = perc - 100*SE, ymax = perc + 100*SE),\n",
    "                      position = position_dodge2(width = 0.4, padding = 0.5))"
   ]
  },
  {
   "cell_type": "markdown",
   "id": "03fc55b5",
   "metadata": {},
   "source": [
    "### Retention Based on Activation"
   ]
  },
  {
   "cell_type": "code",
   "execution_count": 28,
   "id": "79ab1c30",
   "metadata": {},
   "outputs": [
    {
     "data": {
      "image/png": "[encoded data removed]",
      "text/plain": [
       "plot without title"
      ]
     },
     "metadata": {
      "image/png": {
       "height": 420,
       "width": 840
      }
     },
     "output_type": "display_data"
    }
   ],
   "source": [
    "user_edit_data %>%\n",
    "    filter(is_activated == TRUE) %>%\n",
    "    group_by(platform, Group, is_retained) %>%\n",
    "    tally() %>%\n",
    "    mutate(per_group = sum(n)) %>%\n",
    "    ungroup() %>%\n",
    "    mutate(perc = 100 * n / per_group, prob = n / per_group) %>%\n",
    "    mutate(SE = sqrt(prob * (1 - prob) / per_group)) %>%\n",
    "    filter(is_retained == TRUE) %>%\n",
    "    ggplot(aes(x = platform, y = perc, fill = Group)) +\n",
    "        labs(title = 'Retention for Activated Users') +\n",
    "        geom_col(position = 'dodge2') + \n",
    "        geom_errorbar(aes(ymin = perc - 100*SE, ymax = perc + 100*SE),\n",
    "                      position = position_dodge2(width = 0.4, padding = 0.5))"
   ]
  },
  {
   "cell_type": "code",
   "execution_count": 30,
   "id": "d686454c",
   "metadata": {},
   "outputs": [
    {
     "data": {
      "image/png": "[encoded data removed]",
      "text/plain": [
       "plot without title"
      ]
     },
     "metadata": {
      "image/png": {
       "height": 420,
       "width": 840
      }
     },
     "output_type": "display_data"
    }
   ],
   "source": [
    "user_edit_data %>%\n",
    "    filter(is_activated == TRUE) %>%\n",
    "    group_by(platform, Group, is_retained_article) %>%\n",
    "    tally() %>%\n",
    "    mutate(per_group = sum(n)) %>%\n",
    "    ungroup() %>%\n",
    "    mutate(perc = 100 * n / per_group, prob = n / per_group) %>%\n",
    "    mutate(SE = sqrt(prob * (1 - prob) / per_group)) %>%\n",
    "    filter(is_retained_article == TRUE) %>%\n",
    "    ggplot(aes(x = platform, y = perc, fill = Group)) +\n",
    "        labs(title = 'Article Retention for Activated Users') +\n",
    "        geom_col(position = 'dodge2') + \n",
    "        geom_errorbar(aes(ymin = perc - 100*SE, ymax = perc + 100*SE),\n",
    "                      position = position_dodge2(width = 0.4, padding = 0.5))"
   ]
  },
  {
   "cell_type": "code",
   "execution_count": 33,
   "id": "1a9d804e",
   "metadata": {},
   "outputs": [
    {
     "data": {
      "image/png": "[encoded data removed]",
      "text/plain": [
       "plot without title"
      ]
     },
     "metadata": {
      "image/png": {
       "height": 420,
       "width": 840
      }
     },
     "output_type": "display_data"
    }
   ],
   "source": [
    "user_edit_data %>%\n",
    "    filter(is_const_activated_article == TRUE) %>%\n",
    "    group_by(platform, Group, is_const_retained_article) %>%\n",
    "    tally() %>%\n",
    "    mutate(per_group = sum(n)) %>%\n",
    "    ungroup() %>%\n",
    "    mutate(perc = 100 * n / per_group, prob = n / per_group) %>%\n",
    "    mutate(SE = sqrt(prob * (1 - prob) / per_group)) %>%\n",
    "    filter(is_const_retained_article == TRUE) %>%\n",
    "    ggplot(aes(x = platform, y = perc, fill = Group)) +\n",
    "        labs(title = 'Constructive Article Retention for Constructive Article Activated Users') +\n",
    "        geom_col(position = 'dodge2') + \n",
    "        geom_errorbar(aes(ymin = perc - 100*SE, ymax = perc + 100*SE),\n",
    "                      position = position_dodge2(width = 0.4, padding = 0.5))"
   ]
  },
  {
   "cell_type": "markdown",
   "id": "9dd31dcc",
   "metadata": {},
   "source": [
    "# Fitting Models\n",
    "\n",
    "## Retention"
   ]
  },
  {
   "cell_type": "code",
   "execution_count": 27,
   "id": "ba43a9da",
   "metadata": {},
   "outputs": [],
   "source": [
    "blas_set_num_threads(16)\n",
    "retention.overall.1 <-\n",
    "    glmer(\n",
    "        formula = is_retained ~ platform + Group + is_activated + log_num_edits_24hrs + (1 | wiki_db),\n",
    "        data = user_data_train,\n",
    "        family = binomial(link = \"logit\"))\n",
    "blas_set_num_threads(1)"
   ]
  },
  {
   "cell_type": "code",
   "execution_count": 32,
   "id": "f2666144",
   "metadata": {},
   "outputs": [
    {
     "data": {
      "text/plain": [
       "Generalized linear mixed model fit by maximum likelihood (Laplace\n",
       "  Approximation) [glmerMod]\n",
       " Family: binomial  ( logit )\n",
       "Formula: is_retained ~ platform + Group + is_activated + log_num_edits_24hrs +  \n",
       "    (1 | wiki_db)\n",
       "   Data: user_data_train\n",
       "\n",
       "     AIC      BIC   logLik deviance df.resid \n",
       "   28907    28974   -14446    28893   104138 \n",
       "\n",
       "Scaled residuals: \n",
       "   Min     1Q Median     3Q    Max \n",
       "-3.806 -0.271  0.000  0.000  4.102 \n",
       "\n",
       "Random effects:\n",
       " Groups  Name        Variance Std.Dev.\n",
       " wiki_db (Intercept) 0.0115   0.107   \n",
       "Number of obs: 104145, groups:  wiki_db, 10\n",
       "\n",
       "Fixed effects:\n",
       "                    Estimate Std. Error z value             Pr(>|z|)    \n",
       "(Intercept)         -20.3753     3.3334   -6.11        0.00000000098 ***\n",
       "platformmobile       -0.3776     0.0328  -11.51 < 0.0000000000000002 ***\n",
       "GroupUnstructured     0.0258     0.0419    0.62                 0.54    \n",
       "GroupAdd-a-link       0.0219     0.0416    0.53                 0.60    \n",
       "is_activatedTRUE     17.2880     3.3321    5.19        0.00000021227 ***\n",
       "log_num_edits_24hrs   1.1318     0.0220   51.49 < 0.0000000000000002 ***\n",
       "---\n",
       "Signif. codes:  0 ‘***’ 0.001 ‘**’ 0.01 ‘*’ 0.05 ‘.’ 0.1 ‘ ’ 1\n",
       "\n",
       "Correlation of Fixed Effects:\n",
       "            (Intr) pltfrm GrpUns GrpA-- i_TRUE\n",
       "platformmbl -0.005                            \n",
       "GrpUnstrctr -0.019  0.001                     \n",
       "GrpAdd--lnk -0.022 -0.007  0.662              \n",
       "is_ctvtTRUE -1.000  0.001  0.010  0.014       \n",
       "lg_nm_dt_24 -0.012 -0.012  0.005 -0.010  0.003"
      ]
     },
     "metadata": {},
     "output_type": "display_data"
    }
   ],
   "source": [
    "summary(retention.overall.1)"
   ]
  },
  {
   "cell_type": "markdown",
   "id": "09d518e6",
   "metadata": {},
   "source": [
    "This model reflects the previous graph in that Add a Link increases activation relative to the Control. It looks like in this dataset, the unstructured task might not have significantly higher activation.\n",
    "\n",
    "Let's check for interaction between `platform` and `Group`:"
   ]
  },
  {
   "cell_type": "code",
   "execution_count": 45,
   "id": "5d8459c8",
   "metadata": {},
   "outputs": [
    {
     "name": "stderr",
     "output_type": "stream",
     "text": [
      "Warning message in checkConv(attr(opt, \"derivs\"), opt$par, ctrl = control$checkConv, :\n",
      "“unable to evaluate scaled gradient”\n",
      "Warning message in checkConv(attr(opt, \"derivs\"), opt$par, ctrl = control$checkConv, :\n",
      "“Model failed to converge: degenerate  Hessian with 1 negative eigenvalues”\n"
     ]
    }
   ],
   "source": [
    "blas_set_num_threads(16)\n",
    "retention.overall.2 <-\n",
    "    glmer(\n",
    "        formula = is_retained ~ platform * Group + is_activated + log_num_edits_24hrs + (1 | wiki_db),\n",
    "        data = user_data_train,\n",
    "        family = binomial(link = \"logit\"))\n",
    "blas_set_num_threads(1)"
   ]
  },
  {
   "cell_type": "code",
   "execution_count": 46,
   "id": "8ca86965",
   "metadata": {},
   "outputs": [],
   "source": [
    "## If model didn't converge, restart and give it some more iterations:\n",
    "start_vals = getME(retention.overall.2, c(\"theta\", \"fixef\"))\n",
    "blas_set_num_threads(16)\n",
    "retention.overall.2 = update(retention.overall.2, start = start_vals,\n",
    "                             control = glmerControl(optCtrl = list(maxfun = 2e4)))\n",
    "blas_set_num_threads(1)"
   ]
  },
  {
   "cell_type": "code",
   "execution_count": 37,
   "id": "ca8df91d",
   "metadata": {},
   "outputs": [
    {
     "data": {
      "text/plain": [
       "Generalized linear mixed model fit by maximum likelihood (Laplace\n",
       "  Approximation) [glmerMod]\n",
       " Family: binomial  ( logit )\n",
       "Formula: is_retained ~ platform * Group + is_activated + log_num_edits_24hrs +  \n",
       "    (1 | wiki_db)\n",
       "   Data: user_data_train\n",
       "Control: glmerControl(optCtrl = list(maxfun = 20000))\n",
       "\n",
       "     AIC      BIC   logLik deviance df.resid \n",
       "   28909    28995   -14445    28891   104136 \n",
       "\n",
       "Scaled residuals: \n",
       "   Min     1Q Median     3Q    Max \n",
       "-3.859 -0.275  0.000  0.000  4.183 \n",
       "\n",
       "Random effects:\n",
       " Groups  Name        Variance Std.Dev.\n",
       " wiki_db (Intercept) 0.0115   0.107   \n",
       "Number of obs: 104145, groups:  wiki_db, 10\n",
       "\n",
       "Fixed effects:\n",
       "                                   Estimate Std. Error z value\n",
       "(Intercept)                      -20.351442   2.428639   -8.38\n",
       "platformmobile                    -0.446347   0.069642   -6.41\n",
       "GroupUnstructured                 -0.025630   0.055272   -0.46\n",
       "GroupAdd-a-link                   -0.000904   0.054886   -0.02\n",
       "is_activatedTRUE                  17.294018   2.432086    7.11\n",
       "log_num_edits_24hrs                1.131398   0.021982   51.47\n",
       "platformmobile:GroupUnstructured   0.120296   0.084659    1.42\n",
       "platformmobile:GroupAdd-a-link     0.053564   0.084139    0.64\n",
       "                                             Pr(>|z|)    \n",
       "(Intercept)                      < 0.0000000000000002 ***\n",
       "platformmobile                        0.0000000001463 ***\n",
       "GroupUnstructured                                0.64    \n",
       "GroupAdd-a-link                                  0.99    \n",
       "is_activatedTRUE                      0.0000000000012 ***\n",
       "log_num_edits_24hrs              < 0.0000000000000002 ***\n",
       "platformmobile:GroupUnstructured                 0.16    \n",
       "platformmobile:GroupAdd-a-link                   0.52    \n",
       "---\n",
       "Signif. codes:  0 ‘***’ 0.001 ‘**’ 0.01 ‘*’ 0.05 ‘.’ 0.1 ‘ ’ 1\n",
       "\n",
       "Correlation of Fixed Effects:\n",
       "            (Intr) pltfrm GrpUns GrpA-- i_TRUE l___24 plt:GU\n",
       "platformmbl  0.045                                          \n",
       "GrpUnstrctr  0.045  0.517                                   \n",
       "GrpAdd--lnk  0.040  0.520  0.659                            \n",
       "is_ctvtTRUE -1.000 -0.057 -0.060 -0.054                     \n",
       "lg_nm_dt_24  0.007  0.004  0.011 -0.001 -0.019              \n",
       "pltfrmmb:GU -0.045 -0.802 -0.652 -0.429  0.055 -0.011       \n",
       "pltfrm:GA-- -0.042 -0.807 -0.429 -0.651  0.052 -0.009  0.663"
      ]
     },
     "metadata": {},
     "output_type": "display_data"
    }
   ],
   "source": [
    "summary(retention.overall.2)"
   ]
  },
  {
   "cell_type": "markdown",
   "id": "ef1f8cc6",
   "metadata": {},
   "source": [
    "We don't find conclusive evidence of interaction. The BIC is much worse and none of the predictors for `Group` are significant. Moving on to testing per-wiki effects."
   ]
  },
  {
   "cell_type": "code",
   "execution_count": 38,
   "id": "5af1a812",
   "metadata": {},
   "outputs": [],
   "source": [
    "blas_set_num_threads(16)\n",
    "retention.overall.3 <-\n",
    "    glmer(\n",
    "        formula = is_retained ~ platform + Group + is_activated + log_num_edits_24hrs +\n",
    "                    (1 + platform | wiki_db),\n",
    "        data = user_data_train,\n",
    "        family = binomial(link = \"logit\"))\n",
    "blas_set_num_threads(1)"
   ]
  },
  {
   "cell_type": "code",
   "execution_count": 39,
   "id": "055347e9",
   "metadata": {},
   "outputs": [
    {
     "data": {
      "text/plain": [
       "Generalized linear mixed model fit by maximum likelihood (Laplace\n",
       "  Approximation) [glmerMod]\n",
       " Family: binomial  ( logit )\n",
       "Formula: is_retained ~ platform + Group + is_activated + log_num_edits_24hrs +  \n",
       "    (1 + platform | wiki_db)\n",
       "   Data: user_data_train\n",
       "\n",
       "     AIC      BIC   logLik deviance df.resid \n",
       "   28904    28990   -14443    28886   104136 \n",
       "\n",
       "Scaled residuals: \n",
       "   Min     1Q Median     3Q    Max \n",
       "-3.764 -0.275  0.000  0.000  4.272 \n",
       "\n",
       "Random effects:\n",
       " Groups  Name           Variance Std.Dev. Corr\n",
       " wiki_db (Intercept)    0.00659  0.0812       \n",
       "         platformmobile 0.01327  0.1152   0.50\n",
       "Number of obs: 104145, groups:  wiki_db, 10\n",
       "\n",
       "Fixed effects:\n",
       "                    Estimate Std. Error z value             Pr(>|z|)    \n",
       "(Intercept)         -21.3879     1.5563  -13.74 < 0.0000000000000002 ***\n",
       "platformmobile       -0.3579     0.0529   -6.77       0.000000000013 ***\n",
       "GroupUnstructured     0.0258     0.0419    0.62                 0.54    \n",
       "GroupAdd-a-link       0.0222     0.0416    0.53                 0.59    \n",
       "is_activatedTRUE     18.2893     1.5566   11.75 < 0.0000000000000002 ***\n",
       "log_num_edits_24hrs   1.1311     0.0220   51.44 < 0.0000000000000002 ***\n",
       "---\n",
       "Signif. codes:  0 ‘***’ 0.001 ‘**’ 0.01 ‘*’ 0.05 ‘.’ 0.1 ‘ ’ 1\n",
       "\n",
       "Correlation of Fixed Effects:\n",
       "            (Intr) pltfrm GrpUns GrpA-- i_TRUE\n",
       "platformmbl  0.002                            \n",
       "GrpUnstrctr -0.010  0.003                     \n",
       "GrpAdd--lnk -0.006 -0.004  0.662              \n",
       "is_ctvtTRUE -0.999 -0.002 -0.008 -0.012       \n",
       "lg_nm_dt_24 -0.008 -0.008  0.006 -0.010 -0.011"
      ]
     },
     "metadata": {},
     "output_type": "display_data"
    }
   ],
   "source": [
    "summary(retention.overall.3)"
   ]
  },
  {
   "cell_type": "markdown",
   "id": "31d0c36c",
   "metadata": {},
   "source": [
    "Unlike activation, there does not appear to be a meaningful per-wiki level of variation when it comes to retention. The model isn't singular, which means there is data, but the BIC is significantly worse compared to Model 1."
   ]
  },
  {
   "cell_type": "code",
   "execution_count": 40,
   "id": "800d2c4f",
   "metadata": {},
   "outputs": [
    {
     "name": "stderr",
     "output_type": "stream",
     "text": [
      "boundary (singular) fit: see ?isSingular\n",
      "\n"
     ]
    }
   ],
   "source": [
    "blas_set_num_threads(16)\n",
    "retention.overall.4 <-\n",
    "    glmer(\n",
    "        formula = is_retained ~ platform + Group + is_activated + log_num_edits_24hrs +\n",
    "                    (1 + Group | wiki_db),\n",
    "        data = user_data_train,\n",
    "        family = binomial(link = \"logit\"))\n",
    "blas_set_num_threads(1)"
   ]
  },
  {
   "cell_type": "markdown",
   "id": "c77c4846",
   "metadata": {},
   "source": [
    "This model is singular, so we discard it. No indication of a meaningful variation between wikis when it comes to the effect of `Group`. Let's see if there's a variation in the effect of first day activity (which we've seen before in other analyses)."
   ]
  },
  {
   "cell_type": "code",
   "execution_count": 41,
   "id": "e53836a1",
   "metadata": {},
   "outputs": [
    {
     "name": "stderr",
     "output_type": "stream",
     "text": [
      "Warning message in checkConv(attr(opt, \"derivs\"), opt$par, ctrl = control$checkConv, :\n",
      "“Model failed to converge with max|grad| = 0.00522878 (tol = 0.002, component 1)”\n"
     ]
    }
   ],
   "source": [
    "blas_set_num_threads(16)\n",
    "retention.overall.5 <-\n",
    "    glmer(\n",
    "        formula = is_retained ~ platform + Group + is_activated + log_num_edits_24hrs +\n",
    "                    (1 + log_num_edits_24hrs | wiki_db),\n",
    "        data = user_data_train,\n",
    "        family = binomial(link = \"logit\"))\n",
    "blas_set_num_threads(1)"
   ]
  },
  {
   "cell_type": "code",
   "execution_count": 44,
   "id": "b0c7b7cd",
   "metadata": {},
   "outputs": [],
   "source": [
    "## If model didn't converge, restart and give it some more iterations:\n",
    "start_vals = getME(retention.overall.5, c(\"theta\", \"fixef\"))\n",
    "blas_set_num_threads(16)\n",
    "retention.overall.5 = update(retention.overall.5, start = start_vals,\n",
    "                             control = glmerControl(optCtrl = list(maxfun = 2e4)))\n",
    "blas_set_num_threads(1)"
   ]
  },
  {
   "cell_type": "code",
   "execution_count": 47,
   "id": "096f4380",
   "metadata": {},
   "outputs": [
    {
     "data": {
      "text/plain": [
       "Generalized linear mixed model fit by maximum likelihood (Laplace\n",
       "  Approximation) [glmerMod]\n",
       " Family: binomial  ( logit )\n",
       "Formula: is_retained ~ platform + Group + is_activated + log_num_edits_24hrs +  \n",
       "    (1 + log_num_edits_24hrs | wiki_db)\n",
       "   Data: user_data_train\n",
       "Control: glmerControl(optCtrl = list(maxfun = 20000))\n",
       "\n",
       "     AIC      BIC   logLik deviance df.resid \n",
       "   28899    28985   -14441    28881   104136 \n",
       "\n",
       "Scaled residuals: \n",
       "   Min     1Q Median     3Q    Max \n",
       "-3.302 -0.278  0.000  0.000  4.180 \n",
       "\n",
       "Random effects:\n",
       " Groups  Name                Variance Std.Dev. Corr \n",
       " wiki_db (Intercept)         0.0544   0.233         \n",
       "         log_num_edits_24hrs 0.0109   0.104    -0.96\n",
       "Number of obs: 104145, groups:  wiki_db, 10\n",
       "\n",
       "Fixed effects:\n",
       "                    Estimate Std. Error z value            Pr(>|z|)    \n",
       "(Intercept)         -20.3237     1.0502  -19.35 <0.0000000000000002 ***\n",
       "platformmobile       -0.3740     0.0329  -11.36 <0.0000000000000002 ***\n",
       "GroupUnstructured     0.0266     0.0419    0.64                0.53    \n",
       "GroupAdd-a-link       0.0213     0.0416    0.51                0.61    \n",
       "is_activatedTRUE     17.2850     1.0501   16.46 <0.0000000000000002 ***\n",
       "log_num_edits_24hrs   1.1005     0.0428   25.69 <0.0000000000000002 ***\n",
       "---\n",
       "Signif. codes:  0 ‘***’ 0.001 ‘**’ 0.01 ‘*’ 0.05 ‘.’ 0.1 ‘ ’ 1\n",
       "\n",
       "Correlation of Fixed Effects:\n",
       "            (Intr) pltfrm GrpUns GrpA-- i_TRUE\n",
       "platformmbl -0.004                            \n",
       "GrpUnstrctr -0.009  0.000                     \n",
       "GrpAdd--lnk -0.010 -0.009  0.662              \n",
       "is_ctvtTRUE -0.996 -0.008 -0.017 -0.016       \n",
       "lg_nm_dt_24 -0.041 -0.015 -0.001 -0.007 -0.036"
      ]
     },
     "metadata": {},
     "output_type": "display_data"
    }
   ],
   "source": [
    "summary(retention.overall.5)"
   ]
  },
  {
   "cell_type": "markdown",
   "id": "d5e2aa4f",
   "metadata": {},
   "source": [
    "This model converges and isn't singular, which suggests that there is some variation. However, the BIC is much worse so the added complexity is not warranted.\n",
    "\n",
    "### Overall Retention Not Conditioned on Activation\n",
    "\n",
    "This takes activation and level of activity during the first day out of the question, to see if we increase overall retention."
   ]
  },
  {
   "cell_type": "code",
   "execution_count": 49,
   "id": "a640b8c2",
   "metadata": {},
   "outputs": [],
   "source": [
    "blas_set_num_threads(16)\n",
    "retention.overall.10 <-\n",
    "    glmer(\n",
    "        formula = is_retained ~ platform + Group + (1 | wiki_db),\n",
    "        data = user_data_train,\n",
    "        family = binomial(link = \"logit\"))\n",
    "blas_set_num_threads(1)"
   ]
  },
  {
   "cell_type": "code",
   "execution_count": 50,
   "id": "f2d2110c",
   "metadata": {},
   "outputs": [
    {
     "data": {
      "text/plain": [
       "Generalized linear mixed model fit by maximum likelihood (Laplace\n",
       "  Approximation) [glmerMod]\n",
       " Family: binomial  ( logit )\n",
       "Formula: is_retained ~ platform + Group + (1 | wiki_db)\n",
       "   Data: user_data_train\n",
       "\n",
       "     AIC      BIC   logLik deviance df.resid \n",
       "   42500    42547   -21245    42490   104140 \n",
       "\n",
       "Scaled residuals: \n",
       "   Min     1Q Median     3Q    Max \n",
       "-0.320 -0.253 -0.238 -0.200  5.446 \n",
       "\n",
       "Random effects:\n",
       " Groups  Name        Variance Std.Dev.\n",
       " wiki_db (Intercept) 0.0569   0.239   \n",
       "Number of obs: 104145, groups:  wiki_db, 10\n",
       "\n",
       "Fixed effects:\n",
       "                  Estimate Std. Error z value            Pr(>|z|)    \n",
       "(Intercept)        -2.6700     0.0838  -31.84 <0.0000000000000002 ***\n",
       "platformmobile     -0.3993     0.0297  -13.46 <0.0000000000000002 ***\n",
       "GroupUnstructured   0.0151     0.0381    0.40               0.692    \n",
       "GroupAdd-a-link     0.0694     0.0378    1.84               0.067 .  \n",
       "---\n",
       "Signif. codes:  0 ‘***’ 0.001 ‘**’ 0.01 ‘*’ 0.05 ‘.’ 0.1 ‘ ’ 1\n",
       "\n",
       "Correlation of Fixed Effects:\n",
       "            (Intr) pltfrm GrpUns\n",
       "platformmbl -0.141              \n",
       "GrpUnstrctr -0.298  0.000       \n",
       "GrpAdd--lnk -0.300 -0.005  0.663"
      ]
     },
     "metadata": {},
     "output_type": "display_data"
    }
   ],
   "source": [
    "summary(retention.overall.10)"
   ]
  },
  {
   "cell_type": "markdown",
   "id": "40d3875d",
   "metadata": {},
   "source": [
    "The Add a Link group is marginally significant. Given that we didn't find a significant increase in retention when controlling for activation, this suggests that we are indeed increasing retention through increasing activation. This effect might be stronger for constructive article retention."
   ]
  },
  {
   "cell_type": "code",
   "execution_count": 51,
   "id": "b507448f",
   "metadata": {},
   "outputs": [],
   "source": [
    "blas_set_num_threads(16)\n",
    "retention.overall.11 <-\n",
    "    glmer(\n",
    "        formula = is_retained ~ platform * Group + (1 | wiki_db),\n",
    "        data = user_data_train,\n",
    "        family = binomial(link = \"logit\"))\n",
    "blas_set_num_threads(1)"
   ]
  },
  {
   "cell_type": "code",
   "execution_count": 52,
   "id": "14d0b4cb",
   "metadata": {},
   "outputs": [
    {
     "data": {
      "text/plain": [
       "Generalized linear mixed model fit by maximum likelihood (Laplace\n",
       "  Approximation) [glmerMod]\n",
       " Family: binomial  ( logit )\n",
       "Formula: is_retained ~ platform * Group + (1 | wiki_db)\n",
       "   Data: user_data_train\n",
       "\n",
       "     AIC      BIC   logLik deviance df.resid \n",
       "   42501    42568   -21244    42487   104138 \n",
       "\n",
       "Scaled residuals: \n",
       "   Min     1Q Median     3Q    Max \n",
       "-0.321 -0.253 -0.239 -0.200  5.565 \n",
       "\n",
       "Random effects:\n",
       " Groups  Name        Variance Std.Dev.\n",
       " wiki_db (Intercept) 0.0569   0.238   \n",
       "Number of obs: 104145, groups:  wiki_db, 10\n",
       "\n",
       "Fixed effects:\n",
       "                                 Estimate Std. Error z value\n",
       "(Intercept)                       -2.6392     0.0865  -30.50\n",
       "platformmobile                    -0.4739     0.0635   -7.46\n",
       "GroupUnstructured                 -0.0324     0.0496   -0.65\n",
       "GroupAdd-a-link                    0.0394     0.0492    0.80\n",
       "platformmobile:GroupUnstructured   0.1146     0.0774    1.48\n",
       "platformmobile:GroupAdd-a-link     0.0730     0.0767    0.95\n",
       "                                             Pr(>|z|)    \n",
       "(Intercept)                      < 0.0000000000000002 ***\n",
       "platformmobile                      0.000000000000089 ***\n",
       "GroupUnstructured                                0.51    \n",
       "GroupAdd-a-link                                  0.42    \n",
       "platformmobile:GroupUnstructured                 0.14    \n",
       "platformmobile:GroupAdd-a-link                   0.34    \n",
       "---\n",
       "Signif. codes:  0 ‘***’ 0.001 ‘**’ 0.01 ‘*’ 0.05 ‘.’ 0.1 ‘ ’ 1\n",
       "\n",
       "Correlation of Fixed Effects:\n",
       "            (Intr) pltfrm GrpUns GrpA-- plt:GU\n",
       "platformmbl -0.288                            \n",
       "GrpUnstrctr -0.370  0.504                     \n",
       "GrpAdd--lnk -0.372  0.507  0.656              \n",
       "pltfrmmb:GU  0.234 -0.804 -0.639 -0.418       \n",
       "pltfrm:GA--  0.235 -0.809 -0.417 -0.637  0.664"
      ]
     },
     "metadata": {},
     "output_type": "display_data"
    }
   ],
   "source": [
    "summary(retention.overall.11)"
   ]
  },
  {
   "cell_type": "markdown",
   "id": "675c3419",
   "metadata": {},
   "source": [
    "No indication of interaction. I'll leave it here and check retention between the two task types, then move to article retention, rather than dig into per-wiki variation."
   ]
  },
  {
   "cell_type": "code",
   "execution_count": 55,
   "id": "a487eb77",
   "metadata": {},
   "outputs": [
    {
     "name": "stderr",
     "output_type": "stream",
     "text": [
      "Warning message in checkConv(attr(opt, \"derivs\"), opt$par, ctrl = control$checkConv, :\n",
      "“Model failed to converge with max|grad| = 0.00291015 (tol = 0.002, component 1)”\n"
     ]
    }
   ],
   "source": [
    "blas_set_num_threads(16)\n",
    "retention.overall.growth.1 <-\n",
    "    user_data_train %>%\n",
    "    filter(Group != 'Control') %>%\n",
    "    glmer(\n",
    "        formula = is_retained ~ platform + Group + is_activated + log_num_edits_24hrs +\n",
    "                    (1 | wiki_db),\n",
    "        family = binomial(link = \"logit\"))\n",
    "blas_set_num_threads(1)"
   ]
  },
  {
   "cell_type": "code",
   "execution_count": 56,
   "id": "717b8a8a",
   "metadata": {},
   "outputs": [],
   "source": [
    "## If model didn't converge, restart and give it some more iterations:\n",
    "start_vals = getME(retention.overall.growth.1, c(\"theta\", \"fixef\"))\n",
    "blas_set_num_threads(16)\n",
    "retention.overall.growth.1 = update(retention.overall.growth.1, start = start_vals,\n",
    "                             control = glmerControl(optCtrl = list(maxfun = 2e4)))\n",
    "blas_set_num_threads(1)"
   ]
  },
  {
   "cell_type": "code",
   "execution_count": 57,
   "id": "5240ec7e",
   "metadata": {},
   "outputs": [
    {
     "data": {
      "text/plain": [
       "Generalized linear mixed model fit by maximum likelihood (Laplace\n",
       "  Approximation) [glmerMod]\n",
       " Family: binomial  ( logit )\n",
       "Formula: is_retained ~ platform + Group + is_activated + log_num_edits_24hrs +  \n",
       "    (1 | wiki_db)\n",
       "   Data: .\n",
       "Control: glmerControl(optCtrl = list(maxfun = 20000))\n",
       "\n",
       "     AIC      BIC   logLik deviance df.resid \n",
       "   22933    22989   -11460    22921    82270 \n",
       "\n",
       "Scaled residuals: \n",
       "   Min     1Q Median     3Q    Max \n",
       "-3.526 -0.272  0.000  0.000  4.081 \n",
       "\n",
       "Random effects:\n",
       " Groups  Name        Variance Std.Dev.\n",
       " wiki_db (Intercept) 0.0101   0.101   \n",
       "Number of obs: 82276, groups:  wiki_db, 10\n",
       "\n",
       "Fixed effects:\n",
       "                     Estimate Std. Error z value            Pr(>|z|)    \n",
       "(Intercept)         -27.80230    1.38216  -20.12 <0.0000000000000002 ***\n",
       "platformmobile       -0.36490    0.03674   -9.93 <0.0000000000000002 ***\n",
       "GroupAdd-a-link      -0.00492    0.03439   -0.14                0.89    \n",
       "is_activatedTRUE     24.69649    1.38216   17.87 <0.0000000000000002 ***\n",
       "log_num_edits_24hrs   1.15517    0.02464   46.88 <0.0000000000000002 ***\n",
       "---\n",
       "Signif. codes:  0 ‘***’ 0.001 ‘**’ 0.01 ‘*’ 0.05 ‘.’ 0.1 ‘ ’ 1\n",
       "\n",
       "Correlation of Fixed Effects:\n",
       "            (Intr) pltfrm GrpA-- i_TRUE\n",
       "platformmbl -0.005                     \n",
       "GrpAdd--lnk -0.006 -0.011              \n",
       "is_ctvtTRUE -0.999 -0.005 -0.006       \n",
       "lg_nm_dt_24 -0.012 -0.020 -0.020 -0.012"
      ]
     },
     "metadata": {},
     "output_type": "display_data"
    }
   ],
   "source": [
    "summary(retention.overall.growth.1)"
   ]
  },
  {
   "cell_type": "markdown",
   "id": "1e0e23d5",
   "metadata": {},
   "source": [
    "No indication that retention is different between the two Growth features groups.\n",
    "\n",
    "## Article Retention"
   ]
  },
  {
   "cell_type": "code",
   "execution_count": 53,
   "id": "8b16f758",
   "metadata": {},
   "outputs": [],
   "source": [
    "blas_set_num_threads(16)\n",
    "retention.article.1 <-\n",
    "    glmer(\n",
    "        formula = is_retained_article ~ platform + Group +\n",
    "                    is_activated_article + log_num_article_edits_24hrs +\n",
    "                    (1 | wiki_db),\n",
    "        data = user_data_train,\n",
    "        family = binomial(link = \"logit\"))\n",
    "blas_set_num_threads(1)"
   ]
  },
  {
   "cell_type": "code",
   "execution_count": 54,
   "id": "3c4e6b5f",
   "metadata": {},
   "outputs": [
    {
     "data": {
      "text/plain": [
       "Generalized linear mixed model fit by maximum likelihood (Laplace\n",
       "  Approximation) [glmerMod]\n",
       " Family: binomial  ( logit )\n",
       "Formula: is_retained_article ~ platform + Group + is_activated_article +  \n",
       "    log_num_article_edits_24hrs + (1 | wiki_db)\n",
       "   Data: user_data_train\n",
       "\n",
       "     AIC      BIC   logLik deviance df.resid \n",
       "   21838    21905   -10912    21824   104138 \n",
       "\n",
       "Scaled residuals: \n",
       "   Min     1Q Median     3Q    Max \n",
       " -3.76  -0.24   0.00   0.00   4.17 \n",
       "\n",
       "Random effects:\n",
       " Groups  Name        Variance Std.Dev.\n",
       " wiki_db (Intercept) 0.0128   0.113   \n",
       "Number of obs: 104145, groups:  wiki_db, 10\n",
       "\n",
       "Fixed effects:\n",
       "                            Estimate Std. Error z value             Pr(>|z|)\n",
       "(Intercept)                 -21.3633     2.7977   -7.64    0.000000000000022\n",
       "platformmobile               -0.3519     0.0382   -9.20 < 0.0000000000000002\n",
       "GroupUnstructured            -0.0150     0.0487   -0.31                 0.76\n",
       "GroupAdd-a-link              -0.0196     0.0482   -0.41                 0.68\n",
       "is_activated_articleTRUE     18.2759     2.7959    6.54    0.000000000062934\n",
       "log_num_article_edits_24hrs   1.1518     0.0255   45.09 < 0.0000000000000002\n",
       "                               \n",
       "(Intercept)                 ***\n",
       "platformmobile              ***\n",
       "GroupUnstructured              \n",
       "GroupAdd-a-link                \n",
       "is_activated_articleTRUE    ***\n",
       "log_num_article_edits_24hrs ***\n",
       "---\n",
       "Signif. codes:  0 ‘***’ 0.001 ‘**’ 0.01 ‘*’ 0.05 ‘.’ 0.1 ‘ ’ 1\n",
       "\n",
       "Correlation of Fixed Effects:\n",
       "            (Intr) pltfrm GrpUns GrpA-- i__TRU\n",
       "platformmbl -0.017                            \n",
       "GrpUnstrctr -0.028  0.006                     \n",
       "GrpAdd--lnk -0.030 -0.004  0.669              \n",
       "is_ctv_TRUE -1.000  0.012  0.017  0.019       \n",
       "lg_nm_r__24 -0.010 -0.037  0.001 -0.018 -0.002"
      ]
     },
     "metadata": {},
     "output_type": "display_data"
    }
   ],
   "source": [
    "summary(retention.article.1)"
   ]
  },
  {
   "cell_type": "markdown",
   "id": "e18dfb41",
   "metadata": {},
   "source": [
    "No difference between the groups when it comes to overall article retention."
   ]
  },
  {
   "cell_type": "code",
   "execution_count": 58,
   "id": "25d8f79a",
   "metadata": {},
   "outputs": [
    {
     "name": "stderr",
     "output_type": "stream",
     "text": [
      "Warning message in checkConv(attr(opt, \"derivs\"), opt$par, ctrl = control$checkConv, :\n",
      "“unable to evaluate scaled gradient”\n",
      "Warning message in checkConv(attr(opt, \"derivs\"), opt$par, ctrl = control$checkConv, :\n",
      "“Model failed to converge: degenerate  Hessian with 1 negative eigenvalues”\n"
     ]
    }
   ],
   "source": [
    "blas_set_num_threads(16)\n",
    "retention.article.2 <-\n",
    "    glmer(\n",
    "        formula = is_retained_article ~ platform * Group +\n",
    "                    is_activated_article + log_num_article_edits_24hrs +\n",
    "                    (1 | wiki_db),\n",
    "        data = user_data_train,\n",
    "        family = binomial(link = \"logit\"))\n",
    "blas_set_num_threads(1)"
   ]
  },
  {
   "cell_type": "code",
   "execution_count": 60,
   "id": "e2d80dd5",
   "metadata": {},
   "outputs": [],
   "source": [
    "## If model didn't converge, restart and give it some more iterations:\n",
    "start_vals = getME(retention.article.2, c(\"theta\", \"fixef\"))\n",
    "blas_set_num_threads(16)\n",
    "retention.article.2 = update(retention.article.2, start = start_vals,\n",
    "                             control = glmerControl(optCtrl = list(maxfun = 2e4)))\n",
    "blas_set_num_threads(1)"
   ]
  },
  {
   "cell_type": "code",
   "execution_count": 61,
   "id": "53ecc304",
   "metadata": {},
   "outputs": [
    {
     "data": {
      "text/plain": [
       "Generalized linear mixed model fit by maximum likelihood (Laplace\n",
       "  Approximation) [glmerMod]\n",
       " Family: binomial  ( logit )\n",
       "Formula: is_retained_article ~ platform * Group + is_activated_article +  \n",
       "    log_num_article_edits_24hrs + (1 | wiki_db)\n",
       "   Data: user_data_train\n",
       "Control: glmerControl(optCtrl = list(maxfun = 20000))\n",
       "\n",
       "     AIC      BIC   logLik deviance df.resid \n",
       "   21841    21927   -10911    21823   104136 \n",
       "\n",
       "Scaled residuals: \n",
       "   Min     1Q Median     3Q    Max \n",
       "-3.800 -0.238  0.000  0.000  4.200 \n",
       "\n",
       "Random effects:\n",
       " Groups  Name        Variance Std.Dev.\n",
       " wiki_db (Intercept) 0.0128   0.113   \n",
       "Number of obs: 104145, groups:  wiki_db, 10\n",
       "\n",
       "Fixed effects:\n",
       "                                 Estimate Std. Error z value\n",
       "(Intercept)                      -21.3412     1.1945  -17.87\n",
       "platformmobile                    -0.4073     0.0816   -4.99\n",
       "GroupUnstructured                 -0.0615     0.0634   -0.97\n",
       "GroupAdd-a-link                   -0.0311     0.0628   -0.49\n",
       "is_activated_articleTRUE          18.2771     1.1935   15.31\n",
       "log_num_article_edits_24hrs        1.1515     0.0255   45.08\n",
       "platformmobile:GroupUnstructured   0.1123     0.0987    1.14\n",
       "platformmobile:GroupAdd-a-link     0.0284     0.0978    0.29\n",
       "                                             Pr(>|z|)    \n",
       "(Intercept)                      < 0.0000000000000002 ***\n",
       "platformmobile                             0.00000059 ***\n",
       "GroupUnstructured                                0.33    \n",
       "GroupAdd-a-link                                  0.62    \n",
       "is_activated_articleTRUE         < 0.0000000000000002 ***\n",
       "log_num_article_edits_24hrs      < 0.0000000000000002 ***\n",
       "platformmobile:GroupUnstructured                 0.26    \n",
       "platformmobile:GroupAdd-a-link                   0.77    \n",
       "---\n",
       "Signif. codes:  0 ‘***’ 0.001 ‘**’ 0.01 ‘*’ 0.05 ‘.’ 0.1 ‘ ’ 1\n",
       "\n",
       "Correlation of Fixed Effects:\n",
       "            (Intr) pltfrm GrpUns GrpA-- i__TRU l____2 plt:GU\n",
       "platformmbl -0.016                                          \n",
       "GrpUnstrctr -0.031  0.510                                   \n",
       "GrpAdd--lnk -0.026  0.515  0.665                            \n",
       "is_ctv_TRUE -0.998 -0.012 -0.004 -0.009                     \n",
       "lg_nm_r__24 -0.018 -0.011  0.006 -0.010 -0.010              \n",
       "pltfrmmb:GU  0.016 -0.803 -0.641 -0.426  0.007 -0.008       \n",
       "pltfrm:GA--  0.012 -0.811 -0.425 -0.641  0.010 -0.006  0.670"
      ]
     },
     "metadata": {},
     "output_type": "display_data"
    }
   ],
   "source": [
    "summary(retention.article.2)"
   ]
  },
  {
   "cell_type": "markdown",
   "id": "ea021282",
   "metadata": {},
   "source": [
    "No indication of an interaction effect here. The BIC is worse and none of the variables are significant."
   ]
  },
  {
   "cell_type": "code",
   "execution_count": 63,
   "id": "f7739b95",
   "metadata": {},
   "outputs": [
    {
     "name": "stderr",
     "output_type": "stream",
     "text": [
      "boundary (singular) fit: see ?isSingular\n",
      "\n"
     ]
    }
   ],
   "source": [
    "blas_set_num_threads(16)\n",
    "retention.article.3 <-\n",
    "    glmer(\n",
    "        formula = is_retained_article ~ platform + Group +\n",
    "                    is_activated_article + log_num_article_edits_24hrs +\n",
    "                    (1 + platform | wiki_db),\n",
    "        data = user_data_train,\n",
    "        family = binomial(link = \"logit\"))\n",
    "blas_set_num_threads(1)"
   ]
  },
  {
   "cell_type": "markdown",
   "id": "af4ae74c",
   "metadata": {},
   "source": [
    "This model is also singular, so we discard it."
   ]
  },
  {
   "cell_type": "code",
   "execution_count": 103,
   "id": "cfb05768",
   "metadata": {},
   "outputs": [
    {
     "name": "stderr",
     "output_type": "stream",
     "text": [
      "boundary (singular) fit: see ?isSingular\n",
      "\n"
     ]
    }
   ],
   "source": [
    "blas_set_num_threads(16)\n",
    "retention.article.4 <-\n",
    "    glmer(\n",
    "        formula = is_retained_article ~ platform + Group +\n",
    "                    is_activated_article + log_num_article_edits_24hrs +\n",
    "                    (1 + log_num_article_edits_24hrs | wiki_db),\n",
    "        data = user_data_train,\n",
    "        family = binomial(link = \"logit\"))\n",
    "blas_set_num_threads(1)"
   ]
  },
  {
   "cell_type": "markdown",
   "id": "8e0a0c23",
   "metadata": {},
   "source": [
    "This model is also singular, so we discard it too."
   ]
  },
  {
   "cell_type": "markdown",
   "id": "096c6922",
   "metadata": {},
   "source": [
    "### Constructive Retention Overall"
   ]
  },
  {
   "cell_type": "code",
   "execution_count": 80,
   "id": "a2e52cbe",
   "metadata": {},
   "outputs": [
    {
     "name": "stderr",
     "output_type": "stream",
     "text": [
      "Warning message in checkConv(attr(opt, \"derivs\"), opt$par, ctrl = control$checkConv, :\n",
      "“Model failed to converge with max|grad| = 0.00228826 (tol = 0.002, component 1)”\n"
     ]
    }
   ],
   "source": [
    "blas_set_num_threads(16)\n",
    "retention.constr.overall.1 <-\n",
    "    glmer(\n",
    "        formula = is_const_retained ~ platform + Group +\n",
    "                    is_const_activated + log_num_const_edits_24hrs +\n",
    "                    (1 | wiki_db),\n",
    "        data = user_data_train,\n",
    "        family = binomial(link = \"logit\"))\n",
    "blas_set_num_threads(1)"
   ]
  },
  {
   "cell_type": "code",
   "execution_count": 81,
   "id": "977d0850",
   "metadata": {},
   "outputs": [
    {
     "name": "stderr",
     "output_type": "stream",
     "text": [
      "Warning message in checkConv(attr(opt, \"derivs\"), opt$par, ctrl = control$checkConv, :\n",
      "“Model failed to converge with max|grad| = 0.00306622 (tol = 0.002, component 1)”\n"
     ]
    }
   ],
   "source": [
    "## If model didn't converge, restart and give it some more iterations:\n",
    "start_vals = getME(retention.constr.overall.1, c(\"theta\", \"fixef\"))\n",
    "blas_set_num_threads(16)\n",
    "retention.constr.overall.1 = update(retention.constr.overall.1, start = start_vals,\n",
    "                                    control = glmerControl(optCtrl = list(maxfun = 2e4)))\n",
    "blas_set_num_threads(1)"
   ]
  },
  {
   "cell_type": "code",
   "execution_count": 82,
   "id": "6ff14540",
   "metadata": {},
   "outputs": [],
   "source": [
    "blas_set_num_threads(16)\n",
    "retention.constr.overall.2 <-\n",
    "    glmer(\n",
    "        formula = is_const_retained ~ platform + Group +\n",
    "                    log_num_const_edits_24hrs + (1 | wiki_db),\n",
    "        data = user_data_train,\n",
    "        family = binomial(link = \"logit\"))\n",
    "blas_set_num_threads(1)"
   ]
  },
  {
   "cell_type": "code",
   "execution_count": 83,
   "id": "88e1245e",
   "metadata": {},
   "outputs": [
    {
     "data": {
      "text/plain": [
       "Generalized linear mixed model fit by maximum likelihood (Laplace\n",
       "  Approximation) [glmerMod]\n",
       " Family: binomial  ( logit )\n",
       "Formula: is_const_retained ~ platform + Group + log_num_const_edits_24hrs +  \n",
       "    (1 | wiki_db)\n",
       "   Data: user_data_train\n",
       "\n",
       "     AIC      BIC   logLik deviance df.resid \n",
       "   26854    26912   -13421    26842   104139 \n",
       "\n",
       "Scaled residuals: \n",
       "    Min      1Q  Median      3Q     Max \n",
       "-12.615  -0.178  -0.109  -0.093   6.012 \n",
       "\n",
       "Random effects:\n",
       " Groups  Name        Variance Std.Dev.\n",
       " wiki_db (Intercept) 0.0269   0.164   \n",
       "Number of obs: 104145, groups:  wiki_db, 10\n",
       "\n",
       "Fixed effects:\n",
       "                          Estimate Std. Error z value            Pr(>|z|)    \n",
       "(Intercept)                -4.3799     0.0725  -60.43 <0.0000000000000002 ***\n",
       "platformmobile             -0.3817     0.0371  -10.29 <0.0000000000000002 ***\n",
       "GroupUnstructured           0.0637     0.0469    1.36                0.17    \n",
       "GroupAdd-a-link             0.0213     0.0467    0.46                0.65    \n",
       "log_num_const_edits_24hrs   1.9360     0.0209   92.46 <0.0000000000000002 ***\n",
       "---\n",
       "Signif. codes:  0 ‘***’ 0.001 ‘**’ 0.01 ‘*’ 0.05 ‘.’ 0.1 ‘ ’ 1\n",
       "\n",
       "Correlation of Fixed Effects:\n",
       "            (Intr) pltfrm GrpUns GrpA--\n",
       "platformmbl -0.200                     \n",
       "GrpUnstrctr -0.432 -0.002              \n",
       "GrpAdd--lnk -0.420 -0.016  0.661       \n",
       "lg_nm_c__24 -0.343  0.020  0.021 -0.010"
      ]
     },
     "metadata": {},
     "output_type": "display_data"
    }
   ],
   "source": [
    "summary(retention.constr.overall.2)"
   ]
  },
  {
   "cell_type": "code",
   "execution_count": 84,
   "id": "c00f59b6",
   "metadata": {},
   "outputs": [],
   "source": [
    "blas_set_num_threads(16)\n",
    "retention.constr.overall.3 <-\n",
    "    glmer(\n",
    "        formula = is_const_retained ~ platform * Group +\n",
    "                    log_num_const_edits_24hrs + (1 | wiki_db),\n",
    "        data = user_data_train,\n",
    "        family = binomial(link = \"logit\"))\n",
    "blas_set_num_threads(1)"
   ]
  },
  {
   "cell_type": "code",
   "execution_count": 85,
   "id": "0d0d6e5c",
   "metadata": {},
   "outputs": [
    {
     "data": {
      "text/plain": [
       "Generalized linear mixed model fit by maximum likelihood (Laplace\n",
       "  Approximation) [glmerMod]\n",
       " Family: binomial  ( logit )\n",
       "Formula: is_const_retained ~ platform * Group + log_num_const_edits_24hrs +  \n",
       "    (1 | wiki_db)\n",
       "   Data: user_data_train\n",
       "\n",
       "     AIC      BIC   logLik deviance df.resid \n",
       "   26857    26933   -13420    26841   104137 \n",
       "\n",
       "Scaled residuals: \n",
       "    Min      1Q  Median      3Q     Max \n",
       "-12.708  -0.177  -0.109  -0.092   6.075 \n",
       "\n",
       "Random effects:\n",
       " Groups  Name        Variance Std.Dev.\n",
       " wiki_db (Intercept) 0.0269   0.164   \n",
       "Number of obs: 104145, groups:  wiki_db, 10\n",
       "\n",
       "Fixed effects:\n",
       "                                 Estimate Std. Error z value\n",
       "(Intercept)                      -4.36586    0.07738  -56.42\n",
       "platformmobile                   -0.41684    0.07850   -5.31\n",
       "GroupUnstructured                 0.02869    0.06033    0.48\n",
       "GroupAdd-a-link                   0.02078    0.06002    0.35\n",
       "log_num_const_edits_24hrs         1.93606    0.02094   92.47\n",
       "platformmobile:GroupUnstructured  0.08746    0.09530    0.92\n",
       "platformmobile:GroupAdd-a-link    0.00202    0.09468    0.02\n",
       "                                             Pr(>|z|)    \n",
       "(Intercept)                      < 0.0000000000000002 ***\n",
       "platformmobile                             0.00000011 ***\n",
       "GroupUnstructured                                0.63    \n",
       "GroupAdd-a-link                                  0.73    \n",
       "log_num_const_edits_24hrs        < 0.0000000000000002 ***\n",
       "platformmobile:GroupUnstructured                 0.36    \n",
       "platformmobile:GroupAdd-a-link                   0.98    \n",
       "---\n",
       "Signif. codes:  0 ‘***’ 0.001 ‘**’ 0.01 ‘*’ 0.05 ‘.’ 0.1 ‘ ’ 1\n",
       "\n",
       "Correlation of Fixed Effects:\n",
       "            (Intr) pltfrm GrpUns GrpA-- l____2 plt:GU\n",
       "platformmbl -0.399                                   \n",
       "GrpUnstrctr -0.514  0.497                            \n",
       "GrpAdd--lnk -0.509  0.497  0.656                     \n",
       "lg_nm_c__24 -0.324  0.018  0.018  0.000              \n",
       "pltfrmmb:GU  0.320 -0.801 -0.628 -0.410 -0.004       \n",
       "pltfrm:GA--  0.324 -0.805 -0.411 -0.627 -0.013  0.661"
      ]
     },
     "metadata": {},
     "output_type": "display_data"
    }
   ],
   "source": [
    "summary(retention.constr.overall.3)"
   ]
  },
  {
   "cell_type": "markdown",
   "id": "1e1f54e4",
   "metadata": {},
   "source": [
    "No indication of interaction here either. BIC is worse and the estimates are not different from 0."
   ]
  },
  {
   "cell_type": "code",
   "execution_count": 86,
   "id": "6fe91bbb",
   "metadata": {},
   "outputs": [],
   "source": [
    "blas_set_num_threads(16)\n",
    "retention.constr.overall.4 <-\n",
    "    glmer(\n",
    "        formula = is_const_retained ~ platform + Group +\n",
    "                    log_num_const_edits_24hrs + (1 + platform | wiki_db),\n",
    "        data = user_data_train,\n",
    "        family = binomial(link = \"logit\"))\n",
    "blas_set_num_threads(1)"
   ]
  },
  {
   "cell_type": "code",
   "execution_count": 87,
   "id": "6a48e6d0",
   "metadata": {},
   "outputs": [
    {
     "data": {
      "text/plain": [
       "Generalized linear mixed model fit by maximum likelihood (Laplace\n",
       "  Approximation) [glmerMod]\n",
       " Family: binomial  ( logit )\n",
       "Formula: is_const_retained ~ platform + Group + log_num_const_edits_24hrs +  \n",
       "    (1 + platform | wiki_db)\n",
       "   Data: user_data_train\n",
       "\n",
       "     AIC      BIC   logLik deviance df.resid \n",
       "   26855    26932   -13420    26839   104137 \n",
       "\n",
       "Scaled residuals: \n",
       "    Min      1Q  Median      3Q     Max \n",
       "-12.283  -0.172  -0.109  -0.092   6.063 \n",
       "\n",
       "Random effects:\n",
       " Groups  Name           Variance Std.Dev. Corr\n",
       " wiki_db (Intercept)    0.0213   0.146        \n",
       "         platformmobile 0.0148   0.122    0.44\n",
       "Number of obs: 104145, groups:  wiki_db, 10\n",
       "\n",
       "Fixed effects:\n",
       "                          Estimate Std. Error z value             Pr(>|z|)    \n",
       "(Intercept)                -4.3918     0.0700  -62.72 < 0.0000000000000002 ***\n",
       "platformmobile             -0.3492     0.0592   -5.90         0.0000000037 ***\n",
       "GroupUnstructured           0.0644     0.0469    1.37                 0.17    \n",
       "GroupAdd-a-link             0.0218     0.0467    0.47                 0.64    \n",
       "log_num_const_edits_24hrs   1.9358     0.0209   92.44 < 0.0000000000000002 ***\n",
       "---\n",
       "Signif. codes:  0 ‘***’ 0.001 ‘**’ 0.01 ‘*’ 0.05 ‘.’ 0.1 ‘ ’ 1\n",
       "\n",
       "Correlation of Fixed Effects:\n",
       "            (Intr) pltfrm GrpUns GrpA--\n",
       "platformmbl  0.000                     \n",
       "GrpUnstrctr -0.452  0.004              \n",
       "GrpAdd--lnk -0.434 -0.009  0.661       \n",
       "lg_nm_c__24 -0.359  0.019  0.021 -0.010"
      ]
     },
     "metadata": {},
     "output_type": "display_data"
    }
   ],
   "source": [
    "summary(retention.constr.overall.4)"
   ]
  },
  {
   "cell_type": "markdown",
   "id": "64b37e5d",
   "metadata": {},
   "source": [
    "The model is not singular, suggesting there is variation around the popuplation level mean for `platform`. The BIC is worse, indicating that there isn't enough variation to warrant the added complexity. Hence we discard this model too."
   ]
  },
  {
   "cell_type": "code",
   "execution_count": 88,
   "id": "8b740f3f",
   "metadata": {},
   "outputs": [
    {
     "name": "stderr",
     "output_type": "stream",
     "text": [
      "boundary (singular) fit: see ?isSingular\n",
      "\n"
     ]
    }
   ],
   "source": [
    "blas_set_num_threads(16)\n",
    "retention.constr.overall.5 <-\n",
    "    glmer(\n",
    "        formula = is_const_retained ~ platform + Group +\n",
    "                    log_num_const_edits_24hrs + (1 + Group | wiki_db),\n",
    "        data = user_data_train,\n",
    "        family = binomial(link = \"logit\"))\n",
    "blas_set_num_threads(1)"
   ]
  },
  {
   "cell_type": "markdown",
   "id": "60c7560d",
   "metadata": {},
   "source": [
    "That model is, unsurprisingly, singular, so we discard it."
   ]
  },
  {
   "cell_type": "code",
   "execution_count": 89,
   "id": "a5bbb380",
   "metadata": {},
   "outputs": [],
   "source": [
    "blas_set_num_threads(16)\n",
    "retention.constr.overall.6 <-\n",
    "    glmer(\n",
    "        formula = is_const_retained ~ platform + Group +\n",
    "                    log_num_const_edits_24hrs + (1 + log_num_const_edits_24hrs | wiki_db),\n",
    "        data = user_data_train,\n",
    "        family = binomial(link = \"logit\"))\n",
    "blas_set_num_threads(1)"
   ]
  },
  {
   "cell_type": "code",
   "execution_count": 90,
   "id": "4dce2257",
   "metadata": {},
   "outputs": [
    {
     "data": {
      "text/plain": [
       "Generalized linear mixed model fit by maximum likelihood (Laplace\n",
       "  Approximation) [glmerMod]\n",
       " Family: binomial  ( logit )\n",
       "Formula: is_const_retained ~ platform + Group + log_num_const_edits_24hrs +  \n",
       "    (1 + log_num_const_edits_24hrs | wiki_db)\n",
       "   Data: user_data_train\n",
       "\n",
       "     AIC      BIC   logLik deviance df.resid \n",
       "   26825    26901   -13404    26809   104137 \n",
       "\n",
       "Scaled residuals: \n",
       "    Min      1Q  Median      3Q     Max \n",
       "-12.723  -0.174  -0.106  -0.088   5.973 \n",
       "\n",
       "Random effects:\n",
       " Groups  Name                      Variance Std.Dev. Corr \n",
       " wiki_db (Intercept)               0.0671   0.259         \n",
       "         log_num_const_edits_24hrs 0.0227   0.151    -0.80\n",
       "Number of obs: 104145, groups:  wiki_db, 10\n",
       "\n",
       "Fixed effects:\n",
       "                          Estimate Std. Error z value            Pr(>|z|)    \n",
       "(Intercept)                -4.3525     0.0992  -43.88 <0.0000000000000002 ***\n",
       "platformmobile             -0.3830     0.0371  -10.34 <0.0000000000000002 ***\n",
       "GroupUnstructured           0.0672     0.0470    1.43                0.15    \n",
       "GroupAdd-a-link             0.0236     0.0468    0.50                0.61    \n",
       "log_num_const_edits_24hrs   1.9162     0.0555   34.52 <0.0000000000000002 ***\n",
       "---\n",
       "Signif. codes:  0 ‘***’ 0.001 ‘**’ 0.01 ‘*’ 0.05 ‘.’ 0.1 ‘ ’ 1\n",
       "\n",
       "Correlation of Fixed Effects:\n",
       "            (Intr) pltfrm GrpUns GrpA--\n",
       "platformmbl -0.149                     \n",
       "GrpUnstrctr -0.318 -0.001              \n",
       "GrpAdd--lnk -0.310 -0.014  0.663       \n",
       "lg_nm_c__24 -0.748  0.010  0.007 -0.003"
      ]
     },
     "metadata": {},
     "output_type": "display_data"
    }
   ],
   "source": [
    "summary(retention.constr.overall.6)"
   ]
  },
  {
   "cell_type": "markdown",
   "id": "3f193152",
   "metadata": {},
   "source": [
    "This model suggests there *is* variation in the effect of first day activity on overall constructive retention, and based on the BIC this is a meaningful improvement of the model. We therefore keep Model 6 moving forward.\n",
    "\n",
    "### Constructive Article Retention"
   ]
  },
  {
   "cell_type": "code",
   "execution_count": 123,
   "id": "3d1f9573",
   "metadata": {},
   "outputs": [],
   "source": [
    "blas_set_num_threads(16)\n",
    "retention.constr.article.1 <-\n",
    "    glmer(\n",
    "        formula = is_const_retained_article ~ platform + Group +\n",
    "                    is_const_activated_article + log_num_const_article_edits_24hrs +\n",
    "                    (1 | wiki_db),\n",
    "        data = user_data_train,\n",
    "        family = binomial(link = \"logit\"))\n",
    "blas_set_num_threads(1)"
   ]
  },
  {
   "cell_type": "code",
   "execution_count": 124,
   "id": "dc908263",
   "metadata": {},
   "outputs": [
    {
     "data": {
      "text/plain": [
       "Generalized linear mixed model fit by maximum likelihood (Laplace\n",
       "  Approximation) [glmerMod]\n",
       " Family: binomial  ( logit )\n",
       "Formula: \n",
       "is_const_retained_article ~ platform + Group + is_const_activated_article +  \n",
       "    log_num_const_article_edits_24hrs + (1 | wiki_db)\n",
       "   Data: user_data_train\n",
       "\n",
       "     AIC      BIC   logLik deviance df.resid \n",
       "   17349    17416    -8668    17335   104138 \n",
       "\n",
       "Scaled residuals: \n",
       "   Min     1Q Median     3Q    Max \n",
       " -3.54   0.00   0.00   0.00   3.99 \n",
       "\n",
       "Random effects:\n",
       " Groups  Name        Variance Std.Dev.\n",
       " wiki_db (Intercept) 0.0123   0.111   \n",
       "Number of obs: 104145, groups:  wiki_db, 10\n",
       "\n",
       "Fixed effects:\n",
       "                                  Estimate Std. Error z value\n",
       "(Intercept)                       -22.3706     3.3051   -6.77\n",
       "platformmobile                     -0.3262     0.0431   -7.57\n",
       "GroupUnstructured                   0.0236     0.0548    0.43\n",
       "GroupAdd-a-link                    -0.0333     0.0542   -0.61\n",
       "is_const_activated_articleTRUE     19.2702     3.3060    5.83\n",
       "log_num_const_article_edits_24hrs   1.2058     0.0293   41.13\n",
       "                                              Pr(>|z|)    \n",
       "(Intercept)                          0.000000000013011 ***\n",
       "platformmobile                       0.000000000000038 ***\n",
       "GroupUnstructured                                 0.67    \n",
       "GroupAdd-a-link                                   0.54    \n",
       "is_const_activated_articleTRUE       0.000000005583594 ***\n",
       "log_num_const_article_edits_24hrs < 0.0000000000000002 ***\n",
       "---\n",
       "Signif. codes:  0 ‘***’ 0.001 ‘**’ 0.01 ‘*’ 0.05 ‘.’ 0.1 ‘ ’ 1\n",
       "\n",
       "Correlation of Fixed Effects:\n",
       "            (Intr) pltfrm GrpUns GrpA-- i___TR\n",
       "platformmbl -0.003                            \n",
       "GrpUnstrctr  0.005  0.004                     \n",
       "GrpAdd--lnk  0.008 -0.018  0.673              \n",
       "is_cn__TRUE -1.000 -0.002 -0.016 -0.019       \n",
       "lg_nm____24 -0.002 -0.011  0.014 -0.017 -0.009"
      ]
     },
     "metadata": {},
     "output_type": "display_data"
    }
   ],
   "source": [
    "summary(retention.constr.article.1)"
   ]
  },
  {
   "cell_type": "code",
   "execution_count": 125,
   "id": "a62a6b28",
   "metadata": {},
   "outputs": [
    {
     "name": "stderr",
     "output_type": "stream",
     "text": [
      "Warning message in checkConv(attr(opt, \"derivs\"), opt$par, ctrl = control$checkConv, :\n",
      "“unable to evaluate scaled gradient”\n",
      "Warning message in checkConv(attr(opt, \"derivs\"), opt$par, ctrl = control$checkConv, :\n",
      "“Model failed to converge: degenerate  Hessian with 1 negative eigenvalues”\n"
     ]
    }
   ],
   "source": [
    "blas_set_num_threads(16)\n",
    "retention.constr.article.2 <-\n",
    "    glmer(\n",
    "        formula = is_const_retained_article ~ platform * Group +\n",
    "                    is_const_activated_article + log_num_const_article_edits_24hrs +\n",
    "                    (1 | wiki_db),\n",
    "        data = user_data_train,\n",
    "        family = binomial(link = \"logit\"))\n",
    "blas_set_num_threads(1)"
   ]
  },
  {
   "cell_type": "code",
   "execution_count": 126,
   "id": "40004bfb",
   "metadata": {},
   "outputs": [],
   "source": [
    "## If model didn't converge, restart and give it some more iterations:\n",
    "start_vals = getME(retention.constr.article.2, c(\"theta\", \"fixef\"))\n",
    "blas_set_num_threads(16)\n",
    "retention.constr.article.2 = update(retention.constr.article.2, start = start_vals,\n",
    "                                    control = glmerControl(optCtrl = list(maxfun = 2e4)))\n",
    "blas_set_num_threads(1)"
   ]
  },
  {
   "cell_type": "code",
   "execution_count": 127,
   "id": "09c44674",
   "metadata": {},
   "outputs": [
    {
     "data": {
      "text/plain": [
       "Generalized linear mixed model fit by maximum likelihood (Laplace\n",
       "  Approximation) [glmerMod]\n",
       " Family: binomial  ( logit )\n",
       "Formula: \n",
       "is_const_retained_article ~ platform * Group + is_const_activated_article +  \n",
       "    log_num_const_article_edits_24hrs + (1 | wiki_db)\n",
       "   Data: user_data_train\n",
       "Control: glmerControl(optCtrl = list(maxfun = 20000))\n",
       "\n",
       "     AIC      BIC   logLik deviance df.resid \n",
       "   17350    17436    -8666    17332   104136 \n",
       "\n",
       "Scaled residuals: \n",
       "   Min     1Q Median     3Q    Max \n",
       " -3.55   0.00   0.00   0.00   4.08 \n",
       "\n",
       "Random effects:\n",
       " Groups  Name        Variance Std.Dev.\n",
       " wiki_db (Intercept) 0.0122   0.111   \n",
       "Number of obs: 104145, groups:  wiki_db, 10\n",
       "\n",
       "Fixed effects:\n",
       "                                  Estimate Std. Error z value\n",
       "(Intercept)                       -22.3681     2.2905   -9.77\n",
       "platformmobile                     -0.3427     0.0941   -3.64\n",
       "GroupUnstructured                  -0.0157     0.0687   -0.23\n",
       "GroupAdd-a-link                    -0.0103     0.0680   -0.15\n",
       "is_const_activated_articleTRUE     19.2735     2.2899    8.42\n",
       "log_num_const_article_edits_24hrs   1.2059     0.0293   41.13\n",
       "platformmobile:GroupUnstructured    0.1078     0.1138    0.95\n",
       "platformmobile:GroupAdd-a-link     -0.0592     0.1125   -0.53\n",
       "                                              Pr(>|z|)    \n",
       "(Intercept)                       < 0.0000000000000002 ***\n",
       "platformmobile                                 0.00027 ***\n",
       "GroupUnstructured                              0.81953    \n",
       "GroupAdd-a-link                                0.87938    \n",
       "is_const_activated_articleTRUE    < 0.0000000000000002 ***\n",
       "log_num_const_article_edits_24hrs < 0.0000000000000002 ***\n",
       "platformmobile:GroupUnstructured               0.34359    \n",
       "platformmobile:GroupAdd-a-link                 0.59844    \n",
       "---\n",
       "Signif. codes:  0 ‘***’ 0.001 ‘**’ 0.01 ‘*’ 0.05 ‘.’ 0.1 ‘ ’ 1\n",
       "\n",
       "Correlation of Fixed Effects:\n",
       "            (Intr) pltfrm GrpUns GrpA-- i___TR l_____ plt:GU\n",
       "platformmbl -0.012                                          \n",
       "GrpUnstrctr -0.017  0.483                                   \n",
       "GrpAdd--lnk -0.015  0.488  0.669                            \n",
       "is_cn__TRUE -0.999 -0.003 -0.003 -0.005                     \n",
       "lg_nm____24 -0.011  0.004  0.014 -0.006 -0.006              \n",
       "pltfrmmb:GU  0.010 -0.809 -0.603 -0.403  0.002 -0.006       \n",
       "pltfrm:GA--  0.012 -0.819 -0.404 -0.604  0.001 -0.012  0.677"
      ]
     },
     "metadata": {},
     "output_type": "display_data"
    }
   ],
   "source": [
    "summary(retention.constr.article.2)"
   ]
  },
  {
   "cell_type": "markdown",
   "id": "a4b22ca9",
   "metadata": {},
   "source": [
    "No indications of interactions here."
   ]
  },
  {
   "cell_type": "code",
   "execution_count": 128,
   "id": "202c1e09",
   "metadata": {},
   "outputs": [
    {
     "name": "stderr",
     "output_type": "stream",
     "text": [
      "boundary (singular) fit: see ?isSingular\n",
      "\n"
     ]
    }
   ],
   "source": [
    "blas_set_num_threads(16)\n",
    "retention.constr.article.3 <-\n",
    "    glmer(\n",
    "        formula = is_const_retained_article ~ platform + Group +\n",
    "                    is_const_activated_article + log_num_const_article_edits_24hrs +\n",
    "                    (1 + platform | wiki_db),\n",
    "        data = user_data_train,\n",
    "        family = binomial(link = \"logit\"))\n",
    "blas_set_num_threads(1)"
   ]
  },
  {
   "cell_type": "code",
   "execution_count": 130,
   "id": "f6ff78d6",
   "metadata": {},
   "outputs": [
    {
     "name": "stderr",
     "output_type": "stream",
     "text": [
      "Warning message in checkConv(attr(opt, \"derivs\"), opt$par, ctrl = control$checkConv, :\n",
      "“Model failed to converge with max|grad| = 0.0075024 (tol = 0.002, component 1)”\n"
     ]
    }
   ],
   "source": [
    "blas_set_num_threads(16)\n",
    "retention.constr.article.4 <-\n",
    "    glmer(\n",
    "        formula = is_const_retained_article ~ platform + Group +\n",
    "                    is_const_activated_article + log_num_const_article_edits_24hrs +\n",
    "                    (1 + Group | wiki_db),\n",
    "        data = user_data_train,\n",
    "        family = binomial(link = \"logit\"))\n",
    "blas_set_num_threads(1)"
   ]
  },
  {
   "cell_type": "code",
   "execution_count": 131,
   "id": "120bb6a3",
   "metadata": {},
   "outputs": [
    {
     "name": "stderr",
     "output_type": "stream",
     "text": [
      "boundary (singular) fit: see ?isSingular\n",
      "\n"
     ]
    }
   ],
   "source": [
    "## If model didn't converge, restart and give it some more iterations:\n",
    "start_vals = getME(retention.constr.article.4, c(\"theta\", \"fixef\"))\n",
    "blas_set_num_threads(16)\n",
    "retention.constr.article.4 = update(retention.constr.article.4, start = start_vals,\n",
    "                                    control = glmerControl(optCtrl = list(maxfun = 2e4)))\n",
    "blas_set_num_threads(1)"
   ]
  },
  {
   "cell_type": "code",
   "execution_count": 132,
   "id": "5d5bc2cf",
   "metadata": {},
   "outputs": [
    {
     "name": "stderr",
     "output_type": "stream",
     "text": [
      "boundary (singular) fit: see ?isSingular\n",
      "\n"
     ]
    }
   ],
   "source": [
    "blas_set_num_threads(16)\n",
    "retention.constr.article.5 <-\n",
    "    glmer(\n",
    "        formula = is_const_retained_article ~ platform + Group +\n",
    "                    is_const_activated_article + log_num_const_article_edits_24hrs +\n",
    "                    (1 + log_num_const_article_edits_24hrs | wiki_db),\n",
    "        data = user_data_train,\n",
    "        family = binomial(link = \"logit\"))\n",
    "blas_set_num_threads(1)"
   ]
  },
  {
   "cell_type": "markdown",
   "id": "352c76a1",
   "metadata": {},
   "source": [
    "All of these are singular, so we discard them and stick with Model 1."
   ]
  },
  {
   "cell_type": "markdown",
   "id": "7b31c1cd",
   "metadata": {},
   "source": [
    "## Models on the Full Dataset\n",
    "\n",
    "### Overall Retention"
   ]
  },
  {
   "cell_type": "code",
   "execution_count": 74,
   "id": "a1573dd2",
   "metadata": {},
   "outputs": [],
   "source": [
    "blas_set_num_threads(16)\n",
    "retention.overall.full <-\n",
    "    glmer(\n",
    "        formula = is_retained ~ platform + Group + is_activated + log_num_edits_24hrs +\n",
    "                    (1 | wiki_db),\n",
    "        data = user_edit_data,\n",
    "        family = binomial(link = \"logit\"))\n",
    "blas_set_num_threads(1)"
   ]
  },
  {
   "cell_type": "code",
   "execution_count": 75,
   "id": "6256ffba",
   "metadata": {},
   "outputs": [
    {
     "data": {
      "text/plain": [
       "Generalized linear mixed model fit by maximum likelihood (Laplace\n",
       "  Approximation) [glmerMod]\n",
       " Family: binomial  ( logit )\n",
       "Formula: is_retained ~ platform + Group + is_activated + log_num_edits_24hrs +  \n",
       "    (1 | wiki_db)\n",
       "   Data: user_edit_data\n",
       "\n",
       "     AIC      BIC   logLik deviance df.resid \n",
       "   36135    36204   -18061    36121   130172 \n",
       "\n",
       "Scaled residuals: \n",
       "   Min     1Q Median     3Q    Max \n",
       "-5.019 -0.272  0.000  0.000  4.161 \n",
       "\n",
       "Random effects:\n",
       " Groups  Name        Variance Std.Dev.\n",
       " wiki_db (Intercept) 0.0149   0.122   \n",
       "Number of obs: 130179, groups:  wiki_db, 10\n",
       "\n",
       "Fixed effects:\n",
       "                     Estimate Std. Error z value            Pr(>|z|)    \n",
       "(Intercept)         -20.37287    1.01232  -20.12 <0.0000000000000002 ***\n",
       "platformmobile       -0.39002    0.02944  -13.25 <0.0000000000000002 ***\n",
       "GroupUnstructured     0.03445    0.03742    0.92                0.36    \n",
       "GroupAdd-a-link       0.00991    0.03725    0.27                0.79    \n",
       "is_activatedTRUE     17.29762    1.01187   17.09 <0.0000000000000002 ***\n",
       "log_num_edits_24hrs   1.13166    0.01974   57.32 <0.0000000000000002 ***\n",
       "---\n",
       "Signif. codes:  0 ‘***’ 0.001 ‘**’ 0.01 ‘*’ 0.05 ‘.’ 0.1 ‘ ’ 1\n",
       "\n",
       "Correlation of Fixed Effects:\n",
       "            (Intr) pltfrm GrpUns GrpA-- i_TRUE\n",
       "platformmbl -0.005                            \n",
       "GrpUnstrctr -0.020  0.007                     \n",
       "GrpAdd--lnk -0.015  0.001  0.662              \n",
       "is_ctvtTRUE -0.998 -0.007 -0.004 -0.009       \n",
       "lg_nm_dt_24 -0.016 -0.010  0.010 -0.011 -0.011"
      ]
     },
     "metadata": {},
     "output_type": "display_data"
    }
   ],
   "source": [
    "summary(retention.overall.full)"
   ]
  },
  {
   "cell_type": "code",
   "execution_count": 76,
   "id": "52e80904",
   "metadata": {},
   "outputs": [],
   "source": [
    "blas_set_num_threads(16)\n",
    "retention.overall.full.growth <-\n",
    "    glmer(\n",
    "        formula = is_retained ~ platform + Group + is_activated + log_num_edits_24hrs +\n",
    "                    (1 | wiki_db),\n",
    "        data = user_edit_data[user_edit_data$Group != 'Control',],\n",
    "        family = binomial(link = \"logit\"))\n",
    "blas_set_num_threads(1)"
   ]
  },
  {
   "cell_type": "code",
   "execution_count": 77,
   "id": "30942041",
   "metadata": {},
   "outputs": [
    {
     "data": {
      "text/plain": [
       "Generalized linear mixed model fit by maximum likelihood (Laplace\n",
       "  Approximation) [glmerMod]\n",
       " Family: binomial  ( logit )\n",
       "Formula: is_retained ~ platform + Group + is_activated + log_num_edits_24hrs +  \n",
       "    (1 | wiki_db)\n",
       "   Data: user_edit_data[user_edit_data$Group != \"Control\", ]\n",
       "\n",
       "     AIC      BIC   logLik deviance df.resid \n",
       "   28680    28737   -14334    28668   102837 \n",
       "\n",
       "Scaled residuals: \n",
       "   Min     1Q Median     3Q    Max \n",
       "-5.196 -0.271  0.000  0.000  4.147 \n",
       "\n",
       "Random effects:\n",
       " Groups  Name        Variance Std.Dev.\n",
       " wiki_db (Intercept) 0.0128   0.113   \n",
       "Number of obs: 102843, groups:  wiki_db, 10\n",
       "\n",
       "Fixed effects:\n",
       "                    Estimate Std. Error z value            Pr(>|z|)    \n",
       "(Intercept)         -20.3450     0.7881  -25.82 <0.0000000000000002 ***\n",
       "platformmobile       -0.3772     0.0329  -11.45 <0.0000000000000002 ***\n",
       "GroupAdd-a-link      -0.0254     0.0307   -0.83                0.41    \n",
       "is_activatedTRUE     17.2707     0.7876   21.93 <0.0000000000000002 ***\n",
       "log_num_edits_24hrs   1.1486     0.0221   51.94 <0.0000000000000002 ***\n",
       "---\n",
       "Signif. codes:  0 ‘***’ 0.001 ‘**’ 0.01 ‘*’ 0.05 ‘.’ 0.1 ‘ ’ 1\n",
       "\n",
       "Correlation of Fixed Effects:\n",
       "            (Intr) pltfrm GrpA-- i_TRUE\n",
       "platformmbl -0.020                     \n",
       "GrpAdd--lnk -0.010 -0.007              \n",
       "is_ctvtTRUE -0.998  0.003 -0.008       \n",
       "lg_nm_dt_24 -0.019 -0.015 -0.028 -0.019"
      ]
     },
     "metadata": {},
     "output_type": "display_data"
    }
   ],
   "source": [
    "summary(retention.overall.full.growth)"
   ]
  },
  {
   "cell_type": "code",
   "execution_count": 64,
   "id": "bd43bec7",
   "metadata": {},
   "outputs": [
    {
     "data": {
      "text/html": [
       "<table>\n",
       "<caption>A grouped_df: 6 × 5</caption>\n",
       "<thead>\n",
       "\t<tr><th scope=col>Group</th><th scope=col>is_retained</th><th scope=col>n</th><th scope=col>perc</th><th scope=col>rounded_perc</th></tr>\n",
       "\t<tr><th scope=col>&lt;fct&gt;</th><th scope=col>&lt;lgl&gt;</th><th scope=col>&lt;int&gt;</th><th scope=col>&lt;dbl&gt;</th><th scope=col>&lt;dbl&gt;</th></tr>\n",
       "</thead>\n",
       "<tbody>\n",
       "\t<tr><td>Control     </td><td>FALSE</td><td>25953</td><td>94.94</td><td>94.9</td></tr>\n",
       "\t<tr><td>Control     </td><td> TRUE</td><td> 1383</td><td> 5.06</td><td> 5.1</td></tr>\n",
       "\t<tr><td>Unstructured</td><td>FALSE</td><td>48801</td><td>94.80</td><td>94.8</td></tr>\n",
       "\t<tr><td>Unstructured</td><td> TRUE</td><td> 2678</td><td> 5.20</td><td> 5.2</td></tr>\n",
       "\t<tr><td>Add-a-link  </td><td>FALSE</td><td>48586</td><td>94.59</td><td>94.6</td></tr>\n",
       "\t<tr><td>Add-a-link  </td><td> TRUE</td><td> 2778</td><td> 5.41</td><td> 5.4</td></tr>\n",
       "</tbody>\n",
       "</table>\n"
      ],
      "text/latex": [
       "A grouped\\_df: 6 × 5\n",
       "\\begin{tabular}{lllll}\n",
       " Group & is\\_retained & n & perc & rounded\\_perc\\\\\n",
       " <fct> & <lgl> & <int> & <dbl> & <dbl>\\\\\n",
       "\\hline\n",
       "\t Control      & FALSE & 25953 & 94.94 & 94.9\\\\\n",
       "\t Control      &  TRUE &  1383 &  5.06 &  5.1\\\\\n",
       "\t Unstructured & FALSE & 48801 & 94.80 & 94.8\\\\\n",
       "\t Unstructured &  TRUE &  2678 &  5.20 &  5.2\\\\\n",
       "\t Add-a-link   & FALSE & 48586 & 94.59 & 94.6\\\\\n",
       "\t Add-a-link   &  TRUE &  2778 &  5.41 &  5.4\\\\\n",
       "\\end{tabular}\n"
      ],
      "text/markdown": [
       "\n",
       "A grouped_df: 6 × 5\n",
       "\n",
       "| Group &lt;fct&gt; | is_retained &lt;lgl&gt; | n &lt;int&gt; | perc &lt;dbl&gt; | rounded_perc &lt;dbl&gt; |\n",
       "|---|---|---|---|---|\n",
       "| Control      | FALSE | 25953 | 94.94 | 94.9 |\n",
       "| Control      |  TRUE |  1383 |  5.06 |  5.1 |\n",
       "| Unstructured | FALSE | 48801 | 94.80 | 94.8 |\n",
       "| Unstructured |  TRUE |  2678 |  5.20 |  5.2 |\n",
       "| Add-a-link   | FALSE | 48586 | 94.59 | 94.6 |\n",
       "| Add-a-link   |  TRUE |  2778 |  5.41 |  5.4 |\n",
       "\n"
      ],
      "text/plain": [
       "  Group        is_retained n     perc  rounded_perc\n",
       "1 Control      FALSE       25953 94.94 94.9        \n",
       "2 Control       TRUE        1383  5.06  5.1        \n",
       "3 Unstructured FALSE       48801 94.80 94.8        \n",
       "4 Unstructured  TRUE        2678  5.20  5.2        \n",
       "5 Add-a-link   FALSE       48586 94.59 94.6        \n",
       "6 Add-a-link    TRUE        2778  5.41  5.4        "
      ]
     },
     "metadata": {},
     "output_type": "display_data"
    }
   ],
   "source": [
    "# Aggregate across the entire dataset the proportion of registrations retained\n",
    "retention.overall.agg <- user_edit_data %>%\n",
    "    group_by(Group, is_retained) %>%\n",
    "    summarize(n = n(), .groups = 'keep') %>%\n",
    "    group_by(Group) %>%\n",
    "    mutate(perc = 100 * n / sum(n), rounded_perc = round(100 * n / sum(n), 1))\n",
    "retention.overall.agg"
   ]
  },
  {
   "cell_type": "code",
   "execution_count": 65,
   "id": "7c1bc2af",
   "metadata": {},
   "outputs": [
    {
     "data": {
      "text/html": [
       "<table>\n",
       "<caption>A data.frame: 1 × 1</caption>\n",
       "<thead>\n",
       "\t<tr><th scope=col>perc</th></tr>\n",
       "\t<tr><th scope=col>&lt;dbl&gt;</th></tr>\n",
       "</thead>\n",
       "<tbody>\n",
       "\t<tr><td>0.1</td></tr>\n",
       "</tbody>\n",
       "</table>\n"
      ],
      "text/latex": [
       "A data.frame: 1 × 1\n",
       "\\begin{tabular}{l}\n",
       " perc\\\\\n",
       " <dbl>\\\\\n",
       "\\hline\n",
       "\t 0.1\\\\\n",
       "\\end{tabular}\n"
      ],
      "text/markdown": [
       "\n",
       "A data.frame: 1 × 1\n",
       "\n",
       "| perc &lt;dbl&gt; |\n",
       "|---|\n",
       "| 0.1 |\n",
       "\n"
      ],
      "text/plain": [
       "  perc\n",
       "1 0.1 "
      ]
     },
     "metadata": {},
     "output_type": "display_data"
    }
   ],
   "source": [
    "## Calculate increase in percent\n",
    "round(retention.overall.agg[4, \"perc\"] - retention.overall.agg[2, \"perc\"], 1)"
   ]
  },
  {
   "cell_type": "code",
   "execution_count": 66,
   "id": "b1687292",
   "metadata": {},
   "outputs": [
    {
     "data": {
      "text/html": [
       "<table>\n",
       "<caption>A data.frame: 1 × 1</caption>\n",
       "<thead>\n",
       "\t<tr><th scope=col>perc</th></tr>\n",
       "\t<tr><th scope=col>&lt;dbl&gt;</th></tr>\n",
       "</thead>\n",
       "<tbody>\n",
       "\t<tr><td>2.8</td></tr>\n",
       "</tbody>\n",
       "</table>\n"
      ],
      "text/latex": [
       "A data.frame: 1 × 1\n",
       "\\begin{tabular}{l}\n",
       " perc\\\\\n",
       " <dbl>\\\\\n",
       "\\hline\n",
       "\t 2.8\\\\\n",
       "\\end{tabular}\n"
      ],
      "text/markdown": [
       "\n",
       "A data.frame: 1 × 1\n",
       "\n",
       "| perc &lt;dbl&gt; |\n",
       "|---|\n",
       "| 2.8 |\n",
       "\n"
      ],
      "text/plain": [
       "  perc\n",
       "1 2.8 "
      ]
     },
     "metadata": {},
     "output_type": "display_data"
    }
   ],
   "source": [
    "## Calculate increase in percent\n",
    "round(100 * (retention.overall.agg[4, \"perc\"] - retention.overall.agg[2, \"perc\"]) /\n",
    "        retention.overall.agg[2,\"perc\"], 1)"
   ]
  },
  {
   "cell_type": "code",
   "execution_count": 67,
   "id": "30fc78d3",
   "metadata": {},
   "outputs": [
    {
     "data": {
      "text/html": [
       "<table>\n",
       "<caption>A data.frame: 1 × 1</caption>\n",
       "<thead>\n",
       "\t<tr><th scope=col>perc</th></tr>\n",
       "\t<tr><th scope=col>&lt;dbl&gt;</th></tr>\n",
       "</thead>\n",
       "<tbody>\n",
       "\t<tr><td>0.3</td></tr>\n",
       "</tbody>\n",
       "</table>\n"
      ],
      "text/latex": [
       "A data.frame: 1 × 1\n",
       "\\begin{tabular}{l}\n",
       " perc\\\\\n",
       " <dbl>\\\\\n",
       "\\hline\n",
       "\t 0.3\\\\\n",
       "\\end{tabular}\n"
      ],
      "text/markdown": [
       "\n",
       "A data.frame: 1 × 1\n",
       "\n",
       "| perc &lt;dbl&gt; |\n",
       "|---|\n",
       "| 0.3 |\n",
       "\n"
      ],
      "text/plain": [
       "  perc\n",
       "1 0.3 "
      ]
     },
     "metadata": {},
     "output_type": "display_data"
    }
   ],
   "source": [
    "## Calculate increase in percent\n",
    "round(retention.overall.agg[6, \"perc\"] - retention.overall.agg[2, \"perc\"], 1)"
   ]
  },
  {
   "cell_type": "code",
   "execution_count": 68,
   "id": "7a16a9bc",
   "metadata": {},
   "outputs": [
    {
     "data": {
      "text/html": [
       "<table>\n",
       "<caption>A data.frame: 1 × 1</caption>\n",
       "<thead>\n",
       "\t<tr><th scope=col>perc</th></tr>\n",
       "\t<tr><th scope=col>&lt;dbl&gt;</th></tr>\n",
       "</thead>\n",
       "<tbody>\n",
       "\t<tr><td>6.9</td></tr>\n",
       "</tbody>\n",
       "</table>\n"
      ],
      "text/latex": [
       "A data.frame: 1 × 1\n",
       "\\begin{tabular}{l}\n",
       " perc\\\\\n",
       " <dbl>\\\\\n",
       "\\hline\n",
       "\t 6.9\\\\\n",
       "\\end{tabular}\n"
      ],
      "text/markdown": [
       "\n",
       "A data.frame: 1 × 1\n",
       "\n",
       "| perc &lt;dbl&gt; |\n",
       "|---|\n",
       "| 6.9 |\n",
       "\n"
      ],
      "text/plain": [
       "  perc\n",
       "1 6.9 "
      ]
     },
     "metadata": {},
     "output_type": "display_data"
    }
   ],
   "source": [
    "## Calculate increase in percent\n",
    "round(100 * (retention.overall.agg[6, \"perc\"] - retention.overall.agg[2, \"perc\"]) /\n",
    "        retention.overall.agg[2,\"perc\"], 1)"
   ]
  },
  {
   "cell_type": "markdown",
   "id": "37922b62",
   "metadata": {},
   "source": [
    "Same aggregation but based on users who activate:"
   ]
  },
  {
   "cell_type": "code",
   "execution_count": 69,
   "id": "d78c0879",
   "metadata": {},
   "outputs": [
    {
     "data": {
      "text/html": [
       "<table>\n",
       "<caption>A grouped_df: 6 × 5</caption>\n",
       "<thead>\n",
       "\t<tr><th scope=col>Group</th><th scope=col>is_retained</th><th scope=col>n</th><th scope=col>perc</th><th scope=col>rounded_perc</th></tr>\n",
       "\t<tr><th scope=col>&lt;fct&gt;</th><th scope=col>&lt;lgl&gt;</th><th scope=col>&lt;int&gt;</th><th scope=col>&lt;dbl&gt;</th><th scope=col>&lt;dbl&gt;</th></tr>\n",
       "</thead>\n",
       "<tbody>\n",
       "\t<tr><td>Control     </td><td>FALSE</td><td> 8911</td><td>86.6</td><td>86.6</td></tr>\n",
       "\t<tr><td>Control     </td><td> TRUE</td><td> 1383</td><td>13.4</td><td>13.4</td></tr>\n",
       "\t<tr><td>Unstructured</td><td>FALSE</td><td>16741</td><td>86.2</td><td>86.2</td></tr>\n",
       "\t<tr><td>Unstructured</td><td> TRUE</td><td> 2678</td><td>13.8</td><td>13.8</td></tr>\n",
       "\t<tr><td>Add-a-link  </td><td>FALSE</td><td>17259</td><td>86.1</td><td>86.1</td></tr>\n",
       "\t<tr><td>Add-a-link  </td><td> TRUE</td><td> 2778</td><td>13.9</td><td>13.9</td></tr>\n",
       "</tbody>\n",
       "</table>\n"
      ],
      "text/latex": [
       "A grouped\\_df: 6 × 5\n",
       "\\begin{tabular}{lllll}\n",
       " Group & is\\_retained & n & perc & rounded\\_perc\\\\\n",
       " <fct> & <lgl> & <int> & <dbl> & <dbl>\\\\\n",
       "\\hline\n",
       "\t Control      & FALSE &  8911 & 86.6 & 86.6\\\\\n",
       "\t Control      &  TRUE &  1383 & 13.4 & 13.4\\\\\n",
       "\t Unstructured & FALSE & 16741 & 86.2 & 86.2\\\\\n",
       "\t Unstructured &  TRUE &  2678 & 13.8 & 13.8\\\\\n",
       "\t Add-a-link   & FALSE & 17259 & 86.1 & 86.1\\\\\n",
       "\t Add-a-link   &  TRUE &  2778 & 13.9 & 13.9\\\\\n",
       "\\end{tabular}\n"
      ],
      "text/markdown": [
       "\n",
       "A grouped_df: 6 × 5\n",
       "\n",
       "| Group &lt;fct&gt; | is_retained &lt;lgl&gt; | n &lt;int&gt; | perc &lt;dbl&gt; | rounded_perc &lt;dbl&gt; |\n",
       "|---|---|---|---|---|\n",
       "| Control      | FALSE |  8911 | 86.6 | 86.6 |\n",
       "| Control      |  TRUE |  1383 | 13.4 | 13.4 |\n",
       "| Unstructured | FALSE | 16741 | 86.2 | 86.2 |\n",
       "| Unstructured |  TRUE |  2678 | 13.8 | 13.8 |\n",
       "| Add-a-link   | FALSE | 17259 | 86.1 | 86.1 |\n",
       "| Add-a-link   |  TRUE |  2778 | 13.9 | 13.9 |\n",
       "\n"
      ],
      "text/plain": [
       "  Group        is_retained n     perc rounded_perc\n",
       "1 Control      FALSE        8911 86.6 86.6        \n",
       "2 Control       TRUE        1383 13.4 13.4        \n",
       "3 Unstructured FALSE       16741 86.2 86.2        \n",
       "4 Unstructured  TRUE        2678 13.8 13.8        \n",
       "5 Add-a-link   FALSE       17259 86.1 86.1        \n",
       "6 Add-a-link    TRUE        2778 13.9 13.9        "
      ]
     },
     "metadata": {},
     "output_type": "display_data"
    }
   ],
   "source": [
    "# Aggregate across the entire dataset the proportion of registrations retained\n",
    "retention.overall.activated.agg <- user_edit_data %>%\n",
    "    filter(is_activated == TRUE) %>%\n",
    "    group_by(Group, is_retained) %>%\n",
    "    summarize(n = n(), .groups = 'keep') %>%\n",
    "    group_by(Group) %>%\n",
    "    mutate(perc = 100 * n / sum(n), rounded_perc = round(100 * n / sum(n), 1))\n",
    "retention.overall.activated.agg"
   ]
  },
  {
   "cell_type": "code",
   "execution_count": 70,
   "id": "a6b02d23",
   "metadata": {},
   "outputs": [
    {
     "data": {
      "text/html": [
       "<table>\n",
       "<caption>A data.frame: 1 × 1</caption>\n",
       "<thead>\n",
       "\t<tr><th scope=col>perc</th></tr>\n",
       "\t<tr><th scope=col>&lt;dbl&gt;</th></tr>\n",
       "</thead>\n",
       "<tbody>\n",
       "\t<tr><td>0.4</td></tr>\n",
       "</tbody>\n",
       "</table>\n"
      ],
      "text/latex": [
       "A data.frame: 1 × 1\n",
       "\\begin{tabular}{l}\n",
       " perc\\\\\n",
       " <dbl>\\\\\n",
       "\\hline\n",
       "\t 0.4\\\\\n",
       "\\end{tabular}\n"
      ],
      "text/markdown": [
       "\n",
       "A data.frame: 1 × 1\n",
       "\n",
       "| perc &lt;dbl&gt; |\n",
       "|---|\n",
       "| 0.4 |\n",
       "\n"
      ],
      "text/plain": [
       "  perc\n",
       "1 0.4 "
      ]
     },
     "metadata": {},
     "output_type": "display_data"
    }
   ],
   "source": [
    "## Calculate increase in percent\n",
    "round(retention.overall.activated.agg[4, \"perc\"] - retention.overall.activated.agg[2, \"perc\"], 1)"
   ]
  },
  {
   "cell_type": "code",
   "execution_count": 71,
   "id": "15b4acdc",
   "metadata": {},
   "outputs": [
    {
     "data": {
      "text/html": [
       "<table>\n",
       "<caption>A data.frame: 1 × 1</caption>\n",
       "<thead>\n",
       "\t<tr><th scope=col>perc</th></tr>\n",
       "\t<tr><th scope=col>&lt;dbl&gt;</th></tr>\n",
       "</thead>\n",
       "<tbody>\n",
       "\t<tr><td>2.6</td></tr>\n",
       "</tbody>\n",
       "</table>\n"
      ],
      "text/latex": [
       "A data.frame: 1 × 1\n",
       "\\begin{tabular}{l}\n",
       " perc\\\\\n",
       " <dbl>\\\\\n",
       "\\hline\n",
       "\t 2.6\\\\\n",
       "\\end{tabular}\n"
      ],
      "text/markdown": [
       "\n",
       "A data.frame: 1 × 1\n",
       "\n",
       "| perc &lt;dbl&gt; |\n",
       "|---|\n",
       "| 2.6 |\n",
       "\n"
      ],
      "text/plain": [
       "  perc\n",
       "1 2.6 "
      ]
     },
     "metadata": {},
     "output_type": "display_data"
    }
   ],
   "source": [
    "## Calculate increase in percent\n",
    "round(100 * (retention.overall.activated.agg[4, \"perc\"] - retention.overall.activated.agg[2, \"perc\"]) /\n",
    "        retention.overall.activated.agg[2,\"perc\"], 1)"
   ]
  },
  {
   "cell_type": "code",
   "execution_count": 72,
   "id": "3d258e49",
   "metadata": {},
   "outputs": [
    {
     "data": {
      "text/html": [
       "<table>\n",
       "<caption>A data.frame: 1 × 1</caption>\n",
       "<thead>\n",
       "\t<tr><th scope=col>perc</th></tr>\n",
       "\t<tr><th scope=col>&lt;dbl&gt;</th></tr>\n",
       "</thead>\n",
       "<tbody>\n",
       "\t<tr><td>0.4</td></tr>\n",
       "</tbody>\n",
       "</table>\n"
      ],
      "text/latex": [
       "A data.frame: 1 × 1\n",
       "\\begin{tabular}{l}\n",
       " perc\\\\\n",
       " <dbl>\\\\\n",
       "\\hline\n",
       "\t 0.4\\\\\n",
       "\\end{tabular}\n"
      ],
      "text/markdown": [
       "\n",
       "A data.frame: 1 × 1\n",
       "\n",
       "| perc &lt;dbl&gt; |\n",
       "|---|\n",
       "| 0.4 |\n",
       "\n"
      ],
      "text/plain": [
       "  perc\n",
       "1 0.4 "
      ]
     },
     "metadata": {},
     "output_type": "display_data"
    }
   ],
   "source": [
    "## Calculate increase in percent\n",
    "round(retention.overall.activated.agg[6, \"perc\"] - retention.overall.activated.agg[2, \"perc\"], 1)"
   ]
  },
  {
   "cell_type": "code",
   "execution_count": 73,
   "id": "24ea8693",
   "metadata": {},
   "outputs": [
    {
     "data": {
      "text/html": [
       "<table>\n",
       "<caption>A data.frame: 1 × 1</caption>\n",
       "<thead>\n",
       "\t<tr><th scope=col>perc</th></tr>\n",
       "\t<tr><th scope=col>&lt;dbl&gt;</th></tr>\n",
       "</thead>\n",
       "<tbody>\n",
       "\t<tr><td>3.2</td></tr>\n",
       "</tbody>\n",
       "</table>\n"
      ],
      "text/latex": [
       "A data.frame: 1 × 1\n",
       "\\begin{tabular}{l}\n",
       " perc\\\\\n",
       " <dbl>\\\\\n",
       "\\hline\n",
       "\t 3.2\\\\\n",
       "\\end{tabular}\n"
      ],
      "text/markdown": [
       "\n",
       "A data.frame: 1 × 1\n",
       "\n",
       "| perc &lt;dbl&gt; |\n",
       "|---|\n",
       "| 3.2 |\n",
       "\n"
      ],
      "text/plain": [
       "  perc\n",
       "1 3.2 "
      ]
     },
     "metadata": {},
     "output_type": "display_data"
    }
   ],
   "source": [
    "## Calculate increase in percent\n",
    "round(100 * (retention.overall.activated.agg[6, \"perc\"] - retention.overall.activated.agg[2, \"perc\"]) /\n",
    "        retention.overall.activated.agg[2,\"perc\"], 1)"
   ]
  },
  {
   "cell_type": "code",
   "execution_count": 104,
   "id": "4c85a5db",
   "metadata": {},
   "outputs": [],
   "source": [
    "blas_set_num_threads(16)\n",
    "retention.article.full <-\n",
    "    glmer(\n",
    "        formula = is_retained_article ~ platform + Group +\n",
    "                    is_activated_article + log_num_article_edits_24hrs +\n",
    "                    (1 | wiki_db),\n",
    "        data = user_edit_data,\n",
    "        family = binomial(link = \"logit\"))\n",
    "blas_set_num_threads(1)"
   ]
  },
  {
   "cell_type": "code",
   "execution_count": 105,
   "id": "3ceef146",
   "metadata": {},
   "outputs": [
    {
     "data": {
      "text/plain": [
       "Generalized linear mixed model fit by maximum likelihood (Laplace\n",
       "  Approximation) [glmerMod]\n",
       " Family: binomial  ( logit )\n",
       "Formula: is_retained_article ~ platform + Group + is_activated_article +  \n",
       "    log_num_article_edits_24hrs + (1 | wiki_db)\n",
       "   Data: user_edit_data\n",
       "\n",
       "     AIC      BIC   logLik deviance df.resid \n",
       "   27165    27234   -13576    27151   130172 \n",
       "\n",
       "Scaled residuals: \n",
       "   Min     1Q Median     3Q    Max \n",
       "-5.036 -0.234  0.000  0.000  4.281 \n",
       "\n",
       "Random effects:\n",
       " Groups  Name        Variance Std.Dev.\n",
       " wiki_db (Intercept) 0.0138   0.117   \n",
       "Number of obs: 130179, groups:  wiki_db, 10\n",
       "\n",
       "Fixed effects:\n",
       "                            Estimate Std. Error z value            Pr(>|z|)    \n",
       "(Intercept)                 -21.3698     1.5149  -14.11 <0.0000000000000002 ***\n",
       "platformmobile               -0.3594     0.0343  -10.46 <0.0000000000000002 ***\n",
       "GroupUnstructured             0.0246     0.0437    0.56                0.57    \n",
       "GroupAdd-a-link              -0.0225     0.0435   -0.52                0.61    \n",
       "is_activated_articleTRUE     18.2666     1.5138   12.07 <0.0000000000000002 ***\n",
       "log_num_article_edits_24hrs   1.1525     0.0230   50.19 <0.0000000000000002 ***\n",
       "---\n",
       "Signif. codes:  0 ‘***’ 0.001 ‘**’ 0.01 ‘*’ 0.05 ‘.’ 0.1 ‘ ’ 1\n",
       "\n",
       "Correlation of Fixed Effects:\n",
       "            (Intr) pltfrm GrpUns GrpA-- i__TRU\n",
       "platformmbl -0.004                            \n",
       "GrpUnstrctr -0.020  0.010                     \n",
       "GrpAdd--lnk -0.016  0.003  0.672              \n",
       "is_ctv_TRUE -0.999 -0.005  0.001 -0.003       \n",
       "lg_nm_r__24 -0.017 -0.034  0.008 -0.019 -0.003"
      ]
     },
     "metadata": {},
     "output_type": "display_data"
    }
   ],
   "source": [
    "summary(retention.article.full)"
   ]
  },
  {
   "cell_type": "code",
   "execution_count": 106,
   "id": "c285f451",
   "metadata": {},
   "outputs": [
    {
     "name": "stderr",
     "output_type": "stream",
     "text": [
      "Warning message in checkConv(attr(opt, \"derivs\"), opt$par, ctrl = control$checkConv, :\n",
      "“Model failed to converge with max|grad| = 0.00226019 (tol = 0.002, component 1)”\n"
     ]
    }
   ],
   "source": [
    "blas_set_num_threads(16)\n",
    "retention.article.full.growth <-\n",
    "    user_edit_data %>%\n",
    "    filter(Group != 'Control') %>%\n",
    "    glmer(\n",
    "        formula = is_retained_article ~ platform + Group +\n",
    "                    is_activated_article + log_num_article_edits_24hrs +\n",
    "                    (1 | wiki_db),\n",
    "        family = binomial(link = \"logit\"))\n",
    "blas_set_num_threads(1)"
   ]
  },
  {
   "cell_type": "code",
   "execution_count": 107,
   "id": "a176095b",
   "metadata": {},
   "outputs": [],
   "source": [
    "## If model didn't converge, restart and give it some more iterations:\n",
    "start_vals = getME(retention.article.full.growth, c(\"theta\", \"fixef\"))\n",
    "blas_set_num_threads(16)\n",
    "retention.article.full.growth = update(retention.article.full.growth, start = start_vals,\n",
    "                                    control = glmerControl(optCtrl = list(maxfun = 2e4)))\n",
    "blas_set_num_threads(1)"
   ]
  },
  {
   "cell_type": "code",
   "execution_count": 108,
   "id": "3b94f833",
   "metadata": {},
   "outputs": [
    {
     "data": {
      "text/plain": [
       "Generalized linear mixed model fit by maximum likelihood (Laplace\n",
       "  Approximation) [glmerMod]\n",
       " Family: binomial  ( logit )\n",
       "Formula: is_retained_article ~ platform + Group + is_activated_article +  \n",
       "    log_num_article_edits_24hrs + (1 | wiki_db)\n",
       "   Data: .\n",
       "Control: glmerControl(optCtrl = list(maxfun = 20000))\n",
       "\n",
       "     AIC      BIC   logLik deviance df.resid \n",
       "   21799    21856   -10894    21787   102837 \n",
       "\n",
       "Scaled residuals: \n",
       "   Min     1Q Median     3Q    Max \n",
       "-5.232 -0.235  0.000  0.000  4.257 \n",
       "\n",
       "Random effects:\n",
       " Groups  Name        Variance Std.Dev.\n",
       " wiki_db (Intercept) 0.0114   0.107   \n",
       "Number of obs: 102843, groups:  wiki_db, 10\n",
       "\n",
       "Fixed effects:\n",
       "                            Estimate Std. Error z value            Pr(>|z|)    \n",
       "(Intercept)                 -28.2225     2.2240  -12.69 <0.0000000000000002 ***\n",
       "platformmobile               -0.3498     0.0383   -9.14 <0.0000000000000002 ***\n",
       "GroupAdd-a-link              -0.0480     0.0353   -1.36                0.17    \n",
       "is_activated_articleTRUE     25.1162     2.2240   11.29 <0.0000000000000002 ***\n",
       "log_num_article_edits_24hrs   1.1674     0.0255   45.70 <0.0000000000000002 ***\n",
       "---\n",
       "Signif. codes:  0 ‘***’ 0.001 ‘**’ 0.01 ‘*’ 0.05 ‘.’ 0.1 ‘ ’ 1\n",
       "\n",
       "Correlation of Fixed Effects:\n",
       "            (Intr) pltfrm GrpA-- i__TRU\n",
       "platformmbl -0.003                     \n",
       "GrpAdd--lnk -0.004 -0.010              \n",
       "is_ctv_TRUE -1.000 -0.003 -0.004       \n",
       "lg_nm_r__24 -0.008 -0.035 -0.038 -0.008"
      ]
     },
     "metadata": {},
     "output_type": "display_data"
    }
   ],
   "source": [
    "summary(retention.article.full.growth)"
   ]
  },
  {
   "cell_type": "code",
   "execution_count": 109,
   "id": "6085804d",
   "metadata": {},
   "outputs": [],
   "source": [
    "blas_set_num_threads(16)\n",
    "retention.article.full.noactivation <-\n",
    "    glmer(\n",
    "        formula = is_retained_article ~ platform + Group + (1 | wiki_db),\n",
    "        data = user_edit_data,\n",
    "        family = binomial(link = \"logit\"))\n",
    "blas_set_num_threads(1)"
   ]
  },
  {
   "cell_type": "code",
   "execution_count": 110,
   "id": "51cb6408",
   "metadata": {},
   "outputs": [
    {
     "data": {
      "text/plain": [
       "Generalized linear mixed model fit by maximum likelihood (Laplace\n",
       "  Approximation) [glmerMod]\n",
       " Family: binomial  ( logit )\n",
       "Formula: is_retained_article ~ platform + Group + (1 | wiki_db)\n",
       "   Data: user_edit_data\n",
       "\n",
       "     AIC      BIC   logLik deviance df.resid \n",
       "   42627    42676   -21308    42617   130174 \n",
       "\n",
       "Scaled residuals: \n",
       "   Min     1Q Median     3Q    Max \n",
       "-0.294 -0.221 -0.192 -0.159  6.859 \n",
       "\n",
       "Random effects:\n",
       " Groups  Name        Variance Std.Dev.\n",
       " wiki_db (Intercept) 0.0804   0.284   \n",
       "Number of obs: 130179, groups:  wiki_db, 10\n",
       "\n",
       "Fixed effects:\n",
       "                  Estimate Std. Error z value            Pr(>|z|)    \n",
       "(Intercept)        -2.9951     0.0969  -30.89 <0.0000000000000002 ***\n",
       "platformmobile     -0.4088     0.0305  -13.40 <0.0000000000000002 ***\n",
       "GroupUnstructured   0.0603     0.0396    1.53              0.1272    \n",
       "GroupAdd-a-link     0.1150     0.0393    2.93              0.0034 ** \n",
       "---\n",
       "Signif. codes:  0 ‘***’ 0.001 ‘**’ 0.01 ‘*’ 0.05 ‘.’ 0.1 ‘ ’ 1\n",
       "\n",
       "Correlation of Fixed Effects:\n",
       "            (Intr) pltfrm GrpUns\n",
       "platformmbl -0.122              \n",
       "GrpUnstrctr -0.272  0.001       \n",
       "GrpAdd--lnk -0.273 -0.002  0.674"
      ]
     },
     "metadata": {},
     "output_type": "display_data"
    }
   ],
   "source": [
    "summary(retention.article.full.noactivation)"
   ]
  },
  {
   "cell_type": "code",
   "execution_count": 111,
   "id": "fc924370",
   "metadata": {},
   "outputs": [],
   "source": [
    "blas_set_num_threads(16)\n",
    "retention.article.full.noactivation.growth <-\n",
    "    user_edit_data %>%\n",
    "    filter(Group != 'Control') %>%\n",
    "    glmer(\n",
    "        formula = is_retained_article ~ platform + Group + (1 | wiki_db),\n",
    "        family = binomial(link = \"logit\"))\n",
    "blas_set_num_threads(1)"
   ]
  },
  {
   "cell_type": "code",
   "execution_count": 112,
   "id": "2a0c0698",
   "metadata": {},
   "outputs": [
    {
     "data": {
      "text/plain": [
       "Generalized linear mixed model fit by maximum likelihood (Laplace\n",
       "  Approximation) [glmerMod]\n",
       " Family: binomial  ( logit )\n",
       "Formula: is_retained_article ~ platform + Group + (1 | wiki_db)\n",
       "   Data: .\n",
       "\n",
       "     AIC      BIC   logLik deviance df.resid \n",
       "   34191    34229   -17092    34183   102839 \n",
       "\n",
       "Scaled residuals: \n",
       "   Min     1Q Median     3Q    Max \n",
       "-0.297 -0.222 -0.196 -0.160  6.566 \n",
       "\n",
       "Random effects:\n",
       " Groups  Name        Variance Std.Dev.\n",
       " wiki_db (Intercept) 0.0752   0.274   \n",
       "Number of obs: 102843, groups:  wiki_db, 10\n",
       "\n",
       "Fixed effects:\n",
       "                Estimate Std. Error z value            Pr(>|z|)    \n",
       "(Intercept)      -2.9434     0.0923  -31.89 <0.0000000000000002 ***\n",
       "platformmobile   -0.4073     0.0340  -11.98 <0.0000000000000002 ***\n",
       "GroupAdd-a-link   0.0547     0.0318    1.72               0.086 .  \n",
       "---\n",
       "Signif. codes:  0 ‘***’ 0.001 ‘**’ 0.01 ‘*’ 0.05 ‘.’ 0.1 ‘ ’ 1\n",
       "\n",
       "Correlation of Fixed Effects:\n",
       "            (Intr) pltfrm\n",
       "platformmbl -0.145       \n",
       "GrpAdd--lnk -0.175 -0.005"
      ]
     },
     "metadata": {},
     "output_type": "display_data"
    }
   ],
   "source": [
    "summary(retention.article.full.noactivation.growth)"
   ]
  },
  {
   "cell_type": "code",
   "execution_count": 15,
   "id": "86eb0183",
   "metadata": {},
   "outputs": [
    {
     "data": {
      "text/html": [
       "<table>\n",
       "<caption>A grouped_df: 6 × 5</caption>\n",
       "<thead>\n",
       "\t<tr><th scope=col>Group</th><th scope=col>is_retained_article</th><th scope=col>n</th><th scope=col>perc</th><th scope=col>rounded_perc</th></tr>\n",
       "\t<tr><th scope=col>&lt;fct&gt;</th><th scope=col>&lt;lgl&gt;</th><th scope=col>&lt;int&gt;</th><th scope=col>&lt;dbl&gt;</th><th scope=col>&lt;dbl&gt;</th></tr>\n",
       "</thead>\n",
       "<tbody>\n",
       "\t<tr><td>Control     </td><td>FALSE</td><td>26341</td><td>96.36</td><td>96.4</td></tr>\n",
       "\t<tr><td>Control     </td><td> TRUE</td><td>  995</td><td> 3.64</td><td> 3.6</td></tr>\n",
       "\t<tr><td>Unstructured</td><td>FALSE</td><td>49466</td><td>96.09</td><td>96.1</td></tr>\n",
       "\t<tr><td>Unstructured</td><td> TRUE</td><td> 2013</td><td> 3.91</td><td> 3.9</td></tr>\n",
       "\t<tr><td>Add-a-link  </td><td>FALSE</td><td>49251</td><td>95.89</td><td>95.9</td></tr>\n",
       "\t<tr><td>Add-a-link  </td><td> TRUE</td><td> 2113</td><td> 4.11</td><td> 4.1</td></tr>\n",
       "</tbody>\n",
       "</table>\n"
      ],
      "text/latex": [
       "A grouped\\_df: 6 × 5\n",
       "\\begin{tabular}{lllll}\n",
       " Group & is\\_retained\\_article & n & perc & rounded\\_perc\\\\\n",
       " <fct> & <lgl> & <int> & <dbl> & <dbl>\\\\\n",
       "\\hline\n",
       "\t Control      & FALSE & 26341 & 96.36 & 96.4\\\\\n",
       "\t Control      &  TRUE &   995 &  3.64 &  3.6\\\\\n",
       "\t Unstructured & FALSE & 49466 & 96.09 & 96.1\\\\\n",
       "\t Unstructured &  TRUE &  2013 &  3.91 &  3.9\\\\\n",
       "\t Add-a-link   & FALSE & 49251 & 95.89 & 95.9\\\\\n",
       "\t Add-a-link   &  TRUE &  2113 &  4.11 &  4.1\\\\\n",
       "\\end{tabular}\n"
      ],
      "text/markdown": [
       "\n",
       "A grouped_df: 6 × 5\n",
       "\n",
       "| Group &lt;fct&gt; | is_retained_article &lt;lgl&gt; | n &lt;int&gt; | perc &lt;dbl&gt; | rounded_perc &lt;dbl&gt; |\n",
       "|---|---|---|---|---|\n",
       "| Control      | FALSE | 26341 | 96.36 | 96.4 |\n",
       "| Control      |  TRUE |   995 |  3.64 |  3.6 |\n",
       "| Unstructured | FALSE | 49466 | 96.09 | 96.1 |\n",
       "| Unstructured |  TRUE |  2013 |  3.91 |  3.9 |\n",
       "| Add-a-link   | FALSE | 49251 | 95.89 | 95.9 |\n",
       "| Add-a-link   |  TRUE |  2113 |  4.11 |  4.1 |\n",
       "\n"
      ],
      "text/plain": [
       "  Group        is_retained_article n     perc  rounded_perc\n",
       "1 Control      FALSE               26341 96.36 96.4        \n",
       "2 Control       TRUE                 995  3.64  3.6        \n",
       "3 Unstructured FALSE               49466 96.09 96.1        \n",
       "4 Unstructured  TRUE                2013  3.91  3.9        \n",
       "5 Add-a-link   FALSE               49251 95.89 95.9        \n",
       "6 Add-a-link    TRUE                2113  4.11  4.1        "
      ]
     },
     "metadata": {},
     "output_type": "display_data"
    }
   ],
   "source": [
    "# Aggregate across the entire dataset the proportion of registrations retained\n",
    "retention.article.agg <- user_edit_data %>%\n",
    "    group_by(Group, is_retained_article) %>%\n",
    "    summarize(n = n(), .groups = 'keep') %>%\n",
    "    group_by(Group) %>%\n",
    "    mutate(perc = 100 * n / sum(n), rounded_perc = round(100 * n / sum(n), 1))\n",
    "retention.article.agg"
   ]
  },
  {
   "cell_type": "code",
   "execution_count": 114,
   "id": "e2ac4361",
   "metadata": {},
   "outputs": [
    {
     "data": {
      "text/html": [
       "<table>\n",
       "<caption>A data.frame: 1 × 1</caption>\n",
       "<thead>\n",
       "\t<tr><th scope=col>perc</th></tr>\n",
       "\t<tr><th scope=col>&lt;dbl&gt;</th></tr>\n",
       "</thead>\n",
       "<tbody>\n",
       "\t<tr><td>0.3</td></tr>\n",
       "</tbody>\n",
       "</table>\n"
      ],
      "text/latex": [
       "A data.frame: 1 × 1\n",
       "\\begin{tabular}{l}\n",
       " perc\\\\\n",
       " <dbl>\\\\\n",
       "\\hline\n",
       "\t 0.3\\\\\n",
       "\\end{tabular}\n"
      ],
      "text/markdown": [
       "\n",
       "A data.frame: 1 × 1\n",
       "\n",
       "| perc &lt;dbl&gt; |\n",
       "|---|\n",
       "| 0.3 |\n",
       "\n"
      ],
      "text/plain": [
       "  perc\n",
       "1 0.3 "
      ]
     },
     "metadata": {},
     "output_type": "display_data"
    }
   ],
   "source": [
    "## Calculate increase in percent\n",
    "round(retention.article.agg[4, \"perc\"] - retention.article.agg[2, \"perc\"], 1)"
   ]
  },
  {
   "cell_type": "code",
   "execution_count": 115,
   "id": "2fd6b81e",
   "metadata": {},
   "outputs": [
    {
     "data": {
      "text/html": [
       "<table>\n",
       "<caption>A data.frame: 1 × 1</caption>\n",
       "<thead>\n",
       "\t<tr><th scope=col>perc</th></tr>\n",
       "\t<tr><th scope=col>&lt;dbl&gt;</th></tr>\n",
       "</thead>\n",
       "<tbody>\n",
       "\t<tr><td>7.4</td></tr>\n",
       "</tbody>\n",
       "</table>\n"
      ],
      "text/latex": [
       "A data.frame: 1 × 1\n",
       "\\begin{tabular}{l}\n",
       " perc\\\\\n",
       " <dbl>\\\\\n",
       "\\hline\n",
       "\t 7.4\\\\\n",
       "\\end{tabular}\n"
      ],
      "text/markdown": [
       "\n",
       "A data.frame: 1 × 1\n",
       "\n",
       "| perc &lt;dbl&gt; |\n",
       "|---|\n",
       "| 7.4 |\n",
       "\n"
      ],
      "text/plain": [
       "  perc\n",
       "1 7.4 "
      ]
     },
     "metadata": {},
     "output_type": "display_data"
    }
   ],
   "source": [
    "## Calculate increase in percent\n",
    "round(100 * (retention.article.agg[4, \"perc\"] - retention.article.agg[2, \"perc\"]) /\n",
    "        retention.article.agg[2,\"perc\"], 1)"
   ]
  },
  {
   "cell_type": "code",
   "execution_count": 116,
   "id": "654e54c3",
   "metadata": {},
   "outputs": [
    {
     "data": {
      "text/html": [
       "<table>\n",
       "<caption>A data.frame: 1 × 1</caption>\n",
       "<thead>\n",
       "\t<tr><th scope=col>perc</th></tr>\n",
       "\t<tr><th scope=col>&lt;dbl&gt;</th></tr>\n",
       "</thead>\n",
       "<tbody>\n",
       "\t<tr><td>0.5</td></tr>\n",
       "</tbody>\n",
       "</table>\n"
      ],
      "text/latex": [
       "A data.frame: 1 × 1\n",
       "\\begin{tabular}{l}\n",
       " perc\\\\\n",
       " <dbl>\\\\\n",
       "\\hline\n",
       "\t 0.5\\\\\n",
       "\\end{tabular}\n"
      ],
      "text/markdown": [
       "\n",
       "A data.frame: 1 × 1\n",
       "\n",
       "| perc &lt;dbl&gt; |\n",
       "|---|\n",
       "| 0.5 |\n",
       "\n"
      ],
      "text/plain": [
       "  perc\n",
       "1 0.5 "
      ]
     },
     "metadata": {},
     "output_type": "display_data"
    }
   ],
   "source": [
    "## Calculate increase in percent\n",
    "round(retention.article.agg[6, \"perc\"] - retention.article.agg[2, \"perc\"], 1)"
   ]
  },
  {
   "cell_type": "code",
   "execution_count": 117,
   "id": "d5358eca",
   "metadata": {},
   "outputs": [
    {
     "data": {
      "text/html": [
       "<table>\n",
       "<caption>A data.frame: 1 × 1</caption>\n",
       "<thead>\n",
       "\t<tr><th scope=col>perc</th></tr>\n",
       "\t<tr><th scope=col>&lt;dbl&gt;</th></tr>\n",
       "</thead>\n",
       "<tbody>\n",
       "\t<tr><td>13</td></tr>\n",
       "</tbody>\n",
       "</table>\n"
      ],
      "text/latex": [
       "A data.frame: 1 × 1\n",
       "\\begin{tabular}{l}\n",
       " perc\\\\\n",
       " <dbl>\\\\\n",
       "\\hline\n",
       "\t 13\\\\\n",
       "\\end{tabular}\n"
      ],
      "text/markdown": [
       "\n",
       "A data.frame: 1 × 1\n",
       "\n",
       "| perc &lt;dbl&gt; |\n",
       "|---|\n",
       "| 13 |\n",
       "\n"
      ],
      "text/plain": [
       "  perc\n",
       "1 13  "
      ]
     },
     "metadata": {},
     "output_type": "display_data"
    }
   ],
   "source": [
    "## Calculate increase in percent\n",
    "round(100 * (retention.article.agg[6, \"perc\"] - retention.article.agg[2, \"perc\"]) /\n",
    "        retention.article.agg[2,\"perc\"], 1)"
   ]
  },
  {
   "cell_type": "markdown",
   "id": "632534a1",
   "metadata": {},
   "source": [
    "Same aggregation but based on users who activate:"
   ]
  },
  {
   "cell_type": "code",
   "execution_count": 118,
   "id": "d36704b1",
   "metadata": {},
   "outputs": [
    {
     "data": {
      "text/html": [
       "<table>\n",
       "<caption>A grouped_df: 6 × 5</caption>\n",
       "<thead>\n",
       "\t<tr><th scope=col>Group</th><th scope=col>is_retained_article</th><th scope=col>n</th><th scope=col>perc</th><th scope=col>rounded_perc</th></tr>\n",
       "\t<tr><th scope=col>&lt;fct&gt;</th><th scope=col>&lt;lgl&gt;</th><th scope=col>&lt;int&gt;</th><th scope=col>&lt;dbl&gt;</th><th scope=col>&lt;dbl&gt;</th></tr>\n",
       "</thead>\n",
       "<tbody>\n",
       "\t<tr><td>Control     </td><td>FALSE</td><td> 6437</td><td>86.6</td><td>86.6</td></tr>\n",
       "\t<tr><td>Control     </td><td> TRUE</td><td>  995</td><td>13.4</td><td>13.4</td></tr>\n",
       "\t<tr><td>Unstructured</td><td>FALSE</td><td>12733</td><td>86.3</td><td>86.3</td></tr>\n",
       "\t<tr><td>Unstructured</td><td> TRUE</td><td> 2013</td><td>13.7</td><td>13.7</td></tr>\n",
       "\t<tr><td>Add-a-link  </td><td>FALSE</td><td>13479</td><td>86.4</td><td>86.4</td></tr>\n",
       "\t<tr><td>Add-a-link  </td><td> TRUE</td><td> 2113</td><td>13.6</td><td>13.6</td></tr>\n",
       "</tbody>\n",
       "</table>\n"
      ],
      "text/latex": [
       "A grouped\\_df: 6 × 5\n",
       "\\begin{tabular}{lllll}\n",
       " Group & is\\_retained\\_article & n & perc & rounded\\_perc\\\\\n",
       " <fct> & <lgl> & <int> & <dbl> & <dbl>\\\\\n",
       "\\hline\n",
       "\t Control      & FALSE &  6437 & 86.6 & 86.6\\\\\n",
       "\t Control      &  TRUE &   995 & 13.4 & 13.4\\\\\n",
       "\t Unstructured & FALSE & 12733 & 86.3 & 86.3\\\\\n",
       "\t Unstructured &  TRUE &  2013 & 13.7 & 13.7\\\\\n",
       "\t Add-a-link   & FALSE & 13479 & 86.4 & 86.4\\\\\n",
       "\t Add-a-link   &  TRUE &  2113 & 13.6 & 13.6\\\\\n",
       "\\end{tabular}\n"
      ],
      "text/markdown": [
       "\n",
       "A grouped_df: 6 × 5\n",
       "\n",
       "| Group &lt;fct&gt; | is_retained_article &lt;lgl&gt; | n &lt;int&gt; | perc &lt;dbl&gt; | rounded_perc &lt;dbl&gt; |\n",
       "|---|---|---|---|---|\n",
       "| Control      | FALSE |  6437 | 86.6 | 86.6 |\n",
       "| Control      |  TRUE |   995 | 13.4 | 13.4 |\n",
       "| Unstructured | FALSE | 12733 | 86.3 | 86.3 |\n",
       "| Unstructured |  TRUE |  2013 | 13.7 | 13.7 |\n",
       "| Add-a-link   | FALSE | 13479 | 86.4 | 86.4 |\n",
       "| Add-a-link   |  TRUE |  2113 | 13.6 | 13.6 |\n",
       "\n"
      ],
      "text/plain": [
       "  Group        is_retained_article n     perc rounded_perc\n",
       "1 Control      FALSE                6437 86.6 86.6        \n",
       "2 Control       TRUE                 995 13.4 13.4        \n",
       "3 Unstructured FALSE               12733 86.3 86.3        \n",
       "4 Unstructured  TRUE                2013 13.7 13.7        \n",
       "5 Add-a-link   FALSE               13479 86.4 86.4        \n",
       "6 Add-a-link    TRUE                2113 13.6 13.6        "
      ]
     },
     "metadata": {},
     "output_type": "display_data"
    }
   ],
   "source": [
    "# Aggregate across the entire dataset the proportion of registrations retained\n",
    "retention.article.activated.agg <- user_edit_data %>%\n",
    "    filter(is_activated_article == TRUE) %>%\n",
    "    group_by(Group, is_retained_article) %>%\n",
    "    summarize(n = n(), .groups = 'keep') %>%\n",
    "    group_by(Group) %>%\n",
    "    mutate(perc = 100 * n / sum(n), rounded_perc = round(100 * n / sum(n), 1))\n",
    "retention.article.activated.agg"
   ]
  },
  {
   "cell_type": "code",
   "execution_count": 119,
   "id": "9ab023dd",
   "metadata": {},
   "outputs": [
    {
     "data": {
      "text/html": [
       "<table>\n",
       "<caption>A data.frame: 1 × 1</caption>\n",
       "<thead>\n",
       "\t<tr><th scope=col>perc</th></tr>\n",
       "\t<tr><th scope=col>&lt;dbl&gt;</th></tr>\n",
       "</thead>\n",
       "<tbody>\n",
       "\t<tr><td>0.3</td></tr>\n",
       "</tbody>\n",
       "</table>\n"
      ],
      "text/latex": [
       "A data.frame: 1 × 1\n",
       "\\begin{tabular}{l}\n",
       " perc\\\\\n",
       " <dbl>\\\\\n",
       "\\hline\n",
       "\t 0.3\\\\\n",
       "\\end{tabular}\n"
      ],
      "text/markdown": [
       "\n",
       "A data.frame: 1 × 1\n",
       "\n",
       "| perc &lt;dbl&gt; |\n",
       "|---|\n",
       "| 0.3 |\n",
       "\n"
      ],
      "text/plain": [
       "  perc\n",
       "1 0.3 "
      ]
     },
     "metadata": {},
     "output_type": "display_data"
    }
   ],
   "source": [
    "## Calculate increase in percent\n",
    "round(retention.article.activated.agg[4, \"perc\"] - retention.article.activated.agg[2, \"perc\"], 1)"
   ]
  },
  {
   "cell_type": "code",
   "execution_count": 120,
   "id": "9e8dd933",
   "metadata": {},
   "outputs": [
    {
     "data": {
      "text/html": [
       "<table>\n",
       "<caption>A data.frame: 1 × 1</caption>\n",
       "<thead>\n",
       "\t<tr><th scope=col>perc</th></tr>\n",
       "\t<tr><th scope=col>&lt;dbl&gt;</th></tr>\n",
       "</thead>\n",
       "<tbody>\n",
       "\t<tr><td>2</td></tr>\n",
       "</tbody>\n",
       "</table>\n"
      ],
      "text/latex": [
       "A data.frame: 1 × 1\n",
       "\\begin{tabular}{l}\n",
       " perc\\\\\n",
       " <dbl>\\\\\n",
       "\\hline\n",
       "\t 2\\\\\n",
       "\\end{tabular}\n"
      ],
      "text/markdown": [
       "\n",
       "A data.frame: 1 × 1\n",
       "\n",
       "| perc &lt;dbl&gt; |\n",
       "|---|\n",
       "| 2 |\n",
       "\n"
      ],
      "text/plain": [
       "  perc\n",
       "1 2   "
      ]
     },
     "metadata": {},
     "output_type": "display_data"
    }
   ],
   "source": [
    "## Calculate increase in percent\n",
    "round(100 * (retention.article.activated.agg[4, \"perc\"] - retention.article.activated.agg[2, \"perc\"]) /\n",
    "        retention.article.activated.agg[2,\"perc\"], 1)"
   ]
  },
  {
   "cell_type": "code",
   "execution_count": 121,
   "id": "55b13bc8",
   "metadata": {},
   "outputs": [
    {
     "data": {
      "text/html": [
       "<table>\n",
       "<caption>A data.frame: 1 × 1</caption>\n",
       "<thead>\n",
       "\t<tr><th scope=col>perc</th></tr>\n",
       "\t<tr><th scope=col>&lt;dbl&gt;</th></tr>\n",
       "</thead>\n",
       "<tbody>\n",
       "\t<tr><td>0.2</td></tr>\n",
       "</tbody>\n",
       "</table>\n"
      ],
      "text/latex": [
       "A data.frame: 1 × 1\n",
       "\\begin{tabular}{l}\n",
       " perc\\\\\n",
       " <dbl>\\\\\n",
       "\\hline\n",
       "\t 0.2\\\\\n",
       "\\end{tabular}\n"
      ],
      "text/markdown": [
       "\n",
       "A data.frame: 1 × 1\n",
       "\n",
       "| perc &lt;dbl&gt; |\n",
       "|---|\n",
       "| 0.2 |\n",
       "\n"
      ],
      "text/plain": [
       "  perc\n",
       "1 0.2 "
      ]
     },
     "metadata": {},
     "output_type": "display_data"
    }
   ],
   "source": [
    "## Calculate increase in percent\n",
    "round(retention.article.activated.agg[6, \"perc\"] - retention.article.activated.agg[2, \"perc\"], 1)"
   ]
  },
  {
   "cell_type": "code",
   "execution_count": 122,
   "id": "04fb866f",
   "metadata": {},
   "outputs": [
    {
     "data": {
      "text/html": [
       "<table>\n",
       "<caption>A data.frame: 1 × 1</caption>\n",
       "<thead>\n",
       "\t<tr><th scope=col>perc</th></tr>\n",
       "\t<tr><th scope=col>&lt;dbl&gt;</th></tr>\n",
       "</thead>\n",
       "<tbody>\n",
       "\t<tr><td>1.2</td></tr>\n",
       "</tbody>\n",
       "</table>\n"
      ],
      "text/latex": [
       "A data.frame: 1 × 1\n",
       "\\begin{tabular}{l}\n",
       " perc\\\\\n",
       " <dbl>\\\\\n",
       "\\hline\n",
       "\t 1.2\\\\\n",
       "\\end{tabular}\n"
      ],
      "text/markdown": [
       "\n",
       "A data.frame: 1 × 1\n",
       "\n",
       "| perc &lt;dbl&gt; |\n",
       "|---|\n",
       "| 1.2 |\n",
       "\n"
      ],
      "text/plain": [
       "  perc\n",
       "1 1.2 "
      ]
     },
     "metadata": {},
     "output_type": "display_data"
    }
   ],
   "source": [
    "## Calculate increase in percent\n",
    "round(100 * (retention.article.activated.agg[6, \"perc\"] - retention.article.activated.agg[2, \"perc\"]) /\n",
    "        retention.article.activated.agg[2,\"perc\"], 1)"
   ]
  },
  {
   "cell_type": "markdown",
   "id": "8d00adfd",
   "metadata": {},
   "source": [
    "### Overall Constructive Retention"
   ]
  },
  {
   "cell_type": "code",
   "execution_count": 91,
   "id": "f692fbdf",
   "metadata": {},
   "outputs": [],
   "source": [
    "blas_set_num_threads(16)\n",
    "retention.constr.overall.full <-\n",
    "    glmer(\n",
    "        formula = is_const_retained ~ platform + Group +\n",
    "                    log_num_const_edits_24hrs + (1 + log_num_const_edits_24hrs | wiki_db),\n",
    "        data = user_edit_data,\n",
    "        family = binomial(link = \"logit\"))\n",
    "blas_set_num_threads(1)"
   ]
  },
  {
   "cell_type": "code",
   "execution_count": 92,
   "id": "e7697cf8",
   "metadata": {},
   "outputs": [
    {
     "data": {
      "text/plain": [
       "Generalized linear mixed model fit by maximum likelihood (Laplace\n",
       "  Approximation) [glmerMod]\n",
       " Family: binomial  ( logit )\n",
       "Formula: is_const_retained ~ platform + Group + log_num_const_edits_24hrs +  \n",
       "    (1 + log_num_const_edits_24hrs | wiki_db)\n",
       "   Data: user_edit_data\n",
       "\n",
       "     AIC      BIC   logLik deviance df.resid \n",
       "   33580    33658   -16782    33564   130171 \n",
       "\n",
       "Scaled residuals: \n",
       "    Min      1Q  Median      3Q     Max \n",
       "-26.982  -0.175  -0.106  -0.087   6.163 \n",
       "\n",
       "Random effects:\n",
       " Groups  Name                      Variance Std.Dev. Corr \n",
       " wiki_db (Intercept)               0.0722   0.269         \n",
       "         log_num_const_edits_24hrs 0.0242   0.156    -0.75\n",
       "Number of obs: 130179, groups:  wiki_db, 10\n",
       "\n",
       "Fixed effects:\n",
       "                          Estimate Std. Error z value            Pr(>|z|)    \n",
       "(Intercept)                -4.3446     0.0988  -43.96 <0.0000000000000002 ***\n",
       "platformmobile             -0.3846     0.0332  -11.59 <0.0000000000000002 ***\n",
       "GroupUnstructured           0.0791     0.0419    1.89               0.059 .  \n",
       "GroupAdd-a-link             0.0147     0.0418    0.35               0.725    \n",
       "log_num_const_edits_24hrs   1.9158     0.0557   34.38 <0.0000000000000002 ***\n",
       "---\n",
       "Signif. codes:  0 ‘***’ 0.001 ‘**’ 0.01 ‘*’ 0.05 ‘.’ 0.1 ‘ ’ 1\n",
       "\n",
       "Correlation of Fixed Effects:\n",
       "            (Intr) pltfrm GrpUns GrpA--\n",
       "platformmbl -0.135                     \n",
       "GrpUnstrctr -0.286  0.005              \n",
       "GrpAdd--lnk -0.278 -0.007  0.663       \n",
       "lg_nm_c__24 -0.713  0.008  0.008 -0.002"
      ]
     },
     "metadata": {},
     "output_type": "display_data"
    }
   ],
   "source": [
    "summary(retention.constr.overall.full)"
   ]
  },
  {
   "cell_type": "code",
   "execution_count": 93,
   "id": "62dddc0e",
   "metadata": {},
   "outputs": [
    {
     "data": {
      "text/html": [
       "<table>\n",
       "<caption>A grouped_df: 6 × 5</caption>\n",
       "<thead>\n",
       "\t<tr><th scope=col>Group</th><th scope=col>is_const_retained</th><th scope=col>n</th><th scope=col>perc</th><th scope=col>rounded_perc</th></tr>\n",
       "\t<tr><th scope=col>&lt;fct&gt;</th><th scope=col>&lt;lgl&gt;</th><th scope=col>&lt;int&gt;</th><th scope=col>&lt;dbl&gt;</th><th scope=col>&lt;dbl&gt;</th></tr>\n",
       "</thead>\n",
       "<tbody>\n",
       "\t<tr><td>Control     </td><td>FALSE</td><td>26164</td><td>95.71</td><td>95.7</td></tr>\n",
       "\t<tr><td>Control     </td><td> TRUE</td><td> 1172</td><td> 4.29</td><td> 4.3</td></tr>\n",
       "\t<tr><td>Unstructured</td><td>FALSE</td><td>49190</td><td>95.55</td><td>95.6</td></tr>\n",
       "\t<tr><td>Unstructured</td><td> TRUE</td><td> 2289</td><td> 4.45</td><td> 4.4</td></tr>\n",
       "\t<tr><td>Add-a-link  </td><td>FALSE</td><td>48977</td><td>95.35</td><td>95.4</td></tr>\n",
       "\t<tr><td>Add-a-link  </td><td> TRUE</td><td> 2387</td><td> 4.65</td><td> 4.6</td></tr>\n",
       "</tbody>\n",
       "</table>\n"
      ],
      "text/latex": [
       "A grouped\\_df: 6 × 5\n",
       "\\begin{tabular}{lllll}\n",
       " Group & is\\_const\\_retained & n & perc & rounded\\_perc\\\\\n",
       " <fct> & <lgl> & <int> & <dbl> & <dbl>\\\\\n",
       "\\hline\n",
       "\t Control      & FALSE & 26164 & 95.71 & 95.7\\\\\n",
       "\t Control      &  TRUE &  1172 &  4.29 &  4.3\\\\\n",
       "\t Unstructured & FALSE & 49190 & 95.55 & 95.6\\\\\n",
       "\t Unstructured &  TRUE &  2289 &  4.45 &  4.4\\\\\n",
       "\t Add-a-link   & FALSE & 48977 & 95.35 & 95.4\\\\\n",
       "\t Add-a-link   &  TRUE &  2387 &  4.65 &  4.6\\\\\n",
       "\\end{tabular}\n"
      ],
      "text/markdown": [
       "\n",
       "A grouped_df: 6 × 5\n",
       "\n",
       "| Group &lt;fct&gt; | is_const_retained &lt;lgl&gt; | n &lt;int&gt; | perc &lt;dbl&gt; | rounded_perc &lt;dbl&gt; |\n",
       "|---|---|---|---|---|\n",
       "| Control      | FALSE | 26164 | 95.71 | 95.7 |\n",
       "| Control      |  TRUE |  1172 |  4.29 |  4.3 |\n",
       "| Unstructured | FALSE | 49190 | 95.55 | 95.6 |\n",
       "| Unstructured |  TRUE |  2289 |  4.45 |  4.4 |\n",
       "| Add-a-link   | FALSE | 48977 | 95.35 | 95.4 |\n",
       "| Add-a-link   |  TRUE |  2387 |  4.65 |  4.6 |\n",
       "\n"
      ],
      "text/plain": [
       "  Group        is_const_retained n     perc  rounded_perc\n",
       "1 Control      FALSE             26164 95.71 95.7        \n",
       "2 Control       TRUE              1172  4.29  4.3        \n",
       "3 Unstructured FALSE             49190 95.55 95.6        \n",
       "4 Unstructured  TRUE              2289  4.45  4.4        \n",
       "5 Add-a-link   FALSE             48977 95.35 95.4        \n",
       "6 Add-a-link    TRUE              2387  4.65  4.6        "
      ]
     },
     "metadata": {},
     "output_type": "display_data"
    }
   ],
   "source": [
    "# Aggregate across the entire dataset the proportion of registrations retained\n",
    "retention.overall.constr.agg <- user_edit_data %>%\n",
    "    group_by(Group, is_const_retained) %>%\n",
    "    summarize(n = n(), .groups = 'keep') %>%\n",
    "    group_by(Group) %>%\n",
    "    mutate(perc = 100 * n / sum(n), rounded_perc = round(100 * n / sum(n), 1))\n",
    "retention.overall.constr.agg"
   ]
  },
  {
   "cell_type": "code",
   "execution_count": 94,
   "id": "4114dd75",
   "metadata": {},
   "outputs": [
    {
     "data": {
      "text/html": [
       "<table>\n",
       "<caption>A data.frame: 1 × 1</caption>\n",
       "<thead>\n",
       "\t<tr><th scope=col>perc</th></tr>\n",
       "\t<tr><th scope=col>&lt;dbl&gt;</th></tr>\n",
       "</thead>\n",
       "<tbody>\n",
       "\t<tr><td>0.2</td></tr>\n",
       "</tbody>\n",
       "</table>\n"
      ],
      "text/latex": [
       "A data.frame: 1 × 1\n",
       "\\begin{tabular}{l}\n",
       " perc\\\\\n",
       " <dbl>\\\\\n",
       "\\hline\n",
       "\t 0.2\\\\\n",
       "\\end{tabular}\n"
      ],
      "text/markdown": [
       "\n",
       "A data.frame: 1 × 1\n",
       "\n",
       "| perc &lt;dbl&gt; |\n",
       "|---|\n",
       "| 0.2 |\n",
       "\n"
      ],
      "text/plain": [
       "  perc\n",
       "1 0.2 "
      ]
     },
     "metadata": {},
     "output_type": "display_data"
    }
   ],
   "source": [
    "## Calculate increase in percent\n",
    "round(retention.overall.constr.agg[4, \"perc\"] - retention.overall.constr.agg[2, \"perc\"], 1)"
   ]
  },
  {
   "cell_type": "code",
   "execution_count": 95,
   "id": "1cf02a2d",
   "metadata": {},
   "outputs": [
    {
     "data": {
      "text/html": [
       "<table>\n",
       "<caption>A data.frame: 1 × 1</caption>\n",
       "<thead>\n",
       "\t<tr><th scope=col>perc</th></tr>\n",
       "\t<tr><th scope=col>&lt;dbl&gt;</th></tr>\n",
       "</thead>\n",
       "<tbody>\n",
       "\t<tr><td>3.7</td></tr>\n",
       "</tbody>\n",
       "</table>\n"
      ],
      "text/latex": [
       "A data.frame: 1 × 1\n",
       "\\begin{tabular}{l}\n",
       " perc\\\\\n",
       " <dbl>\\\\\n",
       "\\hline\n",
       "\t 3.7\\\\\n",
       "\\end{tabular}\n"
      ],
      "text/markdown": [
       "\n",
       "A data.frame: 1 × 1\n",
       "\n",
       "| perc &lt;dbl&gt; |\n",
       "|---|\n",
       "| 3.7 |\n",
       "\n"
      ],
      "text/plain": [
       "  perc\n",
       "1 3.7 "
      ]
     },
     "metadata": {},
     "output_type": "display_data"
    }
   ],
   "source": [
    "## Calculate increase in percent\n",
    "round(100 * (retention.overall.constr.agg[4, \"perc\"] - retention.overall.constr.agg[2, \"perc\"]) /\n",
    "        retention.overall.constr.agg[2,\"perc\"], 1)"
   ]
  },
  {
   "cell_type": "code",
   "execution_count": 96,
   "id": "3a6b80d8",
   "metadata": {},
   "outputs": [
    {
     "data": {
      "text/html": [
       "<table>\n",
       "<caption>A data.frame: 1 × 1</caption>\n",
       "<thead>\n",
       "\t<tr><th scope=col>perc</th></tr>\n",
       "\t<tr><th scope=col>&lt;dbl&gt;</th></tr>\n",
       "</thead>\n",
       "<tbody>\n",
       "\t<tr><td>0.4</td></tr>\n",
       "</tbody>\n",
       "</table>\n"
      ],
      "text/latex": [
       "A data.frame: 1 × 1\n",
       "\\begin{tabular}{l}\n",
       " perc\\\\\n",
       " <dbl>\\\\\n",
       "\\hline\n",
       "\t 0.4\\\\\n",
       "\\end{tabular}\n"
      ],
      "text/markdown": [
       "\n",
       "A data.frame: 1 × 1\n",
       "\n",
       "| perc &lt;dbl&gt; |\n",
       "|---|\n",
       "| 0.4 |\n",
       "\n"
      ],
      "text/plain": [
       "  perc\n",
       "1 0.4 "
      ]
     },
     "metadata": {},
     "output_type": "display_data"
    }
   ],
   "source": [
    "## Calculate increase in percent\n",
    "round(retention.overall.constr.agg[6, \"perc\"] - retention.overall.constr.agg[2, \"perc\"], 1)"
   ]
  },
  {
   "cell_type": "code",
   "execution_count": 97,
   "id": "5dbfd928",
   "metadata": {},
   "outputs": [
    {
     "data": {
      "text/html": [
       "<table>\n",
       "<caption>A data.frame: 1 × 1</caption>\n",
       "<thead>\n",
       "\t<tr><th scope=col>perc</th></tr>\n",
       "\t<tr><th scope=col>&lt;dbl&gt;</th></tr>\n",
       "</thead>\n",
       "<tbody>\n",
       "\t<tr><td>8.4</td></tr>\n",
       "</tbody>\n",
       "</table>\n"
      ],
      "text/latex": [
       "A data.frame: 1 × 1\n",
       "\\begin{tabular}{l}\n",
       " perc\\\\\n",
       " <dbl>\\\\\n",
       "\\hline\n",
       "\t 8.4\\\\\n",
       "\\end{tabular}\n"
      ],
      "text/markdown": [
       "\n",
       "A data.frame: 1 × 1\n",
       "\n",
       "| perc &lt;dbl&gt; |\n",
       "|---|\n",
       "| 8.4 |\n",
       "\n"
      ],
      "text/plain": [
       "  perc\n",
       "1 8.4 "
      ]
     },
     "metadata": {},
     "output_type": "display_data"
    }
   ],
   "source": [
    "## Calculate increase in percent\n",
    "round(100 * (retention.overall.constr.agg[6, \"perc\"] - retention.overall.constr.agg[2, \"perc\"]) /\n",
    "        retention.overall.constr.agg[2,\"perc\"], 1)"
   ]
  },
  {
   "cell_type": "markdown",
   "id": "364c0cb1",
   "metadata": {},
   "source": [
    "Same aggregation but based on users who constructively activate:"
   ]
  },
  {
   "cell_type": "code",
   "execution_count": 98,
   "id": "0cd38789",
   "metadata": {},
   "outputs": [
    {
     "data": {
      "text/html": [
       "<table>\n",
       "<caption>A grouped_df: 6 × 5</caption>\n",
       "<thead>\n",
       "\t<tr><th scope=col>Group</th><th scope=col>is_const_retained</th><th scope=col>n</th><th scope=col>perc</th><th scope=col>rounded_perc</th></tr>\n",
       "\t<tr><th scope=col>&lt;fct&gt;</th><th scope=col>&lt;lgl&gt;</th><th scope=col>&lt;int&gt;</th><th scope=col>&lt;dbl&gt;</th><th scope=col>&lt;dbl&gt;</th></tr>\n",
       "</thead>\n",
       "<tbody>\n",
       "\t<tr><td>Control     </td><td>FALSE</td><td> 7406</td><td>86.3</td><td>86.3</td></tr>\n",
       "\t<tr><td>Control     </td><td> TRUE</td><td> 1172</td><td>13.7</td><td>13.7</td></tr>\n",
       "\t<tr><td>Unstructured</td><td>FALSE</td><td>13873</td><td>85.8</td><td>85.8</td></tr>\n",
       "\t<tr><td>Unstructured</td><td> TRUE</td><td> 2289</td><td>14.2</td><td>14.2</td></tr>\n",
       "\t<tr><td>Add-a-link  </td><td>FALSE</td><td>14603</td><td>86.0</td><td>86.0</td></tr>\n",
       "\t<tr><td>Add-a-link  </td><td> TRUE</td><td> 2387</td><td>14.0</td><td>14.0</td></tr>\n",
       "</tbody>\n",
       "</table>\n"
      ],
      "text/latex": [
       "A grouped\\_df: 6 × 5\n",
       "\\begin{tabular}{lllll}\n",
       " Group & is\\_const\\_retained & n & perc & rounded\\_perc\\\\\n",
       " <fct> & <lgl> & <int> & <dbl> & <dbl>\\\\\n",
       "\\hline\n",
       "\t Control      & FALSE &  7406 & 86.3 & 86.3\\\\\n",
       "\t Control      &  TRUE &  1172 & 13.7 & 13.7\\\\\n",
       "\t Unstructured & FALSE & 13873 & 85.8 & 85.8\\\\\n",
       "\t Unstructured &  TRUE &  2289 & 14.2 & 14.2\\\\\n",
       "\t Add-a-link   & FALSE & 14603 & 86.0 & 86.0\\\\\n",
       "\t Add-a-link   &  TRUE &  2387 & 14.0 & 14.0\\\\\n",
       "\\end{tabular}\n"
      ],
      "text/markdown": [
       "\n",
       "A grouped_df: 6 × 5\n",
       "\n",
       "| Group &lt;fct&gt; | is_const_retained &lt;lgl&gt; | n &lt;int&gt; | perc &lt;dbl&gt; | rounded_perc &lt;dbl&gt; |\n",
       "|---|---|---|---|---|\n",
       "| Control      | FALSE |  7406 | 86.3 | 86.3 |\n",
       "| Control      |  TRUE |  1172 | 13.7 | 13.7 |\n",
       "| Unstructured | FALSE | 13873 | 85.8 | 85.8 |\n",
       "| Unstructured |  TRUE |  2289 | 14.2 | 14.2 |\n",
       "| Add-a-link   | FALSE | 14603 | 86.0 | 86.0 |\n",
       "| Add-a-link   |  TRUE |  2387 | 14.0 | 14.0 |\n",
       "\n"
      ],
      "text/plain": [
       "  Group        is_const_retained n     perc rounded_perc\n",
       "1 Control      FALSE              7406 86.3 86.3        \n",
       "2 Control       TRUE              1172 13.7 13.7        \n",
       "3 Unstructured FALSE             13873 85.8 85.8        \n",
       "4 Unstructured  TRUE              2289 14.2 14.2        \n",
       "5 Add-a-link   FALSE             14603 86.0 86.0        \n",
       "6 Add-a-link    TRUE              2387 14.0 14.0        "
      ]
     },
     "metadata": {},
     "output_type": "display_data"
    }
   ],
   "source": [
    "# Aggregate across the entire dataset the proportion of registrations retained\n",
    "retention.overall.const_activated.agg <- user_edit_data %>%\n",
    "    filter(is_const_activated == TRUE) %>%\n",
    "    group_by(Group, is_const_retained) %>%\n",
    "    summarize(n = n(), .groups = 'keep') %>%\n",
    "    group_by(Group) %>%\n",
    "    mutate(perc = 100 * n / sum(n), rounded_perc = round(100 * n / sum(n), 1))\n",
    "retention.overall.const_activated.agg"
   ]
  },
  {
   "cell_type": "code",
   "execution_count": 99,
   "id": "e7f31e79",
   "metadata": {},
   "outputs": [
    {
     "data": {
      "text/html": [
       "<table>\n",
       "<caption>A data.frame: 1 × 1</caption>\n",
       "<thead>\n",
       "\t<tr><th scope=col>perc</th></tr>\n",
       "\t<tr><th scope=col>&lt;dbl&gt;</th></tr>\n",
       "</thead>\n",
       "<tbody>\n",
       "\t<tr><td>0.5</td></tr>\n",
       "</tbody>\n",
       "</table>\n"
      ],
      "text/latex": [
       "A data.frame: 1 × 1\n",
       "\\begin{tabular}{l}\n",
       " perc\\\\\n",
       " <dbl>\\\\\n",
       "\\hline\n",
       "\t 0.5\\\\\n",
       "\\end{tabular}\n"
      ],
      "text/markdown": [
       "\n",
       "A data.frame: 1 × 1\n",
       "\n",
       "| perc &lt;dbl&gt; |\n",
       "|---|\n",
       "| 0.5 |\n",
       "\n"
      ],
      "text/plain": [
       "  perc\n",
       "1 0.5 "
      ]
     },
     "metadata": {},
     "output_type": "display_data"
    }
   ],
   "source": [
    "## Calculate increase in percent\n",
    "round(retention.overall.const_activated.agg[4, \"perc\"] - retention.overall.const_activated.agg[2, \"perc\"], 1)"
   ]
  },
  {
   "cell_type": "code",
   "execution_count": 100,
   "id": "6e830efe",
   "metadata": {},
   "outputs": [
    {
     "data": {
      "text/html": [
       "<table>\n",
       "<caption>A data.frame: 1 × 1</caption>\n",
       "<thead>\n",
       "\t<tr><th scope=col>perc</th></tr>\n",
       "\t<tr><th scope=col>&lt;dbl&gt;</th></tr>\n",
       "</thead>\n",
       "<tbody>\n",
       "\t<tr><td>3.7</td></tr>\n",
       "</tbody>\n",
       "</table>\n"
      ],
      "text/latex": [
       "A data.frame: 1 × 1\n",
       "\\begin{tabular}{l}\n",
       " perc\\\\\n",
       " <dbl>\\\\\n",
       "\\hline\n",
       "\t 3.7\\\\\n",
       "\\end{tabular}\n"
      ],
      "text/markdown": [
       "\n",
       "A data.frame: 1 × 1\n",
       "\n",
       "| perc &lt;dbl&gt; |\n",
       "|---|\n",
       "| 3.7 |\n",
       "\n"
      ],
      "text/plain": [
       "  perc\n",
       "1 3.7 "
      ]
     },
     "metadata": {},
     "output_type": "display_data"
    }
   ],
   "source": [
    "## Calculate increase in percent\n",
    "round(100 * (retention.overall.const_activated.agg[4, \"perc\"] - retention.overall.const_activated.agg[2, \"perc\"]) /\n",
    "        retention.overall.const_activated.agg[2,\"perc\"], 1)"
   ]
  },
  {
   "cell_type": "code",
   "execution_count": 101,
   "id": "d8e4be7f",
   "metadata": {},
   "outputs": [
    {
     "data": {
      "text/html": [
       "<table>\n",
       "<caption>A data.frame: 1 × 1</caption>\n",
       "<thead>\n",
       "\t<tr><th scope=col>perc</th></tr>\n",
       "\t<tr><th scope=col>&lt;dbl&gt;</th></tr>\n",
       "</thead>\n",
       "<tbody>\n",
       "\t<tr><td>0.4</td></tr>\n",
       "</tbody>\n",
       "</table>\n"
      ],
      "text/latex": [
       "A data.frame: 1 × 1\n",
       "\\begin{tabular}{l}\n",
       " perc\\\\\n",
       " <dbl>\\\\\n",
       "\\hline\n",
       "\t 0.4\\\\\n",
       "\\end{tabular}\n"
      ],
      "text/markdown": [
       "\n",
       "A data.frame: 1 × 1\n",
       "\n",
       "| perc &lt;dbl&gt; |\n",
       "|---|\n",
       "| 0.4 |\n",
       "\n"
      ],
      "text/plain": [
       "  perc\n",
       "1 0.4 "
      ]
     },
     "metadata": {},
     "output_type": "display_data"
    }
   ],
   "source": [
    "## Calculate increase in percent\n",
    "round(retention.overall.const_activated.agg[6, \"perc\"] - retention.overall.const_activated.agg[2, \"perc\"], 1)"
   ]
  },
  {
   "cell_type": "code",
   "execution_count": 102,
   "id": "a67ec10d",
   "metadata": {},
   "outputs": [
    {
     "data": {
      "text/html": [
       "<table>\n",
       "<caption>A data.frame: 1 × 1</caption>\n",
       "<thead>\n",
       "\t<tr><th scope=col>perc</th></tr>\n",
       "\t<tr><th scope=col>&lt;dbl&gt;</th></tr>\n",
       "</thead>\n",
       "<tbody>\n",
       "\t<tr><td>2.8</td></tr>\n",
       "</tbody>\n",
       "</table>\n"
      ],
      "text/latex": [
       "A data.frame: 1 × 1\n",
       "\\begin{tabular}{l}\n",
       " perc\\\\\n",
       " <dbl>\\\\\n",
       "\\hline\n",
       "\t 2.8\\\\\n",
       "\\end{tabular}\n"
      ],
      "text/markdown": [
       "\n",
       "A data.frame: 1 × 1\n",
       "\n",
       "| perc &lt;dbl&gt; |\n",
       "|---|\n",
       "| 2.8 |\n",
       "\n"
      ],
      "text/plain": [
       "  perc\n",
       "1 2.8 "
      ]
     },
     "metadata": {},
     "output_type": "display_data"
    }
   ],
   "source": [
    "## Calculate increase in percent\n",
    "round(100 * (retention.overall.const_activated.agg[6, \"perc\"] - retention.overall.const_activated.agg[2, \"perc\"]) /\n",
    "        retention.overall.const_activated.agg[2,\"perc\"], 1)"
   ]
  },
  {
   "cell_type": "markdown",
   "id": "e57e167a",
   "metadata": {},
   "source": [
    "### Constructive Article Retention"
   ]
  },
  {
   "cell_type": "code",
   "execution_count": 133,
   "id": "6b82fa35",
   "metadata": {},
   "outputs": [
    {
     "name": "stderr",
     "output_type": "stream",
     "text": [
      "Warning message in checkConv(attr(opt, \"derivs\"), opt$par, ctrl = control$checkConv, :\n",
      "“unable to evaluate scaled gradient”\n",
      "Warning message in checkConv(attr(opt, \"derivs\"), opt$par, ctrl = control$checkConv, :\n",
      "“Model failed to converge: degenerate  Hessian with 1 negative eigenvalues”\n"
     ]
    }
   ],
   "source": [
    "blas_set_num_threads(16)\n",
    "retention.constr.article.full <-\n",
    "    glmer(\n",
    "        formula = is_const_retained_article ~ platform + Group +\n",
    "                    is_const_activated_article + log_num_const_article_edits_24hrs +\n",
    "                    (1 | wiki_db),\n",
    "        data = user_edit_data,\n",
    "        family = binomial(link = \"logit\"))\n",
    "blas_set_num_threads(1)"
   ]
  },
  {
   "cell_type": "code",
   "execution_count": 134,
   "id": "6ed631f0",
   "metadata": {},
   "outputs": [
    {
     "name": "stderr",
     "output_type": "stream",
     "text": [
      "Warning message in checkConv(attr(opt, \"derivs\"), opt$par, ctrl = control$checkConv, :\n",
      "“Model failed to converge with max|grad| = 0.00441432 (tol = 0.002, component 1)”\n"
     ]
    }
   ],
   "source": [
    "## If model didn't converge, restart and give it some more iterations:\n",
    "start_vals = getME(retention.constr.article.full, c(\"theta\", \"fixef\"))\n",
    "blas_set_num_threads(16)\n",
    "retention.constr.article.full = update(retention.constr.article.full, start = start_vals,\n",
    "                                    control = glmerControl(optCtrl = list(maxfun = 2e4)))\n",
    "blas_set_num_threads(1)"
   ]
  },
  {
   "cell_type": "code",
   "execution_count": 135,
   "id": "d612507b",
   "metadata": {},
   "outputs": [],
   "source": [
    "blas_set_num_threads(16)\n",
    "retention.constr.article.full <-\n",
    "    glmer(\n",
    "        formula = is_const_retained_article ~ platform + Group +\n",
    "                    log_num_const_article_edits_24hrs +\n",
    "                    (1 | wiki_db),\n",
    "        data = user_edit_data,\n",
    "        family = binomial(link = \"logit\"))\n",
    "blas_set_num_threads(1)"
   ]
  },
  {
   "cell_type": "code",
   "execution_count": 136,
   "id": "df2fa185",
   "metadata": {},
   "outputs": [
    {
     "data": {
      "text/plain": [
       "Generalized linear mixed model fit by maximum likelihood (Laplace\n",
       "  Approximation) [glmerMod]\n",
       " Family: binomial  ( logit )\n",
       "Formula: \n",
       "is_const_retained_article ~ platform + Group + log_num_const_article_edits_24hrs +  \n",
       "    (1 | wiki_db)\n",
       "   Data: user_edit_data\n",
       "\n",
       "     AIC      BIC   logLik deviance df.resid \n",
       "   24527    24586   -12258    24515   130173 \n",
       "\n",
       "Scaled residuals: \n",
       "   Min     1Q Median     3Q    Max \n",
       "-38.23  -0.10  -0.09  -0.08   6.78 \n",
       "\n",
       "Random effects:\n",
       " Groups  Name        Variance Std.Dev.\n",
       " wiki_db (Intercept) 0.0241   0.155   \n",
       "Number of obs: 130179, groups:  wiki_db, 10\n",
       "\n",
       "Fixed effects:\n",
       "                                  Estimate Std. Error z value\n",
       "(Intercept)                        -4.6717     0.0723  -64.64\n",
       "platformmobile                     -0.4149     0.0402  -10.33\n",
       "GroupUnstructured                   0.1024     0.0506    2.02\n",
       "GroupAdd-a-link                    -0.0138     0.0505   -0.27\n",
       "log_num_const_article_edits_24hrs   2.1151     0.0220   96.33\n",
       "                                             Pr(>|z|)    \n",
       "(Intercept)                       <0.0000000000000002 ***\n",
       "platformmobile                    <0.0000000000000002 ***\n",
       "GroupUnstructured                               0.043 *  \n",
       "GroupAdd-a-link                                 0.785    \n",
       "log_num_const_article_edits_24hrs <0.0000000000000002 ***\n",
       "---\n",
       "Signif. codes:  0 ‘***’ 0.001 ‘**’ 0.01 ‘*’ 0.05 ‘.’ 0.1 ‘ ’ 1\n",
       "\n",
       "Correlation of Fixed Effects:\n",
       "            (Intr) pltfrm GrpUns GrpA--\n",
       "platformmbl -0.208                     \n",
       "GrpUnstrctr -0.475  0.006              \n",
       "GrpAdd--lnk -0.453 -0.008  0.671       \n",
       "lg_nm____24 -0.336  0.013  0.019 -0.034"
      ]
     },
     "metadata": {},
     "output_type": "display_data"
    }
   ],
   "source": [
    "summary(retention.constr.article.full)"
   ]
  },
  {
   "cell_type": "code",
   "execution_count": 139,
   "id": "e1d241e6",
   "metadata": {},
   "outputs": [],
   "source": [
    "blas_set_num_threads(16)\n",
    "retention.constr.article.full.growth <-\n",
    "    user_edit_data %>%\n",
    "    filter(Group != 'Control') %>%\n",
    "    glmer(\n",
    "        formula = is_const_retained_article ~ platform + Group +\n",
    "                    log_num_const_article_edits_24hrs +\n",
    "                    (1 | wiki_db),\n",
    "        family = binomial(link = \"logit\"))\n",
    "blas_set_num_threads(1)"
   ]
  },
  {
   "cell_type": "code",
   "execution_count": 140,
   "id": "efbb0402",
   "metadata": {},
   "outputs": [
    {
     "data": {
      "text/plain": [
       "Generalized linear mixed model fit by maximum likelihood (Laplace\n",
       "  Approximation) [glmerMod]\n",
       " Family: binomial  ( logit )\n",
       "Formula: \n",
       "is_const_retained_article ~ platform + Group + log_num_const_article_edits_24hrs +  \n",
       "    (1 | wiki_db)\n",
       "   Data: .\n",
       "\n",
       "     AIC      BIC   logLik deviance df.resid \n",
       "   19752    19800    -9871    19742   102838 \n",
       "\n",
       "Scaled residuals: \n",
       "   Min     1Q Median     3Q    Max \n",
       "-37.69  -0.10  -0.09  -0.08   6.54 \n",
       "\n",
       "Random effects:\n",
       " Groups  Name        Variance Std.Dev.\n",
       " wiki_db (Intercept) 0.0105   0.102   \n",
       "Number of obs: 102843, groups:  wiki_db, 10\n",
       "\n",
       "Fixed effects:\n",
       "                                  Estimate Std. Error z value\n",
       "(Intercept)                        -4.5661     0.0562  -81.30\n",
       "platformmobile                     -0.4241     0.0445   -9.54\n",
       "GroupAdd-a-link                    -0.1151     0.0410   -2.80\n",
       "log_num_const_article_edits_24hrs   2.1066     0.0245   86.14\n",
       "                                             Pr(>|z|)    \n",
       "(Intercept)                       <0.0000000000000002 ***\n",
       "platformmobile                    <0.0000000000000002 ***\n",
       "GroupAdd-a-link                                 0.005 ** \n",
       "log_num_const_article_edits_24hrs <0.0000000000000002 ***\n",
       "---\n",
       "Signif. codes:  0 ‘***’ 0.001 ‘**’ 0.01 ‘*’ 0.05 ‘.’ 0.1 ‘ ’ 1\n",
       "\n",
       "Correlation of Fixed Effects:\n",
       "            (Intr) pltfrm GrpA--\n",
       "platformmbl -0.285              \n",
       "GrpAdd--lnk -0.325 -0.018       \n",
       "lg_nm____24 -0.467  0.008 -0.073"
      ]
     },
     "metadata": {},
     "output_type": "display_data"
    }
   ],
   "source": [
    "summary(retention.constr.article.full.growth)"
   ]
  },
  {
   "cell_type": "code",
   "execution_count": 141,
   "id": "0bc888b3",
   "metadata": {},
   "outputs": [],
   "source": [
    "blas_set_num_threads(16)\n",
    "retention.constr.article.noactivation <-\n",
    "    glmer(\n",
    "        formula = is_const_retained_article ~ platform + Group + (1 | wiki_db),\n",
    "        data = user_edit_data,\n",
    "        family = binomial(link = \"logit\"))\n",
    "blas_set_num_threads(1)"
   ]
  },
  {
   "cell_type": "code",
   "execution_count": 142,
   "id": "146b62ac",
   "metadata": {},
   "outputs": [
    {
     "data": {
      "text/plain": [
       "Generalized linear mixed model fit by maximum likelihood (Laplace\n",
       "  Approximation) [glmerMod]\n",
       " Family: binomial  ( logit )\n",
       "Formula: is_const_retained_article ~ platform + Group + (1 | wiki_db)\n",
       "   Data: user_edit_data\n",
       "\n",
       "     AIC      BIC   logLik deviance df.resid \n",
       "   36176    36225   -18083    36166   130174 \n",
       "\n",
       "Scaled residuals: \n",
       "   Min     1Q Median     3Q    Max \n",
       "-0.275 -0.206 -0.173 -0.145  8.273 \n",
       "\n",
       "Random effects:\n",
       " Groups  Name        Variance Std.Dev.\n",
       " wiki_db (Intercept) 0.0926   0.304   \n",
       "Number of obs: 130179, groups:  wiki_db, 10\n",
       "\n",
       "Fixed effects:\n",
       "                  Estimate Std. Error z value            Pr(>|z|)    \n",
       "(Intercept)        -3.1508     0.1032  -30.53 <0.0000000000000002 ***\n",
       "platformmobile     -0.5833     0.0343  -16.98 <0.0000000000000002 ***\n",
       "GroupUnstructured   0.0799     0.0437    1.83              0.0677 .  \n",
       "GroupAdd-a-link     0.1393     0.0434    3.21              0.0013 ** \n",
       "---\n",
       "Signif. codes:  0 ‘***’ 0.001 ‘**’ 0.01 ‘*’ 0.05 ‘.’ 0.1 ‘ ’ 1\n",
       "\n",
       "Correlation of Fixed Effects:\n",
       "            (Intr) pltfrm GrpUns\n",
       "platformmbl -0.114              \n",
       "GrpUnstrctr -0.276  0.000       \n",
       "GrpAdd--lnk -0.277 -0.004  0.676"
      ]
     },
     "metadata": {},
     "output_type": "display_data"
    }
   ],
   "source": [
    "summary(retention.constr.article.noactivation)"
   ]
  },
  {
   "cell_type": "code",
   "execution_count": 143,
   "id": "9629ad12",
   "metadata": {},
   "outputs": [],
   "source": [
    "blas_set_num_threads(16)\n",
    "retention.constr.article.noactivation.growth <-\n",
    "    user_edit_data %>%\n",
    "    filter(Group != 'Control') %>%\n",
    "    glmer(\n",
    "        formula = is_const_retained_article ~ platform + Group + (1 | wiki_db),\n",
    "        family = binomial(link = \"logit\"))\n",
    "blas_set_num_threads(1)"
   ]
  },
  {
   "cell_type": "code",
   "execution_count": 144,
   "id": "5cfbec5b",
   "metadata": {},
   "outputs": [
    {
     "data": {
      "text/plain": [
       "Generalized linear mixed model fit by maximum likelihood (Laplace\n",
       "  Approximation) [glmerMod]\n",
       " Family: binomial  ( logit )\n",
       "Formula: is_const_retained_article ~ platform + Group + (1 | wiki_db)\n",
       "   Data: .\n",
       "\n",
       "     AIC      BIC   logLik deviance df.resid \n",
       "   29140    29178   -14566    29132   102839 \n",
       "\n",
       "Scaled residuals: \n",
       "   Min     1Q Median     3Q    Max \n",
       "-0.277 -0.207 -0.173 -0.150  7.945 \n",
       "\n",
       "Random effects:\n",
       " Groups  Name        Variance Std.Dev.\n",
       " wiki_db (Intercept) 0.0843   0.29    \n",
       "Number of obs: 102843, groups:  wiki_db, 10\n",
       "\n",
       "Fixed effects:\n",
       "                Estimate Std. Error z value            Pr(>|z|)    \n",
       "(Intercept)      -3.0768     0.0978  -31.47 <0.0000000000000002 ***\n",
       "platformmobile   -0.5814     0.0382  -15.22 <0.0000000000000002 ***\n",
       "GroupAdd-a-link   0.0594     0.0351    1.69               0.091 .  \n",
       "---\n",
       "Signif. codes:  0 ‘***’ 0.001 ‘**’ 0.01 ‘*’ 0.05 ‘.’ 0.1 ‘ ’ 1\n",
       "\n",
       "Correlation of Fixed Effects:\n",
       "            (Intr) pltfrm\n",
       "platformmbl -0.138       \n",
       "GrpAdd--lnk -0.183 -0.005"
      ]
     },
     "metadata": {},
     "output_type": "display_data"
    }
   ],
   "source": [
    "summary(retention.constr.article.noactivation.growth)"
   ]
  },
  {
   "cell_type": "code",
   "execution_count": 16,
   "id": "b9bda0ff",
   "metadata": {},
   "outputs": [
    {
     "data": {
      "text/html": [
       "<table>\n",
       "<caption>A grouped_df: 6 × 5</caption>\n",
       "<thead>\n",
       "\t<tr><th scope=col>Group</th><th scope=col>is_const_retained_article</th><th scope=col>n</th><th scope=col>perc</th><th scope=col>rounded_perc</th></tr>\n",
       "\t<tr><th scope=col>&lt;fct&gt;</th><th scope=col>&lt;lgl&gt;</th><th scope=col>&lt;int&gt;</th><th scope=col>&lt;dbl&gt;</th><th scope=col>&lt;dbl&gt;</th></tr>\n",
       "</thead>\n",
       "<tbody>\n",
       "\t<tr><td>Control     </td><td>FALSE</td><td>26543</td><td>97.10</td><td>97.1</td></tr>\n",
       "\t<tr><td>Control     </td><td> TRUE</td><td>  793</td><td> 2.90</td><td> 2.9</td></tr>\n",
       "\t<tr><td>Unstructured</td><td>FALSE</td><td>49838</td><td>96.81</td><td>96.8</td></tr>\n",
       "\t<tr><td>Unstructured</td><td> TRUE</td><td> 1641</td><td> 3.19</td><td> 3.2</td></tr>\n",
       "\t<tr><td>Add-a-link  </td><td>FALSE</td><td>49633</td><td>96.63</td><td>96.6</td></tr>\n",
       "\t<tr><td>Add-a-link  </td><td> TRUE</td><td> 1731</td><td> 3.37</td><td> 3.4</td></tr>\n",
       "</tbody>\n",
       "</table>\n"
      ],
      "text/latex": [
       "A grouped\\_df: 6 × 5\n",
       "\\begin{tabular}{lllll}\n",
       " Group & is\\_const\\_retained\\_article & n & perc & rounded\\_perc\\\\\n",
       " <fct> & <lgl> & <int> & <dbl> & <dbl>\\\\\n",
       "\\hline\n",
       "\t Control      & FALSE & 26543 & 97.10 & 97.1\\\\\n",
       "\t Control      &  TRUE &   793 &  2.90 &  2.9\\\\\n",
       "\t Unstructured & FALSE & 49838 & 96.81 & 96.8\\\\\n",
       "\t Unstructured &  TRUE &  1641 &  3.19 &  3.2\\\\\n",
       "\t Add-a-link   & FALSE & 49633 & 96.63 & 96.6\\\\\n",
       "\t Add-a-link   &  TRUE &  1731 &  3.37 &  3.4\\\\\n",
       "\\end{tabular}\n"
      ],
      "text/markdown": [
       "\n",
       "A grouped_df: 6 × 5\n",
       "\n",
       "| Group &lt;fct&gt; | is_const_retained_article &lt;lgl&gt; | n &lt;int&gt; | perc &lt;dbl&gt; | rounded_perc &lt;dbl&gt; |\n",
       "|---|---|---|---|---|\n",
       "| Control      | FALSE | 26543 | 97.10 | 97.1 |\n",
       "| Control      |  TRUE |   793 |  2.90 |  2.9 |\n",
       "| Unstructured | FALSE | 49838 | 96.81 | 96.8 |\n",
       "| Unstructured |  TRUE |  1641 |  3.19 |  3.2 |\n",
       "| Add-a-link   | FALSE | 49633 | 96.63 | 96.6 |\n",
       "| Add-a-link   |  TRUE |  1731 |  3.37 |  3.4 |\n",
       "\n"
      ],
      "text/plain": [
       "  Group        is_const_retained_article n     perc  rounded_perc\n",
       "1 Control      FALSE                     26543 97.10 97.1        \n",
       "2 Control       TRUE                       793  2.90  2.9        \n",
       "3 Unstructured FALSE                     49838 96.81 96.8        \n",
       "4 Unstructured  TRUE                      1641  3.19  3.2        \n",
       "5 Add-a-link   FALSE                     49633 96.63 96.6        \n",
       "6 Add-a-link    TRUE                      1731  3.37  3.4        "
      ]
     },
     "metadata": {},
     "output_type": "display_data"
    }
   ],
   "source": [
    "# Aggregate across the entire dataset the proportion of registrations retained\n",
    "retention.article.constr.agg <- user_edit_data %>%\n",
    "    group_by(Group, is_const_retained_article) %>%\n",
    "    summarize(n = n(), .groups = 'keep') %>%\n",
    "    group_by(Group) %>%\n",
    "    mutate(perc = 100 * n / sum(n), rounded_perc = round(100 * n / sum(n), 1))\n",
    "retention.article.constr.agg"
   ]
  },
  {
   "cell_type": "code",
   "execution_count": 17,
   "id": "b579c202",
   "metadata": {},
   "outputs": [
    {
     "data": {
      "text/html": [
       "<table>\n",
       "<caption>A data.frame: 1 × 1</caption>\n",
       "<thead>\n",
       "\t<tr><th scope=col>perc</th></tr>\n",
       "\t<tr><th scope=col>&lt;dbl&gt;</th></tr>\n",
       "</thead>\n",
       "<tbody>\n",
       "\t<tr><td>0.3</td></tr>\n",
       "</tbody>\n",
       "</table>\n"
      ],
      "text/latex": [
       "A data.frame: 1 × 1\n",
       "\\begin{tabular}{l}\n",
       " perc\\\\\n",
       " <dbl>\\\\\n",
       "\\hline\n",
       "\t 0.3\\\\\n",
       "\\end{tabular}\n"
      ],
      "text/markdown": [
       "\n",
       "A data.frame: 1 × 1\n",
       "\n",
       "| perc &lt;dbl&gt; |\n",
       "|---|\n",
       "| 0.3 |\n",
       "\n"
      ],
      "text/plain": [
       "  perc\n",
       "1 0.3 "
      ]
     },
     "metadata": {},
     "output_type": "display_data"
    }
   ],
   "source": [
    "## Calculate increase in percent\n",
    "round(retention.article.constr.agg[4, \"perc\"] - retention.article.constr.agg[2, \"perc\"], 1)"
   ]
  },
  {
   "cell_type": "code",
   "execution_count": 18,
   "id": "c6b27e82",
   "metadata": {},
   "outputs": [
    {
     "data": {
      "text/html": [
       "<table>\n",
       "<caption>A data.frame: 1 × 1</caption>\n",
       "<thead>\n",
       "\t<tr><th scope=col>perc</th></tr>\n",
       "\t<tr><th scope=col>&lt;dbl&gt;</th></tr>\n",
       "</thead>\n",
       "<tbody>\n",
       "\t<tr><td>9.9</td></tr>\n",
       "</tbody>\n",
       "</table>\n"
      ],
      "text/latex": [
       "A data.frame: 1 × 1\n",
       "\\begin{tabular}{l}\n",
       " perc\\\\\n",
       " <dbl>\\\\\n",
       "\\hline\n",
       "\t 9.9\\\\\n",
       "\\end{tabular}\n"
      ],
      "text/markdown": [
       "\n",
       "A data.frame: 1 × 1\n",
       "\n",
       "| perc &lt;dbl&gt; |\n",
       "|---|\n",
       "| 9.9 |\n",
       "\n"
      ],
      "text/plain": [
       "  perc\n",
       "1 9.9 "
      ]
     },
     "metadata": {},
     "output_type": "display_data"
    }
   ],
   "source": [
    "## Calculate increase in percent\n",
    "round(100 * (retention.article.constr.agg[4, \"perc\"] - retention.article.constr.agg[2, \"perc\"]) /\n",
    "        retention.article.constr.agg[2,\"perc\"], 1)"
   ]
  },
  {
   "cell_type": "code",
   "execution_count": 19,
   "id": "550cdabf",
   "metadata": {},
   "outputs": [
    {
     "data": {
      "text/html": [
       "<table>\n",
       "<caption>A data.frame: 1 × 1</caption>\n",
       "<thead>\n",
       "\t<tr><th scope=col>perc</th></tr>\n",
       "\t<tr><th scope=col>&lt;dbl&gt;</th></tr>\n",
       "</thead>\n",
       "<tbody>\n",
       "\t<tr><td>0.5</td></tr>\n",
       "</tbody>\n",
       "</table>\n"
      ],
      "text/latex": [
       "A data.frame: 1 × 1\n",
       "\\begin{tabular}{l}\n",
       " perc\\\\\n",
       " <dbl>\\\\\n",
       "\\hline\n",
       "\t 0.5\\\\\n",
       "\\end{tabular}\n"
      ],
      "text/markdown": [
       "\n",
       "A data.frame: 1 × 1\n",
       "\n",
       "| perc &lt;dbl&gt; |\n",
       "|---|\n",
       "| 0.5 |\n",
       "\n"
      ],
      "text/plain": [
       "  perc\n",
       "1 0.5 "
      ]
     },
     "metadata": {},
     "output_type": "display_data"
    }
   ],
   "source": [
    "## Calculate increase in percent\n",
    "round(retention.article.constr.agg[6, \"perc\"] - retention.article.constr.agg[2, \"perc\"], 1)"
   ]
  },
  {
   "cell_type": "code",
   "execution_count": 20,
   "id": "3f0800b8",
   "metadata": {},
   "outputs": [
    {
     "data": {
      "text/html": [
       "<table>\n",
       "<caption>A data.frame: 1 × 1</caption>\n",
       "<thead>\n",
       "\t<tr><th scope=col>perc</th></tr>\n",
       "\t<tr><th scope=col>&lt;dbl&gt;</th></tr>\n",
       "</thead>\n",
       "<tbody>\n",
       "\t<tr><td>16.2</td></tr>\n",
       "</tbody>\n",
       "</table>\n"
      ],
      "text/latex": [
       "A data.frame: 1 × 1\n",
       "\\begin{tabular}{l}\n",
       " perc\\\\\n",
       " <dbl>\\\\\n",
       "\\hline\n",
       "\t 16.2\\\\\n",
       "\\end{tabular}\n"
      ],
      "text/markdown": [
       "\n",
       "A data.frame: 1 × 1\n",
       "\n",
       "| perc &lt;dbl&gt; |\n",
       "|---|\n",
       "| 16.2 |\n",
       "\n"
      ],
      "text/plain": [
       "  perc\n",
       "1 16.2"
      ]
     },
     "metadata": {},
     "output_type": "display_data"
    }
   ],
   "source": [
    "## Calculate increase in percent\n",
    "round(100 * (retention.article.constr.agg[6, \"perc\"] - retention.article.constr.agg[2, \"perc\"]) /\n",
    "        retention.article.constr.agg[2,\"perc\"], 1)"
   ]
  },
  {
   "cell_type": "markdown",
   "id": "a0bca247-6e32-4e24-8264-21e7987accbc",
   "metadata": {},
   "source": [
    "Difference in percentage points and relative difference between the unstructured and structured task groups:"
   ]
  },
  {
   "cell_type": "code",
   "execution_count": 21,
   "id": "a419d5d1-9794-4676-b883-af80ce9d0e5e",
   "metadata": {},
   "outputs": [
    {
     "data": {
      "text/html": [
       "<table>\n",
       "<caption>A data.frame: 1 × 1</caption>\n",
       "<thead>\n",
       "\t<tr><th scope=col>perc</th></tr>\n",
       "\t<tr><th scope=col>&lt;dbl&gt;</th></tr>\n",
       "</thead>\n",
       "<tbody>\n",
       "\t<tr><td>0.2</td></tr>\n",
       "</tbody>\n",
       "</table>\n"
      ],
      "text/latex": [
       "A data.frame: 1 × 1\n",
       "\\begin{tabular}{l}\n",
       " perc\\\\\n",
       " <dbl>\\\\\n",
       "\\hline\n",
       "\t 0.2\\\\\n",
       "\\end{tabular}\n"
      ],
      "text/markdown": [
       "\n",
       "A data.frame: 1 × 1\n",
       "\n",
       "| perc &lt;dbl&gt; |\n",
       "|---|\n",
       "| 0.2 |\n",
       "\n"
      ],
      "text/plain": [
       "  perc\n",
       "1 0.2 "
      ]
     },
     "metadata": {},
     "output_type": "display_data"
    }
   ],
   "source": [
    "## Calculate increase in percent\n",
    "round(retention.article.constr.agg[6, \"perc\"] - retention.article.constr.agg[4, \"perc\"], 1)"
   ]
  },
  {
   "cell_type": "code",
   "execution_count": 22,
   "id": "8a33c647-2abe-4619-8a05-010d5ca58157",
   "metadata": {},
   "outputs": [
    {
     "data": {
      "text/html": [
       "<table>\n",
       "<caption>A data.frame: 1 × 1</caption>\n",
       "<thead>\n",
       "\t<tr><th scope=col>perc</th></tr>\n",
       "\t<tr><th scope=col>&lt;dbl&gt;</th></tr>\n",
       "</thead>\n",
       "<tbody>\n",
       "\t<tr><td>5.7</td></tr>\n",
       "</tbody>\n",
       "</table>\n"
      ],
      "text/latex": [
       "A data.frame: 1 × 1\n",
       "\\begin{tabular}{l}\n",
       " perc\\\\\n",
       " <dbl>\\\\\n",
       "\\hline\n",
       "\t 5.7\\\\\n",
       "\\end{tabular}\n"
      ],
      "text/markdown": [
       "\n",
       "A data.frame: 1 × 1\n",
       "\n",
       "| perc &lt;dbl&gt; |\n",
       "|---|\n",
       "| 5.7 |\n",
       "\n"
      ],
      "text/plain": [
       "  perc\n",
       "1 5.7 "
      ]
     },
     "metadata": {},
     "output_type": "display_data"
    }
   ],
   "source": [
    "## Calculate increase in percent\n",
    "round(100 * (retention.article.constr.agg[6, \"perc\"] - retention.article.constr.agg[4, \"perc\"]) /\n",
    "        retention.article.constr.agg[4,\"perc\"], 1)"
   ]
  },
  {
   "cell_type": "markdown",
   "id": "b632c11d",
   "metadata": {},
   "source": [
    "Same aggregation but based on users who constructively activate:"
   ]
  },
  {
   "cell_type": "code",
   "execution_count": 150,
   "id": "007ad6b0",
   "metadata": {},
   "outputs": [
    {
     "data": {
      "text/html": [
       "<table>\n",
       "<caption>A grouped_df: 6 × 5</caption>\n",
       "<thead>\n",
       "\t<tr><th scope=col>Group</th><th scope=col>is_const_retained_article</th><th scope=col>n</th><th scope=col>perc</th><th scope=col>rounded_perc</th></tr>\n",
       "\t<tr><th scope=col>&lt;fct&gt;</th><th scope=col>&lt;lgl&gt;</th><th scope=col>&lt;int&gt;</th><th scope=col>&lt;dbl&gt;</th><th scope=col>&lt;dbl&gt;</th></tr>\n",
       "</thead>\n",
       "<tbody>\n",
       "\t<tr><td>Control     </td><td>FALSE</td><td> 4873</td><td>86.0</td><td>86.0</td></tr>\n",
       "\t<tr><td>Control     </td><td> TRUE</td><td>  793</td><td>14.0</td><td>14.0</td></tr>\n",
       "\t<tr><td>Unstructured</td><td>FALSE</td><td> 9660</td><td>85.5</td><td>85.5</td></tr>\n",
       "\t<tr><td>Unstructured</td><td> TRUE</td><td> 1641</td><td>14.5</td><td>14.5</td></tr>\n",
       "\t<tr><td>Add-a-link  </td><td>FALSE</td><td>10679</td><td>86.1</td><td>86.1</td></tr>\n",
       "\t<tr><td>Add-a-link  </td><td> TRUE</td><td> 1731</td><td>13.9</td><td>13.9</td></tr>\n",
       "</tbody>\n",
       "</table>\n"
      ],
      "text/latex": [
       "A grouped\\_df: 6 × 5\n",
       "\\begin{tabular}{lllll}\n",
       " Group & is\\_const\\_retained\\_article & n & perc & rounded\\_perc\\\\\n",
       " <fct> & <lgl> & <int> & <dbl> & <dbl>\\\\\n",
       "\\hline\n",
       "\t Control      & FALSE &  4873 & 86.0 & 86.0\\\\\n",
       "\t Control      &  TRUE &   793 & 14.0 & 14.0\\\\\n",
       "\t Unstructured & FALSE &  9660 & 85.5 & 85.5\\\\\n",
       "\t Unstructured &  TRUE &  1641 & 14.5 & 14.5\\\\\n",
       "\t Add-a-link   & FALSE & 10679 & 86.1 & 86.1\\\\\n",
       "\t Add-a-link   &  TRUE &  1731 & 13.9 & 13.9\\\\\n",
       "\\end{tabular}\n"
      ],
      "text/markdown": [
       "\n",
       "A grouped_df: 6 × 5\n",
       "\n",
       "| Group &lt;fct&gt; | is_const_retained_article &lt;lgl&gt; | n &lt;int&gt; | perc &lt;dbl&gt; | rounded_perc &lt;dbl&gt; |\n",
       "|---|---|---|---|---|\n",
       "| Control      | FALSE |  4873 | 86.0 | 86.0 |\n",
       "| Control      |  TRUE |   793 | 14.0 | 14.0 |\n",
       "| Unstructured | FALSE |  9660 | 85.5 | 85.5 |\n",
       "| Unstructured |  TRUE |  1641 | 14.5 | 14.5 |\n",
       "| Add-a-link   | FALSE | 10679 | 86.1 | 86.1 |\n",
       "| Add-a-link   |  TRUE |  1731 | 13.9 | 13.9 |\n",
       "\n"
      ],
      "text/plain": [
       "  Group        is_const_retained_article n     perc rounded_perc\n",
       "1 Control      FALSE                      4873 86.0 86.0        \n",
       "2 Control       TRUE                       793 14.0 14.0        \n",
       "3 Unstructured FALSE                      9660 85.5 85.5        \n",
       "4 Unstructured  TRUE                      1641 14.5 14.5        \n",
       "5 Add-a-link   FALSE                     10679 86.1 86.1        \n",
       "6 Add-a-link    TRUE                      1731 13.9 13.9        "
      ]
     },
     "metadata": {},
     "output_type": "display_data"
    }
   ],
   "source": [
    "# Aggregate across the entire dataset the proportion of registrations retained\n",
    "retention.article.const_activated.agg <- user_edit_data %>%\n",
    "    filter(is_const_activated_article == TRUE) %>%\n",
    "    group_by(Group, is_const_retained_article) %>%\n",
    "    summarize(n = n(), .groups = 'keep') %>%\n",
    "    group_by(Group) %>%\n",
    "    mutate(perc = 100 * n / sum(n), rounded_perc = round(100 * n / sum(n), 1))\n",
    "retention.article.const_activated.agg"
   ]
  },
  {
   "cell_type": "code",
   "execution_count": 151,
   "id": "9f3ee8ad",
   "metadata": {},
   "outputs": [
    {
     "data": {
      "text/html": [
       "<table>\n",
       "<caption>A data.frame: 1 × 1</caption>\n",
       "<thead>\n",
       "\t<tr><th scope=col>perc</th></tr>\n",
       "\t<tr><th scope=col>&lt;dbl&gt;</th></tr>\n",
       "</thead>\n",
       "<tbody>\n",
       "\t<tr><td>0.5</td></tr>\n",
       "</tbody>\n",
       "</table>\n"
      ],
      "text/latex": [
       "A data.frame: 1 × 1\n",
       "\\begin{tabular}{l}\n",
       " perc\\\\\n",
       " <dbl>\\\\\n",
       "\\hline\n",
       "\t 0.5\\\\\n",
       "\\end{tabular}\n"
      ],
      "text/markdown": [
       "\n",
       "A data.frame: 1 × 1\n",
       "\n",
       "| perc &lt;dbl&gt; |\n",
       "|---|\n",
       "| 0.5 |\n",
       "\n"
      ],
      "text/plain": [
       "  perc\n",
       "1 0.5 "
      ]
     },
     "metadata": {},
     "output_type": "display_data"
    }
   ],
   "source": [
    "## Calculate increase in percent\n",
    "round(retention.article.const_activated.agg[4, \"perc\"] - retention.article.const_activated.agg[2, \"perc\"], 1)"
   ]
  },
  {
   "cell_type": "code",
   "execution_count": 152,
   "id": "0d98cca3",
   "metadata": {},
   "outputs": [
    {
     "data": {
      "text/html": [
       "<table>\n",
       "<caption>A data.frame: 1 × 1</caption>\n",
       "<thead>\n",
       "\t<tr><th scope=col>perc</th></tr>\n",
       "\t<tr><th scope=col>&lt;dbl&gt;</th></tr>\n",
       "</thead>\n",
       "<tbody>\n",
       "\t<tr><td>3.8</td></tr>\n",
       "</tbody>\n",
       "</table>\n"
      ],
      "text/latex": [
       "A data.frame: 1 × 1\n",
       "\\begin{tabular}{l}\n",
       " perc\\\\\n",
       " <dbl>\\\\\n",
       "\\hline\n",
       "\t 3.8\\\\\n",
       "\\end{tabular}\n"
      ],
      "text/markdown": [
       "\n",
       "A data.frame: 1 × 1\n",
       "\n",
       "| perc &lt;dbl&gt; |\n",
       "|---|\n",
       "| 3.8 |\n",
       "\n"
      ],
      "text/plain": [
       "  perc\n",
       "1 3.8 "
      ]
     },
     "metadata": {},
     "output_type": "display_data"
    }
   ],
   "source": [
    "## Calculate increase in percent\n",
    "round(100 * (retention.article.const_activated.agg[4, \"perc\"] - retention.article.const_activated.agg[2, \"perc\"]) /\n",
    "        retention.article.const_activated.agg[2,\"perc\"], 1)"
   ]
  },
  {
   "cell_type": "code",
   "execution_count": 153,
   "id": "92fff6f3",
   "metadata": {},
   "outputs": [
    {
     "data": {
      "text/html": [
       "<table>\n",
       "<caption>A data.frame: 1 × 1</caption>\n",
       "<thead>\n",
       "\t<tr><th scope=col>perc</th></tr>\n",
       "\t<tr><th scope=col>&lt;dbl&gt;</th></tr>\n",
       "</thead>\n",
       "<tbody>\n",
       "\t<tr><td>0</td></tr>\n",
       "</tbody>\n",
       "</table>\n"
      ],
      "text/latex": [
       "A data.frame: 1 × 1\n",
       "\\begin{tabular}{l}\n",
       " perc\\\\\n",
       " <dbl>\\\\\n",
       "\\hline\n",
       "\t 0\\\\\n",
       "\\end{tabular}\n"
      ],
      "text/markdown": [
       "\n",
       "A data.frame: 1 × 1\n",
       "\n",
       "| perc &lt;dbl&gt; |\n",
       "|---|\n",
       "| 0 |\n",
       "\n"
      ],
      "text/plain": [
       "  perc\n",
       "1 0   "
      ]
     },
     "metadata": {},
     "output_type": "display_data"
    }
   ],
   "source": [
    "## Calculate increase in percent\n",
    "round(retention.article.const_activated.agg[6, \"perc\"] - retention.article.const_activated.agg[2, \"perc\"], 1)"
   ]
  },
  {
   "cell_type": "code",
   "execution_count": 154,
   "id": "e0b90721",
   "metadata": {},
   "outputs": [
    {
     "data": {
      "text/html": [
       "<table>\n",
       "<caption>A data.frame: 1 × 1</caption>\n",
       "<thead>\n",
       "\t<tr><th scope=col>perc</th></tr>\n",
       "\t<tr><th scope=col>&lt;dbl&gt;</th></tr>\n",
       "</thead>\n",
       "<tbody>\n",
       "\t<tr><td>-0.3</td></tr>\n",
       "</tbody>\n",
       "</table>\n"
      ],
      "text/latex": [
       "A data.frame: 1 × 1\n",
       "\\begin{tabular}{l}\n",
       " perc\\\\\n",
       " <dbl>\\\\\n",
       "\\hline\n",
       "\t -0.3\\\\\n",
       "\\end{tabular}\n"
      ],
      "text/markdown": [
       "\n",
       "A data.frame: 1 × 1\n",
       "\n",
       "| perc &lt;dbl&gt; |\n",
       "|---|\n",
       "| -0.3 |\n",
       "\n"
      ],
      "text/plain": [
       "  perc\n",
       "1 -0.3"
      ]
     },
     "metadata": {},
     "output_type": "display_data"
    }
   ],
   "source": [
    "## Calculate increase in percent\n",
    "round(100 * (retention.article.const_activated.agg[6, \"perc\"] - retention.article.const_activated.agg[2, \"perc\"]) /\n",
    "        retention.article.const_activated.agg[2,\"perc\"], 1)"
   ]
  },
  {
   "cell_type": "markdown",
   "id": "94bf0828",
   "metadata": {},
   "source": [
    "# Graphs\n",
    "\n",
    "## Article Retention"
   ]
  },
  {
   "cell_type": "code",
   "execution_count": 32,
   "id": "65b8b724",
   "metadata": {},
   "outputs": [
    {
     "data": {
      "image/png": "[encoded data removed]",
      "text/plain": [
       "plot without title"
      ]
     },
     "metadata": {
      "image/png": {
       "height": 360,
       "width": 540
      }
     },
     "output_type": "display_data"
    }
   ],
   "source": [
    "# Give me wider plots, please\n",
    "options(repr.plot.width = 9, repr.plot.height = 6)\n",
    "user_edit_data %>%\n",
    "    group_by(Group, is_retained_article) %>%\n",
    "    tally() %>%\n",
    "    mutate(per_group = sum(n)) %>%\n",
    "    ungroup() %>%\n",
    "    mutate(perc = 100 * n / per_group, prob = n / per_group,\n",
    "           group_name = ifelse(Group == 'C', 'Control', 'Treatment')) %>%\n",
    "    filter(is_retained_article == TRUE) %>%\n",
    "    ggplot(aes(x = Group, y = prob, fill = Group)) +\n",
    "        labs(title = 'Retention – Article Namespace', x = 'Group', y = 'Percent Retained') +\n",
    "        hrbrthemes::theme_ipsum(\"DejaVu Sans\", base_size = 16, strip_text_face = \"bold\", strip_text_size = 18,\n",
    "                            caption_size = 12, axis_title_size = 14, subtitle_size = 14,\n",
    "                            axis_title_just = 'cm') +\n",
    "        guides(fill = 'none') +\n",
    "        scale_fill_brewer() +\n",
    "        hrbrthemes::scale_y_percent(limits = c(0, 0.048)) +\n",
    "        geom_col() +\n",
    "        geom_text(aes(label = wmfdata::percent2(prob)), nudge_y = 0.002, size = 5)\n",
    "ggsave(\n",
    "    'add-a-link-article-namespace-retention-2021-experiment.png',\n",
    "    path = 'graphs',\n",
    "    width = 9, height = 6, units = \"in\", dpi = \"screen\")"
   ]
  },
  {
   "cell_type": "markdown",
   "id": "7b067b21",
   "metadata": {},
   "source": [
    "## Constructive Article Retention"
   ]
  },
  {
   "cell_type": "code",
   "execution_count": 33,
   "id": "0ead46aa",
   "metadata": {},
   "outputs": [
    {
     "data": {
      "image/png": "[encoded data removed]",
      "text/plain": [
       "plot without title"
      ]
     },
     "metadata": {
      "image/png": {
       "height": 360,
       "width": 540
      }
     },
     "output_type": "display_data"
    }
   ],
   "source": [
    "# Give me wider plots, please\n",
    "options(repr.plot.width = 9, repr.plot.height = 6)\n",
    "user_edit_data %>%\n",
    "    group_by(Group, is_const_retained_article) %>%\n",
    "    tally() %>%\n",
    "    mutate(per_group = sum(n)) %>%\n",
    "    ungroup() %>%\n",
    "    mutate(perc = 100 * n / per_group, prob = n / per_group,\n",
    "           group_name = ifelse(Group == 'C', 'Control', 'Treatment')) %>%\n",
    "    filter(is_const_retained_article == TRUE) %>%\n",
    "    ggplot(aes(x = Group, y = prob, fill = Group)) +\n",
    "        labs(title = 'Constructive Retention – Article Namespace', x = 'Group', y = 'Percent Retained') +\n",
    "        hrbrthemes::theme_ipsum(\"DejaVu Sans\", base_size = 16, strip_text_face = \"bold\", strip_text_size = 18,\n",
    "                            caption_size = 12, axis_title_size = 14, subtitle_size = 14,\n",
    "                            axis_title_just = 'cm') +\n",
    "        guides(fill = 'none') +\n",
    "        scale_fill_brewer() +\n",
    "        hrbrthemes::scale_y_percent(limits = c(0, 0.038)) +\n",
    "        geom_col() +\n",
    "        geom_text(aes(label = wmfdata::percent2(prob)), nudge_y = 0.002, size = 5)\n",
    "ggsave(\n",
    "    'add-a-link-article-namespace-constructive-retention-2021-experiment.png',\n",
    "    path = 'graphs',\n",
    "    width = 9, height = 6, units = \"in\", dpi = \"screen\")"
   ]
  }
 ],
 "metadata": {
  "kernelspec": {
   "display_name": "R",
   "language": "R",
   "name": "ir"
  },
  "language_info": {
   "codemirror_mode": "r",
   "file_extension": ".r",
   "mimetype": "text/x-r-source",
   "name": "R",
   "pygments_lexer": "r",
   "version": "3.5.2"
  }
 },
 "nbformat": 4,
 "nbformat_minor": 5
}
