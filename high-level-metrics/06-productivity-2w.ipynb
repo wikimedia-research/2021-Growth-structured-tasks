{
 "cells": [
  {
   "cell_type": "markdown",
   "id": "2fd393d7",
   "metadata": {},
   "source": [
    "# Productivity During the Two-week Retention Period\n",
    "\n"
   ]
  },
  {
   "cell_type": "code",
   "execution_count": 1,
   "id": "450c02f3",
   "metadata": {},
   "outputs": [
    {
     "name": "stderr",
     "output_type": "stream",
     "text": [
      "── \u001b[1mAttaching packages\u001b[22m ─────────────────────────────────────── tidyverse 1.3.0 ──\n",
      "\n",
      "\u001b[32m✔\u001b[39m \u001b[34mggplot2\u001b[39m 3.3.2     \u001b[32m✔\u001b[39m \u001b[34mpurrr  \u001b[39m 0.3.4\n",
      "\u001b[32m✔\u001b[39m \u001b[34mtibble \u001b[39m 3.0.4     \u001b[32m✔\u001b[39m \u001b[34mdplyr  \u001b[39m 1.0.2\n",
      "\u001b[32m✔\u001b[39m \u001b[34mtidyr  \u001b[39m 1.1.2     \u001b[32m✔\u001b[39m \u001b[34mstringr\u001b[39m 1.4.0\n",
      "\u001b[32m✔\u001b[39m \u001b[34mreadr  \u001b[39m 1.4.0     \u001b[32m✔\u001b[39m \u001b[34mforcats\u001b[39m 0.5.0\n",
      "\n",
      "── \u001b[1mConflicts\u001b[22m ────────────────────────────────────────── tidyverse_conflicts() ──\n",
      "\u001b[31m✖\u001b[39m \u001b[34mdplyr\u001b[39m::\u001b[32mfilter()\u001b[39m masks \u001b[34mstats\u001b[39m::filter()\n",
      "\u001b[31m✖\u001b[39m \u001b[34mdplyr\u001b[39m::\u001b[32mlag()\u001b[39m    masks \u001b[34mstats\u001b[39m::lag()\n",
      "\n",
      "Loading required package: Rcpp\n",
      "\n",
      "Loading 'brms' package (version 2.16.3). Useful instructions\n",
      "can be found by typing help('brms'). A more detailed introduction\n",
      "to the package is available through vignette('brms_overview').\n",
      "\n",
      "\n",
      "Attaching package: ‘brms’\n",
      "\n",
      "\n",
      "The following object is masked from ‘package:stats’:\n",
      "\n",
      "    ar\n",
      "\n",
      "\n",
      "This is loo version 2.4.1\n",
      "\n",
      "- Online documentation and vignettes at mc-stan.org/loo\n",
      "\n",
      "- As of v2.0.0 loo defaults to 1 core but we recommend using as many as possible. Use the 'cores' argument or set options(mc.cores = NUM_CORES) for an entire session. \n",
      "\n",
      "This is rstanarm version 2.21.1\n",
      "\n",
      "- See https://mc-stan.org/rstanarm/articles/priors for changes to default priors!\n",
      "\n",
      "- Default priors may change, so it's safest to specify priors, even if equivalent to the defaults.\n",
      "\n",
      "- For execution on a local, multicore CPU with excess RAM we recommend calling\n",
      "\n",
      "  options(mc.cores = parallel::detectCores())\n",
      "\n",
      "\n",
      "Attaching package: ‘rstanarm’\n",
      "\n",
      "\n",
      "The following objects are masked from ‘package:brms’:\n",
      "\n",
      "    dirichlet, exponential, get_y, lasso, ngrps\n",
      "\n",
      "\n",
      "\n",
      "Attaching package: ‘lubridate’\n",
      "\n",
      "\n",
      "The following objects are masked from ‘package:base’:\n",
      "\n",
      "    date, intersect, setdiff, union\n",
      "\n",
      "\n",
      "This is bayesplot version 1.7.2\n",
      "\n",
      "- Online documentation and vignettes at mc-stan.org/bayesplot\n",
      "\n",
      "- bayesplot theme set to bayesplot::theme_default()\n",
      "\n",
      "   * Does _not_ affect other ggplot2 plots\n",
      "\n",
      "   * See ?bayesplot_theme_set for details on theme setting\n",
      "\n",
      "Loading required package: Matrix\n",
      "\n",
      "\n",
      "Attaching package: ‘Matrix’\n",
      "\n",
      "\n",
      "The following objects are masked from ‘package:tidyr’:\n",
      "\n",
      "    expand, pack, unpack\n",
      "\n",
      "\n",
      "\n",
      "Attaching package: ‘lme4’\n",
      "\n",
      "\n",
      "The following object is masked from ‘package:brms’:\n",
      "\n",
      "    ngrps\n",
      "\n",
      "\n",
      "For binary classification, the first factor level is assumed to be the event.\n",
      "Use the argument `event_level = \"second\"` to alter this as needed.\n",
      "\n",
      "\n",
      "Attaching package: ‘yardstick’\n",
      "\n",
      "\n",
      "The following object is masked from ‘package:readr’:\n",
      "\n",
      "    spec\n",
      "\n",
      "\n",
      "Loading required package: lattice\n",
      "\n",
      "\n",
      "Attaching package: ‘caret’\n",
      "\n",
      "\n",
      "The following objects are masked from ‘package:yardstick’:\n",
      "\n",
      "    precision, recall, sensitivity, specificity\n",
      "\n",
      "\n",
      "The following objects are masked from ‘package:rstanarm’:\n",
      "\n",
      "    compare_models, R2\n",
      "\n",
      "\n",
      "The following object is masked from ‘package:purrr’:\n",
      "\n",
      "    lift\n",
      "\n",
      "\n"
     ]
    }
   ],
   "source": [
    "library(tidyverse)\n",
    "library(broom)\n",
    "\n",
    "library(brms) # install.packages(\"brms\")\n",
    "library(loo) # install.packages(\"loo\")\n",
    "library(rstanarm) # install.packages(\"rstanarm\")\n",
    "\n",
    "library(lubridate)\n",
    "library(bayesplot)\n",
    "\n",
    "library(lme4)\n",
    "library(yardstick) # install.packages(\"yardstick\")\n",
    "\n",
    "library(caret)"
   ]
  },
  {
   "cell_type": "markdown",
   "id": "ddcbbeb2",
   "metadata": {},
   "source": [
    "# R Configuration variables"
   ]
  },
  {
   "cell_type": "code",
   "execution_count": 2,
   "id": "f0b4179f",
   "metadata": {},
   "outputs": [],
   "source": [
    "## NOTE: `loo`, which we use for model comparisons, has a tendency to use lots or run out of memory.\n",
    "## Therefore, I've often had to set mc.cores to 1 before running it. However, if we set its `pointwise`\n",
    "## parameter, it'll use less memory. And it'll use BLAS, so we restrict the number of BLAS threads to 1.\n",
    "## Then mc.cores controls the number of parallel processes.\n",
    "\n",
    "## blas_set_num_threads() also controls the number of threads that glmer() uses. Depending on the load\n",
    "## on the server at the time we're doing our analysis we can tune the number of threads.\n",
    "\n",
    "library(RhpcBLASctl)\n",
    "blas_set_num_threads(1)\n",
    "options(mc.cores = 4, digits = 3, scipen = 500)\n",
    "\n",
    "# Give me wider plots, please\n",
    "options(repr.plot.width = 14, repr.plot.height = 7)"
   ]
  },
  {
   "cell_type": "markdown",
   "id": "67858a94",
   "metadata": {},
   "source": [
    "# Helper functions"
   ]
  },
  {
   "cell_type": "code",
   "execution_count": 3,
   "id": "e7f13162",
   "metadata": {},
   "outputs": [],
   "source": [
    "## Function that takes in a model, the validation set, the name of the predicted column,\n",
    "## and returns a plot of the ROC curve\n",
    "plot_ROC <- function(mod, val_data, col_name) {\n",
    "    val_data$estimate = predict(mod, val_data, type = \"response\")\n",
    "    roc_curve(val_data, {{ col_name }}, estimate, event_level = 'second') %>%\n",
    "        ggplot(aes(x = 1 - specificity, y = sensitivity)) +\n",
    "        geom_path() +\n",
    "        geom_abline(lty = 3) +\n",
    "        coord_equal() +\n",
    "        theme_bw()\n",
    "}"
   ]
  },
  {
   "cell_type": "code",
   "execution_count": 4,
   "id": "31398e15",
   "metadata": {},
   "outputs": [],
   "source": [
    "## Function that takes in the filename of the user edit data, reads it in,\n",
    "## and creates all the various derived columns we need.\n",
    "read_user_dataset <- function(dataset_filename) {\n",
    "    read_tsv(\n",
    "        dataset_filename,\n",
    "        col_types = user_dataset_column_types) %>%\n",
    "    mutate(\n",
    "        Group = factor(hp_enabled, levels = c(0, 1), labels = c(\"C\", \"HP\")),\n",
    "        platform = factor(reg_on_mobile == 1, c(FALSE, TRUE), c(\"desktop\", \"mobile\")),\n",
    "        ## Registration month, for later joins on month\n",
    "        reg_month = floor_date(user_registration_timestamp, unit = 'month'),\n",
    "        # Number of edits:\n",
    "        num_total_edits_24hrs = num_article_edits_24hrs + num_other_edits_24hrs,\n",
    "        num_total_edits_2w = num_article_edits_2w + num_other_edits_2w,\n",
    "        num_total_edits = num_total_edits_24hrs + num_total_edits_2w,\n",
    "        num_total_article_edits = num_article_edits_24hrs + num_article_edits_2w,\n",
    "        num_total_other_edits = num_other_edits_24hrs + num_total_edits_2w,\n",
    "        # Log number of total edits is used as a control variable in the revert analysis\n",
    "        log_num_total_edits = log(1 + num_total_edits),\n",
    "        # Number of reverts:\n",
    "        num_reverts_24hrs = num_article_reverts_24hrs + num_other_reverts_24hrs,\n",
    "        num_reverts_2w = num_article_reverts_2w + num_other_reverts_2w,\n",
    "        num_total_reverts = num_reverts_24hrs + num_reverts_2w,\n",
    "        ## Control variables for the number of edits made (used for ex. in revert analysis)\n",
    "        log_num_article_edits_24hrs = log(1 + num_article_edits_24hrs),\n",
    "        log_num_other_edits_24hrs = log(1 + num_other_edits_24hrs),\n",
    "        log_num_edits_24hrs = log(1 + num_article_edits_24hrs + num_other_edits_24hrs),\n",
    "        # Control variables for the number of constructive edits made\n",
    "        log_num_const_article_edits_24hrs = log(\n",
    "            1 + num_article_edits_24hrs - num_article_reverts_24hrs),\n",
    "        log_num_const_other_edits_24hrs = log(\n",
    "            1 + num_other_edits_24hrs - num_other_reverts_24hrs),\n",
    "        log_num_const_edits_24hrs = log(\n",
    "            1 + num_article_edits_24hrs + num_other_edits_24hrs -\n",
    "                num_article_reverts_24hrs - num_other_reverts_24hrs),\n",
    "        # Revert rate:\n",
    "        prop_rev_edits = ifelse(num_total_edits > 0, num_total_reverts / num_total_edits, 0),\n",
    "        # Did they activate?\n",
    "        is_activated_article = num_article_edits_24hrs > 0,\n",
    "        is_activated_other = num_other_edits_24hrs > 0,\n",
    "        is_activated = is_activated_article | is_activated_other,\n",
    "        # Did they activate through constructive edits?\n",
    "        is_const_activated_article = (num_article_edits_24hrs - num_article_reverts_24hrs) > 0,\n",
    "        is_const_activated_other = (num_other_edits_24hrs - num_other_reverts_24hrs) > 0,\n",
    "        is_const_activated = is_const_activated_article | is_const_activated_other,\n",
    "        # Were they retained?\n",
    "        is_retained_article = is_activated_article & (num_article_edits_2w > 0),\n",
    "        is_retained_other = is_activated_other & (num_other_edits_2w > 0),\n",
    "        is_retained = is_activated & ((num_article_edits_2w + num_other_edits_2w) > 0),\n",
    "        # Were they retained through constructive edits?\n",
    "        is_const_retained_article = is_const_activated_article &\n",
    "            ((num_article_edits_2w - num_article_reverts_2w) > 0),\n",
    "        is_const_retained_other = is_const_activated_other &\n",
    "            ((num_other_edits_2w - num_other_reverts_2w) > 0),\n",
    "        is_const_retained = is_const_activated &\n",
    "            ((num_article_edits_2w + num_other_edits_2w -\n",
    "              num_article_reverts_2w - num_other_reverts_2w) > 0)\n",
    "    ) \n",
    "}"
   ]
  },
  {
   "cell_type": "code",
   "execution_count": 5,
   "id": "0817b519",
   "metadata": {},
   "outputs": [],
   "source": [
    "## Function that takes in the filename of the active editors dataset,\n",
    "## and adds a registration month column for easy joining with the user dataset.\n",
    "read_active_editors_dataset <- function(dataset_filename) {\n",
    "    read_tsv(\n",
    "        dataset_filename,\n",
    "        col_types = active_editors_column_types) %>%\n",
    "    mutate(wiki_db = factor(wiki_db),\n",
    "           reg_month = month + months(1))\n",
    "}"
   ]
  },
  {
   "cell_type": "markdown",
   "id": "8d459cc6",
   "metadata": {},
   "source": [
    "# Experiment Configuration Variables\n",
    "\n",
    "We define a set of configuration variables that are useful for the analysis. One obvious one is where the edit dataset is located.\n",
    "\n",
    "A less obvious one is a variable for when the experiment started. We often use this seeking to model the community's initial response to changes in newcomer behaviour, as well as long-term trends in the outcome variable when working with user data gathered across a relatively long time period."
   ]
  },
  {
   "cell_type": "code",
   "execution_count": null,
   "id": "1549444c",
   "metadata": {},
   "outputs": [],
   "source": [
    "## Path to the datasets with user edits\n",
    "user_dataset_filenames <- c(\n",
    "    '/home/nettrom/src/2021-Growth-structured-tasks/datasets/add-a-link-edit-data.tsv'\n",
    "    )\n",
    "\n",
    "## Column types in the dataset: wiki is a factor, HP variant is a factor, registration is a date time,\n",
    "## everything else are integers.\n",
    "user_dataset_column_types <- 'fiTiifiiiiiiii'\n",
    "\n",
    "## Path to the dataset with counts of the number of active editors\n",
    "active_editors_filenames <- c()\n",
    "\n",
    "## Column types in the active editors dataset: month is a date, wiki is a factor\n",
    "active_editors_column_types <- 'Dfiii'\n",
    "\n",
    "## Deployment timestamps for Add a Link on each of the wikis\n",
    "## Note that we turn wiki_db into a factor, otherwise wiki_db in the edit dataset\n",
    "## becomes a character after joining the two.\n",
    "exp_start_timestamps <- tribble(\n",
    "    ~wiki_db, ~exp_start_timestamp,\n",
    "    'arwiki', ymd_hms('2021-05-27 19:12:03', tz = 'UTC'),\n",
    "    'bnwiki', ymd_hms('2021-05-27 19:12:03', tz = 'UTC'),\n",
    "    'cswiki', ymd_hms('2021-05-27 19:12:03', tz = 'UTC'),\n",
    "    'viwiki', ymd_hms('2021-05-27 19:12:03', tz = 'UTC'),\n",
    "    'fawiki', ymd_hms('2021-07-21 11:11:21', tz = 'UTC'),\n",
    "    'frwiki', ymd_hms('2021-07-21 11:11:21', tz = 'UTC'),\n",
    "    'huwiki', ymd_hms('2021-07-21 11:11:21', tz = 'UTC'),\n",
    "    'plwiki', ymd_hms('2021-07-21 11:11:21', tz = 'UTC'),\n",
    "    'rowiki', ymd_hms('2021-07-21 11:11:21', tz = 'UTC'),\n",
    "    'ruwiki', ymd_hms('2021-07-21 11:11:21', tz = 'UTC'),\n",
    "\n",
    ") %>% mutate(wiki_db = factor(wiki_db))\n",
    "\n",
    "## Path to the dataset with editing status at account registration\n",
    "editing_status_filenames <- c()\n",
    "\n",
    "## Column types in the editing status dataset: wiki is a factor, everything else are integers\n",
    "editing_status_column_types <- 'fii'\n",
    "\n",
    "## Path to the dataset with Welcome Survey responses\n",
    "survey_response_filenames <- c()\n",
    "\n",
    "## Columns types in the survey response data: user ID is an integer, number of languages is a number,\n",
    "## everything else are factors\n",
    "survey_response_column_types <- 'fifffn'"
   ]
  },
  {
   "cell_type": "markdown",
   "id": "657b1dbf",
   "metadata": {},
   "source": [
    "# Data import and setup"
   ]
  },
  {
   "cell_type": "code",
   "execution_count": 7,
   "id": "5ccf4e63",
   "metadata": {},
   "outputs": [],
   "source": [
    "user_edit_data <- map_dfr(user_dataset_filenames, read_user_dataset)"
   ]
  },
  {
   "cell_type": "code",
   "execution_count": 8,
   "id": "89ba4b72",
   "metadata": {},
   "outputs": [
    {
     "data": {
      "text/html": [
       "130179"
      ],
      "text/latex": [
       "130179"
      ],
      "text/markdown": [
       "130179"
      ],
      "text/plain": [
       "[1] 130179"
      ]
     },
     "metadata": {},
     "output_type": "display_data"
    }
   ],
   "source": [
    "nrow(user_edit_data)"
   ]
  },
  {
   "cell_type": "markdown",
   "id": "0489bcb1",
   "metadata": {},
   "source": [
    "## Time since experiment start"
   ]
  },
  {
   "cell_type": "markdown",
   "id": "2adaa14c",
   "metadata": {},
   "source": [
    "Join the edits data with the experiment timestamps and measure time since the start to enable controlling for that:"
   ]
  },
  {
   "cell_type": "code",
   "execution_count": 9,
   "id": "91f870f6",
   "metadata": {},
   "outputs": [],
   "source": [
    "user_edit_data <- user_edit_data %>%\n",
    "    inner_join(exp_start_timestamps, by = 'wiki_db') %>%\n",
    "    mutate(\n",
    "        # Time as a measurement since deployment\n",
    "        exp_days = difftime(user_registration_timestamp, exp_start_timestamp, units = 'days'),\n",
    "        ln_exp_days = ifelse(exp_days < 0, 0, log(1 + as.numeric(exp_days))),\n",
    "        ln_exp_weeks = ifelse(exp_days < 0, 0, log(1 + as.numeric(exp_days)/7))\n",
    "    )"
   ]
  },
  {
   "cell_type": "code",
   "execution_count": 10,
   "id": "cccd3d67",
   "metadata": {},
   "outputs": [
    {
     "data": {
      "text/html": [
       "130179"
      ],
      "text/latex": [
       "130179"
      ],
      "text/markdown": [
       "130179"
      ],
      "text/plain": [
       "[1] 130179"
      ]
     },
     "metadata": {},
     "output_type": "display_data"
    }
   ],
   "source": [
    "nrow(user_edit_data)"
   ]
  },
  {
   "cell_type": "markdown",
   "id": "e3ada3fc",
   "metadata": {},
   "source": [
    "Made sure that we're not dropping any users at this stage, we're good to move forward."
   ]
  },
  {
   "cell_type": "markdown",
   "id": "4750f653",
   "metadata": {},
   "source": [
    "## Additional variables\n",
    "\n",
    "We've previously focused on Control vs Growth Features in our analysis. In this case we'll focus primarily on Unstructured Link Task vs Add a Link, but also check against the control group. This means we want the single variable `Group` to reflect one of three options depending on `hp_enabled` and `hp_variant`"
   ]
  },
  {
   "cell_type": "code",
   "execution_count": 11,
   "id": "5969ae63",
   "metadata": {},
   "outputs": [],
   "source": [
    "user_edit_data <- user_edit_data %>%\n",
    "    mutate(Group = factor(ifelse(\n",
    "        hp_enabled == 0, 'Control',\n",
    "        ifelse(hp_variant == 'control', 'Unstructured', 'Add-a-link')),\n",
    "                          c('Control', 'Unstructured', 'Add-a-link')))"
   ]
  },
  {
   "cell_type": "markdown",
   "id": "dfd461ec",
   "metadata": {},
   "source": [
    "Our productivity model will fit on the number of constructive article edits in the retention period, so we need a variable for that."
   ]
  },
  {
   "cell_type": "code",
   "execution_count": 12,
   "id": "77773dd7",
   "metadata": {},
   "outputs": [],
   "source": [
    "user_edit_data <- user_edit_data %>%\n",
    "    mutate(num_const_article_edits_2w = num_article_edits_2w - num_article_reverts_2w)"
   ]
  },
  {
   "cell_type": "markdown",
   "id": "cc09d29a",
   "metadata": {},
   "source": [
    "## Checking number of accounts for each wiki\n",
    "\n",
    "We might be looking at very small wikis, in case we might want to not include them in the analysis."
   ]
  },
  {
   "cell_type": "code",
   "execution_count": 13,
   "id": "9205c16c",
   "metadata": {},
   "outputs": [
    {
     "name": "stderr",
     "output_type": "stream",
     "text": [
      "`summarise()` regrouping output by 'wiki_db' (override with `.groups` argument)\n",
      "\n"
     ]
    },
    {
     "data": {
      "text/html": [
       "<table>\n",
       "<caption>A grouped_df: 30 × 3</caption>\n",
       "<thead>\n",
       "\t<tr><th scope=col>wiki_db</th><th scope=col>Group</th><th scope=col>n</th></tr>\n",
       "\t<tr><th scope=col>&lt;fct&gt;</th><th scope=col>&lt;fct&gt;</th><th scope=col>&lt;int&gt;</th></tr>\n",
       "</thead>\n",
       "<tbody>\n",
       "\t<tr><td>arwiki</td><td>Control     </td><td> 7698</td></tr>\n",
       "\t<tr><td>arwiki</td><td>Unstructured</td><td>13426</td></tr>\n",
       "\t<tr><td>arwiki</td><td>Add-a-link  </td><td>13213</td></tr>\n",
       "\t<tr><td>bnwiki</td><td>Control     </td><td> 1583</td></tr>\n",
       "\t<tr><td>bnwiki</td><td>Unstructured</td><td> 2664</td></tr>\n",
       "\t<tr><td>bnwiki</td><td>Add-a-link  </td><td> 2679</td></tr>\n",
       "\t<tr><td>cswiki</td><td>Control     </td><td>  787</td></tr>\n",
       "\t<tr><td>cswiki</td><td>Unstructured</td><td> 1419</td></tr>\n",
       "\t<tr><td>cswiki</td><td>Add-a-link  </td><td> 1447</td></tr>\n",
       "\t<tr><td>fawiki</td><td>Control     </td><td> 2739</td></tr>\n",
       "\t<tr><td>fawiki</td><td>Unstructured</td><td> 5555</td></tr>\n",
       "\t<tr><td>fawiki</td><td>Add-a-link  </td><td> 5440</td></tr>\n",
       "\t<tr><td>frwiki</td><td>Control     </td><td> 5578</td></tr>\n",
       "\t<tr><td>frwiki</td><td>Unstructured</td><td>11146</td></tr>\n",
       "\t<tr><td>frwiki</td><td>Add-a-link  </td><td>11274</td></tr>\n",
       "\t<tr><td>huwiki</td><td>Control     </td><td>  315</td></tr>\n",
       "\t<tr><td>huwiki</td><td>Unstructured</td><td>  638</td></tr>\n",
       "\t<tr><td>huwiki</td><td>Add-a-link  </td><td>  632</td></tr>\n",
       "\t<tr><td>plwiki</td><td>Control     </td><td>  949</td></tr>\n",
       "\t<tr><td>plwiki</td><td>Unstructured</td><td> 1924</td></tr>\n",
       "\t<tr><td>plwiki</td><td>Add-a-link  </td><td> 1930</td></tr>\n",
       "\t<tr><td>rowiki</td><td>Control     </td><td>  294</td></tr>\n",
       "\t<tr><td>rowiki</td><td>Unstructured</td><td>  575</td></tr>\n",
       "\t<tr><td>rowiki</td><td>Add-a-link  </td><td>  565</td></tr>\n",
       "\t<tr><td>ruwiki</td><td>Control     </td><td> 4069</td></tr>\n",
       "\t<tr><td>ruwiki</td><td>Unstructured</td><td> 8176</td></tr>\n",
       "\t<tr><td>ruwiki</td><td>Add-a-link  </td><td> 8222</td></tr>\n",
       "\t<tr><td>viwiki</td><td>Control     </td><td> 3324</td></tr>\n",
       "\t<tr><td>viwiki</td><td>Unstructured</td><td> 5956</td></tr>\n",
       "\t<tr><td>viwiki</td><td>Add-a-link  </td><td> 5962</td></tr>\n",
       "</tbody>\n",
       "</table>\n"
      ],
      "text/latex": [
       "A grouped\\_df: 30 × 3\n",
       "\\begin{tabular}{lll}\n",
       " wiki\\_db & Group & n\\\\\n",
       " <fct> & <fct> & <int>\\\\\n",
       "\\hline\n",
       "\t arwiki & Control      &  7698\\\\\n",
       "\t arwiki & Unstructured & 13426\\\\\n",
       "\t arwiki & Add-a-link   & 13213\\\\\n",
       "\t bnwiki & Control      &  1583\\\\\n",
       "\t bnwiki & Unstructured &  2664\\\\\n",
       "\t bnwiki & Add-a-link   &  2679\\\\\n",
       "\t cswiki & Control      &   787\\\\\n",
       "\t cswiki & Unstructured &  1419\\\\\n",
       "\t cswiki & Add-a-link   &  1447\\\\\n",
       "\t fawiki & Control      &  2739\\\\\n",
       "\t fawiki & Unstructured &  5555\\\\\n",
       "\t fawiki & Add-a-link   &  5440\\\\\n",
       "\t frwiki & Control      &  5578\\\\\n",
       "\t frwiki & Unstructured & 11146\\\\\n",
       "\t frwiki & Add-a-link   & 11274\\\\\n",
       "\t huwiki & Control      &   315\\\\\n",
       "\t huwiki & Unstructured &   638\\\\\n",
       "\t huwiki & Add-a-link   &   632\\\\\n",
       "\t plwiki & Control      &   949\\\\\n",
       "\t plwiki & Unstructured &  1924\\\\\n",
       "\t plwiki & Add-a-link   &  1930\\\\\n",
       "\t rowiki & Control      &   294\\\\\n",
       "\t rowiki & Unstructured &   575\\\\\n",
       "\t rowiki & Add-a-link   &   565\\\\\n",
       "\t ruwiki & Control      &  4069\\\\\n",
       "\t ruwiki & Unstructured &  8176\\\\\n",
       "\t ruwiki & Add-a-link   &  8222\\\\\n",
       "\t viwiki & Control      &  3324\\\\\n",
       "\t viwiki & Unstructured &  5956\\\\\n",
       "\t viwiki & Add-a-link   &  5962\\\\\n",
       "\\end{tabular}\n"
      ],
      "text/markdown": [
       "\n",
       "A grouped_df: 30 × 3\n",
       "\n",
       "| wiki_db &lt;fct&gt; | Group &lt;fct&gt; | n &lt;int&gt; |\n",
       "|---|---|---|\n",
       "| arwiki | Control      |  7698 |\n",
       "| arwiki | Unstructured | 13426 |\n",
       "| arwiki | Add-a-link   | 13213 |\n",
       "| bnwiki | Control      |  1583 |\n",
       "| bnwiki | Unstructured |  2664 |\n",
       "| bnwiki | Add-a-link   |  2679 |\n",
       "| cswiki | Control      |   787 |\n",
       "| cswiki | Unstructured |  1419 |\n",
       "| cswiki | Add-a-link   |  1447 |\n",
       "| fawiki | Control      |  2739 |\n",
       "| fawiki | Unstructured |  5555 |\n",
       "| fawiki | Add-a-link   |  5440 |\n",
       "| frwiki | Control      |  5578 |\n",
       "| frwiki | Unstructured | 11146 |\n",
       "| frwiki | Add-a-link   | 11274 |\n",
       "| huwiki | Control      |   315 |\n",
       "| huwiki | Unstructured |   638 |\n",
       "| huwiki | Add-a-link   |   632 |\n",
       "| plwiki | Control      |   949 |\n",
       "| plwiki | Unstructured |  1924 |\n",
       "| plwiki | Add-a-link   |  1930 |\n",
       "| rowiki | Control      |   294 |\n",
       "| rowiki | Unstructured |   575 |\n",
       "| rowiki | Add-a-link   |   565 |\n",
       "| ruwiki | Control      |  4069 |\n",
       "| ruwiki | Unstructured |  8176 |\n",
       "| ruwiki | Add-a-link   |  8222 |\n",
       "| viwiki | Control      |  3324 |\n",
       "| viwiki | Unstructured |  5956 |\n",
       "| viwiki | Add-a-link   |  5962 |\n",
       "\n"
      ],
      "text/plain": [
       "   wiki_db Group        n    \n",
       "1  arwiki  Control       7698\n",
       "2  arwiki  Unstructured 13426\n",
       "3  arwiki  Add-a-link   13213\n",
       "4  bnwiki  Control       1583\n",
       "5  bnwiki  Unstructured  2664\n",
       "6  bnwiki  Add-a-link    2679\n",
       "7  cswiki  Control        787\n",
       "8  cswiki  Unstructured  1419\n",
       "9  cswiki  Add-a-link    1447\n",
       "10 fawiki  Control       2739\n",
       "11 fawiki  Unstructured  5555\n",
       "12 fawiki  Add-a-link    5440\n",
       "13 frwiki  Control       5578\n",
       "14 frwiki  Unstructured 11146\n",
       "15 frwiki  Add-a-link   11274\n",
       "16 huwiki  Control        315\n",
       "17 huwiki  Unstructured   638\n",
       "18 huwiki  Add-a-link     632\n",
       "19 plwiki  Control        949\n",
       "20 plwiki  Unstructured  1924\n",
       "21 plwiki  Add-a-link    1930\n",
       "22 rowiki  Control        294\n",
       "23 rowiki  Unstructured   575\n",
       "24 rowiki  Add-a-link     565\n",
       "25 ruwiki  Control       4069\n",
       "26 ruwiki  Unstructured  8176\n",
       "27 ruwiki  Add-a-link    8222\n",
       "28 viwiki  Control       3324\n",
       "29 viwiki  Unstructured  5956\n",
       "30 viwiki  Add-a-link    5962"
      ]
     },
     "metadata": {},
     "output_type": "display_data"
    }
   ],
   "source": [
    "user_edit_data %>%\n",
    "    group_by(wiki_db, Group) %>%\n",
    "    summarize(n = n())"
   ]
  },
  {
   "cell_type": "markdown",
   "id": "69895f8a",
   "metadata": {},
   "source": [
    "## Splitting into Training, Test, and Validation Datasets\n",
    "\n",
    "Split the dataset into training, test, and validation data sets."
   ]
  },
  {
   "cell_type": "code",
   "execution_count": 14,
   "id": "f6bdfa58",
   "metadata": {},
   "outputs": [
    {
     "name": "stderr",
     "output_type": "stream",
     "text": [
      "Warning message:\n",
      "“The `i` argument of ``[`()` can't be a matrix as of tibble 3.0.0.\n",
      "Convert to a vector.\n",
      "\u001b[90mThis warning is displayed once every 8 hours.\u001b[39m\n",
      "\u001b[90mCall `lifecycle::last_warnings()` to see where this warning was generated.\u001b[39m”\n"
     ]
    }
   ],
   "source": [
    "## set the random seed so train/test/validation splits can be reproduced\n",
    "set.seed(42)\n",
    "\n",
    "trainIndex <- caret::createDataPartition(user_edit_data$Group,\n",
    "                                         p = .8,\n",
    "                                         list = FALSE,\n",
    "                                         times = 1)\n",
    "user_data_train = user_edit_data[trainIndex,]\n",
    "user_data_second = user_edit_data[-trainIndex,]\n",
    "\n",
    "testIndex = caret::createDataPartition(user_data_second$Group, p = .5, list = FALSE, times = 1)\n",
    "\n",
    "user_data_test = user_data_second[testIndex,]\n",
    "user_data_validate = user_data_second[-testIndex,]"
   ]
  },
  {
   "cell_type": "code",
   "execution_count": 15,
   "id": "a56cd34e",
   "metadata": {},
   "outputs": [],
   "source": [
    "user_data_test$is_activated_fct <- factor(user_data_test$is_activated,\n",
    "                                          labels = c('No', 'Yes'))\n",
    "user_data_validate$is_activated_fct <- factor(user_data_validate$is_activated,\n",
    "                                          labels = c('No', 'Yes'))"
   ]
  },
  {
   "cell_type": "markdown",
   "id": "76d5dbd1",
   "metadata": {},
   "source": [
    "## Visualizing Productivity\n",
    "\n",
    "We'll make box plots of editing based on group, and we'll focus on constructive article edits because that's where we see the strongest effects. This plot uses the `log10(1 + x)` transformation so we get to see all users who didn't make any edits."
   ]
  },
  {
   "cell_type": "code",
   "execution_count": 18,
   "id": "4d250669",
   "metadata": {},
   "outputs": [
    {
     "data": {
      "image/png": "[encoded data removed]",
      "text/plain": [
       "plot without title"
      ]
     },
     "metadata": {
      "image/png": {
       "height": 420,
       "width": 840
      }
     },
     "output_type": "display_data"
    }
   ],
   "source": [
    "user_edit_data %>%\n",
    "    mutate(log_num_const_article_edits_2w = log10(1 + num_const_article_edits_2w)) %>%\n",
    "    ggplot(aes(x = Group, y = log_num_const_article_edits_2w)) +\n",
    "        labs(title = 'Productivity by Group', yaxis_title = 'Number of constructive edits (log 10 scale)') +\n",
    "        geom_boxplot()"
   ]
  },
  {
   "cell_type": "markdown",
   "id": "28dbcac8",
   "metadata": {},
   "source": [
    "It's hard to tell if there are any meaningful differences between the groups. Let's summarize and see what we find:"
   ]
  },
  {
   "cell_type": "code",
   "execution_count": 20,
   "id": "aad9398d",
   "metadata": {},
   "outputs": [
    {
     "data": {
      "text/html": [
       "<table>\n",
       "<caption>A grouped_df: 6 × 13</caption>\n",
       "<thead>\n",
       "\t<tr><th scope=col>platform</th><th scope=col>Group</th><th scope=col>min_edits</th><th scope=col>perc_5_edits</th><th scope=col>perc_10_edits</th><th scope=col>perc_25_edits</th><th scope=col>median_edits</th><th scope=col>mean_edits</th><th scope=col>perc_75_edits</th><th scope=col>perc_90_edits</th><th scope=col>perc_95_edits</th><th scope=col>perc_99_edits</th><th scope=col>max_edits</th></tr>\n",
       "\t<tr><th scope=col>&lt;fct&gt;</th><th scope=col>&lt;fct&gt;</th><th scope=col>&lt;int&gt;</th><th scope=col>&lt;dbl&gt;</th><th scope=col>&lt;dbl&gt;</th><th scope=col>&lt;dbl&gt;</th><th scope=col>&lt;dbl&gt;</th><th scope=col>&lt;dbl&gt;</th><th scope=col>&lt;dbl&gt;</th><th scope=col>&lt;dbl&gt;</th><th scope=col>&lt;dbl&gt;</th><th scope=col>&lt;dbl&gt;</th><th scope=col>&lt;int&gt;</th></tr>\n",
       "</thead>\n",
       "<tbody>\n",
       "\t<tr><td>desktop</td><td>Control     </td><td>0</td><td>0</td><td>0</td><td>0</td><td>0</td><td>0.536</td><td>0</td><td>0</td><td>1</td><td>11</td><td>455</td></tr>\n",
       "\t<tr><td>desktop</td><td>Unstructured</td><td>0</td><td>0</td><td>0</td><td>0</td><td>0</td><td>0.573</td><td>0</td><td>0</td><td>1</td><td>11</td><td>711</td></tr>\n",
       "\t<tr><td>desktop</td><td>Add-a-link  </td><td>0</td><td>0</td><td>0</td><td>0</td><td>0</td><td>0.736</td><td>0</td><td>0</td><td>1</td><td>16</td><td>604</td></tr>\n",
       "\t<tr><td>mobile </td><td>Control     </td><td>0</td><td>0</td><td>0</td><td>0</td><td>0</td><td>0.304</td><td>0</td><td>0</td><td>0</td><td> 6</td><td>385</td></tr>\n",
       "\t<tr><td>mobile </td><td>Unstructured</td><td>0</td><td>0</td><td>0</td><td>0</td><td>0</td><td>0.356</td><td>0</td><td>0</td><td>0</td><td> 6</td><td>600</td></tr>\n",
       "\t<tr><td>mobile </td><td>Add-a-link  </td><td>0</td><td>0</td><td>0</td><td>0</td><td>0</td><td>0.432</td><td>0</td><td>0</td><td>0</td><td> 7</td><td>737</td></tr>\n",
       "</tbody>\n",
       "</table>\n"
      ],
      "text/latex": [
       "A grouped\\_df: 6 × 13\n",
       "\\begin{tabular}{lllllllllllll}\n",
       " platform & Group & min\\_edits & perc\\_5\\_edits & perc\\_10\\_edits & perc\\_25\\_edits & median\\_edits & mean\\_edits & perc\\_75\\_edits & perc\\_90\\_edits & perc\\_95\\_edits & perc\\_99\\_edits & max\\_edits\\\\\n",
       " <fct> & <fct> & <int> & <dbl> & <dbl> & <dbl> & <dbl> & <dbl> & <dbl> & <dbl> & <dbl> & <dbl> & <int>\\\\\n",
       "\\hline\n",
       "\t desktop & Control      & 0 & 0 & 0 & 0 & 0 & 0.536 & 0 & 0 & 1 & 11 & 455\\\\\n",
       "\t desktop & Unstructured & 0 & 0 & 0 & 0 & 0 & 0.573 & 0 & 0 & 1 & 11 & 711\\\\\n",
       "\t desktop & Add-a-link   & 0 & 0 & 0 & 0 & 0 & 0.736 & 0 & 0 & 1 & 16 & 604\\\\\n",
       "\t mobile  & Control      & 0 & 0 & 0 & 0 & 0 & 0.304 & 0 & 0 & 0 &  6 & 385\\\\\n",
       "\t mobile  & Unstructured & 0 & 0 & 0 & 0 & 0 & 0.356 & 0 & 0 & 0 &  6 & 600\\\\\n",
       "\t mobile  & Add-a-link   & 0 & 0 & 0 & 0 & 0 & 0.432 & 0 & 0 & 0 &  7 & 737\\\\\n",
       "\\end{tabular}\n"
      ],
      "text/markdown": [
       "\n",
       "A grouped_df: 6 × 13\n",
       "\n",
       "| platform &lt;fct&gt; | Group &lt;fct&gt; | min_edits &lt;int&gt; | perc_5_edits &lt;dbl&gt; | perc_10_edits &lt;dbl&gt; | perc_25_edits &lt;dbl&gt; | median_edits &lt;dbl&gt; | mean_edits &lt;dbl&gt; | perc_75_edits &lt;dbl&gt; | perc_90_edits &lt;dbl&gt; | perc_95_edits &lt;dbl&gt; | perc_99_edits &lt;dbl&gt; | max_edits &lt;int&gt; |\n",
       "|---|---|---|---|---|---|---|---|---|---|---|---|---|\n",
       "| desktop | Control      | 0 | 0 | 0 | 0 | 0 | 0.536 | 0 | 0 | 1 | 11 | 455 |\n",
       "| desktop | Unstructured | 0 | 0 | 0 | 0 | 0 | 0.573 | 0 | 0 | 1 | 11 | 711 |\n",
       "| desktop | Add-a-link   | 0 | 0 | 0 | 0 | 0 | 0.736 | 0 | 0 | 1 | 16 | 604 |\n",
       "| mobile  | Control      | 0 | 0 | 0 | 0 | 0 | 0.304 | 0 | 0 | 0 |  6 | 385 |\n",
       "| mobile  | Unstructured | 0 | 0 | 0 | 0 | 0 | 0.356 | 0 | 0 | 0 |  6 | 600 |\n",
       "| mobile  | Add-a-link   | 0 | 0 | 0 | 0 | 0 | 0.432 | 0 | 0 | 0 |  7 | 737 |\n",
       "\n"
      ],
      "text/plain": [
       "  platform Group        min_edits perc_5_edits perc_10_edits perc_25_edits\n",
       "1 desktop  Control      0         0            0             0            \n",
       "2 desktop  Unstructured 0         0            0             0            \n",
       "3 desktop  Add-a-link   0         0            0             0            \n",
       "4 mobile   Control      0         0            0             0            \n",
       "5 mobile   Unstructured 0         0            0             0            \n",
       "6 mobile   Add-a-link   0         0            0             0            \n",
       "  median_edits mean_edits perc_75_edits perc_90_edits perc_95_edits\n",
       "1 0            0.536      0             0             1            \n",
       "2 0            0.573      0             0             1            \n",
       "3 0            0.736      0             0             1            \n",
       "4 0            0.304      0             0             0            \n",
       "5 0            0.356      0             0             0            \n",
       "6 0            0.432      0             0             0            \n",
       "  perc_99_edits max_edits\n",
       "1 11            455      \n",
       "2 11            711      \n",
       "3 16            604      \n",
       "4  6            385      \n",
       "5  6            600      \n",
       "6  7            737      "
      ]
     },
     "metadata": {},
     "output_type": "display_data"
    }
   ],
   "source": [
    "user_edit_data %>%\n",
    "    group_by(platform, Group) %>%\n",
    "    summarise(min_edits = min(num_const_article_edits_2w),\n",
    "              perc_5_edits = quantile(num_const_article_edits_2w, probs = c(0.05)),\n",
    "              perc_10_edits = quantile(num_const_article_edits_2w, probs = c(0.1)),\n",
    "              perc_25_edits = quantile(num_const_article_edits_2w, probs = c(0.25)),\n",
    "              median_edits = median(num_const_article_edits_2w),\n",
    "              mean_edits = mean(num_const_article_edits_2w),\n",
    "              perc_75_edits = quantile(num_const_article_edits_2w, probs = c(0.75)),\n",
    "              perc_90_edits = quantile(num_const_article_edits_2w, probs = c(0.9)),\n",
    "              perc_95_edits = quantile(num_const_article_edits_2w, probs = c(0.95)),\n",
    "              perc_99_edits = quantile(num_const_article_edits_2w, probs = c(0.99)),\n",
    "              max_edits = max(num_const_article_edits_2w),\n",
    "             .groups = 'keep'\n",
    "             )"
   ]
  },
  {
   "cell_type": "markdown",
   "id": "449cc3bd",
   "metadata": {},
   "source": [
    "## Priors"
   ]
  },
  {
   "cell_type": "code",
   "execution_count": 13,
   "id": "0cb80701",
   "metadata": {},
   "outputs": [],
   "source": [
    "## Note that using a student_t distribution for the prior is beneficial because that\n",
    "## distribution handles outliers better than a Normal.\n",
    "## See https://jrnold.github.io/bayesian_notes/robust-regression.html\n",
    "## Thanks to Mikhail for sending that to me!\n",
    "priors <- prior(cauchy(0, 2), class = sd) +\n",
    "  prior(student_t(5, 0, 10), class = b)"
   ]
  },
  {
   "cell_type": "markdown",
   "id": "20ec81f1",
   "metadata": {},
   "source": [
    "# Constructive Article Productivity\n",
    "\n",
    "When analysing retention, we found that it mainly followed the amount of activity the user did during the activation period. Said amount of activity is affected by `platform` and `Group`, so controlling for them in this case indicates whether there are additional effects associated with those variables. We therefore start with a simple model that does not contain any wiki-level variation and consider a competing model with that later."
   ]
  },
  {
   "cell_type": "code",
   "execution_count": null,
   "id": "d536bf1d",
   "metadata": {},
   "outputs": [
    {
     "name": "stderr",
     "output_type": "stream",
     "text": [
      "Compiling Stan program...\n",
      "\n",
      "Start sampling\n",
      "\n"
     ]
    }
   ],
   "source": [
    "## FIXME: fit this model again because the original one didn't have `platform`\n",
    "## as a population-level predictor for zero-inflation. It actually didn't\n",
    "## have it as a group-level predictor either because of a parentheses problem.\n",
    "constr.article.edits.2w.zinb.1 <- brm(\n",
    "  bf(num_const_article_edits_2w ~ platform + Group + log_num_const_article_edits_24hrs +\n",
    "     (1 | wiki_db),\n",
    "     zi ~ platform + (1 + platform | wiki_db)),\n",
    "    data = user_edit_data,\n",
    "    family = zero_inflated_negbinomial(),\n",
    "    prior = priors,\n",
    "    iter = 800,\n",
    "    control = list(adapt_delta = 0.999,\n",
    "                 max_treedepth = 15)\n",
    ")"
   ]
  },
  {
   "cell_type": "code",
   "execution_count": null,
   "id": "65513d8a",
   "metadata": {},
   "outputs": [],
   "source": [
    "## Save the model\n",
    "save(constr.article.edits.2w.zinb.1,\n",
    "     file='../models/constr.article.edits.2w.zinb.1.Robj')"
   ]
  },
  {
   "cell_type": "code",
   "execution_count": 18,
   "id": "51341b07",
   "metadata": {},
   "outputs": [
    {
     "data": {
      "text/plain": [
       " Family: zero_inflated_negbinomial \n",
       "  Links: mu = log; shape = identity; zi = logit \n",
       "Formula: num_const_article_edits_2w ~ platform + Group + log_num_const_article_edits_24hrs + (1 | wiki_db) \n",
       "         zi ~ platform + (1 + platform | wiki_db)\n",
       "   Data: user_edit_data (Number of observations: 130179) \n",
       "  Draws: 4 chains, each with iter = 800; warmup = 400; thin = 1;\n",
       "         total post-warmup draws = 1600\n",
       "\n",
       "Group-Level Effects: \n",
       "~wiki_db (Number of levels: 10) \n",
       "                                    Estimate Est.Error l-95% CI u-95% CI Rhat\n",
       "sd(Intercept)                           0.35      0.11     0.19     0.62 1.00\n",
       "sd(zi_Intercept)                        2.54      0.83     1.34     4.47 1.00\n",
       "sd(zi_platformmobile)                   1.89      0.72     0.82     3.53 1.01\n",
       "cor(zi_Intercept,zi_platformmobile)    -0.85      0.17    -1.00    -0.35 1.00\n",
       "                                    Bulk_ESS Tail_ESS\n",
       "sd(Intercept)                            701      866\n",
       "sd(zi_Intercept)                         725     1051\n",
       "sd(zi_platformmobile)                    732      800\n",
       "cor(zi_Intercept,zi_platformmobile)      736      747\n",
       "\n",
       "Population-Level Effects: \n",
       "                                  Estimate Est.Error l-95% CI u-95% CI Rhat\n",
       "Intercept                            -1.45      0.13    -1.71    -1.21 1.00\n",
       "zi_Intercept                         -3.35      1.03    -5.46    -1.58 1.00\n",
       "platformmobile                        0.04      0.06    -0.06     0.15 1.00\n",
       "GroupUnstructured                    -0.06      0.05    -0.17     0.04 1.00\n",
       "GroupAddMaMlink                       0.09      0.05    -0.01     0.19 1.00\n",
       "log_num_const_article_edits_24hrs     1.48      0.04     1.41     1.55 1.00\n",
       "zi_platformmobile                     3.09      0.87     1.67     4.97 1.00\n",
       "                                  Bulk_ESS Tail_ESS\n",
       "Intercept                              642      690\n",
       "zi_Intercept                           509      609\n",
       "platformmobile                        2355     1304\n",
       "GroupUnstructured                     1927     1267\n",
       "GroupAddMaMlink                       1958     1352\n",
       "log_num_const_article_edits_24hrs     2959     1144\n",
       "zi_platformmobile                      541      806\n",
       "\n",
       "Family Specific Parameters: \n",
       "      Estimate Est.Error l-95% CI u-95% CI Rhat Bulk_ESS Tail_ESS\n",
       "shape     0.03      0.00     0.03     0.03 1.00     1306     1236\n",
       "\n",
       "Draws were sampled using sampling(NUTS). For each parameter, Bulk_ESS\n",
       "and Tail_ESS are effective sample size measures, and Rhat is the potential\n",
       "scale reduction factor on split chains (at convergence, Rhat = 1)."
      ]
     },
     "metadata": {},
     "output_type": "display_data"
    }
   ],
   "source": [
    "summary(constr.article.edits.2w.zinb.1)"
   ]
  },
  {
   "cell_type": "code",
   "execution_count": 19,
   "id": "61c70bae",
   "metadata": {},
   "outputs": [
    {
     "data": {
      "image/png": "[encoded data removed]",
      "text/plain": [
       "plot without title"
      ]
     },
     "metadata": {
      "image/png": {
       "height": 420,
       "width": 840
      }
     },
     "output_type": "display_data"
    }
   ],
   "source": [
    "pp_check(constr.article.edits.2w.zinb.1,\n",
    "         ndraws = 100, type = \"bars_grouped\", group = \"wiki_db\") +\n",
    "  ggplot2::coord_cartesian(xlim = c(0, 10));"
   ]
  },
  {
   "cell_type": "markdown",
   "id": "4cf8b82d",
   "metadata": {},
   "source": [
    "Zooming in on the non-zero part of the distributions, because the high zero-rate results in such a compressed graph."
   ]
  },
  {
   "cell_type": "code",
   "execution_count": 22,
   "id": "06029cbf",
   "metadata": {},
   "outputs": [
    {
     "data": {
      "image/png": "[encoded data removed]",
      "text/plain": [
       "plot without title"
      ]
     },
     "metadata": {
      "image/png": {
       "height": 420,
       "width": 840
      }
     },
     "output_type": "display_data"
    }
   ],
   "source": [
    "pp_check(constr.article.edits.2w.zinb.1,\n",
    "         ndraws = 100, type = \"bars_grouped\", group = \"wiki_db\") +\n",
    "  ggplot2::coord_cartesian(xlim = c(1, 10), ylim = c(0, 600));"
   ]
  },
  {
   "cell_type": "markdown",
   "id": "f4349540",
   "metadata": {},
   "source": [
    "Let's use the geometric mean to compare the groups this time:"
   ]
  },
  {
   "cell_type": "code",
   "execution_count": 28,
   "id": "9aa27a88",
   "metadata": {},
   "outputs": [
    {
     "data": {
      "text/html": [
       "0.082"
      ],
      "text/latex": [
       "0.082"
      ],
      "text/markdown": [
       "0.082"
      ],
      "text/plain": [
       "[1] 0.082"
      ]
     },
     "metadata": {},
     "output_type": "display_data"
    }
   ],
   "source": [
    "control.geomean <- exp(\n",
    "    mean(\n",
    "        log(\n",
    "            1 + user_edit_data[user_edit_data$Group == \"Control\",]$num_const_article_edits_2w\n",
    "        )\n",
    "    )\n",
    ") - 1\n",
    "round(control.geomean, 3)"
   ]
  },
  {
   "cell_type": "code",
   "execution_count": 29,
   "id": "d9dbebaa",
   "metadata": {},
   "outputs": [
    {
     "data": {
      "text/html": [
       "0.085"
      ],
      "text/latex": [
       "0.085"
      ],
      "text/markdown": [
       "0.085"
      ],
      "text/plain": [
       "[1] 0.085"
      ]
     },
     "metadata": {},
     "output_type": "display_data"
    }
   ],
   "source": [
    "unstructured.geomean <- exp(\n",
    "    mean(\n",
    "        log(\n",
    "            1 + user_edit_data[user_edit_data$Group == \"Unstructured\",]$num_const_article_edits_2w\n",
    "        )\n",
    "    )\n",
    ") - 1\n",
    "round(unstructured.geomean, 3)"
   ]
  },
  {
   "cell_type": "code",
   "execution_count": 30,
   "id": "76a39f41",
   "metadata": {},
   "outputs": [
    {
     "data": {
      "text/html": [
       "0.092"
      ],
      "text/latex": [
       "0.092"
      ],
      "text/markdown": [
       "0.092"
      ],
      "text/plain": [
       "[1] 0.092"
      ]
     },
     "metadata": {},
     "output_type": "display_data"
    }
   ],
   "source": [
    "addalink.geomean <- exp(\n",
    "    mean(\n",
    "        log(\n",
    "            1 + user_edit_data[user_edit_data$Group == \"Add-a-link\",]$num_const_article_edits_2w\n",
    "        )\n",
    "    )\n",
    ") - 1\n",
    "round(addalink.geomean, 3)"
   ]
  },
  {
   "cell_type": "code",
   "execution_count": 31,
   "id": "14c4ccc4",
   "metadata": {},
   "outputs": [
    {
     "data": {
      "text/html": [
       "0.003"
      ],
      "text/latex": [
       "0.003"
      ],
      "text/markdown": [
       "0.003"
      ],
      "text/plain": [
       "[1] 0.003"
      ]
     },
     "metadata": {},
     "output_type": "display_data"
    }
   ],
   "source": [
    "round(unstructured.geomean - control.geomean, 3)"
   ]
  },
  {
   "cell_type": "code",
   "execution_count": 32,
   "id": "b8306011",
   "metadata": {},
   "outputs": [
    {
     "data": {
      "text/html": [
       "0.01"
      ],
      "text/latex": [
       "0.01"
      ],
      "text/markdown": [
       "0.01"
      ],
      "text/plain": [
       "[1] 0.01"
      ]
     },
     "metadata": {},
     "output_type": "display_data"
    }
   ],
   "source": [
    "round(addalink.geomean - control.geomean, 3)"
   ]
  },
  {
   "cell_type": "code",
   "execution_count": 33,
   "id": "6556e89e",
   "metadata": {},
   "outputs": [
    {
     "data": {
      "text/html": [
       "3.5"
      ],
      "text/latex": [
       "3.5"
      ],
      "text/markdown": [
       "3.5"
      ],
      "text/plain": [
       "[1] 3.5"
      ]
     },
     "metadata": {},
     "output_type": "display_data"
    }
   ],
   "source": [
    "round(100 * (unstructured.geomean - control.geomean) / control.geomean, 1)"
   ]
  },
  {
   "cell_type": "code",
   "execution_count": 34,
   "id": "b903474b",
   "metadata": {},
   "outputs": [
    {
     "data": {
      "text/html": [
       "12.8"
      ],
      "text/latex": [
       "12.8"
      ],
      "text/markdown": [
       "12.8"
      ],
      "text/plain": [
       "[1] 12.8"
      ]
     },
     "metadata": {},
     "output_type": "display_data"
    }
   ],
   "source": [
    "round(100 * (addalink.geomean - control.geomean) / control.geomean, 1)"
   ]
  }
 ],
 "metadata": {
  "kernelspec": {
   "display_name": "R",
   "language": "R",
   "name": "ir"
  },
  "language_info": {
   "codemirror_mode": "r",
   "file_extension": ".r",
   "mimetype": "text/x-r-source",
   "name": "R",
   "pygments_lexer": "r",
   "version": "3.5.2"
  }
 },
 "nbformat": 4,
 "nbformat_minor": 5
}
