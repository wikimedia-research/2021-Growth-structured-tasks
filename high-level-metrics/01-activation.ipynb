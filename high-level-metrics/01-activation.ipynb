{
 "cells": [
  {
   "cell_type": "markdown",
   "id": "ccdf1c74",
   "metadata": {},
   "source": [
    "# Editor Activation\n",
    "\n"
   ]
  },
  {
   "cell_type": "code",
   "execution_count": 1,
   "id": "beaeeb66",
   "metadata": {},
   "outputs": [
    {
     "name": "stderr",
     "output_type": "stream",
     "text": [
      "── \u001b[1mAttaching packages\u001b[22m ─────────────────────────────────────── tidyverse 1.3.0 ──\n",
      "\n",
      "\u001b[32m✔\u001b[39m \u001b[34mggplot2\u001b[39m 3.3.2     \u001b[32m✔\u001b[39m \u001b[34mpurrr  \u001b[39m 0.3.4\n",
      "\u001b[32m✔\u001b[39m \u001b[34mtibble \u001b[39m 3.0.4     \u001b[32m✔\u001b[39m \u001b[34mdplyr  \u001b[39m 1.0.2\n",
      "\u001b[32m✔\u001b[39m \u001b[34mtidyr  \u001b[39m 1.1.2     \u001b[32m✔\u001b[39m \u001b[34mstringr\u001b[39m 1.4.0\n",
      "\u001b[32m✔\u001b[39m \u001b[34mreadr  \u001b[39m 1.4.0     \u001b[32m✔\u001b[39m \u001b[34mforcats\u001b[39m 0.5.0\n",
      "\n",
      "── \u001b[1mConflicts\u001b[22m ────────────────────────────────────────── tidyverse_conflicts() ──\n",
      "\u001b[31m✖\u001b[39m \u001b[34mdplyr\u001b[39m::\u001b[32mfilter()\u001b[39m masks \u001b[34mstats\u001b[39m::filter()\n",
      "\u001b[31m✖\u001b[39m \u001b[34mdplyr\u001b[39m::\u001b[32mlag()\u001b[39m    masks \u001b[34mstats\u001b[39m::lag()\n",
      "\n",
      "\n",
      "Attaching package: ‘lubridate’\n",
      "\n",
      "\n",
      "The following objects are masked from ‘package:base’:\n",
      "\n",
      "    date, intersect, setdiff, union\n",
      "\n",
      "\n",
      "This is bayesplot version 1.7.2\n",
      "\n",
      "- Online documentation and vignettes at mc-stan.org/bayesplot\n",
      "\n",
      "- bayesplot theme set to bayesplot::theme_default()\n",
      "\n",
      "   * Does _not_ affect other ggplot2 plots\n",
      "\n",
      "   * See ?bayesplot_theme_set for details on theme setting\n",
      "\n",
      "Loading required package: Matrix\n",
      "\n",
      "\n",
      "Attaching package: ‘Matrix’\n",
      "\n",
      "\n",
      "The following objects are masked from ‘package:tidyr’:\n",
      "\n",
      "    expand, pack, unpack\n",
      "\n",
      "\n",
      "For binary classification, the first factor level is assumed to be the event.\n",
      "Use the argument `event_level = \"second\"` to alter this as needed.\n",
      "\n",
      "\n",
      "Attaching package: ‘yardstick’\n",
      "\n",
      "\n",
      "The following object is masked from ‘package:readr’:\n",
      "\n",
      "    spec\n",
      "\n",
      "\n",
      "Loading required package: lattice\n",
      "\n",
      "\n",
      "Attaching package: ‘caret’\n",
      "\n",
      "\n",
      "The following objects are masked from ‘package:yardstick’:\n",
      "\n",
      "    precision, recall, sensitivity, specificity\n",
      "\n",
      "\n",
      "The following object is masked from ‘package:purrr’:\n",
      "\n",
      "    lift\n",
      "\n",
      "\n"
     ]
    }
   ],
   "source": [
    "library(tidyverse)\n",
    "library(broom)\n",
    "\n",
    "# library(brms) # install.packages(\"brms\")\n",
    "# library(loo) # install.packages(\"loo\")\n",
    "# library(rstanarm) # install.packages(\"rstanarm\")\n",
    "\n",
    "library(lubridate)\n",
    "library(bayesplot)\n",
    "\n",
    "library(lme4)\n",
    "library(yardstick) # install.packages(\"yardstick\")\n",
    "\n",
    "library(caret)"
   ]
  },
  {
   "cell_type": "markdown",
   "id": "bb921012",
   "metadata": {},
   "source": [
    "# R Configuration variables"
   ]
  },
  {
   "cell_type": "code",
   "execution_count": 2,
   "id": "50d87f19",
   "metadata": {},
   "outputs": [],
   "source": [
    "## NOTE: `loo`, which we use for model comparisons, has a tendency to use lots or run out of memory.\n",
    "## Therefore, I've often had to set mc.cores to 1 before running it. However, if we set its `pointwise`\n",
    "## parameter, it'll use less memory. And it'll use BLAS, so we restrict the number of BLAS threads to 1.\n",
    "## Then mc.cores controls the number of parallel processes.\n",
    "\n",
    "## blas_set_num_threads() also controls the number of threads that glmer() uses. Depending on the load\n",
    "## on the server at the time we're doing our analysis we can tune the number of threads.\n",
    "\n",
    "library(RhpcBLASctl)\n",
    "blas_set_num_threads(1)\n",
    "options(mc.cores = 4, digits = 3, scipen = 500)\n",
    "\n",
    "# Give me wider plots, please\n",
    "options(repr.plot.width = 14, repr.plot.height = 7)"
   ]
  },
  {
   "cell_type": "markdown",
   "id": "712378da",
   "metadata": {},
   "source": [
    "# Helper functions"
   ]
  },
  {
   "cell_type": "code",
   "execution_count": 3,
   "id": "d88d426f",
   "metadata": {},
   "outputs": [],
   "source": [
    "## Function that takes in a model, the validation set, the name of the predicted column,\n",
    "## and returns a plot of the ROC curve\n",
    "plot_ROC <- function(mod, val_data, col_name) {\n",
    "    val_data$estimate = predict(mod, val_data, type = \"response\")\n",
    "    roc_curve(val_data, {{ col_name }}, estimate, event_level = 'second') %>%\n",
    "        ggplot(aes(x = 1 - specificity, y = sensitivity)) +\n",
    "        geom_path() +\n",
    "        geom_abline(lty = 3) +\n",
    "        coord_equal() +\n",
    "        theme_bw()\n",
    "}"
   ]
  },
  {
   "cell_type": "code",
   "execution_count": 4,
   "id": "a2fe1406",
   "metadata": {},
   "outputs": [],
   "source": [
    "## Function that takes in the filename of the user edit data, reads it in,\n",
    "## and creates all the various derived columns we need.\n",
    "read_user_dataset <- function(dataset_filename) {\n",
    "    read_tsv(\n",
    "        dataset_filename,\n",
    "        col_types = user_dataset_column_types) %>%\n",
    "    mutate(\n",
    "        Group = factor(hp_enabled, levels = c(0, 1), labels = c(\"C\", \"HP\")),\n",
    "        platform = factor(reg_on_mobile == 1, c(FALSE, TRUE), c(\"desktop\", \"mobile\")),\n",
    "        ## Registration month, for later joins on month\n",
    "        reg_month = floor_date(user_registration_timestamp, unit = 'month'),\n",
    "        # Number of edits:\n",
    "        num_total_edits_24hrs = num_article_edits_24hrs + num_other_edits_24hrs,\n",
    "        num_total_edits_2w = num_article_edits_2w + num_other_edits_2w,\n",
    "        num_total_edits = num_total_edits_24hrs + num_total_edits_2w,\n",
    "        num_total_article_edits = num_article_edits_24hrs + num_article_edits_2w,\n",
    "        num_total_other_edits = num_other_edits_24hrs + num_total_edits_2w,\n",
    "        # Log number of total edits is used as a control variable in the revert analysis\n",
    "        log_num_total_edits = log(1 + num_total_edits),\n",
    "        # Number of reverts:\n",
    "        num_reverts_24hrs = num_article_reverts_24hrs + num_other_reverts_24hrs,\n",
    "        num_reverts_2w = num_article_reverts_2w + num_other_reverts_2w,\n",
    "        num_total_reverts = num_reverts_24hrs + num_reverts_2w,\n",
    "        ## Control variables for the number of edits made (used for ex. in revert analysis)\n",
    "        log_num_article_edits_24hrs = log(1 + num_article_edits_24hrs),\n",
    "        log_num_other_edits_24hrs = log(1 + num_other_edits_24hrs),\n",
    "        log_num_edits_24hrs = log(1 + num_article_edits_24hrs + num_other_edits_24hrs),\n",
    "        # Control variables for the number of constructive edits made\n",
    "        log_num_const_article_edits_24hrs = log(\n",
    "            1 + num_article_edits_24hrs - num_article_reverts_24hrs),\n",
    "        log_num_const_other_edits_24hrs = log(\n",
    "            1 + num_other_edits_24hrs - num_other_reverts_24hrs),\n",
    "        log_num_const_edits_24hrs = log(\n",
    "            1 + num_article_edits_24hrs + num_other_edits_24hrs -\n",
    "                num_article_reverts_24hrs - num_other_reverts_24hrs),\n",
    "        # Revert rate:\n",
    "        prop_rev_edits = ifelse(num_total_edits > 0, num_total_reverts / num_total_edits, 0),\n",
    "        # Did they activate?\n",
    "        is_activated_article = num_article_edits_24hrs > 0,\n",
    "        is_activated_other = num_other_edits_24hrs > 0,\n",
    "        is_activated = is_activated_article | is_activated_other,\n",
    "        # Did they activate through constructive edits?\n",
    "        is_const_activated_article = (num_article_edits_24hrs - num_article_reverts_24hrs) > 0,\n",
    "        is_const_activated_other = (num_other_edits_24hrs - num_other_reverts_24hrs) > 0,\n",
    "        is_const_activated = is_const_activated_article | is_const_activated_other,\n",
    "        # Were they retained?\n",
    "        is_retained_article = is_activated_article & (num_article_edits_2w > 0),\n",
    "        is_retained_other = is_activated_other & (num_other_edits_2w > 0),\n",
    "        is_retained = is_activated & ((num_article_edits_2w + num_other_edits_2w) > 0),\n",
    "        # Were they retained through constructive edits?\n",
    "        is_const_retained_article = is_const_activated_article &\n",
    "            ((num_article_edits_2w - num_article_reverts_2w) > 0),\n",
    "        is_const_retained_other = is_const_activated_other &\n",
    "            ((num_other_edits_2w - num_other_reverts_2w) > 0),\n",
    "        is_const_retained = is_const_activated &\n",
    "            ((num_article_edits_2w + num_other_edits_2w -\n",
    "              num_article_reverts_2w - num_other_reverts_2w) > 0)\n",
    "    ) \n",
    "}"
   ]
  },
  {
   "cell_type": "code",
   "execution_count": 5,
   "id": "1d886324",
   "metadata": {},
   "outputs": [],
   "source": [
    "## Function that takes in the filename of the active editors dataset,\n",
    "## and adds a registration month column for easy joining with the user dataset.\n",
    "read_active_editors_dataset <- function(dataset_filename) {\n",
    "    read_tsv(\n",
    "        dataset_filename,\n",
    "        col_types = active_editors_column_types) %>%\n",
    "    mutate(wiki_db = factor(wiki_db),\n",
    "           reg_month = month + months(1))\n",
    "}"
   ]
  },
  {
   "cell_type": "markdown",
   "id": "072f6fd7",
   "metadata": {},
   "source": [
    "# Experiment Configuration Variables\n",
    "\n",
    "We define a set of configuration variables that are useful for the analysis. One obvious one is where the edit dataset is located.\n",
    "\n",
    "A less obvious one is a variable for when the experiment started. We often use this seeking to model the community's initial response to changes in newcomer behaviour, as well as long-term trends in the outcome variable when working with user data gathered across a relatively long time period."
   ]
  },
  {
   "cell_type": "code",
   "execution_count": 6,
   "id": "6d6aed7b",
   "metadata": {},
   "outputs": [],
   "source": [
    "## Path to the datasets with user edits\n",
    "user_dataset_filenames <- c(\n",
    "    '/home/nettrom/src/2021-Growth-structured-tasks/datasets/add-a-link-edit-data.tsv'\n",
    "    )\n",
    "\n",
    "## Column types in the dataset: wiki is a factor, HP variant is a factor, registration is a date time,\n",
    "## everything else are integers.\n",
    "user_dataset_column_types <- 'fiTiifiiiiiiii'\n",
    "\n",
    "## Path to the dataset with counts of the number of active editors\n",
    "active_editors_filenames <- c(\n",
    "    '/home/nettrom/src/Growth-homepage-2019/datasets/newtea_revisited_feb2021_active_editor_counts.tsv',\n",
    "    '/home/nettrom/src/Growth-homepage-2019/datasets/newtea_revisited_mar2021_active_editor_counts.tsv',\n",
    "    '/home/nettrom/src/Growth-homepage-2019/datasets/newtea_revisited_apr2021_active_editor_counts.tsv'\n",
    "    )\n",
    "\n",
    "## Column types in the active editors dataset: month is a date, wiki is a factor\n",
    "active_editors_column_types <- 'Dfiii'\n",
    "\n",
    "## Deployment timestamps for Add a Link on each of the wikis\n",
    "## Note that we turn wiki_db into a factor, otherwise wiki_db in the edit dataset\n",
    "## becomes a character after joining the two.\n",
    "exp_start_timestamps <- tribble(\n",
    "    ~wiki_db, ~exp_start_timestamp,\n",
    "    'arwiki', ymd_hms('2021-05-27 19:12:03', tz = 'UTC'),\n",
    "    'bnwiki', ymd_hms('2021-05-27 19:12:03', tz = 'UTC'),\n",
    "    'cswiki', ymd_hms('2021-05-27 19:12:03', tz = 'UTC'),\n",
    "    'viwiki', ymd_hms('2021-05-27 19:12:03', tz = 'UTC'),\n",
    "    'fawiki', ymd_hms('2021-07-21 11:11:21', tz = 'UTC'),\n",
    "    'frwiki', ymd_hms('2021-07-21 11:11:21', tz = 'UTC'),\n",
    "    'huwiki', ymd_hms('2021-07-21 11:11:21', tz = 'UTC'),\n",
    "    'plwiki', ymd_hms('2021-07-21 11:11:21', tz = 'UTC'),\n",
    "    'rowiki', ymd_hms('2021-07-21 11:11:21', tz = 'UTC'),\n",
    "    'ruwiki', ymd_hms('2021-07-21 11:11:21', tz = 'UTC'),\n",
    "\n",
    ") %>% mutate(wiki_db = factor(wiki_db))\n",
    "\n",
    "## Path to the dataset with editing status at account registration\n",
    "editing_status_filenames <- c()\n",
    "\n",
    "## Column types in the editing status dataset: wiki is a factor, everything else are integers\n",
    "editing_status_column_types <- 'fii'\n",
    "\n",
    "## Path to the dataset with Welcome Survey responses\n",
    "survey_response_filenames <- c()\n",
    "\n",
    "## Columns types in the survey response data: user ID is an integer, number of languages is a number,\n",
    "## everything else are factors\n",
    "survey_response_column_types <- 'fifffn'"
   ]
  },
  {
   "cell_type": "markdown",
   "id": "cfcb02e2",
   "metadata": {},
   "source": [
    "# Data import and setup"
   ]
  },
  {
   "cell_type": "code",
   "execution_count": 7,
   "id": "984f663a",
   "metadata": {},
   "outputs": [],
   "source": [
    "user_edit_data <- map_dfr(user_dataset_filenames, read_user_dataset)"
   ]
  },
  {
   "cell_type": "code",
   "execution_count": 8,
   "id": "4a07db7c",
   "metadata": {},
   "outputs": [
    {
     "data": {
      "text/html": [
       "130179"
      ],
      "text/latex": [
       "130179"
      ],
      "text/markdown": [
       "130179"
      ],
      "text/plain": [
       "[1] 130179"
      ]
     },
     "metadata": {},
     "output_type": "display_data"
    }
   ],
   "source": [
    "nrow(user_edit_data)"
   ]
  },
  {
   "cell_type": "markdown",
   "id": "5b876f97",
   "metadata": {},
   "source": [
    "## Time since experiment start"
   ]
  },
  {
   "cell_type": "markdown",
   "id": "e5faa9e0",
   "metadata": {},
   "source": [
    "Join the edits data with the experiment timestamps and measure time since the start to enable controlling for that:"
   ]
  },
  {
   "cell_type": "code",
   "execution_count": 9,
   "id": "fae5758f",
   "metadata": {},
   "outputs": [],
   "source": [
    "user_edit_data <- user_edit_data %>%\n",
    "    inner_join(exp_start_timestamps, by = 'wiki_db') %>%\n",
    "    mutate(\n",
    "        # Time as a measurement since deployment\n",
    "        exp_days = difftime(user_registration_timestamp, exp_start_timestamp, units = 'days'),\n",
    "        ln_exp_days = ifelse(exp_days < 0, 0, log(1 + as.numeric(exp_days))),\n",
    "        ln_exp_weeks = ifelse(exp_days < 0, 0, log(1 + as.numeric(exp_days)/7))\n",
    "    )"
   ]
  },
  {
   "cell_type": "code",
   "execution_count": 10,
   "id": "6c99009c",
   "metadata": {},
   "outputs": [
    {
     "data": {
      "text/html": [
       "130179"
      ],
      "text/latex": [
       "130179"
      ],
      "text/markdown": [
       "130179"
      ],
      "text/plain": [
       "[1] 130179"
      ]
     },
     "metadata": {},
     "output_type": "display_data"
    }
   ],
   "source": [
    "nrow(user_edit_data)"
   ]
  },
  {
   "cell_type": "markdown",
   "id": "7b29b1ab",
   "metadata": {},
   "source": [
    "Made sure that we're not dropping any users at this stage, we're good to move forward."
   ]
  },
  {
   "cell_type": "markdown",
   "id": "6e53ea9f",
   "metadata": {},
   "source": [
    "## Additional variables\n",
    "\n",
    "We've previously focused on Control vs Growth Features in our analysis. In this case we'll focus primarily on Unstructured Link Task vs Add a Link, but also check against the control group. This means we want the single variable `Group` to reflect one of three options depending on `hp_enabled` and `hp_variant`"
   ]
  },
  {
   "cell_type": "code",
   "execution_count": 11,
   "id": "5af0566d",
   "metadata": {},
   "outputs": [],
   "source": [
    "user_edit_data <- user_edit_data %>%\n",
    "    mutate(Group = factor(ifelse(\n",
    "        hp_enabled == 0, 'Control',\n",
    "        ifelse(hp_variant == 'control', 'Unstructured', 'Add-a-link')),\n",
    "                          c('Control', 'Unstructured', 'Add-a-link')))"
   ]
  },
  {
   "cell_type": "markdown",
   "id": "89fa91f6",
   "metadata": {},
   "source": [
    "## Checking number of accounts for each wiki\n",
    "\n",
    "We might be looking at very small wikis, in case we might want to not include them in the analysis."
   ]
  },
  {
   "cell_type": "code",
   "execution_count": 12,
   "id": "88c08482",
   "metadata": {},
   "outputs": [
    {
     "name": "stderr",
     "output_type": "stream",
     "text": [
      "`summarise()` regrouping output by 'wiki_db' (override with `.groups` argument)\n",
      "\n"
     ]
    },
    {
     "data": {
      "text/html": [
       "<table>\n",
       "<caption>A grouped_df: 30 × 3</caption>\n",
       "<thead>\n",
       "\t<tr><th scope=col>wiki_db</th><th scope=col>Group</th><th scope=col>n</th></tr>\n",
       "\t<tr><th scope=col>&lt;fct&gt;</th><th scope=col>&lt;fct&gt;</th><th scope=col>&lt;int&gt;</th></tr>\n",
       "</thead>\n",
       "<tbody>\n",
       "\t<tr><td>arwiki</td><td>Control     </td><td> 7698</td></tr>\n",
       "\t<tr><td>arwiki</td><td>Unstructured</td><td>13426</td></tr>\n",
       "\t<tr><td>arwiki</td><td>Add-a-link  </td><td>13213</td></tr>\n",
       "\t<tr><td>bnwiki</td><td>Control     </td><td> 1583</td></tr>\n",
       "\t<tr><td>bnwiki</td><td>Unstructured</td><td> 2664</td></tr>\n",
       "\t<tr><td>bnwiki</td><td>Add-a-link  </td><td> 2679</td></tr>\n",
       "\t<tr><td>cswiki</td><td>Control     </td><td>  787</td></tr>\n",
       "\t<tr><td>cswiki</td><td>Unstructured</td><td> 1419</td></tr>\n",
       "\t<tr><td>cswiki</td><td>Add-a-link  </td><td> 1447</td></tr>\n",
       "\t<tr><td>fawiki</td><td>Control     </td><td> 2739</td></tr>\n",
       "\t<tr><td>fawiki</td><td>Unstructured</td><td> 5555</td></tr>\n",
       "\t<tr><td>fawiki</td><td>Add-a-link  </td><td> 5440</td></tr>\n",
       "\t<tr><td>frwiki</td><td>Control     </td><td> 5578</td></tr>\n",
       "\t<tr><td>frwiki</td><td>Unstructured</td><td>11146</td></tr>\n",
       "\t<tr><td>frwiki</td><td>Add-a-link  </td><td>11274</td></tr>\n",
       "\t<tr><td>huwiki</td><td>Control     </td><td>  315</td></tr>\n",
       "\t<tr><td>huwiki</td><td>Unstructured</td><td>  638</td></tr>\n",
       "\t<tr><td>huwiki</td><td>Add-a-link  </td><td>  632</td></tr>\n",
       "\t<tr><td>plwiki</td><td>Control     </td><td>  949</td></tr>\n",
       "\t<tr><td>plwiki</td><td>Unstructured</td><td> 1924</td></tr>\n",
       "\t<tr><td>plwiki</td><td>Add-a-link  </td><td> 1930</td></tr>\n",
       "\t<tr><td>rowiki</td><td>Control     </td><td>  294</td></tr>\n",
       "\t<tr><td>rowiki</td><td>Unstructured</td><td>  575</td></tr>\n",
       "\t<tr><td>rowiki</td><td>Add-a-link  </td><td>  565</td></tr>\n",
       "\t<tr><td>ruwiki</td><td>Control     </td><td> 4069</td></tr>\n",
       "\t<tr><td>ruwiki</td><td>Unstructured</td><td> 8176</td></tr>\n",
       "\t<tr><td>ruwiki</td><td>Add-a-link  </td><td> 8222</td></tr>\n",
       "\t<tr><td>viwiki</td><td>Control     </td><td> 3324</td></tr>\n",
       "\t<tr><td>viwiki</td><td>Unstructured</td><td> 5956</td></tr>\n",
       "\t<tr><td>viwiki</td><td>Add-a-link  </td><td> 5962</td></tr>\n",
       "</tbody>\n",
       "</table>\n"
      ],
      "text/latex": [
       "A grouped\\_df: 30 × 3\n",
       "\\begin{tabular}{lll}\n",
       " wiki\\_db & Group & n\\\\\n",
       " <fct> & <fct> & <int>\\\\\n",
       "\\hline\n",
       "\t arwiki & Control      &  7698\\\\\n",
       "\t arwiki & Unstructured & 13426\\\\\n",
       "\t arwiki & Add-a-link   & 13213\\\\\n",
       "\t bnwiki & Control      &  1583\\\\\n",
       "\t bnwiki & Unstructured &  2664\\\\\n",
       "\t bnwiki & Add-a-link   &  2679\\\\\n",
       "\t cswiki & Control      &   787\\\\\n",
       "\t cswiki & Unstructured &  1419\\\\\n",
       "\t cswiki & Add-a-link   &  1447\\\\\n",
       "\t fawiki & Control      &  2739\\\\\n",
       "\t fawiki & Unstructured &  5555\\\\\n",
       "\t fawiki & Add-a-link   &  5440\\\\\n",
       "\t frwiki & Control      &  5578\\\\\n",
       "\t frwiki & Unstructured & 11146\\\\\n",
       "\t frwiki & Add-a-link   & 11274\\\\\n",
       "\t huwiki & Control      &   315\\\\\n",
       "\t huwiki & Unstructured &   638\\\\\n",
       "\t huwiki & Add-a-link   &   632\\\\\n",
       "\t plwiki & Control      &   949\\\\\n",
       "\t plwiki & Unstructured &  1924\\\\\n",
       "\t plwiki & Add-a-link   &  1930\\\\\n",
       "\t rowiki & Control      &   294\\\\\n",
       "\t rowiki & Unstructured &   575\\\\\n",
       "\t rowiki & Add-a-link   &   565\\\\\n",
       "\t ruwiki & Control      &  4069\\\\\n",
       "\t ruwiki & Unstructured &  8176\\\\\n",
       "\t ruwiki & Add-a-link   &  8222\\\\\n",
       "\t viwiki & Control      &  3324\\\\\n",
       "\t viwiki & Unstructured &  5956\\\\\n",
       "\t viwiki & Add-a-link   &  5962\\\\\n",
       "\\end{tabular}\n"
      ],
      "text/markdown": [
       "\n",
       "A grouped_df: 30 × 3\n",
       "\n",
       "| wiki_db &lt;fct&gt; | Group &lt;fct&gt; | n &lt;int&gt; |\n",
       "|---|---|---|\n",
       "| arwiki | Control      |  7698 |\n",
       "| arwiki | Unstructured | 13426 |\n",
       "| arwiki | Add-a-link   | 13213 |\n",
       "| bnwiki | Control      |  1583 |\n",
       "| bnwiki | Unstructured |  2664 |\n",
       "| bnwiki | Add-a-link   |  2679 |\n",
       "| cswiki | Control      |   787 |\n",
       "| cswiki | Unstructured |  1419 |\n",
       "| cswiki | Add-a-link   |  1447 |\n",
       "| fawiki | Control      |  2739 |\n",
       "| fawiki | Unstructured |  5555 |\n",
       "| fawiki | Add-a-link   |  5440 |\n",
       "| frwiki | Control      |  5578 |\n",
       "| frwiki | Unstructured | 11146 |\n",
       "| frwiki | Add-a-link   | 11274 |\n",
       "| huwiki | Control      |   315 |\n",
       "| huwiki | Unstructured |   638 |\n",
       "| huwiki | Add-a-link   |   632 |\n",
       "| plwiki | Control      |   949 |\n",
       "| plwiki | Unstructured |  1924 |\n",
       "| plwiki | Add-a-link   |  1930 |\n",
       "| rowiki | Control      |   294 |\n",
       "| rowiki | Unstructured |   575 |\n",
       "| rowiki | Add-a-link   |   565 |\n",
       "| ruwiki | Control      |  4069 |\n",
       "| ruwiki | Unstructured |  8176 |\n",
       "| ruwiki | Add-a-link   |  8222 |\n",
       "| viwiki | Control      |  3324 |\n",
       "| viwiki | Unstructured |  5956 |\n",
       "| viwiki | Add-a-link   |  5962 |\n",
       "\n"
      ],
      "text/plain": [
       "   wiki_db Group        n    \n",
       "1  arwiki  Control       7698\n",
       "2  arwiki  Unstructured 13426\n",
       "3  arwiki  Add-a-link   13213\n",
       "4  bnwiki  Control       1583\n",
       "5  bnwiki  Unstructured  2664\n",
       "6  bnwiki  Add-a-link    2679\n",
       "7  cswiki  Control        787\n",
       "8  cswiki  Unstructured  1419\n",
       "9  cswiki  Add-a-link    1447\n",
       "10 fawiki  Control       2739\n",
       "11 fawiki  Unstructured  5555\n",
       "12 fawiki  Add-a-link    5440\n",
       "13 frwiki  Control       5578\n",
       "14 frwiki  Unstructured 11146\n",
       "15 frwiki  Add-a-link   11274\n",
       "16 huwiki  Control        315\n",
       "17 huwiki  Unstructured   638\n",
       "18 huwiki  Add-a-link     632\n",
       "19 plwiki  Control        949\n",
       "20 plwiki  Unstructured  1924\n",
       "21 plwiki  Add-a-link    1930\n",
       "22 rowiki  Control        294\n",
       "23 rowiki  Unstructured   575\n",
       "24 rowiki  Add-a-link     565\n",
       "25 ruwiki  Control       4069\n",
       "26 ruwiki  Unstructured  8176\n",
       "27 ruwiki  Add-a-link    8222\n",
       "28 viwiki  Control       3324\n",
       "29 viwiki  Unstructured  5956\n",
       "30 viwiki  Add-a-link    5962"
      ]
     },
     "metadata": {},
     "output_type": "display_data"
    }
   ],
   "source": [
    "user_edit_data %>%\n",
    "    group_by(wiki_db, Group) %>%\n",
    "    summarize(n = n())"
   ]
  },
  {
   "cell_type": "markdown",
   "id": "f1782fc9",
   "metadata": {},
   "source": [
    "## Splitting into Training, Test, and Validation Datasets\n",
    "\n",
    "Split the dataset into training, test, and validation data sets."
   ]
  },
  {
   "cell_type": "code",
   "execution_count": 13,
   "id": "b32eb1ce",
   "metadata": {},
   "outputs": [
    {
     "name": "stderr",
     "output_type": "stream",
     "text": [
      "Warning message:\n",
      "“The `i` argument of ``[`()` can't be a matrix as of tibble 3.0.0.\n",
      "Convert to a vector.\n",
      "\u001b[90mThis warning is displayed once every 8 hours.\u001b[39m\n",
      "\u001b[90mCall `lifecycle::last_warnings()` to see where this warning was generated.\u001b[39m”\n"
     ]
    }
   ],
   "source": [
    "## set the random seed so train/test/validation splits can be reproduced\n",
    "set.seed(42)\n",
    "\n",
    "trainIndex <- caret::createDataPartition(user_edit_data$Group,\n",
    "                                         p = .8,\n",
    "                                         list = FALSE,\n",
    "                                         times = 1)\n",
    "user_data_train = user_edit_data[trainIndex,]\n",
    "user_data_second = user_edit_data[-trainIndex,]\n",
    "\n",
    "testIndex = caret::createDataPartition(user_data_second$Group, p = .5, list = FALSE, times = 1)\n",
    "\n",
    "user_data_test = user_data_second[testIndex,]\n",
    "user_data_validate = user_data_second[-testIndex,]"
   ]
  },
  {
   "cell_type": "code",
   "execution_count": 14,
   "id": "0fed3952",
   "metadata": {},
   "outputs": [],
   "source": [
    "user_data_test$is_activated_fct <- factor(user_data_test$is_activated,\n",
    "                                          labels = c('No', 'Yes'))\n",
    "user_data_validate$is_activated_fct <- factor(user_data_validate$is_activated,\n",
    "                                          labels = c('No', 'Yes'))"
   ]
  },
  {
   "cell_type": "markdown",
   "id": "09183396",
   "metadata": {},
   "source": [
    "## Visualizing Activation and Retention\n",
    "\n",
    "We'll plot bar charts for activation and retention for the Control, Unstructured, and Add-a-link groups, split by platform.\n",
    "\n",
    "### Activation"
   ]
  },
  {
   "cell_type": "code",
   "execution_count": 43,
   "id": "94606f09",
   "metadata": {},
   "outputs": [
    {
     "data": {
      "image/png": "[encoded data removed]",
      "text/plain": [
       "plot without title"
      ]
     },
     "metadata": {
      "image/png": {
       "height": 420,
       "width": 840
      }
     },
     "output_type": "display_data"
    }
   ],
   "source": [
    "user_edit_data %>%\n",
    "    group_by(platform, Group, is_activated) %>%\n",
    "    tally() %>%\n",
    "    mutate(per_group = sum(n)) %>%\n",
    "    ungroup() %>%\n",
    "    mutate(perc = 100 * n / per_group, prob = n / per_group) %>%\n",
    "    mutate(SE = sqrt(prob * (1 - prob) / per_group)) %>%\n",
    "    filter(is_activated == TRUE) %>%\n",
    "    ggplot(aes(x = platform, y = perc, fill = Group)) +\n",
    "        labs(title = 'Overall Activation') +\n",
    "        geom_col(position = 'dodge2') + \n",
    "        geom_errorbar(aes(ymin = perc - 100*SE, ymax = perc + 100*SE),\n",
    "                      position = position_dodge2(width = 0.4, padding = 0.5))"
   ]
  },
  {
   "cell_type": "code",
   "execution_count": 44,
   "id": "8f30b7a4",
   "metadata": {},
   "outputs": [
    {
     "data": {
      "image/png": "[encoded data removed]",
      "text/plain": [
       "plot without title"
      ]
     },
     "metadata": {
      "image/png": {
       "height": 420,
       "width": 840
      }
     },
     "output_type": "display_data"
    }
   ],
   "source": [
    "user_edit_data %>%\n",
    "    group_by(platform, Group, is_const_activated_article) %>%\n",
    "    tally() %>%\n",
    "    mutate(per_group = sum(n)) %>%\n",
    "    ungroup() %>%\n",
    "    mutate(perc = 100 * n / per_group, prob = n / per_group) %>%\n",
    "    mutate(SE = sqrt(prob * (1 - prob) / per_group)) %>%\n",
    "    filter(is_const_activated_article == TRUE) %>%\n",
    "    ggplot(aes(x = platform, y = perc, fill = Group)) +\n",
    "        labs(title = 'Overall Constructive Article Activation') +\n",
    "        scale_fill_discrete(name = \"Treatment Group\",\n",
    "                            breaks = c(\"Control\", \"Unstructured\", \"Add-a-link\"),\n",
    "                            labels = c(\"Control\", \"Unstructured link\", \"Add a Link\")) +\n",
    "        geom_col(position = 'dodge2') + \n",
    "        geom_errorbar(aes(ymin = perc - 100*SE, ymax = perc + 100*SE),\n",
    "                      position = position_dodge2(width = 0.4, padding = 0.5))"
   ]
  },
  {
   "cell_type": "markdown",
   "id": "e54447a1",
   "metadata": {},
   "source": [
    "# Fitting Models\n",
    "\n",
    "## Activation"
   ]
  },
  {
   "cell_type": "code",
   "execution_count": 51,
   "id": "b7f19079",
   "metadata": {},
   "outputs": [],
   "source": [
    "blas_set_num_threads(16)\n",
    "activation.overall.1 <-\n",
    "    glmer(\n",
    "        formula = is_activated ~ platform + Group + (1 | wiki_db),\n",
    "        data = user_data_train,\n",
    "        family = binomial(link = \"logit\"))\n",
    "blas_set_num_threads(1)"
   ]
  },
  {
   "cell_type": "code",
   "execution_count": 52,
   "id": "cb613843",
   "metadata": {},
   "outputs": [
    {
     "data": {
      "text/plain": [
       "Generalized linear mixed model fit by maximum likelihood (Laplace\n",
       "  Approximation) [glmerMod]\n",
       " Family: binomial  ( logit )\n",
       "Formula: is_activated ~ platform + Group + (1 | wiki_db)\n",
       "   Data: user_data_train\n",
       "\n",
       "     AIC      BIC   logLik deviance df.resid \n",
       "  137219   137266   -68604   137209   104140 \n",
       "\n",
       "Scaled residuals: \n",
       "   Min     1Q Median     3Q    Max \n",
       "-0.992 -0.801 -0.704  1.169  1.574 \n",
       "\n",
       "Random effects:\n",
       " Groups  Name        Variance Std.Dev.\n",
       " wiki_db (Intercept) 0.0699   0.264   \n",
       "Number of obs: 104145, groups:  wiki_db, 10\n",
       "\n",
       "Fixed effects:\n",
       "                  Estimate Std. Error z value     Pr(>|z|)    \n",
       "(Intercept)       -0.40363    0.08465   -4.77 0.0000018592 ***\n",
       "platformmobile    -0.08181    0.01353   -6.05 0.0000000015 ***\n",
       "GroupUnstructured -0.00967    0.01738   -0.56        0.578    \n",
       "GroupAdd-a-link    0.04766    0.01735    2.75        0.006 ** \n",
       "---\n",
       "Signif. codes:  0 ‘***’ 0.001 ‘**’ 0.01 ‘*’ 0.05 ‘.’ 0.1 ‘ ’ 1\n",
       "\n",
       "Correlation of Fixed Effects:\n",
       "            (Intr) pltfrm GrpUns\n",
       "platformmbl -0.075              \n",
       "GrpUnstrctr -0.131  0.001       \n",
       "GrpAdd--lnk -0.131 -0.004  0.655"
      ]
     },
     "metadata": {},
     "output_type": "display_data"
    }
   ],
   "source": [
    "summary(activation.overall.1)"
   ]
  },
  {
   "cell_type": "markdown",
   "id": "7666495a",
   "metadata": {},
   "source": [
    "This model reflects the previous graph in that Add a Link increases activation relative to the Control. It looks like in this dataset, the unstructured task might not have significantly higher activation.\n",
    "\n",
    "Let's check for interaction between `platform` and `Group`:"
   ]
  },
  {
   "cell_type": "code",
   "execution_count": 47,
   "id": "425ad3e9",
   "metadata": {},
   "outputs": [],
   "source": [
    "blas_set_num_threads(16)\n",
    "activation.overall.2 <-\n",
    "    glmer(\n",
    "        formula = is_activated ~ platform * Group + (1 | wiki_db),\n",
    "        data = user_data_train,\n",
    "        family = binomial(link = \"logit\"))\n",
    "blas_set_num_threads(1)"
   ]
  },
  {
   "cell_type": "code",
   "execution_count": 48,
   "id": "fbe03122",
   "metadata": {},
   "outputs": [
    {
     "data": {
      "text/plain": [
       "Generalized linear mixed model fit by maximum likelihood (Laplace\n",
       "  Approximation) [glmerMod]\n",
       " Family: binomial  ( logit )\n",
       "Formula: is_activated ~ platform * Group + (1 | wiki_db)\n",
       "   Data: .\n",
       "\n",
       "     AIC      BIC   logLik deviance df.resid \n",
       "  137218   137285   -68602   137204   104138 \n",
       "\n",
       "Scaled residuals: \n",
       "   Min     1Q Median     3Q    Max \n",
       "-0.988 -0.804 -0.698  1.159  1.588 \n",
       "\n",
       "Random effects:\n",
       " Groups  Name        Variance Std.Dev.\n",
       " wiki_db (Intercept) 0.07     0.265   \n",
       "Number of obs: 104145, groups:  wiki_db, 10\n",
       "\n",
       "Fixed effects:\n",
       "                                 Estimate Std. Error z value   Pr(>|z|)    \n",
       "(Intercept)                       -0.4205     0.0848   -4.96 0.00000071 ***\n",
       "platformmobile                    -0.0485     0.0283   -1.71      0.087 .  \n",
       "GroupUnstructured                  0.0243     0.0245    0.99      0.323    \n",
       "GroupAdd-a-link                    0.0561     0.0245    2.29      0.022 *  \n",
       "platformmobile:GroupUnstructured  -0.0678     0.0346   -1.96      0.050 .  \n",
       "platformmobile:GroupAdd-a-link    -0.0167     0.0345   -0.48      0.629    \n",
       "---\n",
       "Signif. codes:  0 ‘***’ 0.001 ‘**’ 0.01 ‘*’ 0.05 ‘.’ 0.1 ‘ ’ 1\n",
       "\n",
       "Correlation of Fixed Effects:\n",
       "            (Intr) pltfrm GrpUns GrpA-- plt:GU\n",
       "platformmbl -0.160                            \n",
       "GrpUnstrctr -0.182  0.566                     \n",
       "GrpAdd--lnk -0.182  0.565  0.655              \n",
       "pltfrmmb:GU  0.128 -0.797 -0.706 -0.462       \n",
       "pltfrm:GA--  0.129 -0.799 -0.463 -0.708  0.652"
      ]
     },
     "metadata": {},
     "output_type": "display_data"
    }
   ],
   "source": [
    "summary(activation.overall.2)"
   ]
  },
  {
   "cell_type": "markdown",
   "id": "c8f1a28a",
   "metadata": {},
   "source": [
    "We don't find conclusive evidence of interaction. The BIC is much worse, suggesting that the complexity in the model isn't warranted. We see a marginally significant interaction on mobile for the unstructured task. Given these findings, we discard this model and check for wiki-level variation in `platform` and `Group`."
   ]
  },
  {
   "cell_type": "code",
   "execution_count": 53,
   "id": "2b3e328a",
   "metadata": {},
   "outputs": [],
   "source": [
    "blas_set_num_threads(16)\n",
    "activation.overall.3 <-\n",
    "    glmer(\n",
    "        formula = is_activated ~ platform + Group + (1 + platform | wiki_db),\n",
    "        data = user_data_train,\n",
    "        family = binomial(link = \"logit\"))\n",
    "blas_set_num_threads(1)"
   ]
  },
  {
   "cell_type": "code",
   "execution_count": 54,
   "id": "dbc2783a",
   "metadata": {},
   "outputs": [
    {
     "data": {
      "text/plain": [
       "Generalized linear mixed model fit by maximum likelihood (Laplace\n",
       "  Approximation) [glmerMod]\n",
       " Family: binomial  ( logit )\n",
       "Formula: is_activated ~ platform + Group + (1 + platform | wiki_db)\n",
       "   Data: user_data_train\n",
       "\n",
       "     AIC      BIC   logLik deviance df.resid \n",
       "  137025   137092   -68505   137011   104138 \n",
       "\n",
       "Scaled residuals: \n",
       "   Min     1Q Median     3Q    Max \n",
       "-0.996 -0.772 -0.697  1.110  1.641 \n",
       "\n",
       "Random effects:\n",
       " Groups  Name           Variance Std.Dev. Corr \n",
       " wiki_db (Intercept)    0.0691   0.263         \n",
       "         platformmobile 0.0343   0.185    -0.15\n",
       "Number of obs: 104145, groups:  wiki_db, 10\n",
       "\n",
       "Fixed effects:\n",
       "                  Estimate Std. Error z value   Pr(>|z|)    \n",
       "(Intercept)       -0.40763    0.08282   -4.92 0.00000086 ***\n",
       "platformmobile    -0.10300    0.06157   -1.67      0.094 .  \n",
       "GroupUnstructured -0.00955    0.01737   -0.55      0.582    \n",
       "GroupAdd-a-link    0.04762    0.01734    2.75      0.006 ** \n",
       "---\n",
       "Signif. codes:  0 ‘***’ 0.001 ‘**’ 0.01 ‘*’ 0.05 ‘.’ 0.1 ‘ ’ 1\n",
       "\n",
       "Correlation of Fixed Effects:\n",
       "            (Intr) pltfrm GrpUns\n",
       "platformmbl -0.168              \n",
       "GrpUnstrctr -0.130  0.000       \n",
       "GrpAdd--lnk -0.130 -0.002  0.654"
      ]
     },
     "metadata": {},
     "output_type": "display_data"
    }
   ],
   "source": [
    "summary(activation.overall.3)"
   ]
  },
  {
   "cell_type": "markdown",
   "id": "cfd5dd95",
   "metadata": {},
   "source": [
    "This model indicates a meaningful difference in the effect of `platform` on the wiki level. We've seen this in multiple previous analyses, so it comes as no surprise."
   ]
  },
  {
   "cell_type": "code",
   "execution_count": 55,
   "id": "e0626845",
   "metadata": {},
   "outputs": [
    {
     "name": "stderr",
     "output_type": "stream",
     "text": [
      "boundary (singular) fit: see ?isSingular\n",
      "\n"
     ]
    }
   ],
   "source": [
    "blas_set_num_threads(16)\n",
    "activation.overall.4 <-\n",
    "    glmer(\n",
    "        formula = is_activated ~ platform + Group + (1 + platform + Group | wiki_db),\n",
    "        data = user_data_train,\n",
    "        family = binomial(link = \"logit\"))\n",
    "blas_set_num_threads(1)"
   ]
  },
  {
   "cell_type": "markdown",
   "id": "cecd6d20",
   "metadata": {},
   "source": [
    "This model is singular, so we discard it. No indication of a meaningful variation between wikis when it comes to the effect of `Group`"
   ]
  },
  {
   "cell_type": "code",
   "execution_count": 57,
   "id": "71b73ff3",
   "metadata": {},
   "outputs": [],
   "source": [
    "blas_set_num_threads(16)\n",
    "activation.article.1 <-\n",
    "    glmer(\n",
    "        formula = is_activated_article ~ platform + Group + (1 + platform | wiki_db),\n",
    "        data = user_data_train,\n",
    "        family = binomial(link = \"logit\"))\n",
    "blas_set_num_threads(1)"
   ]
  },
  {
   "cell_type": "code",
   "execution_count": 58,
   "id": "3265a33a",
   "metadata": {},
   "outputs": [
    {
     "data": {
      "text/plain": [
       "Generalized linear mixed model fit by maximum likelihood (Laplace\n",
       "  Approximation) [glmerMod]\n",
       " Family: binomial  ( logit )\n",
       "Formula: is_activated_article ~ platform + Group + (1 + platform | wiki_db)\n",
       "   Data: user_data_train\n",
       "\n",
       "     AIC      BIC   logLik deviance df.resid \n",
       "  122850   122916   -61418   122836   104138 \n",
       "\n",
       "Scaled residuals: \n",
       "   Min     1Q Median     3Q    Max \n",
       "-0.851 -0.660 -0.539  1.253  2.186 \n",
       "\n",
       "Random effects:\n",
       " Groups  Name           Variance Std.Dev. Corr \n",
       " wiki_db (Intercept)    0.1297   0.360         \n",
       "         platformmobile 0.0551   0.235    -0.36\n",
       "Number of obs: 104145, groups:  wiki_db, 10\n",
       "\n",
       "Fixed effects:\n",
       "                  Estimate Std. Error z value         Pr(>|z|)    \n",
       "(Intercept)        -0.8443     0.1147   -7.36 0.00000000000018 ***\n",
       "platformmobile     -0.1525     0.0777   -1.96           0.0496 *  \n",
       "GroupUnstructured   0.0502     0.0189    2.66           0.0079 ** \n",
       "GroupAdd-a-link     0.1341     0.0188    7.13 0.00000000000103 ***\n",
       "---\n",
       "Signif. codes:  0 ‘***’ 0.001 ‘**’ 0.01 ‘*’ 0.05 ‘.’ 0.1 ‘ ’ 1\n",
       "\n",
       "Correlation of Fixed Effects:\n",
       "            (Intr) pltfrm GrpUns\n",
       "platformmbl -0.369              \n",
       "GrpUnstrctr -0.112  0.004       \n",
       "GrpAdd--lnk -0.112  0.002  0.663"
      ]
     },
     "metadata": {},
     "output_type": "display_data"
    }
   ],
   "source": [
    "summary(activation.article.1)"
   ]
  },
  {
   "cell_type": "code",
   "execution_count": 59,
   "id": "ad2717a4",
   "metadata": {},
   "outputs": [],
   "source": [
    "blas_set_num_threads(16)\n",
    "activation.article.2 <-\n",
    "    glmer(\n",
    "        formula = is_activated_article ~ platform * Group + (1 + platform | wiki_db),\n",
    "        data = user_data_train,\n",
    "        family = binomial(link = \"logit\"))\n",
    "blas_set_num_threads(1)"
   ]
  },
  {
   "cell_type": "code",
   "execution_count": 60,
   "id": "c399ce48",
   "metadata": {},
   "outputs": [
    {
     "data": {
      "text/plain": [
       "Generalized linear mixed model fit by maximum likelihood (Laplace\n",
       "  Approximation) [glmerMod]\n",
       " Family: binomial  ( logit )\n",
       "Formula: is_activated_article ~ platform * Group + (1 + platform | wiki_db)\n",
       "   Data: user_data_train\n",
       "\n",
       "     AIC      BIC   logLik deviance df.resid \n",
       "  122847   122933   -61414   122829   104136 \n",
       "\n",
       "Scaled residuals: \n",
       "   Min     1Q Median     3Q    Max \n",
       "-0.843 -0.667 -0.534  1.240  2.180 \n",
       "\n",
       "Random effects:\n",
       " Groups  Name           Variance Std.Dev. Corr \n",
       " wiki_db (Intercept)    0.1297   0.360         \n",
       "         platformmobile 0.0552   0.235    -0.36\n",
       "Number of obs: 104145, groups:  wiki_db, 10\n",
       "\n",
       "Fixed effects:\n",
       "                                 Estimate Std. Error z value         Pr(>|z|)\n",
       "(Intercept)                       -0.8496     0.1152   -7.38 0.00000000000016\n",
       "platformmobile                    -0.1416     0.0811   -1.75           0.0810\n",
       "GroupUnstructured                  0.0761     0.0261    2.91           0.0036\n",
       "GroupAdd-a-link                    0.1215     0.0261    4.66 0.00000321387071\n",
       "platformmobile:GroupUnstructured  -0.0543     0.0378   -1.44           0.1504\n",
       "platformmobile:GroupAdd-a-link     0.0258     0.0375    0.69           0.4908\n",
       "                                    \n",
       "(Intercept)                      ***\n",
       "platformmobile                   .  \n",
       "GroupUnstructured                ** \n",
       "GroupAdd-a-link                  ***\n",
       "platformmobile:GroupUnstructured    \n",
       "platformmobile:GroupAdd-a-link      \n",
       "---\n",
       "Signif. codes:  0 ‘***’ 0.001 ‘**’ 0.01 ‘*’ 0.05 ‘.’ 0.1 ‘ ’ 1\n",
       "\n",
       "Correlation of Fixed Effects:\n",
       "            (Intr) pltfrm GrpUns GrpA-- plt:GU\n",
       "platformmbl -0.373                            \n",
       "GrpUnstrctr -0.144  0.205                     \n",
       "GrpAdd--lnk -0.143  0.204  0.663              \n",
       "pltfrmmb:GU  0.098 -0.299 -0.690 -0.456       \n",
       "pltfrm:GA--  0.097 -0.298 -0.459 -0.693  0.661"
      ]
     },
     "metadata": {},
     "output_type": "display_data"
    }
   ],
   "source": [
    "summary(activation.article.2)"
   ]
  },
  {
   "cell_type": "markdown",
   "id": "966ac764",
   "metadata": {},
   "source": [
    "No indication of an interaction effect here."
   ]
  },
  {
   "cell_type": "code",
   "execution_count": 61,
   "id": "f405cf2a",
   "metadata": {},
   "outputs": [
    {
     "name": "stderr",
     "output_type": "stream",
     "text": [
      "boundary (singular) fit: see ?isSingular\n",
      "\n"
     ]
    }
   ],
   "source": [
    "blas_set_num_threads(16)\n",
    "activation.article.3 <-\n",
    "    glmer(\n",
    "        formula = is_activated_article ~ platform + Group + (1 + platform + Group | wiki_db),\n",
    "        data = user_data_train,\n",
    "        family = binomial(link = \"logit\"))\n",
    "blas_set_num_threads(1)"
   ]
  },
  {
   "cell_type": "markdown",
   "id": "2d39673c",
   "metadata": {},
   "source": [
    "This model is also singular, so we discard it."
   ]
  },
  {
   "cell_type": "code",
   "execution_count": null,
   "id": "5862baa2",
   "metadata": {},
   "outputs": [],
   "source": [
    "blas_set_num_threads(16)\n",
    "activation.overall.constr.1 <-\n",
    "    glmer(\n",
    "        formula = is_const_activated ~ platform + Group + (1 + platform | wiki_db),\n",
    "        data = user_data_train,\n",
    "        family = binomial(link = \"logit\"))\n",
    "blas_set_num_threads(1)"
   ]
  },
  {
   "cell_type": "code",
   "execution_count": 68,
   "id": "bb8b021a",
   "metadata": {},
   "outputs": [
    {
     "data": {
      "text/plain": [
       "Generalized linear mixed model fit by maximum likelihood (Laplace\n",
       "  Approximation) [glmerMod]\n",
       " Family: binomial  ( logit )\n",
       "Formula: is_const_activated ~ platform + Group + (1 + platform | wiki_db)\n",
       "   Data: user_data_train\n",
       "\n",
       "     AIC      BIC   logLik deviance df.resid \n",
       "  129184   129251   -64585   129170   104138 \n",
       "\n",
       "Scaled residuals: \n",
       "   Min     1Q Median     3Q    Max \n",
       "-0.872 -0.713 -0.616  1.256  1.974 \n",
       "\n",
       "Random effects:\n",
       " Groups  Name           Variance Std.Dev. Corr \n",
       " wiki_db (Intercept)    0.0550   0.235         \n",
       "         platformmobile 0.0202   0.142    -0.20\n",
       "Number of obs: 104145, groups:  wiki_db, 10\n",
       "\n",
       "Fixed effects:\n",
       "                  Estimate Std. Error z value             Pr(>|z|)    \n",
       "(Intercept)        -0.6245     0.0750   -8.32 < 0.0000000000000002 ***\n",
       "platformmobile     -0.2452     0.0498   -4.92           0.00000086 ***\n",
       "GroupUnstructured  -0.0111     0.0182   -0.61                 0.54    \n",
       "GroupAdd-a-link     0.0710     0.0181    3.93           0.00008501 ***\n",
       "---\n",
       "Signif. codes:  0 ‘***’ 0.001 ‘**’ 0.01 ‘*’ 0.05 ‘.’ 0.1 ‘ ’ 1\n",
       "\n",
       "Correlation of Fixed Effects:\n",
       "            (Intr) pltfrm GrpUns\n",
       "platformmbl -0.223              \n",
       "GrpUnstrctr -0.153  0.000       \n",
       "GrpAdd--lnk -0.153 -0.002  0.656"
      ]
     },
     "metadata": {},
     "output_type": "display_data"
    }
   ],
   "source": [
    "summary(activation.overall.constr.1)"
   ]
  },
  {
   "cell_type": "code",
   "execution_count": 69,
   "id": "50a4fb51",
   "metadata": {},
   "outputs": [],
   "source": [
    "blas_set_num_threads(16)\n",
    "activation.overall.constr.2 <-\n",
    "    glmer(\n",
    "        formula = is_const_activated ~ platform * Group + (1 + platform | wiki_db),\n",
    "        data = user_data_train,\n",
    "        family = binomial(link = \"logit\"))\n",
    "blas_set_num_threads(1)"
   ]
  },
  {
   "cell_type": "code",
   "execution_count": 70,
   "id": "c806e032",
   "metadata": {},
   "outputs": [
    {
     "data": {
      "text/plain": [
       "Generalized linear mixed model fit by maximum likelihood (Laplace\n",
       "  Approximation) [glmerMod]\n",
       " Family: binomial  ( logit )\n",
       "Formula: is_const_activated ~ platform * Group + (1 + platform | wiki_db)\n",
       "   Data: user_data_train\n",
       "\n",
       "     AIC      BIC   logLik deviance df.resid \n",
       "  129181   129267   -64581   129163   104136 \n",
       "\n",
       "Scaled residuals: \n",
       "   Min     1Q Median     3Q    Max \n",
       "-0.863 -0.715 -0.609  1.256  1.997 \n",
       "\n",
       "Random effects:\n",
       " Groups  Name           Variance Std.Dev. Corr \n",
       " wiki_db (Intercept)    0.0550   0.235         \n",
       "         platformmobile 0.0202   0.142    -0.20\n",
       "Number of obs: 104145, groups:  wiki_db, 10\n",
       "\n",
       "Fixed effects:\n",
       "                                 Estimate Std. Error z value           Pr(>|z|)\n",
       "(Intercept)                      -0.62504    0.07829   -7.98 0.0000000000000014\n",
       "platformmobile                   -0.24442    0.05648   -4.33 0.0000150742889595\n",
       "GroupUnstructured                 0.00956    0.02538    0.38              0.706\n",
       "GroupAdd-a-link                   0.05139    0.02539    2.02              0.043\n",
       "platformmobile:GroupUnstructured -0.04307    0.03642   -1.18              0.237\n",
       "platformmobile:GroupAdd-a-link    0.04010    0.03624    1.11              0.269\n",
       "                                    \n",
       "(Intercept)                      ***\n",
       "platformmobile                   ***\n",
       "GroupUnstructured                   \n",
       "GroupAdd-a-link                  *  \n",
       "platformmobile:GroupUnstructured    \n",
       "platformmobile:GroupAdd-a-link      \n",
       "---\n",
       "Signif. codes:  0 ‘***’ 0.001 ‘**’ 0.01 ‘*’ 0.05 ‘.’ 0.1 ‘ ’ 1\n",
       "\n",
       "Correlation of Fixed Effects:\n",
       "            (Intr) pltfrm GrpUns GrpA-- plt:GU\n",
       "platformmbl -0.277                            \n",
       "GrpUnstrctr -0.217  0.296                     \n",
       "GrpAdd--lnk -0.216  0.296  0.660              \n",
       "pltfrmmb:GU  0.152 -0.422 -0.698 -0.461       \n",
       "pltfrm:GA--  0.151 -0.423 -0.462 -0.701  0.657"
      ]
     },
     "metadata": {},
     "output_type": "display_data"
    }
   ],
   "source": [
    "summary(activation.overall.constr.2)"
   ]
  },
  {
   "cell_type": "markdown",
   "id": "752dc442",
   "metadata": {},
   "source": [
    "No indication of interaction here either."
   ]
  },
  {
   "cell_type": "code",
   "execution_count": 71,
   "id": "2e4eadee",
   "metadata": {},
   "outputs": [
    {
     "name": "stderr",
     "output_type": "stream",
     "text": [
      "boundary (singular) fit: see ?isSingular\n",
      "\n"
     ]
    }
   ],
   "source": [
    "blas_set_num_threads(16)\n",
    "activation.overall.constr.3 <-\n",
    "    glmer(\n",
    "        formula = is_const_activated ~ platform + Group + (1 + platform + Group | wiki_db),\n",
    "        data = user_data_train,\n",
    "        family = binomial(link = \"logit\"))\n",
    "blas_set_num_threads(1)"
   ]
  },
  {
   "cell_type": "markdown",
   "id": "cff096c1",
   "metadata": {},
   "source": [
    "This model is also singular and hence we discard it too."
   ]
  },
  {
   "cell_type": "code",
   "execution_count": 63,
   "id": "879db2bf",
   "metadata": {},
   "outputs": [],
   "source": [
    "blas_set_num_threads(16)\n",
    "activation.article.constr.1 <-\n",
    "    glmer(\n",
    "        formula = is_const_activated_article ~ platform + Group + (1 + platform | wiki_db),\n",
    "        data = user_data_train,\n",
    "        family = binomial(link = \"logit\"))\n",
    "blas_set_num_threads(1)"
   ]
  },
  {
   "cell_type": "code",
   "execution_count": 64,
   "id": "2f0bd505",
   "metadata": {},
   "outputs": [
    {
     "data": {
      "text/plain": [
       "Generalized linear mixed model fit by maximum likelihood (Laplace\n",
       "  Approximation) [glmerMod]\n",
       " Family: binomial  ( logit )\n",
       "Formula: is_const_activated_article ~ platform + Group + (1 + platform |  \n",
       "    wiki_db)\n",
       "   Data: user_data_train\n",
       "\n",
       "     AIC      BIC   logLik deviance df.resid \n",
       "  108338   108404   -54162   108324   104138 \n",
       "\n",
       "Scaled residuals: \n",
       "   Min     1Q Median     3Q    Max \n",
       "-0.760 -0.600 -0.465 -0.382  2.620 \n",
       "\n",
       "Random effects:\n",
       " Groups  Name           Variance Std.Dev. Corr \n",
       " wiki_db (Intercept)    0.1075   0.328         \n",
       "         platformmobile 0.0367   0.192    -0.45\n",
       "Number of obs: 104145, groups:  wiki_db, 10\n",
       "\n",
       "Fixed effects:\n",
       "                  Estimate Std. Error z value             Pr(>|z|)    \n",
       "(Intercept)        -1.1042     0.1014  -10.89 < 0.0000000000000002 ***\n",
       "platformmobile     -0.3672     0.0637   -5.77          0.000000008 ***\n",
       "GroupUnstructured   0.0492     0.0207    2.38                0.018 *  \n",
       "GroupAdd-a-link     0.1802     0.0205    8.80 < 0.0000000000000002 ***\n",
       "---\n",
       "Signif. codes:  0 ‘***’ 0.001 ‘**’ 0.01 ‘*’ 0.05 ‘.’ 0.1 ‘ ’ 1\n",
       "\n",
       "Correlation of Fixed Effects:\n",
       "            (Intr) pltfrm GrpUns\n",
       "platformmbl -0.427              \n",
       "GrpUnstrctr -0.125 -0.004       \n",
       "GrpAdd--lnk -0.125 -0.007  0.668"
      ]
     },
     "metadata": {},
     "output_type": "display_data"
    }
   ],
   "source": [
    "summary(activation.article.constr.1)"
   ]
  },
  {
   "cell_type": "code",
   "execution_count": 73,
   "id": "5efe7471",
   "metadata": {},
   "outputs": [],
   "source": [
    "blas_set_num_threads(16)\n",
    "activation.article.constr.2 <-\n",
    "    glmer(\n",
    "        formula = is_const_activated_article ~ platform * Group + (1 + platform | wiki_db),\n",
    "        data = user_data_train,\n",
    "        family = binomial(link = \"logit\"))\n",
    "blas_set_num_threads(1)"
   ]
  },
  {
   "cell_type": "code",
   "execution_count": 74,
   "id": "ca6ba217",
   "metadata": {},
   "outputs": [
    {
     "data": {
      "text/plain": [
       "Generalized linear mixed model fit by maximum likelihood (Laplace\n",
       "  Approximation) [glmerMod]\n",
       " Family: binomial  ( logit )\n",
       "Formula: is_const_activated_article ~ platform * Group + (1 + platform |  \n",
       "    wiki_db)\n",
       "   Data: user_data_train\n",
       "\n",
       "     AIC      BIC   logLik deviance df.resid \n",
       "  108322   108408   -54152   108304   104136 \n",
       "\n",
       "Scaled residuals: \n",
       "   Min     1Q Median     3Q    Max \n",
       "-0.747 -0.609 -0.472 -0.378  2.649 \n",
       "\n",
       "Random effects:\n",
       " Groups  Name           Variance Std.Dev. Corr \n",
       " wiki_db (Intercept)    0.1076   0.328         \n",
       "         platformmobile 0.0369   0.192    -0.45\n",
       "Number of obs: 104145, groups:  wiki_db, 10\n",
       "\n",
       "Fixed effects:\n",
       "                                 Estimate Std. Error z value\n",
       "(Intercept)                       -1.0871     0.1056  -10.29\n",
       "platformmobile                    -0.4065     0.0703   -5.78\n",
       "GroupUnstructured                  0.0601     0.0275    2.19\n",
       "GroupAdd-a-link                    0.1271     0.0273    4.65\n",
       "platformmobile:GroupUnstructured  -0.0255     0.0415   -0.61\n",
       "platformmobile:GroupAdd-a-link     0.1185     0.0409    2.89\n",
       "                                             Pr(>|z|)    \n",
       "(Intercept)                      < 0.0000000000000002 ***\n",
       "platformmobile                           0.0000000073 ***\n",
       "GroupUnstructured                              0.0286 *  \n",
       "GroupAdd-a-link                          0.0000033740 ***\n",
       "platformmobile:GroupUnstructured               0.5388    \n",
       "platformmobile:GroupAdd-a-link                 0.0038 ** \n",
       "---\n",
       "Signif. codes:  0 ‘***’ 0.001 ‘**’ 0.01 ‘*’ 0.05 ‘.’ 0.1 ‘ ’ 1\n",
       "\n",
       "Correlation of Fixed Effects:\n",
       "            (Intr) pltfrm GrpUns GrpA-- plt:GU\n",
       "platformmbl -0.441                            \n",
       "GrpUnstrctr -0.164  0.244                     \n",
       "GrpAdd--lnk -0.165  0.244  0.663              \n",
       "pltfrmmb:GU  0.103 -0.374 -0.655 -0.432       \n",
       "pltfrm:GA--  0.105 -0.379 -0.436 -0.661  0.664"
      ]
     },
     "metadata": {},
     "output_type": "display_data"
    }
   ],
   "source": [
    "summary(activation.article.constr.2)"
   ]
  },
  {
   "cell_type": "code",
   "execution_count": 75,
   "id": "0545fa6e",
   "metadata": {},
   "outputs": [
    {
     "name": "stderr",
     "output_type": "stream",
     "text": [
      "boundary (singular) fit: see ?isSingular\n",
      "\n"
     ]
    }
   ],
   "source": [
    "blas_set_num_threads(16)\n",
    "activation.article.constr.3 <-\n",
    "    glmer(\n",
    "        formula = is_const_activated_article ~ platform + Group + (1 + platform + Group | wiki_db),\n",
    "        data = user_data_train,\n",
    "        family = binomial(link = \"logit\"))\n",
    "blas_set_num_threads(1)"
   ]
  },
  {
   "cell_type": "markdown",
   "id": "46bc05d2",
   "metadata": {},
   "source": [
    "This model is also singular, so we discard it as well.\n",
    "\n",
    "## Models on the Full Dataset\n",
    "\n",
    "### Overall Activation"
   ]
  },
  {
   "cell_type": "code",
   "execution_count": 76,
   "id": "585b7c53",
   "metadata": {},
   "outputs": [],
   "source": [
    "blas_set_num_threads(16)\n",
    "activation.overall.full <-\n",
    "    glmer(\n",
    "        formula = is_activated ~ platform + Group + (1 + platform | wiki_db),\n",
    "        data = user_edit_data,\n",
    "        family = binomial(link = \"logit\"))\n",
    "blas_set_num_threads(1)"
   ]
  },
  {
   "cell_type": "code",
   "execution_count": 78,
   "id": "179448c7",
   "metadata": {},
   "outputs": [
    {
     "data": {
      "text/plain": [
       "Generalized linear mixed model fit by maximum likelihood (Laplace\n",
       "  Approximation) [glmerMod]\n",
       " Family: binomial  ( logit )\n",
       "Formula: is_activated ~ platform + Group + (1 + platform | wiki_db)\n",
       "   Data: user_edit_data\n",
       "\n",
       "     AIC      BIC   logLik deviance df.resid \n",
       "  171328   171396   -85657   171314   130172 \n",
       "\n",
       "Scaled residuals: \n",
       "   Min     1Q Median     3Q    Max \n",
       "-1.006 -0.767 -0.694  1.112  1.641 \n",
       "\n",
       "Random effects:\n",
       " Groups  Name           Variance Std.Dev. Corr \n",
       " wiki_db (Intercept)    0.0711   0.267         \n",
       "         platformmobile 0.0362   0.190    -0.17\n",
       "Number of obs: 130179, groups:  wiki_db, 10\n",
       "\n",
       "Fixed effects:\n",
       "                  Estimate Std. Error z value  Pr(>|z|)    \n",
       "(Intercept)        -0.4084     0.0838   -4.87 0.0000011 ***\n",
       "platformmobile     -0.0859     0.0621   -1.38    0.1668    \n",
       "GroupUnstructured  -0.0106     0.0155   -0.68    0.4963    \n",
       "GroupAdd-a-link     0.0443     0.0155    2.86    0.0043 ** \n",
       "---\n",
       "Signif. codes:  0 ‘***’ 0.001 ‘**’ 0.01 ‘*’ 0.05 ‘.’ 0.1 ‘ ’ 1\n",
       "\n",
       "Correlation of Fixed Effects:\n",
       "            (Intr) pltfrm GrpUns\n",
       "platformmbl -0.186              \n",
       "GrpUnstrctr -0.116  0.001       \n",
       "GrpAdd--lnk -0.117  0.000  0.654"
      ]
     },
     "metadata": {},
     "output_type": "display_data"
    }
   ],
   "source": [
    "summary(activation.overall.full)"
   ]
  },
  {
   "cell_type": "code",
   "execution_count": 91,
   "id": "188e2a65",
   "metadata": {},
   "outputs": [],
   "source": [
    "blas_set_num_threads(16)\n",
    "activation.overall.growth <-\n",
    "    user_edit_data %>%\n",
    "    filter(Group != \"Control\") %>%\n",
    "    glmer(\n",
    "        formula = is_activated ~ platform + Group + (1 + platform | wiki_db),\n",
    "        family = binomial(link = \"logit\"))\n",
    "blas_set_num_threads(1)"
   ]
  },
  {
   "cell_type": "code",
   "execution_count": 92,
   "id": "73d6578a",
   "metadata": {},
   "outputs": [
    {
     "data": {
      "text/plain": [
       "Generalized linear mixed model fit by maximum likelihood (Laplace\n",
       "  Approximation) [glmerMod]\n",
       " Family: binomial  ( logit )\n",
       "Formula: is_activated ~ platform + Group + (1 + platform | wiki_db)\n",
       "   Data: .\n",
       "\n",
       "     AIC      BIC   logLik deviance df.resid \n",
       "  135479   135537   -67734   135467   102837 \n",
       "\n",
       "Scaled residuals: \n",
       "   Min     1Q Median     3Q    Max \n",
       "-1.018 -0.769 -0.692  1.101  1.620 \n",
       "\n",
       "Random effects:\n",
       " Groups  Name           Variance Std.Dev. Corr \n",
       " wiki_db (Intercept)    0.0746   0.273         \n",
       "         platformmobile 0.0347   0.186    -0.21\n",
       "Number of obs: 102843, groups:  wiki_db, 10\n",
       "\n",
       "Fixed effects:\n",
       "                Estimate Std. Error z value  Pr(>|z|)    \n",
       "(Intercept)      -0.4152     0.0869   -4.78 0.0000018 ***\n",
       "platformmobile   -0.1007     0.0621   -1.62       0.1    \n",
       "GroupAdd-a-link   0.0549     0.0129    4.25 0.0000213 ***\n",
       "---\n",
       "Signif. codes:  0 ‘***’ 0.001 ‘**’ 0.01 ‘*’ 0.05 ‘.’ 0.1 ‘ ’ 1\n",
       "\n",
       "Correlation of Fixed Effects:\n",
       "            (Intr) pltfrm\n",
       "platformmbl -0.226       \n",
       "GrpAdd--lnk -0.074 -0.001"
      ]
     },
     "metadata": {},
     "output_type": "display_data"
    }
   ],
   "source": [
    "summary(activation.overall.growth)"
   ]
  },
  {
   "cell_type": "code",
   "execution_count": 105,
   "id": "99361ba8",
   "metadata": {},
   "outputs": [
    {
     "data": {
      "text/html": [
       "<table>\n",
       "<caption>A grouped_df: 6 × 5</caption>\n",
       "<thead>\n",
       "\t<tr><th scope=col>Group</th><th scope=col>is_activated</th><th scope=col>n</th><th scope=col>perc</th><th scope=col>rounded_perc</th></tr>\n",
       "\t<tr><th scope=col>&lt;fct&gt;</th><th scope=col>&lt;lgl&gt;</th><th scope=col>&lt;int&gt;</th><th scope=col>&lt;dbl&gt;</th><th scope=col>&lt;dbl&gt;</th></tr>\n",
       "</thead>\n",
       "<tbody>\n",
       "\t<tr><td>Control     </td><td>FALSE</td><td>17042</td><td>62.3</td><td>62.3</td></tr>\n",
       "\t<tr><td>Control     </td><td> TRUE</td><td>10294</td><td>37.7</td><td>37.7</td></tr>\n",
       "\t<tr><td>Unstructured</td><td>FALSE</td><td>32060</td><td>62.3</td><td>62.3</td></tr>\n",
       "\t<tr><td>Unstructured</td><td> TRUE</td><td>19419</td><td>37.7</td><td>37.7</td></tr>\n",
       "\t<tr><td>Add-a-link  </td><td>FALSE</td><td>31327</td><td>61.0</td><td>61.0</td></tr>\n",
       "\t<tr><td>Add-a-link  </td><td> TRUE</td><td>20037</td><td>39.0</td><td>39.0</td></tr>\n",
       "</tbody>\n",
       "</table>\n"
      ],
      "text/latex": [
       "A grouped\\_df: 6 × 5\n",
       "\\begin{tabular}{lllll}\n",
       " Group & is\\_activated & n & perc & rounded\\_perc\\\\\n",
       " <fct> & <lgl> & <int> & <dbl> & <dbl>\\\\\n",
       "\\hline\n",
       "\t Control      & FALSE & 17042 & 62.3 & 62.3\\\\\n",
       "\t Control      &  TRUE & 10294 & 37.7 & 37.7\\\\\n",
       "\t Unstructured & FALSE & 32060 & 62.3 & 62.3\\\\\n",
       "\t Unstructured &  TRUE & 19419 & 37.7 & 37.7\\\\\n",
       "\t Add-a-link   & FALSE & 31327 & 61.0 & 61.0\\\\\n",
       "\t Add-a-link   &  TRUE & 20037 & 39.0 & 39.0\\\\\n",
       "\\end{tabular}\n"
      ],
      "text/markdown": [
       "\n",
       "A grouped_df: 6 × 5\n",
       "\n",
       "| Group &lt;fct&gt; | is_activated &lt;lgl&gt; | n &lt;int&gt; | perc &lt;dbl&gt; | rounded_perc &lt;dbl&gt; |\n",
       "|---|---|---|---|---|\n",
       "| Control      | FALSE | 17042 | 62.3 | 62.3 |\n",
       "| Control      |  TRUE | 10294 | 37.7 | 37.7 |\n",
       "| Unstructured | FALSE | 32060 | 62.3 | 62.3 |\n",
       "| Unstructured |  TRUE | 19419 | 37.7 | 37.7 |\n",
       "| Add-a-link   | FALSE | 31327 | 61.0 | 61.0 |\n",
       "| Add-a-link   |  TRUE | 20037 | 39.0 | 39.0 |\n",
       "\n"
      ],
      "text/plain": [
       "  Group        is_activated n     perc rounded_perc\n",
       "1 Control      FALSE        17042 62.3 62.3        \n",
       "2 Control       TRUE        10294 37.7 37.7        \n",
       "3 Unstructured FALSE        32060 62.3 62.3        \n",
       "4 Unstructured  TRUE        19419 37.7 37.7        \n",
       "5 Add-a-link   FALSE        31327 61.0 61.0        \n",
       "6 Add-a-link    TRUE        20037 39.0 39.0        "
      ]
     },
     "metadata": {},
     "output_type": "display_data"
    }
   ],
   "source": [
    "# Aggregate across the entire dataset the proportion of registrations activating\n",
    "activation.overall.agg <- user_edit_data %>%\n",
    "    group_by(Group, is_activated) %>%\n",
    "    summarize(n = n(), .groups = 'keep') %>%\n",
    "    group_by(Group) %>%\n",
    "    mutate(perc = 100 * n / sum(n), rounded_perc = round(100 * n / sum(n), 1))\n",
    "activation.overall.agg"
   ]
  },
  {
   "cell_type": "code",
   "execution_count": 106,
   "id": "b269dcb3",
   "metadata": {},
   "outputs": [
    {
     "data": {
      "text/html": [
       "<table>\n",
       "<caption>A data.frame: 1 × 1</caption>\n",
       "<thead>\n",
       "\t<tr><th scope=col>perc</th></tr>\n",
       "\t<tr><th scope=col>&lt;dbl&gt;</th></tr>\n",
       "</thead>\n",
       "<tbody>\n",
       "\t<tr><td>0.1</td></tr>\n",
       "</tbody>\n",
       "</table>\n"
      ],
      "text/latex": [
       "A data.frame: 1 × 1\n",
       "\\begin{tabular}{l}\n",
       " perc\\\\\n",
       " <dbl>\\\\\n",
       "\\hline\n",
       "\t 0.1\\\\\n",
       "\\end{tabular}\n"
      ],
      "text/markdown": [
       "\n",
       "A data.frame: 1 × 1\n",
       "\n",
       "| perc &lt;dbl&gt; |\n",
       "|---|\n",
       "| 0.1 |\n",
       "\n"
      ],
      "text/plain": [
       "  perc\n",
       "1 0.1 "
      ]
     },
     "metadata": {},
     "output_type": "display_data"
    }
   ],
   "source": [
    "## Calculate increase in percent\n",
    "round(activation.overall.agg[4, \"perc\"] - activation.overall.agg[2, \"perc\"], 1)"
   ]
  },
  {
   "cell_type": "code",
   "execution_count": 107,
   "id": "f014f38b",
   "metadata": {},
   "outputs": [
    {
     "data": {
      "text/html": [
       "<table>\n",
       "<caption>A data.frame: 1 × 1</caption>\n",
       "<thead>\n",
       "\t<tr><th scope=col>perc</th></tr>\n",
       "\t<tr><th scope=col>&lt;dbl&gt;</th></tr>\n",
       "</thead>\n",
       "<tbody>\n",
       "\t<tr><td>0.2</td></tr>\n",
       "</tbody>\n",
       "</table>\n"
      ],
      "text/latex": [
       "A data.frame: 1 × 1\n",
       "\\begin{tabular}{l}\n",
       " perc\\\\\n",
       " <dbl>\\\\\n",
       "\\hline\n",
       "\t 0.2\\\\\n",
       "\\end{tabular}\n"
      ],
      "text/markdown": [
       "\n",
       "A data.frame: 1 × 1\n",
       "\n",
       "| perc &lt;dbl&gt; |\n",
       "|---|\n",
       "| 0.2 |\n",
       "\n"
      ],
      "text/plain": [
       "  perc\n",
       "1 0.2 "
      ]
     },
     "metadata": {},
     "output_type": "display_data"
    }
   ],
   "source": [
    "## Calculate increase in percent\n",
    "round(100 * (activation.overall.agg[4, \"perc\"] - activation.overall.agg[2, \"perc\"]) /\n",
    "        activation.overall.agg[2,\"perc\"], 1)"
   ]
  },
  {
   "cell_type": "code",
   "execution_count": 108,
   "id": "a4846520",
   "metadata": {},
   "outputs": [
    {
     "data": {
      "text/html": [
       "<table>\n",
       "<caption>A data.frame: 1 × 1</caption>\n",
       "<thead>\n",
       "\t<tr><th scope=col>perc</th></tr>\n",
       "\t<tr><th scope=col>&lt;dbl&gt;</th></tr>\n",
       "</thead>\n",
       "<tbody>\n",
       "\t<tr><td>1.4</td></tr>\n",
       "</tbody>\n",
       "</table>\n"
      ],
      "text/latex": [
       "A data.frame: 1 × 1\n",
       "\\begin{tabular}{l}\n",
       " perc\\\\\n",
       " <dbl>\\\\\n",
       "\\hline\n",
       "\t 1.4\\\\\n",
       "\\end{tabular}\n"
      ],
      "text/markdown": [
       "\n",
       "A data.frame: 1 × 1\n",
       "\n",
       "| perc &lt;dbl&gt; |\n",
       "|---|\n",
       "| 1.4 |\n",
       "\n"
      ],
      "text/plain": [
       "  perc\n",
       "1 1.4 "
      ]
     },
     "metadata": {},
     "output_type": "display_data"
    }
   ],
   "source": [
    "## Calculate increase in percent\n",
    "round(activation.overall.agg[6, \"perc\"] - activation.overall.agg[2, \"perc\"], 1)"
   ]
  },
  {
   "cell_type": "code",
   "execution_count": 109,
   "id": "2b76904d",
   "metadata": {},
   "outputs": [
    {
     "data": {
      "text/html": [
       "<table>\n",
       "<caption>A data.frame: 1 × 1</caption>\n",
       "<thead>\n",
       "\t<tr><th scope=col>perc</th></tr>\n",
       "\t<tr><th scope=col>&lt;dbl&gt;</th></tr>\n",
       "</thead>\n",
       "<tbody>\n",
       "\t<tr><td>3.6</td></tr>\n",
       "</tbody>\n",
       "</table>\n"
      ],
      "text/latex": [
       "A data.frame: 1 × 1\n",
       "\\begin{tabular}{l}\n",
       " perc\\\\\n",
       " <dbl>\\\\\n",
       "\\hline\n",
       "\t 3.6\\\\\n",
       "\\end{tabular}\n"
      ],
      "text/markdown": [
       "\n",
       "A data.frame: 1 × 1\n",
       "\n",
       "| perc &lt;dbl&gt; |\n",
       "|---|\n",
       "| 3.6 |\n",
       "\n"
      ],
      "text/plain": [
       "  perc\n",
       "1 3.6 "
      ]
     },
     "metadata": {},
     "output_type": "display_data"
    }
   ],
   "source": [
    "## Calculate increase in percent\n",
    "round(100 * (activation.overall.agg[6, \"perc\"] - activation.overall.agg[2, \"perc\"]) /\n",
    "        activation.overall.agg[2,\"perc\"], 1)"
   ]
  },
  {
   "cell_type": "markdown",
   "id": "d4dc7e22",
   "metadata": {},
   "source": [
    "### Overall Constructive Activation"
   ]
  },
  {
   "cell_type": "code",
   "execution_count": 93,
   "id": "c65c11ff",
   "metadata": {},
   "outputs": [],
   "source": [
    "blas_set_num_threads(16)\n",
    "activation.overall.constr.full <-\n",
    "    glmer(\n",
    "        formula = is_const_activated ~ platform + Group + (1 + platform | wiki_db),\n",
    "        data = user_edit_data,\n",
    "        family = binomial(link = \"logit\"))\n",
    "blas_set_num_threads(1)"
   ]
  },
  {
   "cell_type": "code",
   "execution_count": 94,
   "id": "aacef099",
   "metadata": {},
   "outputs": [
    {
     "data": {
      "text/plain": [
       "Generalized linear mixed model fit by maximum likelihood (Laplace\n",
       "  Approximation) [glmerMod]\n",
       " Family: binomial  ( logit )\n",
       "Formula: is_const_activated ~ platform + Group + (1 + platform | wiki_db)\n",
       "   Data: user_edit_data\n",
       "\n",
       "     AIC      BIC   logLik deviance df.resid \n",
       "  161591   161660   -80788   161577   130172 \n",
       "\n",
       "Scaled residuals: \n",
       "   Min     1Q Median     3Q    Max \n",
       "-0.885 -0.708 -0.622  1.258  1.970 \n",
       "\n",
       "Random effects:\n",
       " Groups  Name           Variance Std.Dev. Corr \n",
       " wiki_db (Intercept)    0.0552   0.235         \n",
       "         platformmobile 0.0274   0.166    -0.29\n",
       "Number of obs: 130179, groups:  wiki_db, 10\n",
       "\n",
       "Fixed effects:\n",
       "                  Estimate Std. Error z value             Pr(>|z|)    \n",
       "(Intercept)        -0.6202     0.0748   -8.29 < 0.0000000000000002 ***\n",
       "platformmobile     -0.2442     0.0556   -4.39             0.000011 ***\n",
       "GroupUnstructured  -0.0123     0.0162   -0.76                 0.45    \n",
       "GroupAdd-a-link     0.0656     0.0162    4.06             0.000048 ***\n",
       "---\n",
       "Signif. codes:  0 ‘***’ 0.001 ‘**’ 0.01 ‘*’ 0.05 ‘.’ 0.1 ‘ ’ 1\n",
       "\n",
       "Correlation of Fixed Effects:\n",
       "            (Intr) pltfrm GrpUns\n",
       "platformmbl -0.291              \n",
       "GrpUnstrctr -0.137  0.000       \n",
       "GrpAdd--lnk -0.137 -0.002  0.655"
      ]
     },
     "metadata": {},
     "output_type": "display_data"
    }
   ],
   "source": [
    "summary(activation.overall.constr.full)"
   ]
  },
  {
   "cell_type": "code",
   "execution_count": 110,
   "id": "7136f757",
   "metadata": {},
   "outputs": [
    {
     "data": {
      "text/html": [
       "<table>\n",
       "<caption>A grouped_df: 6 × 5</caption>\n",
       "<thead>\n",
       "\t<tr><th scope=col>Group</th><th scope=col>is_const_activated</th><th scope=col>n</th><th scope=col>perc</th><th scope=col>rounded_perc</th></tr>\n",
       "\t<tr><th scope=col>&lt;fct&gt;</th><th scope=col>&lt;lgl&gt;</th><th scope=col>&lt;int&gt;</th><th scope=col>&lt;dbl&gt;</th><th scope=col>&lt;dbl&gt;</th></tr>\n",
       "</thead>\n",
       "<tbody>\n",
       "\t<tr><td>Control     </td><td>FALSE</td><td>18758</td><td>68.6</td><td>68.6</td></tr>\n",
       "\t<tr><td>Control     </td><td> TRUE</td><td> 8578</td><td>31.4</td><td>31.4</td></tr>\n",
       "\t<tr><td>Unstructured</td><td>FALSE</td><td>35317</td><td>68.6</td><td>68.6</td></tr>\n",
       "\t<tr><td>Unstructured</td><td> TRUE</td><td>16162</td><td>31.4</td><td>31.4</td></tr>\n",
       "\t<tr><td>Add-a-link  </td><td>FALSE</td><td>34374</td><td>66.9</td><td>66.9</td></tr>\n",
       "\t<tr><td>Add-a-link  </td><td> TRUE</td><td>16990</td><td>33.1</td><td>33.1</td></tr>\n",
       "</tbody>\n",
       "</table>\n"
      ],
      "text/latex": [
       "A grouped\\_df: 6 × 5\n",
       "\\begin{tabular}{lllll}\n",
       " Group & is\\_const\\_activated & n & perc & rounded\\_perc\\\\\n",
       " <fct> & <lgl> & <int> & <dbl> & <dbl>\\\\\n",
       "\\hline\n",
       "\t Control      & FALSE & 18758 & 68.6 & 68.6\\\\\n",
       "\t Control      &  TRUE &  8578 & 31.4 & 31.4\\\\\n",
       "\t Unstructured & FALSE & 35317 & 68.6 & 68.6\\\\\n",
       "\t Unstructured &  TRUE & 16162 & 31.4 & 31.4\\\\\n",
       "\t Add-a-link   & FALSE & 34374 & 66.9 & 66.9\\\\\n",
       "\t Add-a-link   &  TRUE & 16990 & 33.1 & 33.1\\\\\n",
       "\\end{tabular}\n"
      ],
      "text/markdown": [
       "\n",
       "A grouped_df: 6 × 5\n",
       "\n",
       "| Group &lt;fct&gt; | is_const_activated &lt;lgl&gt; | n &lt;int&gt; | perc &lt;dbl&gt; | rounded_perc &lt;dbl&gt; |\n",
       "|---|---|---|---|---|\n",
       "| Control      | FALSE | 18758 | 68.6 | 68.6 |\n",
       "| Control      |  TRUE |  8578 | 31.4 | 31.4 |\n",
       "| Unstructured | FALSE | 35317 | 68.6 | 68.6 |\n",
       "| Unstructured |  TRUE | 16162 | 31.4 | 31.4 |\n",
       "| Add-a-link   | FALSE | 34374 | 66.9 | 66.9 |\n",
       "| Add-a-link   |  TRUE | 16990 | 33.1 | 33.1 |\n",
       "\n"
      ],
      "text/plain": [
       "  Group        is_const_activated n     perc rounded_perc\n",
       "1 Control      FALSE              18758 68.6 68.6        \n",
       "2 Control       TRUE               8578 31.4 31.4        \n",
       "3 Unstructured FALSE              35317 68.6 68.6        \n",
       "4 Unstructured  TRUE              16162 31.4 31.4        \n",
       "5 Add-a-link   FALSE              34374 66.9 66.9        \n",
       "6 Add-a-link    TRUE              16990 33.1 33.1        "
      ]
     },
     "metadata": {},
     "output_type": "display_data"
    }
   ],
   "source": [
    "# Aggregate across the entire dataset the proportion of registrations activating\n",
    "activation.overall.constr.agg <- user_edit_data %>%\n",
    "    group_by(Group, is_const_activated) %>%\n",
    "    summarize(n = n(), .groups = 'keep') %>%\n",
    "    group_by(Group) %>%\n",
    "    mutate(perc = 100 * n / sum(n), rounded_perc = round(100 * n / sum(n), 1))\n",
    "activation.overall.constr.agg"
   ]
  },
  {
   "cell_type": "code",
   "execution_count": 111,
   "id": "59a8e04d",
   "metadata": {},
   "outputs": [
    {
     "data": {
      "text/html": [
       "<table>\n",
       "<caption>A data.frame: 1 × 1</caption>\n",
       "<thead>\n",
       "\t<tr><th scope=col>perc</th></tr>\n",
       "\t<tr><th scope=col>&lt;dbl&gt;</th></tr>\n",
       "</thead>\n",
       "<tbody>\n",
       "\t<tr><td>0</td></tr>\n",
       "</tbody>\n",
       "</table>\n"
      ],
      "text/latex": [
       "A data.frame: 1 × 1\n",
       "\\begin{tabular}{l}\n",
       " perc\\\\\n",
       " <dbl>\\\\\n",
       "\\hline\n",
       "\t 0\\\\\n",
       "\\end{tabular}\n"
      ],
      "text/markdown": [
       "\n",
       "A data.frame: 1 × 1\n",
       "\n",
       "| perc &lt;dbl&gt; |\n",
       "|---|\n",
       "| 0 |\n",
       "\n"
      ],
      "text/plain": [
       "  perc\n",
       "1 0   "
      ]
     },
     "metadata": {},
     "output_type": "display_data"
    }
   ],
   "source": [
    "## Calculate increase in percent\n",
    "round(activation.overall.constr.agg[4, \"perc\"] - activation.overall.constr.agg[2, \"perc\"], 1)"
   ]
  },
  {
   "cell_type": "code",
   "execution_count": 112,
   "id": "b8a0e3f0",
   "metadata": {},
   "outputs": [
    {
     "data": {
      "text/html": [
       "<table>\n",
       "<caption>A data.frame: 1 × 1</caption>\n",
       "<thead>\n",
       "\t<tr><th scope=col>perc</th></tr>\n",
       "\t<tr><th scope=col>&lt;dbl&gt;</th></tr>\n",
       "</thead>\n",
       "<tbody>\n",
       "\t<tr><td>0</td></tr>\n",
       "</tbody>\n",
       "</table>\n"
      ],
      "text/latex": [
       "A data.frame: 1 × 1\n",
       "\\begin{tabular}{l}\n",
       " perc\\\\\n",
       " <dbl>\\\\\n",
       "\\hline\n",
       "\t 0\\\\\n",
       "\\end{tabular}\n"
      ],
      "text/markdown": [
       "\n",
       "A data.frame: 1 × 1\n",
       "\n",
       "| perc &lt;dbl&gt; |\n",
       "|---|\n",
       "| 0 |\n",
       "\n"
      ],
      "text/plain": [
       "  perc\n",
       "1 0   "
      ]
     },
     "metadata": {},
     "output_type": "display_data"
    }
   ],
   "source": [
    "## Calculate increase in percent\n",
    "round(100 * (activation.overall.constr.agg[4, \"perc\"] - activation.overall.constr.agg[2, \"perc\"]) /\n",
    "        activation.overall.constr.agg[2,\"perc\"], 1)"
   ]
  },
  {
   "cell_type": "code",
   "execution_count": 113,
   "id": "0cba1b61",
   "metadata": {},
   "outputs": [
    {
     "data": {
      "text/html": [
       "<table>\n",
       "<caption>A data.frame: 1 × 1</caption>\n",
       "<thead>\n",
       "\t<tr><th scope=col>perc</th></tr>\n",
       "\t<tr><th scope=col>&lt;dbl&gt;</th></tr>\n",
       "</thead>\n",
       "<tbody>\n",
       "\t<tr><td>1.7</td></tr>\n",
       "</tbody>\n",
       "</table>\n"
      ],
      "text/latex": [
       "A data.frame: 1 × 1\n",
       "\\begin{tabular}{l}\n",
       " perc\\\\\n",
       " <dbl>\\\\\n",
       "\\hline\n",
       "\t 1.7\\\\\n",
       "\\end{tabular}\n"
      ],
      "text/markdown": [
       "\n",
       "A data.frame: 1 × 1\n",
       "\n",
       "| perc &lt;dbl&gt; |\n",
       "|---|\n",
       "| 1.7 |\n",
       "\n"
      ],
      "text/plain": [
       "  perc\n",
       "1 1.7 "
      ]
     },
     "metadata": {},
     "output_type": "display_data"
    }
   ],
   "source": [
    "## Calculate increase in percent\n",
    "round(activation.overall.constr.agg[6, \"perc\"] - activation.overall.constr.agg[2, \"perc\"], 1)"
   ]
  },
  {
   "cell_type": "code",
   "execution_count": 114,
   "id": "a2adfdcc",
   "metadata": {},
   "outputs": [
    {
     "data": {
      "text/html": [
       "<table>\n",
       "<caption>A data.frame: 1 × 1</caption>\n",
       "<thead>\n",
       "\t<tr><th scope=col>perc</th></tr>\n",
       "\t<tr><th scope=col>&lt;dbl&gt;</th></tr>\n",
       "</thead>\n",
       "<tbody>\n",
       "\t<tr><td>5.4</td></tr>\n",
       "</tbody>\n",
       "</table>\n"
      ],
      "text/latex": [
       "A data.frame: 1 × 1\n",
       "\\begin{tabular}{l}\n",
       " perc\\\\\n",
       " <dbl>\\\\\n",
       "\\hline\n",
       "\t 5.4\\\\\n",
       "\\end{tabular}\n"
      ],
      "text/markdown": [
       "\n",
       "A data.frame: 1 × 1\n",
       "\n",
       "| perc &lt;dbl&gt; |\n",
       "|---|\n",
       "| 5.4 |\n",
       "\n"
      ],
      "text/plain": [
       "  perc\n",
       "1 5.4 "
      ]
     },
     "metadata": {},
     "output_type": "display_data"
    }
   ],
   "source": [
    "## Calculate increase in percent\n",
    "round(100 * (activation.overall.constr.agg[6, \"perc\"] - activation.overall.constr.agg[2, \"perc\"]) /\n",
    "        activation.overall.constr.agg[2,\"perc\"], 1)"
   ]
  },
  {
   "cell_type": "markdown",
   "id": "412a8a1e",
   "metadata": {},
   "source": [
    "### Article and Article Talk Namespaces"
   ]
  },
  {
   "cell_type": "code",
   "execution_count": 101,
   "id": "f8a47ce2",
   "metadata": {},
   "outputs": [],
   "source": [
    "blas_set_num_threads(16)\n",
    "activation.article.full <-\n",
    "    glmer(\n",
    "        formula = is_activated_article ~ platform + Group + (1 + platform | wiki_db),\n",
    "        data = user_edit_data,\n",
    "        family = binomial(link = \"logit\"))\n",
    "blas_set_num_threads(1)"
   ]
  },
  {
   "cell_type": "code",
   "execution_count": 102,
   "id": "0010486e",
   "metadata": {},
   "outputs": [
    {
     "data": {
      "text/plain": [
       "Generalized linear mixed model fit by maximum likelihood (Laplace\n",
       "  Approximation) [glmerMod]\n",
       " Family: binomial  ( logit )\n",
       "Formula: is_activated_article ~ platform + Group + (1 + platform | wiki_db)\n",
       "   Data: user_edit_data\n",
       "\n",
       "     AIC      BIC   logLik deviance df.resid \n",
       "  153534   153603   -76760   153520   130172 \n",
       "\n",
       "Scaled residuals: \n",
       "   Min     1Q Median     3Q    Max \n",
       "-0.855 -0.655 -0.538  1.247  2.163 \n",
       "\n",
       "Random effects:\n",
       " Groups  Name           Variance Std.Dev. Corr \n",
       " wiki_db (Intercept)    0.1315   0.363         \n",
       "         platformmobile 0.0597   0.244    -0.38\n",
       "Number of obs: 130179, groups:  wiki_db, 10\n",
       "\n",
       "Fixed effects:\n",
       "                  Estimate Std. Error z value            Pr(>|z|)    \n",
       "(Intercept)        -0.8540     0.1097   -7.79 0.00000000000000691 ***\n",
       "platformmobile     -0.1353     0.0784   -1.73              0.0842 .  \n",
       "GroupUnstructured   0.0535     0.0169    3.16              0.0016 ** \n",
       "GroupAdd-a-link     0.1365     0.0168    8.11 0.00000000000000049 ***\n",
       "---\n",
       "Signif. codes:  0 ‘***’ 0.001 ‘**’ 0.01 ‘*’ 0.05 ‘.’ 0.1 ‘ ’ 1\n",
       "\n",
       "Correlation of Fixed Effects:\n",
       "            (Intr) pltfrm GrpUns\n",
       "platformmbl -0.358              \n",
       "GrpUnstrctr -0.093 -0.003       \n",
       "GrpAdd--lnk -0.094 -0.004  0.663"
      ]
     },
     "metadata": {},
     "output_type": "display_data"
    }
   ],
   "source": [
    "summary(activation.article.full)"
   ]
  },
  {
   "cell_type": "code",
   "execution_count": 103,
   "id": "25f17082",
   "metadata": {},
   "outputs": [],
   "source": [
    "blas_set_num_threads(16)\n",
    "activation.article.growth <-\n",
    "    user_edit_data %>%\n",
    "    filter(Group != \"Control\") %>%\n",
    "    glmer(\n",
    "        formula = is_activated_article ~ platform + Group + (1 + platform | wiki_db),\n",
    "        family = binomial(link = \"logit\"))\n",
    "blas_set_num_threads(1)"
   ]
  },
  {
   "cell_type": "code",
   "execution_count": 104,
   "id": "b45423ab",
   "metadata": {},
   "outputs": [
    {
     "data": {
      "text/plain": [
       "Generalized linear mixed model fit by maximum likelihood (Laplace\n",
       "  Approximation) [glmerMod]\n",
       " Family: binomial  ( logit )\n",
       "Formula: is_activated_article ~ platform + Group + (1 + platform | wiki_db)\n",
       "   Data: .\n",
       "\n",
       "     AIC      BIC   logLik deviance df.resid \n",
       "  122240   122297   -61114   122228   102837 \n",
       "\n",
       "Scaled residuals: \n",
       "   Min     1Q Median     3Q    Max \n",
       "-0.850 -0.673 -0.540  1.249  2.115 \n",
       "\n",
       "Random effects:\n",
       " Groups  Name           Variance Std.Dev. Corr \n",
       " wiki_db (Intercept)    0.1345   0.367         \n",
       "         platformmobile 0.0577   0.240    -0.43\n",
       "Number of obs: 102843, groups:  wiki_db, 10\n",
       "\n",
       "Fixed effects:\n",
       "                Estimate Std. Error z value         Pr(>|z|)    \n",
       "(Intercept)      -0.7980     0.1118   -7.14 0.00000000000095 ***\n",
       "platformmobile   -0.1520     0.0768   -1.98            0.048 *  \n",
       "GroupAdd-a-link   0.0831     0.0138    6.00 0.00000000194864 ***\n",
       "---\n",
       "Signif. codes:  0 ‘***’ 0.001 ‘**’ 0.01 ‘*’ 0.05 ‘.’ 0.1 ‘ ’ 1\n",
       "\n",
       "Correlation of Fixed Effects:\n",
       "            (Intr) pltfrm\n",
       "platformmbl -0.404       \n",
       "GrpAdd--lnk -0.058 -0.004"
      ]
     },
     "metadata": {},
     "output_type": "display_data"
    }
   ],
   "source": [
    "summary(activation.article.growth)"
   ]
  },
  {
   "cell_type": "code",
   "execution_count": 115,
   "id": "0a851ea4",
   "metadata": {},
   "outputs": [
    {
     "data": {
      "text/html": [
       "<table>\n",
       "<caption>A grouped_df: 6 × 5</caption>\n",
       "<thead>\n",
       "\t<tr><th scope=col>Group</th><th scope=col>is_activated_article</th><th scope=col>n</th><th scope=col>perc</th><th scope=col>rounded_perc</th></tr>\n",
       "\t<tr><th scope=col>&lt;fct&gt;</th><th scope=col>&lt;lgl&gt;</th><th scope=col>&lt;int&gt;</th><th scope=col>&lt;dbl&gt;</th><th scope=col>&lt;dbl&gt;</th></tr>\n",
       "</thead>\n",
       "<tbody>\n",
       "\t<tr><td>Control     </td><td>FALSE</td><td>19904</td><td>72.8</td><td>72.8</td></tr>\n",
       "\t<tr><td>Control     </td><td> TRUE</td><td> 7432</td><td>27.2</td><td>27.2</td></tr>\n",
       "\t<tr><td>Unstructured</td><td>FALSE</td><td>36733</td><td>71.4</td><td>71.4</td></tr>\n",
       "\t<tr><td>Unstructured</td><td> TRUE</td><td>14746</td><td>28.6</td><td>28.6</td></tr>\n",
       "\t<tr><td>Add-a-link  </td><td>FALSE</td><td>35772</td><td>69.6</td><td>69.6</td></tr>\n",
       "\t<tr><td>Add-a-link  </td><td> TRUE</td><td>15592</td><td>30.4</td><td>30.4</td></tr>\n",
       "</tbody>\n",
       "</table>\n"
      ],
      "text/latex": [
       "A grouped\\_df: 6 × 5\n",
       "\\begin{tabular}{lllll}\n",
       " Group & is\\_activated\\_article & n & perc & rounded\\_perc\\\\\n",
       " <fct> & <lgl> & <int> & <dbl> & <dbl>\\\\\n",
       "\\hline\n",
       "\t Control      & FALSE & 19904 & 72.8 & 72.8\\\\\n",
       "\t Control      &  TRUE &  7432 & 27.2 & 27.2\\\\\n",
       "\t Unstructured & FALSE & 36733 & 71.4 & 71.4\\\\\n",
       "\t Unstructured &  TRUE & 14746 & 28.6 & 28.6\\\\\n",
       "\t Add-a-link   & FALSE & 35772 & 69.6 & 69.6\\\\\n",
       "\t Add-a-link   &  TRUE & 15592 & 30.4 & 30.4\\\\\n",
       "\\end{tabular}\n"
      ],
      "text/markdown": [
       "\n",
       "A grouped_df: 6 × 5\n",
       "\n",
       "| Group &lt;fct&gt; | is_activated_article &lt;lgl&gt; | n &lt;int&gt; | perc &lt;dbl&gt; | rounded_perc &lt;dbl&gt; |\n",
       "|---|---|---|---|---|\n",
       "| Control      | FALSE | 19904 | 72.8 | 72.8 |\n",
       "| Control      |  TRUE |  7432 | 27.2 | 27.2 |\n",
       "| Unstructured | FALSE | 36733 | 71.4 | 71.4 |\n",
       "| Unstructured |  TRUE | 14746 | 28.6 | 28.6 |\n",
       "| Add-a-link   | FALSE | 35772 | 69.6 | 69.6 |\n",
       "| Add-a-link   |  TRUE | 15592 | 30.4 | 30.4 |\n",
       "\n"
      ],
      "text/plain": [
       "  Group        is_activated_article n     perc rounded_perc\n",
       "1 Control      FALSE                19904 72.8 72.8        \n",
       "2 Control       TRUE                 7432 27.2 27.2        \n",
       "3 Unstructured FALSE                36733 71.4 71.4        \n",
       "4 Unstructured  TRUE                14746 28.6 28.6        \n",
       "5 Add-a-link   FALSE                35772 69.6 69.6        \n",
       "6 Add-a-link    TRUE                15592 30.4 30.4        "
      ]
     },
     "metadata": {},
     "output_type": "display_data"
    }
   ],
   "source": [
    "# Aggregate across the entire dataset the proportion of registrations activating\n",
    "activation.article.agg <- user_edit_data %>%\n",
    "    group_by(Group, is_activated_article) %>%\n",
    "    summarize(n = n(), .groups = 'keep') %>%\n",
    "    group_by(Group) %>%\n",
    "    mutate(perc = 100 * n / sum(n), rounded_perc = round(100 * n / sum(n), 1))\n",
    "activation.article.agg"
   ]
  },
  {
   "cell_type": "code",
   "execution_count": 116,
   "id": "47c011c1",
   "metadata": {},
   "outputs": [
    {
     "data": {
      "text/html": [
       "<table>\n",
       "<caption>A data.frame: 1 × 1</caption>\n",
       "<thead>\n",
       "\t<tr><th scope=col>perc</th></tr>\n",
       "\t<tr><th scope=col>&lt;dbl&gt;</th></tr>\n",
       "</thead>\n",
       "<tbody>\n",
       "\t<tr><td>1.5</td></tr>\n",
       "</tbody>\n",
       "</table>\n"
      ],
      "text/latex": [
       "A data.frame: 1 × 1\n",
       "\\begin{tabular}{l}\n",
       " perc\\\\\n",
       " <dbl>\\\\\n",
       "\\hline\n",
       "\t 1.5\\\\\n",
       "\\end{tabular}\n"
      ],
      "text/markdown": [
       "\n",
       "A data.frame: 1 × 1\n",
       "\n",
       "| perc &lt;dbl&gt; |\n",
       "|---|\n",
       "| 1.5 |\n",
       "\n"
      ],
      "text/plain": [
       "  perc\n",
       "1 1.5 "
      ]
     },
     "metadata": {},
     "output_type": "display_data"
    }
   ],
   "source": [
    "## Calculate increase in percent\n",
    "round(activation.article.agg[4, \"perc\"] - activation.article.agg[2, \"perc\"], 1)"
   ]
  },
  {
   "cell_type": "code",
   "execution_count": 117,
   "id": "15ea191a",
   "metadata": {},
   "outputs": [
    {
     "data": {
      "text/html": [
       "<table>\n",
       "<caption>A data.frame: 1 × 1</caption>\n",
       "<thead>\n",
       "\t<tr><th scope=col>perc</th></tr>\n",
       "\t<tr><th scope=col>&lt;dbl&gt;</th></tr>\n",
       "</thead>\n",
       "<tbody>\n",
       "\t<tr><td>5.4</td></tr>\n",
       "</tbody>\n",
       "</table>\n"
      ],
      "text/latex": [
       "A data.frame: 1 × 1\n",
       "\\begin{tabular}{l}\n",
       " perc\\\\\n",
       " <dbl>\\\\\n",
       "\\hline\n",
       "\t 5.4\\\\\n",
       "\\end{tabular}\n"
      ],
      "text/markdown": [
       "\n",
       "A data.frame: 1 × 1\n",
       "\n",
       "| perc &lt;dbl&gt; |\n",
       "|---|\n",
       "| 5.4 |\n",
       "\n"
      ],
      "text/plain": [
       "  perc\n",
       "1 5.4 "
      ]
     },
     "metadata": {},
     "output_type": "display_data"
    }
   ],
   "source": [
    "## Calculate increase in percent\n",
    "round(100 * (activation.article.agg[4, \"perc\"] - activation.article.agg[2, \"perc\"]) /\n",
    "        activation.article.agg[2,\"perc\"], 1)"
   ]
  },
  {
   "cell_type": "code",
   "execution_count": 118,
   "id": "318f75f0",
   "metadata": {},
   "outputs": [
    {
     "data": {
      "text/html": [
       "<table>\n",
       "<caption>A data.frame: 1 × 1</caption>\n",
       "<thead>\n",
       "\t<tr><th scope=col>perc</th></tr>\n",
       "\t<tr><th scope=col>&lt;dbl&gt;</th></tr>\n",
       "</thead>\n",
       "<tbody>\n",
       "\t<tr><td>3.2</td></tr>\n",
       "</tbody>\n",
       "</table>\n"
      ],
      "text/latex": [
       "A data.frame: 1 × 1\n",
       "\\begin{tabular}{l}\n",
       " perc\\\\\n",
       " <dbl>\\\\\n",
       "\\hline\n",
       "\t 3.2\\\\\n",
       "\\end{tabular}\n"
      ],
      "text/markdown": [
       "\n",
       "A data.frame: 1 × 1\n",
       "\n",
       "| perc &lt;dbl&gt; |\n",
       "|---|\n",
       "| 3.2 |\n",
       "\n"
      ],
      "text/plain": [
       "  perc\n",
       "1 3.2 "
      ]
     },
     "metadata": {},
     "output_type": "display_data"
    }
   ],
   "source": [
    "## Calculate increase in percent\n",
    "round(activation.article.agg[6, \"perc\"] - activation.article.agg[2, \"perc\"], 1)"
   ]
  },
  {
   "cell_type": "code",
   "execution_count": 119,
   "id": "971de8e0",
   "metadata": {},
   "outputs": [
    {
     "data": {
      "text/html": [
       "<table>\n",
       "<caption>A data.frame: 1 × 1</caption>\n",
       "<thead>\n",
       "\t<tr><th scope=col>perc</th></tr>\n",
       "\t<tr><th scope=col>&lt;dbl&gt;</th></tr>\n",
       "</thead>\n",
       "<tbody>\n",
       "\t<tr><td>11.7</td></tr>\n",
       "</tbody>\n",
       "</table>\n"
      ],
      "text/latex": [
       "A data.frame: 1 × 1\n",
       "\\begin{tabular}{l}\n",
       " perc\\\\\n",
       " <dbl>\\\\\n",
       "\\hline\n",
       "\t 11.7\\\\\n",
       "\\end{tabular}\n"
      ],
      "text/markdown": [
       "\n",
       "A data.frame: 1 × 1\n",
       "\n",
       "| perc &lt;dbl&gt; |\n",
       "|---|\n",
       "| 11.7 |\n",
       "\n"
      ],
      "text/plain": [
       "  perc\n",
       "1 11.7"
      ]
     },
     "metadata": {},
     "output_type": "display_data"
    }
   ],
   "source": [
    "## Calculate increase in percent\n",
    "round(100 * (activation.article.agg[6, \"perc\"] - activation.article.agg[2, \"perc\"]) /\n",
    "        activation.article.agg[2,\"perc\"], 1)"
   ]
  },
  {
   "cell_type": "code",
   "execution_count": 120,
   "id": "9e36dbfb",
   "metadata": {},
   "outputs": [],
   "source": [
    "blas_set_num_threads(16)\n",
    "activation.article.constr.full <-\n",
    "    glmer(\n",
    "        formula = is_const_activated_article ~ platform + Group + (1 + platform | wiki_db),\n",
    "        data = user_edit_data,\n",
    "        family = binomial(link = \"logit\"))\n",
    "blas_set_num_threads(1)"
   ]
  },
  {
   "cell_type": "code",
   "execution_count": 123,
   "id": "d97e5a44",
   "metadata": {},
   "outputs": [
    {
     "data": {
      "text/plain": [
       "Generalized linear mixed model fit by maximum likelihood (Laplace\n",
       "  Approximation) [glmerMod]\n",
       " Family: binomial  ( logit )\n",
       "Formula: is_const_activated_article ~ platform + Group + (1 + platform |  \n",
       "    wiki_db)\n",
       "   Data: user_edit_data\n",
       "\n",
       "     AIC      BIC   logLik deviance df.resid \n",
       "  135434   135502   -67710   135420   130172 \n",
       "\n",
       "Scaled residuals: \n",
       "   Min     1Q Median     3Q    Max \n",
       "-0.764 -0.597 -0.466 -0.383  2.611 \n",
       "\n",
       "Random effects:\n",
       " Groups  Name           Variance Std.Dev. Corr \n",
       " wiki_db (Intercept)    0.1109   0.333         \n",
       "         platformmobile 0.0453   0.213    -0.49\n",
       "Number of obs: 130179, groups:  wiki_db, 10\n",
       "\n",
       "Fixed effects:\n",
       "                  Estimate Std. Error z value             Pr(>|z|)    \n",
       "(Intercept)        -1.1092     0.1011  -10.97 < 0.0000000000000002 ***\n",
       "platformmobile     -0.3619     0.0683   -5.30           0.00000011 ***\n",
       "GroupUnstructured   0.0527     0.0185    2.84               0.0045 ** \n",
       "GroupAdd-a-link     0.1794     0.0183    9.78 < 0.0000000000000002 ***\n",
       "---\n",
       "Signif. codes:  0 ‘***’ 0.001 ‘**’ 0.01 ‘*’ 0.05 ‘.’ 0.1 ‘ ’ 1\n",
       "\n",
       "Correlation of Fixed Effects:\n",
       "            (Intr) pltfrm GrpUns\n",
       "platformmbl -0.455              \n",
       "GrpUnstrctr -0.112 -0.004       \n",
       "GrpAdd--lnk -0.111 -0.007  0.668"
      ]
     },
     "metadata": {},
     "output_type": "display_data"
    }
   ],
   "source": [
    "summary(activation.article.constr.full)"
   ]
  },
  {
   "cell_type": "code",
   "execution_count": 121,
   "id": "0ce5ccff",
   "metadata": {},
   "outputs": [],
   "source": [
    "blas_set_num_threads(16)\n",
    "activation.article.constr.full.interact <-\n",
    "    glmer(\n",
    "        formula = is_const_activated_article ~ platform * Group + (1 + platform | wiki_db),\n",
    "        data = user_edit_data,\n",
    "        family = binomial(link = \"logit\"))\n",
    "blas_set_num_threads(1)"
   ]
  },
  {
   "cell_type": "code",
   "execution_count": 124,
   "id": "048db5a1",
   "metadata": {},
   "outputs": [
    {
     "data": {
      "text/plain": [
       "Generalized linear mixed model fit by maximum likelihood (Laplace\n",
       "  Approximation) [glmerMod]\n",
       " Family: binomial  ( logit )\n",
       "Formula: is_const_activated_article ~ platform * Group + (1 + platform |  \n",
       "    wiki_db)\n",
       "   Data: user_edit_data\n",
       "\n",
       "     AIC      BIC   logLik deviance df.resid \n",
       "  135418   135506   -67700   135400   130170 \n",
       "\n",
       "Scaled residuals: \n",
       "   Min     1Q Median     3Q    Max \n",
       "-0.754 -0.606 -0.469 -0.383  2.611 \n",
       "\n",
       "Random effects:\n",
       " Groups  Name           Variance Std.Dev. Corr \n",
       " wiki_db (Intercept)    0.1109   0.333         \n",
       "         platformmobile 0.0454   0.213    -0.49\n",
       "Number of obs: 130179, groups:  wiki_db, 10\n",
       "\n",
       "Fixed effects:\n",
       "                                 Estimate Std. Error z value\n",
       "(Intercept)                       -1.1098     0.1033  -10.75\n",
       "platformmobile                    -0.3609     0.0734   -4.92\n",
       "GroupUnstructured                  0.0837     0.0246    3.41\n",
       "GroupAdd-a-link                    0.1506     0.0245    6.15\n",
       "platformmobile:GroupUnstructured  -0.0716     0.0370   -1.93\n",
       "platformmobile:GroupAdd-a-link     0.0642     0.0365    1.76\n",
       "                                             Pr(>|z|)    \n",
       "(Intercept)                      < 0.0000000000000002 ***\n",
       "platformmobile                          0.00000088098 ***\n",
       "GroupUnstructured                             0.00066 ***\n",
       "GroupAdd-a-link                         0.00000000076 ***\n",
       "platformmobile:GroupUnstructured              0.05311 .  \n",
       "platformmobile:GroupAdd-a-link                0.07875 .  \n",
       "---\n",
       "Signif. codes:  0 ‘***’ 0.001 ‘**’ 0.01 ‘*’ 0.05 ‘.’ 0.1 ‘ ’ 1\n",
       "\n",
       "Correlation of Fixed Effects:\n",
       "            (Intr) pltfrm GrpUns GrpA-- plt:GU\n",
       "platformmbl -0.462                            \n",
       "GrpUnstrctr -0.144  0.208                     \n",
       "GrpAdd--lnk -0.144  0.208  0.666              \n",
       "pltfrmmb:GU  0.088 -0.316 -0.657 -0.434       \n",
       "pltfrm:GA--  0.088 -0.320 -0.439 -0.662  0.662"
      ]
     },
     "metadata": {},
     "output_type": "display_data"
    }
   ],
   "source": [
    "summary(activation.article.constr.full.interact)"
   ]
  },
  {
   "cell_type": "code",
   "execution_count": 125,
   "id": "4908bdb7",
   "metadata": {},
   "outputs": [],
   "source": [
    "blas_set_num_threads(16)\n",
    "activation.article.constr.growth <-\n",
    "    user_edit_data %>%\n",
    "    filter(Group != \"Control\") %>%\n",
    "    glmer(\n",
    "        formula = is_const_activated_article ~ platform + Group + (1 + platform | wiki_db),\n",
    "        family = binomial(link = \"logit\"))\n",
    "blas_set_num_threads(1)"
   ]
  },
  {
   "cell_type": "code",
   "execution_count": 126,
   "id": "ed122e85",
   "metadata": {},
   "outputs": [
    {
     "data": {
      "text/plain": [
       "Generalized linear mixed model fit by maximum likelihood (Laplace\n",
       "  Approximation) [glmerMod]\n",
       " Family: binomial  ( logit )\n",
       "Formula: is_const_activated_article ~ platform + Group + (1 + platform |  \n",
       "    wiki_db)\n",
       "   Data: .\n",
       "\n",
       "     AIC      BIC   logLik deviance df.resid \n",
       "  108275   108333   -54132   108263   102837 \n",
       "\n",
       "Scaled residuals: \n",
       "   Min     1Q Median     3Q    Max \n",
       "-0.761 -0.599 -0.470 -0.398  2.515 \n",
       "\n",
       "Random effects:\n",
       " Groups  Name           Variance Std.Dev. Corr \n",
       " wiki_db (Intercept)    0.1127   0.336         \n",
       "         platformmobile 0.0459   0.214    -0.53\n",
       "Number of obs: 102843, groups:  wiki_db, 10\n",
       "\n",
       "Fixed effects:\n",
       "                Estimate Std. Error z value             Pr(>|z|)    \n",
       "(Intercept)      -1.0578     0.1018  -10.39 < 0.0000000000000002 ***\n",
       "platformmobile   -0.3758     0.0704   -5.34          0.000000094 ***\n",
       "GroupAdd-a-link   0.1269     0.0150    8.45 < 0.0000000000000002 ***\n",
       "---\n",
       "Signif. codes:  0 ‘***’ 0.001 ‘**’ 0.01 ‘*’ 0.05 ‘.’ 0.1 ‘ ’ 1\n",
       "\n",
       "Correlation of Fixed Effects:\n",
       "            (Intr) pltfrm\n",
       "platformmbl -0.506       \n",
       "GrpAdd--lnk -0.066 -0.007"
      ]
     },
     "metadata": {},
     "output_type": "display_data"
    }
   ],
   "source": [
    "summary(activation.article.constr.growth)"
   ]
  },
  {
   "cell_type": "code",
   "execution_count": 16,
   "id": "6a149807",
   "metadata": {},
   "outputs": [
    {
     "data": {
      "text/html": [
       "<table>\n",
       "<caption>A grouped_df: 6 × 5</caption>\n",
       "<thead>\n",
       "\t<tr><th scope=col>Group</th><th scope=col>is_const_activated_article</th><th scope=col>n</th><th scope=col>perc</th><th scope=col>rounded_perc</th></tr>\n",
       "\t<tr><th scope=col>&lt;fct&gt;</th><th scope=col>&lt;lgl&gt;</th><th scope=col>&lt;int&gt;</th><th scope=col>&lt;dbl&gt;</th><th scope=col>&lt;dbl&gt;</th></tr>\n",
       "</thead>\n",
       "<tbody>\n",
       "\t<tr><td>Control     </td><td>FALSE</td><td>21670</td><td>79.3</td><td>79.3</td></tr>\n",
       "\t<tr><td>Control     </td><td> TRUE</td><td> 5666</td><td>20.7</td><td>20.7</td></tr>\n",
       "\t<tr><td>Unstructured</td><td>FALSE</td><td>40178</td><td>78.0</td><td>78.0</td></tr>\n",
       "\t<tr><td>Unstructured</td><td> TRUE</td><td>11301</td><td>22.0</td><td>22.0</td></tr>\n",
       "\t<tr><td>Add-a-link  </td><td>FALSE</td><td>38954</td><td>75.8</td><td>75.8</td></tr>\n",
       "\t<tr><td>Add-a-link  </td><td> TRUE</td><td>12410</td><td>24.2</td><td>24.2</td></tr>\n",
       "</tbody>\n",
       "</table>\n"
      ],
      "text/latex": [
       "A grouped\\_df: 6 × 5\n",
       "\\begin{tabular}{lllll}\n",
       " Group & is\\_const\\_activated\\_article & n & perc & rounded\\_perc\\\\\n",
       " <fct> & <lgl> & <int> & <dbl> & <dbl>\\\\\n",
       "\\hline\n",
       "\t Control      & FALSE & 21670 & 79.3 & 79.3\\\\\n",
       "\t Control      &  TRUE &  5666 & 20.7 & 20.7\\\\\n",
       "\t Unstructured & FALSE & 40178 & 78.0 & 78.0\\\\\n",
       "\t Unstructured &  TRUE & 11301 & 22.0 & 22.0\\\\\n",
       "\t Add-a-link   & FALSE & 38954 & 75.8 & 75.8\\\\\n",
       "\t Add-a-link   &  TRUE & 12410 & 24.2 & 24.2\\\\\n",
       "\\end{tabular}\n"
      ],
      "text/markdown": [
       "\n",
       "A grouped_df: 6 × 5\n",
       "\n",
       "| Group &lt;fct&gt; | is_const_activated_article &lt;lgl&gt; | n &lt;int&gt; | perc &lt;dbl&gt; | rounded_perc &lt;dbl&gt; |\n",
       "|---|---|---|---|---|\n",
       "| Control      | FALSE | 21670 | 79.3 | 79.3 |\n",
       "| Control      |  TRUE |  5666 | 20.7 | 20.7 |\n",
       "| Unstructured | FALSE | 40178 | 78.0 | 78.0 |\n",
       "| Unstructured |  TRUE | 11301 | 22.0 | 22.0 |\n",
       "| Add-a-link   | FALSE | 38954 | 75.8 | 75.8 |\n",
       "| Add-a-link   |  TRUE | 12410 | 24.2 | 24.2 |\n",
       "\n"
      ],
      "text/plain": [
       "  Group        is_const_activated_article n     perc rounded_perc\n",
       "1 Control      FALSE                      21670 79.3 79.3        \n",
       "2 Control       TRUE                       5666 20.7 20.7        \n",
       "3 Unstructured FALSE                      40178 78.0 78.0        \n",
       "4 Unstructured  TRUE                      11301 22.0 22.0        \n",
       "5 Add-a-link   FALSE                      38954 75.8 75.8        \n",
       "6 Add-a-link    TRUE                      12410 24.2 24.2        "
      ]
     },
     "metadata": {},
     "output_type": "display_data"
    }
   ],
   "source": [
    "# Aggregate across the entire dataset the proportion of registrations activating\n",
    "activation.article.constr.agg <- user_edit_data %>%\n",
    "    group_by(Group, is_const_activated_article) %>%\n",
    "    summarize(n = n(), .groups = 'keep') %>%\n",
    "    group_by(Group) %>%\n",
    "    mutate(perc = 100 * n / sum(n), rounded_perc = round(100 * n / sum(n), 1))\n",
    "activation.article.constr.agg"
   ]
  },
  {
   "cell_type": "code",
   "execution_count": 128,
   "id": "1d4664f9",
   "metadata": {},
   "outputs": [
    {
     "data": {
      "text/html": [
       "<table>\n",
       "<caption>A data.frame: 1 × 1</caption>\n",
       "<thead>\n",
       "\t<tr><th scope=col>perc</th></tr>\n",
       "\t<tr><th scope=col>&lt;dbl&gt;</th></tr>\n",
       "</thead>\n",
       "<tbody>\n",
       "\t<tr><td>1.2</td></tr>\n",
       "</tbody>\n",
       "</table>\n"
      ],
      "text/latex": [
       "A data.frame: 1 × 1\n",
       "\\begin{tabular}{l}\n",
       " perc\\\\\n",
       " <dbl>\\\\\n",
       "\\hline\n",
       "\t 1.2\\\\\n",
       "\\end{tabular}\n"
      ],
      "text/markdown": [
       "\n",
       "A data.frame: 1 × 1\n",
       "\n",
       "| perc &lt;dbl&gt; |\n",
       "|---|\n",
       "| 1.2 |\n",
       "\n"
      ],
      "text/plain": [
       "  perc\n",
       "1 1.2 "
      ]
     },
     "metadata": {},
     "output_type": "display_data"
    }
   ],
   "source": [
    "## Calculate increase in percent\n",
    "round(activation.article.constr.agg[4, \"perc\"] - activation.article.constr.agg[2, \"perc\"], 1)"
   ]
  },
  {
   "cell_type": "code",
   "execution_count": 129,
   "id": "dfdd4cd1",
   "metadata": {},
   "outputs": [
    {
     "data": {
      "text/html": [
       "<table>\n",
       "<caption>A data.frame: 1 × 1</caption>\n",
       "<thead>\n",
       "\t<tr><th scope=col>perc</th></tr>\n",
       "\t<tr><th scope=col>&lt;dbl&gt;</th></tr>\n",
       "</thead>\n",
       "<tbody>\n",
       "\t<tr><td>5.9</td></tr>\n",
       "</tbody>\n",
       "</table>\n"
      ],
      "text/latex": [
       "A data.frame: 1 × 1\n",
       "\\begin{tabular}{l}\n",
       " perc\\\\\n",
       " <dbl>\\\\\n",
       "\\hline\n",
       "\t 5.9\\\\\n",
       "\\end{tabular}\n"
      ],
      "text/markdown": [
       "\n",
       "A data.frame: 1 × 1\n",
       "\n",
       "| perc &lt;dbl&gt; |\n",
       "|---|\n",
       "| 5.9 |\n",
       "\n"
      ],
      "text/plain": [
       "  perc\n",
       "1 5.9 "
      ]
     },
     "metadata": {},
     "output_type": "display_data"
    }
   ],
   "source": [
    "## Calculate increase in percent\n",
    "round(100 * (activation.article.constr.agg[4, \"perc\"] - activation.article.constr.agg[2, \"perc\"]) /\n",
    "        activation.article.constr.agg[2,\"perc\"], 1)"
   ]
  },
  {
   "cell_type": "code",
   "execution_count": 130,
   "id": "55d4f7e9",
   "metadata": {},
   "outputs": [
    {
     "data": {
      "text/html": [
       "<table>\n",
       "<caption>A data.frame: 1 × 1</caption>\n",
       "<thead>\n",
       "\t<tr><th scope=col>perc</th></tr>\n",
       "\t<tr><th scope=col>&lt;dbl&gt;</th></tr>\n",
       "</thead>\n",
       "<tbody>\n",
       "\t<tr><td>3.4</td></tr>\n",
       "</tbody>\n",
       "</table>\n"
      ],
      "text/latex": [
       "A data.frame: 1 × 1\n",
       "\\begin{tabular}{l}\n",
       " perc\\\\\n",
       " <dbl>\\\\\n",
       "\\hline\n",
       "\t 3.4\\\\\n",
       "\\end{tabular}\n"
      ],
      "text/markdown": [
       "\n",
       "A data.frame: 1 × 1\n",
       "\n",
       "| perc &lt;dbl&gt; |\n",
       "|---|\n",
       "| 3.4 |\n",
       "\n"
      ],
      "text/plain": [
       "  perc\n",
       "1 3.4 "
      ]
     },
     "metadata": {},
     "output_type": "display_data"
    }
   ],
   "source": [
    "## Calculate increase in percent\n",
    "round(activation.article.constr.agg[6, \"perc\"] - activation.article.constr.agg[2, \"perc\"], 1)"
   ]
  },
  {
   "cell_type": "code",
   "execution_count": 131,
   "id": "78b0770c",
   "metadata": {},
   "outputs": [
    {
     "data": {
      "text/html": [
       "<table>\n",
       "<caption>A data.frame: 1 × 1</caption>\n",
       "<thead>\n",
       "\t<tr><th scope=col>perc</th></tr>\n",
       "\t<tr><th scope=col>&lt;dbl&gt;</th></tr>\n",
       "</thead>\n",
       "<tbody>\n",
       "\t<tr><td>16.6</td></tr>\n",
       "</tbody>\n",
       "</table>\n"
      ],
      "text/latex": [
       "A data.frame: 1 × 1\n",
       "\\begin{tabular}{l}\n",
       " perc\\\\\n",
       " <dbl>\\\\\n",
       "\\hline\n",
       "\t 16.6\\\\\n",
       "\\end{tabular}\n"
      ],
      "text/markdown": [
       "\n",
       "A data.frame: 1 × 1\n",
       "\n",
       "| perc &lt;dbl&gt; |\n",
       "|---|\n",
       "| 16.6 |\n",
       "\n"
      ],
      "text/plain": [
       "  perc\n",
       "1 16.6"
      ]
     },
     "metadata": {},
     "output_type": "display_data"
    }
   ],
   "source": [
    "## Calculate increase in percent\n",
    "round(100 * (activation.article.constr.agg[6, \"perc\"] - activation.article.constr.agg[2, \"perc\"]) /\n",
    "        activation.article.constr.agg[2,\"perc\"], 1)"
   ]
  },
  {
   "cell_type": "markdown",
   "id": "fd5c51f2-a638-472a-8869-5e6130da8669",
   "metadata": {},
   "source": [
    "Percentage point and relative difference between the unstructured and structured task groups:"
   ]
  },
  {
   "cell_type": "code",
   "execution_count": 18,
   "id": "f5c2a069-c5f0-450c-9f55-16c75a239922",
   "metadata": {},
   "outputs": [
    {
     "data": {
      "text/html": [
       "<table>\n",
       "<caption>A data.frame: 1 × 1</caption>\n",
       "<thead>\n",
       "\t<tr><th scope=col>perc</th></tr>\n",
       "\t<tr><th scope=col>&lt;dbl&gt;</th></tr>\n",
       "</thead>\n",
       "<tbody>\n",
       "\t<tr><td>2.2</td></tr>\n",
       "</tbody>\n",
       "</table>\n"
      ],
      "text/latex": [
       "A data.frame: 1 × 1\n",
       "\\begin{tabular}{l}\n",
       " perc\\\\\n",
       " <dbl>\\\\\n",
       "\\hline\n",
       "\t 2.2\\\\\n",
       "\\end{tabular}\n"
      ],
      "text/markdown": [
       "\n",
       "A data.frame: 1 × 1\n",
       "\n",
       "| perc &lt;dbl&gt; |\n",
       "|---|\n",
       "| 2.2 |\n",
       "\n"
      ],
      "text/plain": [
       "  perc\n",
       "1 2.2 "
      ]
     },
     "metadata": {},
     "output_type": "display_data"
    }
   ],
   "source": [
    "## Calculate increase in percent\n",
    "round(activation.article.constr.agg[6, \"perc\"] - activation.article.constr.agg[4, \"perc\"], 1)"
   ]
  },
  {
   "cell_type": "code",
   "execution_count": 19,
   "id": "191a669b-d78b-4ce8-9fde-07c6a2791417",
   "metadata": {},
   "outputs": [
    {
     "data": {
      "text/html": [
       "<table>\n",
       "<caption>A data.frame: 1 × 1</caption>\n",
       "<thead>\n",
       "\t<tr><th scope=col>perc</th></tr>\n",
       "\t<tr><th scope=col>&lt;dbl&gt;</th></tr>\n",
       "</thead>\n",
       "<tbody>\n",
       "\t<tr><td>10.1</td></tr>\n",
       "</tbody>\n",
       "</table>\n"
      ],
      "text/latex": [
       "A data.frame: 1 × 1\n",
       "\\begin{tabular}{l}\n",
       " perc\\\\\n",
       " <dbl>\\\\\n",
       "\\hline\n",
       "\t 10.1\\\\\n",
       "\\end{tabular}\n"
      ],
      "text/markdown": [
       "\n",
       "A data.frame: 1 × 1\n",
       "\n",
       "| perc &lt;dbl&gt; |\n",
       "|---|\n",
       "| 10.1 |\n",
       "\n"
      ],
      "text/plain": [
       "  perc\n",
       "1 10.1"
      ]
     },
     "metadata": {},
     "output_type": "display_data"
    }
   ],
   "source": [
    "## Calculate increase in percent\n",
    "round(100 * (activation.article.constr.agg[6, \"perc\"] - activation.article.constr.agg[4, \"perc\"]) /\n",
    "        activation.article.constr.agg[4,\"perc\"], 1)"
   ]
  },
  {
   "cell_type": "markdown",
   "id": "695507c9",
   "metadata": {},
   "source": [
    "# Graphs\n",
    "\n",
    "## Article Activation"
   ]
  },
  {
   "cell_type": "code",
   "execution_count": 32,
   "id": "0b4f1632",
   "metadata": {},
   "outputs": [
    {
     "data": {
      "image/png": "[encoded data removed]",
      "text/plain": [
       "plot without title"
      ]
     },
     "metadata": {
      "image/png": {
       "height": 360,
       "width": 540
      }
     },
     "output_type": "display_data"
    }
   ],
   "source": [
    "# Give me wider plots, please\n",
    "options(repr.plot.width = 9, repr.plot.height = 6)\n",
    "user_edit_data %>%\n",
    "    group_by(Group, is_activated_article) %>%\n",
    "    tally() %>%\n",
    "    mutate(per_group = sum(n)) %>%\n",
    "    ungroup() %>%\n",
    "    mutate(perc = 100 * n / per_group, prob = n / per_group,\n",
    "           group_name = ifelse(Group == 'C', 'Control', 'Treatment')) %>%\n",
    "    filter(is_activated_article == TRUE) %>%\n",
    "    ggplot(aes(x = Group, y = prob, fill = Group)) +\n",
    "        labs(title = 'Activation – Article Namespace', x = 'Group', y = 'Percent Activated') +\n",
    "        hrbrthemes::theme_ipsum(\"DejaVu Sans\", base_size = 16, strip_text_face = \"bold\", strip_text_size = 18,\n",
    "                            caption_size = 12, axis_title_size = 14, subtitle_size = 14,\n",
    "                            axis_title_just = 'cm') +\n",
    "        guides(fill = 'none') +\n",
    "        scale_fill_brewer() +\n",
    "        hrbrthemes::scale_y_percent(limits = c(0, 0.34)) +\n",
    "        geom_col() +\n",
    "        geom_text(aes(label = wmfdata::percent2(prob)), nudge_y = 0.01, size = 5)\n",
    "ggsave(\n",
    "    'add-a-link-article-namespace-activation-2021-experiment.png',\n",
    "    path = 'graphs',\n",
    "    width = 9, height = 6, units = \"in\", dpi = \"screen\")"
   ]
  },
  {
   "cell_type": "markdown",
   "id": "14a2806b",
   "metadata": {},
   "source": [
    "## Constructive Article Activation"
   ]
  },
  {
   "cell_type": "code",
   "execution_count": 34,
   "id": "b04ec70a",
   "metadata": {},
   "outputs": [
    {
     "data": {
      "image/png": "[encoded data removed]",
      "text/plain": [
       "plot without title"
      ]
     },
     "metadata": {
      "image/png": {
       "height": 360,
       "width": 540
      }
     },
     "output_type": "display_data"
    }
   ],
   "source": [
    "# Give me wider plots, please\n",
    "options(repr.plot.width = 9, repr.plot.height = 6)\n",
    "user_edit_data %>%\n",
    "    group_by(Group, is_const_activated_article) %>%\n",
    "    tally() %>%\n",
    "    mutate(per_group = sum(n)) %>%\n",
    "    ungroup() %>%\n",
    "    mutate(perc = 100 * n / per_group, prob = n / per_group,\n",
    "           group_name = ifelse(Group == 'C', 'Control', 'Treatment')) %>%\n",
    "    filter(is_const_activated_article == TRUE) %>%\n",
    "    ggplot(aes(x = Group, y = prob, fill = Group)) +\n",
    "        labs(title = 'Constructive Activation – Article Namespace', x = 'Group', y = 'Percent Activated') +\n",
    "        hrbrthemes::theme_ipsum(\"DejaVu Sans\", base_size = 16, strip_text_face = \"bold\", strip_text_size = 18,\n",
    "                            caption_size = 12, axis_title_size = 14, subtitle_size = 14,\n",
    "                            axis_title_just = 'cm') +\n",
    "        guides(fill = 'none') +\n",
    "        scale_fill_brewer() +\n",
    "        hrbrthemes::scale_y_percent(limits = c(0, 0.28)) +\n",
    "        geom_col() +\n",
    "        geom_text(aes(label = wmfdata::percent2(prob)), nudge_y = 0.01, size = 5)\n",
    "ggsave(\n",
    "    'add-a-link-article-namespace-constructive-activation-2021-experiment.png',\n",
    "    path = 'graphs',\n",
    "    width = 9, height = 6, units = \"in\", dpi = \"screen\")"
   ]
  },
  {
   "cell_type": "markdown",
   "id": "4b61285f",
   "metadata": {},
   "source": [
    "## Users Per Group\n",
    "\n",
    "For the report, what's the proportion of users in each group?"
   ]
  },
  {
   "cell_type": "code",
   "execution_count": 35,
   "id": "5e10f4be",
   "metadata": {},
   "outputs": [
    {
     "data": {
      "text/html": [
       "<table>\n",
       "<caption>A tibble: 3 × 5</caption>\n",
       "<thead>\n",
       "\t<tr><th scope=col>Group</th><th scope=col>n</th><th scope=col>per_group</th><th scope=col>perc</th><th scope=col>prob</th></tr>\n",
       "\t<tr><th scope=col>&lt;fct&gt;</th><th scope=col>&lt;int&gt;</th><th scope=col>&lt;int&gt;</th><th scope=col>&lt;dbl&gt;</th><th scope=col>&lt;dbl&gt;</th></tr>\n",
       "</thead>\n",
       "<tbody>\n",
       "\t<tr><td>Control     </td><td>27336</td><td>130179</td><td>21.0</td><td>0.210</td></tr>\n",
       "\t<tr><td>Unstructured</td><td>51479</td><td>130179</td><td>39.5</td><td>0.395</td></tr>\n",
       "\t<tr><td>Add-a-link  </td><td>51364</td><td>130179</td><td>39.5</td><td>0.395</td></tr>\n",
       "</tbody>\n",
       "</table>\n"
      ],
      "text/latex": [
       "A tibble: 3 × 5\n",
       "\\begin{tabular}{lllll}\n",
       " Group & n & per\\_group & perc & prob\\\\\n",
       " <fct> & <int> & <int> & <dbl> & <dbl>\\\\\n",
       "\\hline\n",
       "\t Control      & 27336 & 130179 & 21.0 & 0.210\\\\\n",
       "\t Unstructured & 51479 & 130179 & 39.5 & 0.395\\\\\n",
       "\t Add-a-link   & 51364 & 130179 & 39.5 & 0.395\\\\\n",
       "\\end{tabular}\n"
      ],
      "text/markdown": [
       "\n",
       "A tibble: 3 × 5\n",
       "\n",
       "| Group &lt;fct&gt; | n &lt;int&gt; | per_group &lt;int&gt; | perc &lt;dbl&gt; | prob &lt;dbl&gt; |\n",
       "|---|---|---|---|---|\n",
       "| Control      | 27336 | 130179 | 21.0 | 0.210 |\n",
       "| Unstructured | 51479 | 130179 | 39.5 | 0.395 |\n",
       "| Add-a-link   | 51364 | 130179 | 39.5 | 0.395 |\n",
       "\n"
      ],
      "text/plain": [
       "  Group        n     per_group perc prob \n",
       "1 Control      27336 130179    21.0 0.210\n",
       "2 Unstructured 51479 130179    39.5 0.395\n",
       "3 Add-a-link   51364 130179    39.5 0.395"
      ]
     },
     "metadata": {},
     "output_type": "display_data"
    }
   ],
   "source": [
    "# Give me wider plots, please\n",
    "options(repr.plot.width = 9, repr.plot.height = 6)\n",
    "user_edit_data %>%\n",
    "    group_by(Group) %>%\n",
    "    tally() %>%\n",
    "    mutate(per_group = sum(n)) %>%\n",
    "    ungroup() %>%\n",
    "    mutate(perc = 100 * n / per_group, prob = n / per_group)"
   ]
  }
 ],
 "metadata": {
  "kernelspec": {
   "display_name": "R",
   "language": "R",
   "name": "ir"
  },
  "language_info": {
   "codemirror_mode": "r",
   "file_extension": ".r",
   "mimetype": "text/x-r-source",
   "name": "R",
   "pygments_lexer": "r",
   "version": "3.5.2"
  }
 },
 "nbformat": 4,
 "nbformat_minor": 5
}
