{
 "cells": [
  {
   "cell_type": "markdown",
   "id": "2f54d117",
   "metadata": {},
   "source": [
    "# Productivity Across the Entire 15-day Period\n",
    "\n"
   ]
  },
  {
   "cell_type": "code",
   "execution_count": 1,
   "id": "8fdccce1",
   "metadata": {},
   "outputs": [
    {
     "name": "stderr",
     "output_type": "stream",
     "text": [
      "── \u001b[1mAttaching packages\u001b[22m ─────────────────────────────────────── tidyverse 1.3.0 ──\n",
      "\n",
      "\u001b[32m✔\u001b[39m \u001b[34mggplot2\u001b[39m 3.3.2     \u001b[32m✔\u001b[39m \u001b[34mpurrr  \u001b[39m 0.3.4\n",
      "\u001b[32m✔\u001b[39m \u001b[34mtibble \u001b[39m 3.0.4     \u001b[32m✔\u001b[39m \u001b[34mdplyr  \u001b[39m 1.0.2\n",
      "\u001b[32m✔\u001b[39m \u001b[34mtidyr  \u001b[39m 1.1.2     \u001b[32m✔\u001b[39m \u001b[34mstringr\u001b[39m 1.4.0\n",
      "\u001b[32m✔\u001b[39m \u001b[34mreadr  \u001b[39m 1.4.0     \u001b[32m✔\u001b[39m \u001b[34mforcats\u001b[39m 0.5.0\n",
      "\n",
      "── \u001b[1mConflicts\u001b[22m ────────────────────────────────────────── tidyverse_conflicts() ──\n",
      "\u001b[31m✖\u001b[39m \u001b[34mdplyr\u001b[39m::\u001b[32mfilter()\u001b[39m masks \u001b[34mstats\u001b[39m::filter()\n",
      "\u001b[31m✖\u001b[39m \u001b[34mdplyr\u001b[39m::\u001b[32mlag()\u001b[39m    masks \u001b[34mstats\u001b[39m::lag()\n",
      "\n",
      "\n",
      "Attaching package: ‘lubridate’\n",
      "\n",
      "\n",
      "The following objects are masked from ‘package:base’:\n",
      "\n",
      "    date, intersect, setdiff, union\n",
      "\n",
      "\n",
      "This is bayesplot version 1.7.2\n",
      "\n",
      "- Online documentation and vignettes at mc-stan.org/bayesplot\n",
      "\n",
      "- bayesplot theme set to bayesplot::theme_default()\n",
      "\n",
      "   * Does _not_ affect other ggplot2 plots\n",
      "\n",
      "   * See ?bayesplot_theme_set for details on theme setting\n",
      "\n",
      "Loading required package: Matrix\n",
      "\n",
      "\n",
      "Attaching package: ‘Matrix’\n",
      "\n",
      "\n",
      "The following objects are masked from ‘package:tidyr’:\n",
      "\n",
      "    expand, pack, unpack\n",
      "\n",
      "\n",
      "For binary classification, the first factor level is assumed to be the event.\n",
      "Use the argument `event_level = \"second\"` to alter this as needed.\n",
      "\n",
      "\n",
      "Attaching package: ‘yardstick’\n",
      "\n",
      "\n",
      "The following object is masked from ‘package:readr’:\n",
      "\n",
      "    spec\n",
      "\n",
      "\n",
      "Loading required package: lattice\n",
      "\n",
      "\n",
      "Attaching package: ‘caret’\n",
      "\n",
      "\n",
      "The following objects are masked from ‘package:yardstick’:\n",
      "\n",
      "    precision, recall, sensitivity, specificity\n",
      "\n",
      "\n",
      "The following object is masked from ‘package:purrr’:\n",
      "\n",
      "    lift\n",
      "\n",
      "\n"
     ]
    }
   ],
   "source": [
    "library(tidyverse)\n",
    "library(broom)\n",
    "\n",
    "# library(brms) # install.packages(\"brms\")\n",
    "# library(loo) # install.packages(\"loo\")\n",
    "# library(rstanarm) # install.packages(\"rstanarm\")\n",
    "\n",
    "library(lubridate)\n",
    "library(bayesplot)\n",
    "\n",
    "library(lme4)\n",
    "library(yardstick) # install.packages(\"yardstick\")\n",
    "\n",
    "library(caret)"
   ]
  },
  {
   "cell_type": "markdown",
   "id": "af06e4e9",
   "metadata": {},
   "source": [
    "# R Configuration variables"
   ]
  },
  {
   "cell_type": "code",
   "execution_count": 2,
   "id": "27e312d8",
   "metadata": {},
   "outputs": [],
   "source": [
    "## NOTE: `loo`, which we use for model comparisons, has a tendency to use lots or run out of memory.\n",
    "## Therefore, I've often had to set mc.cores to 1 before running it. However, if we set its `pointwise`\n",
    "## parameter, it'll use less memory. And it'll use BLAS, so we restrict the number of BLAS threads to 1.\n",
    "## Then mc.cores controls the number of parallel processes.\n",
    "\n",
    "## blas_set_num_threads() also controls the number of threads that glmer() uses. Depending on the load\n",
    "## on the server at the time we're doing our analysis we can tune the number of threads.\n",
    "\n",
    "library(RhpcBLASctl)\n",
    "blas_set_num_threads(1)\n",
    "options(mc.cores = 4, digits = 3, scipen = 500)\n",
    "\n",
    "# Give me wider plots, please\n",
    "options(repr.plot.width = 14, repr.plot.height = 7)"
   ]
  },
  {
   "cell_type": "markdown",
   "id": "86a1841e",
   "metadata": {},
   "source": [
    "# Helper functions"
   ]
  },
  {
   "cell_type": "code",
   "execution_count": 3,
   "id": "2c7e8006",
   "metadata": {},
   "outputs": [],
   "source": [
    "## Function that takes in a model, the validation set, the name of the predicted column,\n",
    "## and returns a plot of the ROC curve\n",
    "plot_ROC <- function(mod, val_data, col_name) {\n",
    "    val_data$estimate = predict(mod, val_data, type = \"response\")\n",
    "    roc_curve(val_data, {{ col_name }}, estimate, event_level = 'second') %>%\n",
    "        ggplot(aes(x = 1 - specificity, y = sensitivity)) +\n",
    "        geom_path() +\n",
    "        geom_abline(lty = 3) +\n",
    "        coord_equal() +\n",
    "        theme_bw()\n",
    "}"
   ]
  },
  {
   "cell_type": "code",
   "execution_count": 4,
   "id": "3fb56265",
   "metadata": {},
   "outputs": [],
   "source": [
    "## Function that takes in the filename of the user edit data, reads it in,\n",
    "## and creates all the various derived columns we need.\n",
    "read_user_dataset <- function(dataset_filename) {\n",
    "    read_tsv(\n",
    "        dataset_filename,\n",
    "        col_types = user_dataset_column_types) %>%\n",
    "    mutate(\n",
    "        Group = factor(hp_enabled, levels = c(0, 1), labels = c(\"C\", \"HP\")),\n",
    "        platform = factor(reg_on_mobile == 1, c(FALSE, TRUE), c(\"desktop\", \"mobile\")),\n",
    "        ## Registration month, for later joins on month\n",
    "        reg_month = floor_date(user_registration_timestamp, unit = 'month'),\n",
    "        # Number of edits:\n",
    "        num_total_edits_24hrs = num_article_edits_24hrs + num_other_edits_24hrs,\n",
    "        num_total_edits_2w = num_article_edits_2w + num_other_edits_2w,\n",
    "        num_total_edits = num_total_edits_24hrs + num_total_edits_2w,\n",
    "        num_total_article_edits = num_article_edits_24hrs + num_article_edits_2w,\n",
    "        num_total_other_edits = num_other_edits_24hrs + num_total_edits_2w,\n",
    "        # Log number of total edits is used as a control variable in the revert analysis\n",
    "        log_num_total_edits = log(1 + num_total_edits),\n",
    "        # Number of reverts:\n",
    "        num_reverts_24hrs = num_article_reverts_24hrs + num_other_reverts_24hrs,\n",
    "        num_reverts_2w = num_article_reverts_2w + num_other_reverts_2w,\n",
    "        num_total_reverts = num_reverts_24hrs + num_reverts_2w,\n",
    "        ## Control variables for the number of edits made (used for ex. in revert analysis)\n",
    "        log_num_article_edits_24hrs = log(1 + num_article_edits_24hrs),\n",
    "        log_num_other_edits_24hrs = log(1 + num_other_edits_24hrs),\n",
    "        log_num_edits_24hrs = log(1 + num_article_edits_24hrs + num_other_edits_24hrs),\n",
    "        # Control variables for the number of constructive edits made\n",
    "        log_num_const_article_edits_24hrs = log(\n",
    "            1 + num_article_edits_24hrs - num_article_reverts_24hrs),\n",
    "        log_num_const_other_edits_24hrs = log(\n",
    "            1 + num_other_edits_24hrs - num_other_reverts_24hrs),\n",
    "        log_num_const_edits_24hrs = log(\n",
    "            1 + num_article_edits_24hrs + num_other_edits_24hrs -\n",
    "                num_article_reverts_24hrs - num_other_reverts_24hrs),\n",
    "        # Revert rate:\n",
    "        prop_rev_edits = ifelse(num_total_edits > 0, num_total_reverts / num_total_edits, 0),\n",
    "        # Did they activate?\n",
    "        is_activated_article = num_article_edits_24hrs > 0,\n",
    "        is_activated_other = num_other_edits_24hrs > 0,\n",
    "        is_activated = is_activated_article | is_activated_other,\n",
    "        # Did they activate through constructive edits?\n",
    "        is_const_activated_article = (num_article_edits_24hrs - num_article_reverts_24hrs) > 0,\n",
    "        is_const_activated_other = (num_other_edits_24hrs - num_other_reverts_24hrs) > 0,\n",
    "        is_const_activated = is_const_activated_article | is_const_activated_other,\n",
    "        # Were they retained?\n",
    "        is_retained_article = is_activated_article & (num_article_edits_2w > 0),\n",
    "        is_retained_other = is_activated_other & (num_other_edits_2w > 0),\n",
    "        is_retained = is_activated & ((num_article_edits_2w + num_other_edits_2w) > 0),\n",
    "        # Were they retained through constructive edits?\n",
    "        is_const_retained_article = is_const_activated_article &\n",
    "            ((num_article_edits_2w - num_article_reverts_2w) > 0),\n",
    "        is_const_retained_other = is_const_activated_other &\n",
    "            ((num_other_edits_2w - num_other_reverts_2w) > 0),\n",
    "        is_const_retained = is_const_activated &\n",
    "            ((num_article_edits_2w + num_other_edits_2w -\n",
    "              num_article_reverts_2w - num_other_reverts_2w) > 0)\n",
    "    ) \n",
    "}"
   ]
  },
  {
   "cell_type": "code",
   "execution_count": 5,
   "id": "30ded1a7",
   "metadata": {},
   "outputs": [],
   "source": [
    "## Function that takes in the filename of the active editors dataset,\n",
    "## and adds a registration month column for easy joining with the user dataset.\n",
    "read_active_editors_dataset <- function(dataset_filename) {\n",
    "    read_tsv(\n",
    "        dataset_filename,\n",
    "        col_types = active_editors_column_types) %>%\n",
    "    mutate(wiki_db = factor(wiki_db),\n",
    "           reg_month = month + months(1))\n",
    "}"
   ]
  },
  {
   "cell_type": "markdown",
   "id": "2eaa6564",
   "metadata": {},
   "source": [
    "# Experiment Configuration Variables\n",
    "\n",
    "We define a set of configuration variables that are useful for the analysis. One obvious one is where the edit dataset is located.\n",
    "\n",
    "A less obvious one is a variable for when the experiment started. We often use this seeking to model the community's initial response to changes in newcomer behaviour, as well as long-term trends in the outcome variable when working with user data gathered across a relatively long time period."
   ]
  },
  {
   "cell_type": "code",
   "execution_count": 6,
   "id": "ac3f5423",
   "metadata": {},
   "outputs": [],
   "source": [
    "## Path to the datasets with user edits\n",
    "user_dataset_filenames <- c(\n",
    "    '/home/nettrom/src/2021-Growth-structured-tasks/datasets/add-a-link-edit-data.tsv'\n",
    "    )\n",
    "\n",
    "## Column types in the dataset: wiki is a factor, HP variant is a factor, registration is a date time,\n",
    "## everything else are integers.\n",
    "user_dataset_column_types <- 'fiTiifiiiiiiii'\n",
    "\n",
    "## Path to the dataset with counts of the number of active editors\n",
    "active_editors_filenames <- c()\n",
    "\n",
    "## Column types in the active editors dataset: month is a date, wiki is a factor\n",
    "active_editors_column_types <- 'Dfiii'\n",
    "\n",
    "## Deployment timestamps for Add a Link on each of the wikis\n",
    "## Note that we turn wiki_db into a factor, otherwise wiki_db in the edit dataset\n",
    "## becomes a character after joining the two.\n",
    "exp_start_timestamps <- tribble(\n",
    "    ~wiki_db, ~exp_start_timestamp,\n",
    "    'arwiki', ymd_hms('2021-05-27 19:12:03', tz = 'UTC'),\n",
    "    'bnwiki', ymd_hms('2021-05-27 19:12:03', tz = 'UTC'),\n",
    "    'cswiki', ymd_hms('2021-05-27 19:12:03', tz = 'UTC'),\n",
    "    'viwiki', ymd_hms('2021-05-27 19:12:03', tz = 'UTC'),\n",
    "    'fawiki', ymd_hms('2021-07-21 11:11:21', tz = 'UTC'),\n",
    "    'frwiki', ymd_hms('2021-07-21 11:11:21', tz = 'UTC'),\n",
    "    'huwiki', ymd_hms('2021-07-21 11:11:21', tz = 'UTC'),\n",
    "    'plwiki', ymd_hms('2021-07-21 11:11:21', tz = 'UTC'),\n",
    "    'rowiki', ymd_hms('2021-07-21 11:11:21', tz = 'UTC'),\n",
    "    'ruwiki', ymd_hms('2021-07-21 11:11:21', tz = 'UTC'),\n",
    "\n",
    ") %>% mutate(wiki_db = factor(wiki_db))\n",
    "\n",
    "## Path to the dataset with editing status at account registration\n",
    "editing_status_filenames <- c()\n",
    "\n",
    "## Column types in the editing status dataset: wiki is a factor, everything else are integers\n",
    "editing_status_column_types <- 'fii'\n",
    "\n",
    "## Path to the dataset with Welcome Survey responses\n",
    "survey_response_filenames <- c()\n",
    "\n",
    "## Columns types in the survey response data: user ID is an integer, number of languages is a number,\n",
    "## everything else are factors\n",
    "survey_response_column_types <- 'fifffn'"
   ]
  },
  {
   "cell_type": "markdown",
   "id": "9f760906",
   "metadata": {},
   "source": [
    "# Data import and setup"
   ]
  },
  {
   "cell_type": "code",
   "execution_count": 7,
   "id": "3fa07e7f",
   "metadata": {},
   "outputs": [],
   "source": [
    "user_edit_data <- map_dfr(user_dataset_filenames, read_user_dataset)"
   ]
  },
  {
   "cell_type": "code",
   "execution_count": 8,
   "id": "ea3e84c5",
   "metadata": {},
   "outputs": [
    {
     "data": {
      "text/html": [
       "130179"
      ],
      "text/latex": [
       "130179"
      ],
      "text/markdown": [
       "130179"
      ],
      "text/plain": [
       "[1] 130179"
      ]
     },
     "metadata": {},
     "output_type": "display_data"
    }
   ],
   "source": [
    "nrow(user_edit_data)"
   ]
  },
  {
   "cell_type": "markdown",
   "id": "66663527",
   "metadata": {},
   "source": [
    "## Time since experiment start"
   ]
  },
  {
   "cell_type": "markdown",
   "id": "88ed8471",
   "metadata": {},
   "source": [
    "Join the edits data with the experiment timestamps and measure time since the start to enable controlling for that:"
   ]
  },
  {
   "cell_type": "code",
   "execution_count": 9,
   "id": "001f9a4f",
   "metadata": {},
   "outputs": [],
   "source": [
    "user_edit_data <- user_edit_data %>%\n",
    "    inner_join(exp_start_timestamps, by = 'wiki_db') %>%\n",
    "    mutate(\n",
    "        # Time as a measurement since deployment\n",
    "        exp_days = difftime(user_registration_timestamp, exp_start_timestamp, units = 'days'),\n",
    "        ln_exp_days = ifelse(exp_days < 0, 0, log(1 + as.numeric(exp_days))),\n",
    "        ln_exp_weeks = ifelse(exp_days < 0, 0, log(1 + as.numeric(exp_days)/7))\n",
    "    )"
   ]
  },
  {
   "cell_type": "code",
   "execution_count": 10,
   "id": "f1234563",
   "metadata": {},
   "outputs": [
    {
     "data": {
      "text/html": [
       "130179"
      ],
      "text/latex": [
       "130179"
      ],
      "text/markdown": [
       "130179"
      ],
      "text/plain": [
       "[1] 130179"
      ]
     },
     "metadata": {},
     "output_type": "display_data"
    }
   ],
   "source": [
    "nrow(user_edit_data)"
   ]
  },
  {
   "cell_type": "markdown",
   "id": "1e6de36c",
   "metadata": {},
   "source": [
    "Made sure that we're not dropping any users at this stage, we're good to move forward."
   ]
  },
  {
   "cell_type": "markdown",
   "id": "eabca2fc",
   "metadata": {},
   "source": [
    "## Additional variables\n",
    "\n",
    "We've previously focused on Control vs Growth Features in our analysis. In this case we'll focus primarily on Unstructured Link Task vs Add a Link, but also check against the control group. This means we want the single variable `Group` to reflect one of three options depending on `hp_enabled` and `hp_variant`"
   ]
  },
  {
   "cell_type": "code",
   "execution_count": 20,
   "id": "68b1cf65",
   "metadata": {},
   "outputs": [],
   "source": [
    "user_edit_data <- user_edit_data %>%\n",
    "    mutate(Group = factor(ifelse(\n",
    "        hp_enabled == 0, 'Control',\n",
    "        ifelse(hp_variant == 'control', 'Unstructured', 'Add-a-link')),\n",
    "                          c('Control', 'Unstructured', 'Add-a-link')))"
   ]
  },
  {
   "cell_type": "markdown",
   "id": "b74987de",
   "metadata": {},
   "source": [
    "Our productivity model will fit on the total number of constructive article edits, so we need a variable for that."
   ]
  },
  {
   "cell_type": "code",
   "execution_count": 19,
   "id": "080765c8",
   "metadata": {},
   "outputs": [],
   "source": [
    "user_edit_data <- user_edit_data %>%\n",
    "    mutate(num_total_const_article_edits = num_article_edits_24hrs - num_article_reverts_24hrs +\n",
    "           num_article_edits_2w - num_article_reverts_2w)"
   ]
  },
  {
   "cell_type": "markdown",
   "id": "3ca4c1ba",
   "metadata": {},
   "source": [
    "## Checking number of accounts for each wiki\n",
    "\n",
    "We might be looking at very small wikis, in case we might want to not include them in the analysis."
   ]
  },
  {
   "cell_type": "code",
   "execution_count": 12,
   "id": "c6f0621c",
   "metadata": {},
   "outputs": [
    {
     "name": "stderr",
     "output_type": "stream",
     "text": [
      "`summarise()` regrouping output by 'wiki_db' (override with `.groups` argument)\n",
      "\n"
     ]
    },
    {
     "data": {
      "text/html": [
       "<table>\n",
       "<caption>A grouped_df: 30 × 3</caption>\n",
       "<thead>\n",
       "\t<tr><th scope=col>wiki_db</th><th scope=col>Group</th><th scope=col>n</th></tr>\n",
       "\t<tr><th scope=col>&lt;fct&gt;</th><th scope=col>&lt;fct&gt;</th><th scope=col>&lt;int&gt;</th></tr>\n",
       "</thead>\n",
       "<tbody>\n",
       "\t<tr><td>arwiki</td><td>Control     </td><td> 7698</td></tr>\n",
       "\t<tr><td>arwiki</td><td>Unstructured</td><td>13426</td></tr>\n",
       "\t<tr><td>arwiki</td><td>Add-a-link  </td><td>13213</td></tr>\n",
       "\t<tr><td>bnwiki</td><td>Control     </td><td> 1583</td></tr>\n",
       "\t<tr><td>bnwiki</td><td>Unstructured</td><td> 2664</td></tr>\n",
       "\t<tr><td>bnwiki</td><td>Add-a-link  </td><td> 2679</td></tr>\n",
       "\t<tr><td>cswiki</td><td>Control     </td><td>  787</td></tr>\n",
       "\t<tr><td>cswiki</td><td>Unstructured</td><td> 1419</td></tr>\n",
       "\t<tr><td>cswiki</td><td>Add-a-link  </td><td> 1447</td></tr>\n",
       "\t<tr><td>fawiki</td><td>Control     </td><td> 2739</td></tr>\n",
       "\t<tr><td>fawiki</td><td>Unstructured</td><td> 5555</td></tr>\n",
       "\t<tr><td>fawiki</td><td>Add-a-link  </td><td> 5440</td></tr>\n",
       "\t<tr><td>frwiki</td><td>Control     </td><td> 5578</td></tr>\n",
       "\t<tr><td>frwiki</td><td>Unstructured</td><td>11146</td></tr>\n",
       "\t<tr><td>frwiki</td><td>Add-a-link  </td><td>11274</td></tr>\n",
       "\t<tr><td>huwiki</td><td>Control     </td><td>  315</td></tr>\n",
       "\t<tr><td>huwiki</td><td>Unstructured</td><td>  638</td></tr>\n",
       "\t<tr><td>huwiki</td><td>Add-a-link  </td><td>  632</td></tr>\n",
       "\t<tr><td>plwiki</td><td>Control     </td><td>  949</td></tr>\n",
       "\t<tr><td>plwiki</td><td>Unstructured</td><td> 1924</td></tr>\n",
       "\t<tr><td>plwiki</td><td>Add-a-link  </td><td> 1930</td></tr>\n",
       "\t<tr><td>rowiki</td><td>Control     </td><td>  294</td></tr>\n",
       "\t<tr><td>rowiki</td><td>Unstructured</td><td>  575</td></tr>\n",
       "\t<tr><td>rowiki</td><td>Add-a-link  </td><td>  565</td></tr>\n",
       "\t<tr><td>ruwiki</td><td>Control     </td><td> 4069</td></tr>\n",
       "\t<tr><td>ruwiki</td><td>Unstructured</td><td> 8176</td></tr>\n",
       "\t<tr><td>ruwiki</td><td>Add-a-link  </td><td> 8222</td></tr>\n",
       "\t<tr><td>viwiki</td><td>Control     </td><td> 3324</td></tr>\n",
       "\t<tr><td>viwiki</td><td>Unstructured</td><td> 5956</td></tr>\n",
       "\t<tr><td>viwiki</td><td>Add-a-link  </td><td> 5962</td></tr>\n",
       "</tbody>\n",
       "</table>\n"
      ],
      "text/latex": [
       "A grouped\\_df: 30 × 3\n",
       "\\begin{tabular}{lll}\n",
       " wiki\\_db & Group & n\\\\\n",
       " <fct> & <fct> & <int>\\\\\n",
       "\\hline\n",
       "\t arwiki & Control      &  7698\\\\\n",
       "\t arwiki & Unstructured & 13426\\\\\n",
       "\t arwiki & Add-a-link   & 13213\\\\\n",
       "\t bnwiki & Control      &  1583\\\\\n",
       "\t bnwiki & Unstructured &  2664\\\\\n",
       "\t bnwiki & Add-a-link   &  2679\\\\\n",
       "\t cswiki & Control      &   787\\\\\n",
       "\t cswiki & Unstructured &  1419\\\\\n",
       "\t cswiki & Add-a-link   &  1447\\\\\n",
       "\t fawiki & Control      &  2739\\\\\n",
       "\t fawiki & Unstructured &  5555\\\\\n",
       "\t fawiki & Add-a-link   &  5440\\\\\n",
       "\t frwiki & Control      &  5578\\\\\n",
       "\t frwiki & Unstructured & 11146\\\\\n",
       "\t frwiki & Add-a-link   & 11274\\\\\n",
       "\t huwiki & Control      &   315\\\\\n",
       "\t huwiki & Unstructured &   638\\\\\n",
       "\t huwiki & Add-a-link   &   632\\\\\n",
       "\t plwiki & Control      &   949\\\\\n",
       "\t plwiki & Unstructured &  1924\\\\\n",
       "\t plwiki & Add-a-link   &  1930\\\\\n",
       "\t rowiki & Control      &   294\\\\\n",
       "\t rowiki & Unstructured &   575\\\\\n",
       "\t rowiki & Add-a-link   &   565\\\\\n",
       "\t ruwiki & Control      &  4069\\\\\n",
       "\t ruwiki & Unstructured &  8176\\\\\n",
       "\t ruwiki & Add-a-link   &  8222\\\\\n",
       "\t viwiki & Control      &  3324\\\\\n",
       "\t viwiki & Unstructured &  5956\\\\\n",
       "\t viwiki & Add-a-link   &  5962\\\\\n",
       "\\end{tabular}\n"
      ],
      "text/markdown": [
       "\n",
       "A grouped_df: 30 × 3\n",
       "\n",
       "| wiki_db &lt;fct&gt; | Group &lt;fct&gt; | n &lt;int&gt; |\n",
       "|---|---|---|\n",
       "| arwiki | Control      |  7698 |\n",
       "| arwiki | Unstructured | 13426 |\n",
       "| arwiki | Add-a-link   | 13213 |\n",
       "| bnwiki | Control      |  1583 |\n",
       "| bnwiki | Unstructured |  2664 |\n",
       "| bnwiki | Add-a-link   |  2679 |\n",
       "| cswiki | Control      |   787 |\n",
       "| cswiki | Unstructured |  1419 |\n",
       "| cswiki | Add-a-link   |  1447 |\n",
       "| fawiki | Control      |  2739 |\n",
       "| fawiki | Unstructured |  5555 |\n",
       "| fawiki | Add-a-link   |  5440 |\n",
       "| frwiki | Control      |  5578 |\n",
       "| frwiki | Unstructured | 11146 |\n",
       "| frwiki | Add-a-link   | 11274 |\n",
       "| huwiki | Control      |   315 |\n",
       "| huwiki | Unstructured |   638 |\n",
       "| huwiki | Add-a-link   |   632 |\n",
       "| plwiki | Control      |   949 |\n",
       "| plwiki | Unstructured |  1924 |\n",
       "| plwiki | Add-a-link   |  1930 |\n",
       "| rowiki | Control      |   294 |\n",
       "| rowiki | Unstructured |   575 |\n",
       "| rowiki | Add-a-link   |   565 |\n",
       "| ruwiki | Control      |  4069 |\n",
       "| ruwiki | Unstructured |  8176 |\n",
       "| ruwiki | Add-a-link   |  8222 |\n",
       "| viwiki | Control      |  3324 |\n",
       "| viwiki | Unstructured |  5956 |\n",
       "| viwiki | Add-a-link   |  5962 |\n",
       "\n"
      ],
      "text/plain": [
       "   wiki_db Group        n    \n",
       "1  arwiki  Control       7698\n",
       "2  arwiki  Unstructured 13426\n",
       "3  arwiki  Add-a-link   13213\n",
       "4  bnwiki  Control       1583\n",
       "5  bnwiki  Unstructured  2664\n",
       "6  bnwiki  Add-a-link    2679\n",
       "7  cswiki  Control        787\n",
       "8  cswiki  Unstructured  1419\n",
       "9  cswiki  Add-a-link    1447\n",
       "10 fawiki  Control       2739\n",
       "11 fawiki  Unstructured  5555\n",
       "12 fawiki  Add-a-link    5440\n",
       "13 frwiki  Control       5578\n",
       "14 frwiki  Unstructured 11146\n",
       "15 frwiki  Add-a-link   11274\n",
       "16 huwiki  Control        315\n",
       "17 huwiki  Unstructured   638\n",
       "18 huwiki  Add-a-link     632\n",
       "19 plwiki  Control        949\n",
       "20 plwiki  Unstructured  1924\n",
       "21 plwiki  Add-a-link    1930\n",
       "22 rowiki  Control        294\n",
       "23 rowiki  Unstructured   575\n",
       "24 rowiki  Add-a-link     565\n",
       "25 ruwiki  Control       4069\n",
       "26 ruwiki  Unstructured  8176\n",
       "27 ruwiki  Add-a-link    8222\n",
       "28 viwiki  Control       3324\n",
       "29 viwiki  Unstructured  5956\n",
       "30 viwiki  Add-a-link    5962"
      ]
     },
     "metadata": {},
     "output_type": "display_data"
    }
   ],
   "source": [
    "user_edit_data %>%\n",
    "    group_by(wiki_db, Group) %>%\n",
    "    summarize(n = n())"
   ]
  },
  {
   "cell_type": "markdown",
   "id": "ac242f13",
   "metadata": {},
   "source": [
    "## Splitting into Training, Test, and Validation Datasets\n",
    "\n",
    "Split the dataset into training, test, and validation data sets."
   ]
  },
  {
   "cell_type": "code",
   "execution_count": 13,
   "id": "35961afd",
   "metadata": {},
   "outputs": [
    {
     "name": "stderr",
     "output_type": "stream",
     "text": [
      "Warning message:\n",
      "“The `i` argument of ``[`()` can't be a matrix as of tibble 3.0.0.\n",
      "Convert to a vector.\n",
      "\u001b[90mThis warning is displayed once every 8 hours.\u001b[39m\n",
      "\u001b[90mCall `lifecycle::last_warnings()` to see where this warning was generated.\u001b[39m”\n"
     ]
    }
   ],
   "source": [
    "## set the random seed so train/test/validation splits can be reproduced\n",
    "set.seed(42)\n",
    "\n",
    "trainIndex <- caret::createDataPartition(user_edit_data$Group,\n",
    "                                         p = .8,\n",
    "                                         list = FALSE,\n",
    "                                         times = 1)\n",
    "user_data_train = user_edit_data[trainIndex,]\n",
    "user_data_second = user_edit_data[-trainIndex,]\n",
    "\n",
    "testIndex = caret::createDataPartition(user_data_second$Group, p = .5, list = FALSE, times = 1)\n",
    "\n",
    "user_data_test = user_data_second[testIndex,]\n",
    "user_data_validate = user_data_second[-testIndex,]"
   ]
  },
  {
   "cell_type": "code",
   "execution_count": 14,
   "id": "263e0be7",
   "metadata": {},
   "outputs": [],
   "source": [
    "user_data_test$is_activated_fct <- factor(user_data_test$is_activated,\n",
    "                                          labels = c('No', 'Yes'))\n",
    "user_data_validate$is_activated_fct <- factor(user_data_validate$is_activated,\n",
    "                                          labels = c('No', 'Yes'))"
   ]
  },
  {
   "cell_type": "markdown",
   "id": "df4b057c",
   "metadata": {},
   "source": [
    "## Visualizing Productivity\n",
    "\n",
    "We'll make box plots of editing based on group, and we'll focus on constructive article edits because that's where we see the strongest effects. This plot uses the `log10(1 + x)` transformation so we get to see all users who didn't make any edits."
   ]
  },
  {
   "cell_type": "code",
   "execution_count": 16,
   "id": "520246cd",
   "metadata": {},
   "outputs": [
    {
     "data": {
      "image/png": "[encoded data removed]",
      "text/plain": [
       "plot without title"
      ]
     },
     "metadata": {
      "image/png": {
       "height": 420,
       "width": 840
      }
     },
     "output_type": "display_data"
    }
   ],
   "source": [
    "user_edit_data %>%\n",
    "    mutate(log_num_total_const_article_edits = log10(1 + num_article_edits_24hrs - num_article_reverts_24hrs +\n",
    "           num_article_edits_2w - num_article_reverts_2w)) %>%\n",
    "    ggplot(aes(x = Group, y = log_num_total_const_article_edits)) +\n",
    "        labs(title = 'Productivity by Group', yaxis_title = 'Number of constructive edits (log 10 scale)') +\n",
    "        geom_boxplot()"
   ]
  },
  {
   "cell_type": "markdown",
   "id": "edeb23b7",
   "metadata": {},
   "source": [
    "It looks like there are some interesting differences between the groups when it comes to the distribution of the number of edits. Let's summarize per group."
   ]
  },
  {
   "cell_type": "code",
   "execution_count": 21,
   "id": "dc249b6b",
   "metadata": {},
   "outputs": [
    {
     "data": {
      "text/html": [
       "<table>\n",
       "<caption>A grouped_df: 6 × 12</caption>\n",
       "<thead>\n",
       "\t<tr><th scope=col>platform</th><th scope=col>Group</th><th scope=col>min_edits</th><th scope=col>perc_5_edits</th><th scope=col>perc_10_edits</th><th scope=col>perc_25_edits</th><th scope=col>median_edits</th><th scope=col>mean_edits</th><th scope=col>perc_75_edits</th><th scope=col>perc_90_edits</th><th scope=col>perc_95_edits</th><th scope=col>max_edits</th></tr>\n",
       "\t<tr><th scope=col>&lt;fct&gt;</th><th scope=col>&lt;fct&gt;</th><th scope=col>&lt;int&gt;</th><th scope=col>&lt;dbl&gt;</th><th scope=col>&lt;dbl&gt;</th><th scope=col>&lt;dbl&gt;</th><th scope=col>&lt;dbl&gt;</th><th scope=col>&lt;dbl&gt;</th><th scope=col>&lt;dbl&gt;</th><th scope=col>&lt;dbl&gt;</th><th scope=col>&lt;dbl&gt;</th><th scope=col>&lt;int&gt;</th></tr>\n",
       "</thead>\n",
       "<tbody>\n",
       "\t<tr><td>desktop</td><td>Control     </td><td>0</td><td>0</td><td>0</td><td>0</td><td>0</td><td>1.225</td><td>1</td><td>2</td><td>5</td><td>471</td></tr>\n",
       "\t<tr><td>desktop</td><td>Unstructured</td><td>0</td><td>0</td><td>0</td><td>0</td><td>0</td><td>1.295</td><td>1</td><td>2</td><td>5</td><td>734</td></tr>\n",
       "\t<tr><td>desktop</td><td>Add-a-link  </td><td>0</td><td>0</td><td>0</td><td>0</td><td>0</td><td>1.565</td><td>1</td><td>3</td><td>5</td><td>644</td></tr>\n",
       "\t<tr><td>mobile </td><td>Control     </td><td>0</td><td>0</td><td>0</td><td>0</td><td>0</td><td>0.732</td><td>0</td><td>1</td><td>3</td><td>404</td></tr>\n",
       "\t<tr><td>mobile </td><td>Unstructured</td><td>0</td><td>0</td><td>0</td><td>0</td><td>0</td><td>0.816</td><td>0</td><td>1</td><td>3</td><td>601</td></tr>\n",
       "\t<tr><td>mobile </td><td>Add-a-link  </td><td>0</td><td>0</td><td>0</td><td>0</td><td>0</td><td>1.013</td><td>0</td><td>2</td><td>4</td><td>800</td></tr>\n",
       "</tbody>\n",
       "</table>\n"
      ],
      "text/latex": [
       "A grouped\\_df: 6 × 12\n",
       "\\begin{tabular}{llllllllllll}\n",
       " platform & Group & min\\_edits & perc\\_5\\_edits & perc\\_10\\_edits & perc\\_25\\_edits & median\\_edits & mean\\_edits & perc\\_75\\_edits & perc\\_90\\_edits & perc\\_95\\_edits & max\\_edits\\\\\n",
       " <fct> & <fct> & <int> & <dbl> & <dbl> & <dbl> & <dbl> & <dbl> & <dbl> & <dbl> & <dbl> & <int>\\\\\n",
       "\\hline\n",
       "\t desktop & Control      & 0 & 0 & 0 & 0 & 0 & 1.225 & 1 & 2 & 5 & 471\\\\\n",
       "\t desktop & Unstructured & 0 & 0 & 0 & 0 & 0 & 1.295 & 1 & 2 & 5 & 734\\\\\n",
       "\t desktop & Add-a-link   & 0 & 0 & 0 & 0 & 0 & 1.565 & 1 & 3 & 5 & 644\\\\\n",
       "\t mobile  & Control      & 0 & 0 & 0 & 0 & 0 & 0.732 & 0 & 1 & 3 & 404\\\\\n",
       "\t mobile  & Unstructured & 0 & 0 & 0 & 0 & 0 & 0.816 & 0 & 1 & 3 & 601\\\\\n",
       "\t mobile  & Add-a-link   & 0 & 0 & 0 & 0 & 0 & 1.013 & 0 & 2 & 4 & 800\\\\\n",
       "\\end{tabular}\n"
      ],
      "text/markdown": [
       "\n",
       "A grouped_df: 6 × 12\n",
       "\n",
       "| platform &lt;fct&gt; | Group &lt;fct&gt; | min_edits &lt;int&gt; | perc_5_edits &lt;dbl&gt; | perc_10_edits &lt;dbl&gt; | perc_25_edits &lt;dbl&gt; | median_edits &lt;dbl&gt; | mean_edits &lt;dbl&gt; | perc_75_edits &lt;dbl&gt; | perc_90_edits &lt;dbl&gt; | perc_95_edits &lt;dbl&gt; | max_edits &lt;int&gt; |\n",
       "|---|---|---|---|---|---|---|---|---|---|---|---|\n",
       "| desktop | Control      | 0 | 0 | 0 | 0 | 0 | 1.225 | 1 | 2 | 5 | 471 |\n",
       "| desktop | Unstructured | 0 | 0 | 0 | 0 | 0 | 1.295 | 1 | 2 | 5 | 734 |\n",
       "| desktop | Add-a-link   | 0 | 0 | 0 | 0 | 0 | 1.565 | 1 | 3 | 5 | 644 |\n",
       "| mobile  | Control      | 0 | 0 | 0 | 0 | 0 | 0.732 | 0 | 1 | 3 | 404 |\n",
       "| mobile  | Unstructured | 0 | 0 | 0 | 0 | 0 | 0.816 | 0 | 1 | 3 | 601 |\n",
       "| mobile  | Add-a-link   | 0 | 0 | 0 | 0 | 0 | 1.013 | 0 | 2 | 4 | 800 |\n",
       "\n"
      ],
      "text/plain": [
       "  platform Group        min_edits perc_5_edits perc_10_edits perc_25_edits\n",
       "1 desktop  Control      0         0            0             0            \n",
       "2 desktop  Unstructured 0         0            0             0            \n",
       "3 desktop  Add-a-link   0         0            0             0            \n",
       "4 mobile   Control      0         0            0             0            \n",
       "5 mobile   Unstructured 0         0            0             0            \n",
       "6 mobile   Add-a-link   0         0            0             0            \n",
       "  median_edits mean_edits perc_75_edits perc_90_edits perc_95_edits max_edits\n",
       "1 0            1.225      1             2             5             471      \n",
       "2 0            1.295      1             2             5             734      \n",
       "3 0            1.565      1             3             5             644      \n",
       "4 0            0.732      0             1             3             404      \n",
       "5 0            0.816      0             1             3             601      \n",
       "6 0            1.013      0             2             4             800      "
      ]
     },
     "metadata": {},
     "output_type": "display_data"
    }
   ],
   "source": [
    "user_edit_data %>%\n",
    "    mutate(num_total_const_article_edits = num_article_edits_24hrs - num_article_reverts_24hrs +\n",
    "           num_article_edits_2w - num_article_reverts_2w) %>%\n",
    "    group_by(platform, Group) %>%\n",
    "    summarise(min_edits = min(num_total_const_article_edits),\n",
    "              perc_5_edits = quantile(num_total_const_article_edits, probs = c(0.05)),\n",
    "              perc_10_edits = quantile(num_total_const_article_edits, probs = c(0.1)),\n",
    "              perc_25_edits = quantile(num_total_const_article_edits, probs = c(0.25)),\n",
    "              median_edits = median(num_total_const_article_edits),\n",
    "              mean_edits = mean(num_total_const_article_edits),\n",
    "              perc_75_edits = quantile(num_total_const_article_edits, probs = c(0.75)),\n",
    "              perc_90_edits = quantile(num_total_const_article_edits, probs = c(0.9)),\n",
    "              perc_95_edits = quantile(num_total_const_article_edits, probs = c(0.95)),\n",
    "              max_edits = max(num_total_const_article_edits),\n",
    "             .groups = 'keep'\n",
    "             )"
   ]
  },
  {
   "cell_type": "markdown",
   "id": "70b2fd2e",
   "metadata": {},
   "source": [
    "## Priors"
   ]
  },
  {
   "cell_type": "code",
   "execution_count": null,
   "id": "6f6777b7",
   "metadata": {},
   "outputs": [],
   "source": [
    "## Note that using a student_t distribution for the prior is beneficial because that\n",
    "## distribution handles outliers better than a Normal.\n",
    "## See https://jrnold.github.io/bayesian_notes/robust-regression.html\n",
    "## Thanks to Mikhail for sending that to me!\n",
    "priors <- prior(cauchy(0, 2), class = sd) +\n",
    "  prior(student_t(5, 0, 10), class = b)"
   ]
  },
  {
   "cell_type": "markdown",
   "id": "e030cf4c",
   "metadata": {
    "tags": []
   },
   "source": [
    "# Constructive Article Productivity with Group-level Variation\n",
    "\n",
    "In the analysis of activation, we found meaningful group-level variation in `platform`, and indications of an interaction between `platform` and `Group`. When analysing retention, we found that it mainly followed activation. This analysis is slightly different in that we'll count all edits across the entire time period (in other words, users can activate after the first 24 hours and it'll matter). We'll start with a model that's similar to the activation model, and then fit one or two competing models for later checking with `loo`."
   ]
  },
  {
   "cell_type": "code",
   "execution_count": null,
   "id": "e38d325f",
   "metadata": {},
   "outputs": [
    {
     "name": "stderr",
     "output_type": "stream",
     "text": [
      "Compiling Stan program...\n",
      "\n",
      "Start sampling\n",
      "\n"
     ]
    }
   ],
   "source": [
    "## FIXME: fit this model again because the original one didn't have `platform`\n",
    "## as a population-level predictor for zero-inflation\n",
    "constr.article.edits.all.days.zinb.1 <- brm(\n",
    "  bf(num_total_const_article_edits ~ platform * Group +\n",
    "     (1 + platform | wiki_db),\n",
    "     zi ~ platform + (1 + platform | wiki_db)),\n",
    "    data = user_edit_data,\n",
    "    family = zero_inflated_negbinomial(),\n",
    "    prior = priors,\n",
    "    iter = 800,\n",
    "    control = list(adapt_delta = 0.99,\n",
    "                 max_treedepth = 15)\n",
    ")"
   ]
  },
  {
   "cell_type": "code",
   "execution_count": null,
   "id": "16803a16",
   "metadata": {},
   "outputs": [],
   "source": [
    "## Save the model\n",
    "save(constr.article.edits.all.days.zinb.1,\n",
    "     file='../models/constr.article.edits.all.days.zinb.1.Robj')"
   ]
  },
  {
   "cell_type": "code",
   "execution_count": 23,
   "id": "8c488cbf",
   "metadata": {},
   "outputs": [
    {
     "data": {
      "text/plain": [
       " Family: zero_inflated_negbinomial \n",
       "  Links: mu = log; shape = identity; zi = logit \n",
       "Formula: num_total_const_article_edits ~ platform * Group + (1 + platform | wiki_db) \n",
       "         zi ~ platform + (1 + platform | wiki_db)\n",
       "   Data: user_edit_data (Number of observations: 130179) \n",
       "  Draws: 4 chains, each with iter = 800; warmup = 400; thin = 1;\n",
       "         total post-warmup draws = 1600\n",
       "\n",
       "Group-Level Effects: \n",
       "~wiki_db (Number of levels: 10) \n",
       "                                    Estimate Est.Error l-95% CI u-95% CI Rhat\n",
       "sd(Intercept)                           0.30      0.09     0.17     0.50 1.00\n",
       "sd(platformmobile)                      0.41      0.13     0.23     0.73 1.00\n",
       "sd(zi_Intercept)                        4.47      1.51     2.36     7.76 1.00\n",
       "sd(zi_platformmobile)                   2.68      1.05     1.31     5.24 1.00\n",
       "cor(Intercept,platformmobile)          -0.12      0.33    -0.71     0.53 1.00\n",
       "cor(zi_Intercept,zi_platformmobile)    -0.66      0.31    -0.99     0.12 1.00\n",
       "                                    Bulk_ESS Tail_ESS\n",
       "sd(Intercept)                            856     1163\n",
       "sd(platformmobile)                       845     1073\n",
       "sd(zi_Intercept)                         808     1196\n",
       "sd(zi_platformmobile)                   1008     1008\n",
       "cor(Intercept,platformmobile)            716      836\n",
       "cor(zi_Intercept,zi_platformmobile)      949     1030\n",
       "\n",
       "Population-Level Effects: \n",
       "                                 Estimate Est.Error l-95% CI u-95% CI Rhat\n",
       "Intercept                            0.38      0.10     0.18     0.59 1.00\n",
       "zi_Intercept                        -4.59      1.49    -7.90    -1.70 1.01\n",
       "platformmobile                      -0.37      0.15    -0.68    -0.08 1.01\n",
       "GroupUnstructured                    0.05      0.03    -0.01     0.10 1.00\n",
       "GroupAddMaMlink                      0.24      0.03     0.18     0.30 1.00\n",
       "platformmobile:GroupUnstructured     0.02      0.05    -0.07     0.11 1.00\n",
       "platformmobile:GroupAddMaMlink       0.02      0.05    -0.07     0.11 1.00\n",
       "zi_platformmobile                    2.71      1.19     0.69     5.37 1.01\n",
       "                                 Bulk_ESS Tail_ESS\n",
       "Intercept                             532      854\n",
       "zi_Intercept                          653      723\n",
       "platformmobile                        563      579\n",
       "GroupUnstructured                    1239     1055\n",
       "GroupAddMaMlink                      1308     1267\n",
       "platformmobile:GroupUnstructured     1190      979\n",
       "platformmobile:GroupAddMaMlink       1224     1236\n",
       "zi_platformmobile                     658      625\n",
       "\n",
       "Family Specific Parameters: \n",
       "      Estimate Est.Error l-95% CI u-95% CI Rhat Bulk_ESS Tail_ESS\n",
       "shape     0.15      0.00     0.14     0.15 1.00     2125     1153\n",
       "\n",
       "Draws were sampled using sampling(NUTS). For each parameter, Bulk_ESS\n",
       "and Tail_ESS are effective sample size measures, and Rhat is the potential\n",
       "scale reduction factor on split chains (at convergence, Rhat = 1)."
      ]
     },
     "metadata": {},
     "output_type": "display_data"
    }
   ],
   "source": [
    "summary(constr.article.edits.all.days.zinb.1)"
   ]
  },
  {
   "cell_type": "code",
   "execution_count": 39,
   "id": "217173c4",
   "metadata": {},
   "outputs": [
    {
     "name": "stderr",
     "output_type": "stream",
     "text": [
      "`summarise()` ungrouping output (override with `.groups` argument)\n",
      "\n"
     ]
    },
    {
     "data": {
      "text/html": [
       "<table>\n",
       "<caption>A tibble: 3 × 3</caption>\n",
       "<thead>\n",
       "\t<tr><th scope=col>Group</th><th scope=col>geomean</th><th scope=col>propzero</th></tr>\n",
       "\t<tr><th scope=col>&lt;fct&gt;</th><th scope=col>&lt;dbl&gt;</th><th scope=col>&lt;dbl&gt;</th></tr>\n",
       "</thead>\n",
       "<tbody>\n",
       "\t<tr><td>Control     </td><td>0.319</td><td>0.771</td></tr>\n",
       "\t<tr><td>Unstructured</td><td>0.333</td><td>0.759</td></tr>\n",
       "\t<tr><td>Add-a-link  </td><td>0.378</td><td>0.738</td></tr>\n",
       "</tbody>\n",
       "</table>\n"
      ],
      "text/latex": [
       "A tibble: 3 × 3\n",
       "\\begin{tabular}{lll}\n",
       " Group & geomean & propzero\\\\\n",
       " <fct> & <dbl> & <dbl>\\\\\n",
       "\\hline\n",
       "\t Control      & 0.319 & 0.771\\\\\n",
       "\t Unstructured & 0.333 & 0.759\\\\\n",
       "\t Add-a-link   & 0.378 & 0.738\\\\\n",
       "\\end{tabular}\n"
      ],
      "text/markdown": [
       "\n",
       "A tibble: 3 × 3\n",
       "\n",
       "| Group &lt;fct&gt; | geomean &lt;dbl&gt; | propzero &lt;dbl&gt; |\n",
       "|---|---|---|\n",
       "| Control      | 0.319 | 0.771 |\n",
       "| Unstructured | 0.333 | 0.759 |\n",
       "| Add-a-link   | 0.378 | 0.738 |\n",
       "\n"
      ],
      "text/plain": [
       "  Group        geomean propzero\n",
       "1 Control      0.319   0.771   \n",
       "2 Unstructured 0.333   0.759   \n",
       "3 Add-a-link   0.378   0.738   "
      ]
     },
     "metadata": {},
     "output_type": "display_data"
    }
   ],
   "source": [
    "user_edit_data %>%\n",
    "    group_by(Group) %>%\n",
    "    summarize(geomean = exp(mean(log(1 + num_total_const_article_edits))) -1,\n",
    "              propzero = sum(ifelse(num_total_const_article_edits == 0, 1, 0))/n())"
   ]
  },
  {
   "cell_type": "code",
   "execution_count": 45,
   "id": "60e63599",
   "metadata": {},
   "outputs": [
    {
     "name": "stderr",
     "output_type": "stream",
     "text": [
      "`summarise()` ungrouping output (override with `.groups` argument)\n",
      "\n"
     ]
    },
    {
     "data": {
      "text/html": [
       "<table>\n",
       "<caption>A tibble: 3 × 4</caption>\n",
       "<thead>\n",
       "\t<tr><th scope=col>Group</th><th scope=col>mean</th><th scope=col>median</th><th scope=col>geomean</th></tr>\n",
       "\t<tr><th scope=col>&lt;fct&gt;</th><th scope=col>&lt;dbl&gt;</th><th scope=col>&lt;dbl&gt;</th><th scope=col>&lt;dbl&gt;</th></tr>\n",
       "</thead>\n",
       "<tbody>\n",
       "\t<tr><td>Control     </td><td>4.24</td><td>2</td><td>2.09</td></tr>\n",
       "\t<tr><td>Unstructured</td><td>4.37</td><td>2</td><td>2.05</td></tr>\n",
       "\t<tr><td>Add-a-link  </td><td>4.90</td><td>2</td><td>2.12</td></tr>\n",
       "</tbody>\n",
       "</table>\n"
      ],
      "text/latex": [
       "A tibble: 3 × 4\n",
       "\\begin{tabular}{llll}\n",
       " Group & mean & median & geomean\\\\\n",
       " <fct> & <dbl> & <dbl> & <dbl>\\\\\n",
       "\\hline\n",
       "\t Control      & 4.24 & 2 & 2.09\\\\\n",
       "\t Unstructured & 4.37 & 2 & 2.05\\\\\n",
       "\t Add-a-link   & 4.90 & 2 & 2.12\\\\\n",
       "\\end{tabular}\n"
      ],
      "text/markdown": [
       "\n",
       "A tibble: 3 × 4\n",
       "\n",
       "| Group &lt;fct&gt; | mean &lt;dbl&gt; | median &lt;dbl&gt; | geomean &lt;dbl&gt; |\n",
       "|---|---|---|---|\n",
       "| Control      | 4.24 | 2 | 2.09 |\n",
       "| Unstructured | 4.37 | 2 | 2.05 |\n",
       "| Add-a-link   | 4.90 | 2 | 2.12 |\n",
       "\n"
      ],
      "text/plain": [
       "  Group        mean median geomean\n",
       "1 Control      4.24 2      2.09   \n",
       "2 Unstructured 4.37 2      2.05   \n",
       "3 Add-a-link   4.90 2      2.12   "
      ]
     },
     "metadata": {},
     "output_type": "display_data"
    }
   ],
   "source": [
    "user_edit_data %>%\n",
    "    filter(num_total_const_article_edits > 0) %>%\n",
    "    group_by(Group) %>%\n",
    "    summarize(mean = mean(num_total_const_article_edits),\n",
    "              median = median(num_total_const_article_edits),\n",
    "              geomean = exp(mean(log(num_total_const_article_edits))))"
   ]
  },
  {
   "cell_type": "code",
   "execution_count": 46,
   "id": "5501233c",
   "metadata": {},
   "outputs": [
    {
     "name": "stderr",
     "output_type": "stream",
     "text": [
      "Warning message:\n",
      "“Argument 'nsamples' is deprecated. Please use argument 'ndraws' instead.”\n"
     ]
    },
    {
     "data": {
      "image/png": "[encoded data removed]",
      "text/plain": [
       "plot without title"
      ]
     },
     "metadata": {
      "image/png": {
       "height": 420,
       "width": 840
      }
     },
     "output_type": "display_data"
    }
   ],
   "source": [
    "pp_check(constr.article.edits.all.days.zinb.1,\n",
    "         ndraws = 100, type = \"bars_grouped\", group = \"wiki_db\") +\n",
    "  ggplot2::coord_cartesian(xlim = c(0, 10));"
   ]
  },
  {
   "cell_type": "markdown",
   "id": "ace02956",
   "metadata": {},
   "source": [
    "Zooming in on the non-zero part of the distributions, because the high zero-rate results in such a compressed graph."
   ]
  },
  {
   "cell_type": "code",
   "execution_count": 49,
   "id": "3adde5e7",
   "metadata": {},
   "outputs": [
    {
     "data": {
      "image/png": "[encoded data removed]",
      "text/plain": [
       "plot without title"
      ]
     },
     "metadata": {
      "image/png": {
       "height": 420,
       "width": 840
      }
     },
     "output_type": "display_data"
    }
   ],
   "source": [
    "pp_check(constr.article.edits.all.days.zinb.1,\n",
    "         ndraws = 100, type = \"bars_grouped\", group = \"wiki_db\") +\n",
    "  ggplot2::coord_cartesian(xlim = c(1, 10), ylim = c(0, 5000));"
   ]
  },
  {
   "cell_type": "markdown",
   "id": "57d8d883",
   "metadata": {},
   "source": [
    "Getting the incident rate for Add a Link, with the 95% credible interval:"
   ]
  },
  {
   "cell_type": "code",
   "execution_count": 51,
   "id": "93c9da26",
   "metadata": {},
   "outputs": [
    {
     "data": {
      "text/html": [
       "<table>\n",
       "<caption>A matrix: 8 × 4 of type dbl</caption>\n",
       "<thead>\n",
       "\t<tr><th></th><th scope=col>Estimate</th><th scope=col>Est.Error</th><th scope=col>Q2.5</th><th scope=col>Q97.5</th></tr>\n",
       "</thead>\n",
       "<tbody>\n",
       "\t<tr><th scope=row>Intercept</th><td> 0.3842</td><td>0.1020</td><td> 0.1813</td><td> 0.5859</td></tr>\n",
       "\t<tr><th scope=row>zi_Intercept</th><td>-4.5906</td><td>1.4909</td><td>-7.8975</td><td>-1.7015</td></tr>\n",
       "\t<tr><th scope=row>platformmobile</th><td>-0.3743</td><td>0.1463</td><td>-0.6824</td><td>-0.0826</td></tr>\n",
       "\t<tr><th scope=row>GroupUnstructured</th><td> 0.0460</td><td>0.0302</td><td>-0.0146</td><td> 0.1037</td></tr>\n",
       "\t<tr><th scope=row>GroupAddMaMlink</th><td> 0.2402</td><td>0.0302</td><td> 0.1825</td><td> 0.3005</td></tr>\n",
       "\t<tr><th scope=row>platformmobile:GroupUnstructured</th><td> 0.0225</td><td>0.0452</td><td>-0.0676</td><td> 0.1134</td></tr>\n",
       "\t<tr><th scope=row>platformmobile:GroupAddMaMlink</th><td> 0.0166</td><td>0.0458</td><td>-0.0731</td><td> 0.1061</td></tr>\n",
       "\t<tr><th scope=row>zi_platformmobile</th><td> 2.7126</td><td>1.1877</td><td> 0.6943</td><td> 5.3659</td></tr>\n",
       "</tbody>\n",
       "</table>\n"
      ],
      "text/latex": [
       "A matrix: 8 × 4 of type dbl\n",
       "\\begin{tabular}{r|llll}\n",
       "  & Estimate & Est.Error & Q2.5 & Q97.5\\\\\n",
       "\\hline\n",
       "\tIntercept &  0.3842 & 0.1020 &  0.1813 &  0.5859\\\\\n",
       "\tzi\\_Intercept & -4.5906 & 1.4909 & -7.8975 & -1.7015\\\\\n",
       "\tplatformmobile & -0.3743 & 0.1463 & -0.6824 & -0.0826\\\\\n",
       "\tGroupUnstructured &  0.0460 & 0.0302 & -0.0146 &  0.1037\\\\\n",
       "\tGroupAddMaMlink &  0.2402 & 0.0302 &  0.1825 &  0.3005\\\\\n",
       "\tplatformmobile:GroupUnstructured &  0.0225 & 0.0452 & -0.0676 &  0.1134\\\\\n",
       "\tplatformmobile:GroupAddMaMlink &  0.0166 & 0.0458 & -0.0731 &  0.1061\\\\\n",
       "\tzi\\_platformmobile &  2.7126 & 1.1877 &  0.6943 &  5.3659\\\\\n",
       "\\end{tabular}\n"
      ],
      "text/markdown": [
       "\n",
       "A matrix: 8 × 4 of type dbl\n",
       "\n",
       "| <!--/--> | Estimate | Est.Error | Q2.5 | Q97.5 |\n",
       "|---|---|---|---|---|\n",
       "| Intercept |  0.3842 | 0.1020 |  0.1813 |  0.5859 |\n",
       "| zi_Intercept | -4.5906 | 1.4909 | -7.8975 | -1.7015 |\n",
       "| platformmobile | -0.3743 | 0.1463 | -0.6824 | -0.0826 |\n",
       "| GroupUnstructured |  0.0460 | 0.0302 | -0.0146 |  0.1037 |\n",
       "| GroupAddMaMlink |  0.2402 | 0.0302 |  0.1825 |  0.3005 |\n",
       "| platformmobile:GroupUnstructured |  0.0225 | 0.0452 | -0.0676 |  0.1134 |\n",
       "| platformmobile:GroupAddMaMlink |  0.0166 | 0.0458 | -0.0731 |  0.1061 |\n",
       "| zi_platformmobile |  2.7126 | 1.1877 |  0.6943 |  5.3659 |\n",
       "\n"
      ],
      "text/plain": [
       "                                 Estimate Est.Error Q2.5    Q97.5  \n",
       "Intercept                         0.3842  0.1020     0.1813  0.5859\n",
       "zi_Intercept                     -4.5906  1.4909    -7.8975 -1.7015\n",
       "platformmobile                   -0.3743  0.1463    -0.6824 -0.0826\n",
       "GroupUnstructured                 0.0460  0.0302    -0.0146  0.1037\n",
       "GroupAddMaMlink                   0.2402  0.0302     0.1825  0.3005\n",
       "platformmobile:GroupUnstructured  0.0225  0.0452    -0.0676  0.1134\n",
       "platformmobile:GroupAddMaMlink    0.0166  0.0458    -0.0731  0.1061\n",
       "zi_platformmobile                 2.7126  1.1877     0.6943  5.3659"
      ]
     },
     "metadata": {},
     "output_type": "display_data"
    }
   ],
   "source": [
    "fixef(constr.article.edits.all.days.zinb.1)"
   ]
  },
  {
   "cell_type": "code",
   "execution_count": 54,
   "id": "9cbdf521",
   "metadata": {},
   "outputs": [
    {
     "data": {
      "text/html": [
       "1.27153227351287"
      ],
      "text/latex": [
       "1.27153227351287"
      ],
      "text/markdown": [
       "1.27153227351287"
      ],
      "text/plain": [
       "[1] 1.27"
      ]
     },
     "metadata": {},
     "output_type": "display_data"
    }
   ],
   "source": [
    "exp(fixef(constr.article.edits.all.days.zinb.1)[5,\"Estimate\"])"
   ]
  },
  {
   "cell_type": "code",
   "execution_count": 55,
   "id": "985c9786",
   "metadata": {},
   "outputs": [
    {
     "data": {
      "text/html": [
       "1.20022434887667"
      ],
      "text/latex": [
       "1.20022434887667"
      ],
      "text/markdown": [
       "1.20022434887667"
      ],
      "text/plain": [
       "[1] 1.2"
      ]
     },
     "metadata": {},
     "output_type": "display_data"
    }
   ],
   "source": [
    "exp(fixef(constr.article.edits.all.days.zinb.1)[5,\"Q2.5\"])"
   ]
  },
  {
   "cell_type": "code",
   "execution_count": 56,
   "id": "5c19604f",
   "metadata": {},
   "outputs": [
    {
     "data": {
      "text/html": [
       "1.3505912416431"
      ],
      "text/latex": [
       "1.3505912416431"
      ],
      "text/markdown": [
       "1.3505912416431"
      ],
      "text/plain": [
       "[1] 1.35"
      ]
     },
     "metadata": {},
     "output_type": "display_data"
    }
   ],
   "source": [
    "exp(fixef(constr.article.edits.all.days.zinb.1)[5,\"Q97.5\"])"
   ]
  },
  {
   "cell_type": "markdown",
   "id": "8c533831",
   "metadata": {},
   "source": [
    "Let's use the geometric mean to calculate the increase this time:"
   ]
  },
  {
   "cell_type": "code",
   "execution_count": 21,
   "id": "4a1ccb19",
   "metadata": {},
   "outputs": [
    {
     "data": {
      "text/html": [
       "0.319"
      ],
      "text/latex": [
       "0.319"
      ],
      "text/markdown": [
       "0.319"
      ],
      "text/plain": [
       "[1] 0.319"
      ]
     },
     "metadata": {},
     "output_type": "display_data"
    }
   ],
   "source": [
    "control.geomean <- exp(\n",
    "    mean(\n",
    "        log(\n",
    "            1 + user_edit_data[user_edit_data$Group == \"Control\",]$num_total_const_article_edits\n",
    "        )\n",
    "    )\n",
    ") - 1\n",
    "round(control.geomean, 3)"
   ]
  },
  {
   "cell_type": "code",
   "execution_count": 22,
   "id": "15407354",
   "metadata": {},
   "outputs": [
    {
     "data": {
      "text/html": [
       "0.333"
      ],
      "text/latex": [
       "0.333"
      ],
      "text/markdown": [
       "0.333"
      ],
      "text/plain": [
       "[1] 0.333"
      ]
     },
     "metadata": {},
     "output_type": "display_data"
    }
   ],
   "source": [
    "unstructured.geomean <- exp(\n",
    "    mean(\n",
    "        log(\n",
    "            1 + user_edit_data[user_edit_data$Group == \"Unstructured\",]$num_total_const_article_edits\n",
    "        )\n",
    "    )\n",
    ") - 1\n",
    "round(unstructured.geomean, 3)"
   ]
  },
  {
   "cell_type": "code",
   "execution_count": 23,
   "id": "3aefb87b",
   "metadata": {},
   "outputs": [
    {
     "data": {
      "text/html": [
       "0.378"
      ],
      "text/latex": [
       "0.378"
      ],
      "text/markdown": [
       "0.378"
      ],
      "text/plain": [
       "[1] 0.378"
      ]
     },
     "metadata": {},
     "output_type": "display_data"
    }
   ],
   "source": [
    "addalink.geomean <- exp(\n",
    "    mean(\n",
    "        log(\n",
    "            1 + user_edit_data[user_edit_data$Group == \"Add-a-link\",]$num_total_const_article_edits\n",
    "        )\n",
    "    )\n",
    ") - 1\n",
    "round(addalink.geomean, 3)"
   ]
  },
  {
   "cell_type": "code",
   "execution_count": 21,
   "id": "b6b86540",
   "metadata": {},
   "outputs": [
    {
     "data": {
      "text/html": [
       "0.014"
      ],
      "text/latex": [
       "0.014"
      ],
      "text/markdown": [
       "0.014"
      ],
      "text/plain": [
       "[1] 0.014"
      ]
     },
     "metadata": {},
     "output_type": "display_data"
    }
   ],
   "source": [
    "round(unstructured.geomean - control.geomean, 3)"
   ]
  },
  {
   "cell_type": "code",
   "execution_count": 22,
   "id": "329b567b",
   "metadata": {},
   "outputs": [
    {
     "data": {
      "text/html": [
       "0.059"
      ],
      "text/latex": [
       "0.059"
      ],
      "text/markdown": [
       "0.059"
      ],
      "text/plain": [
       "[1] 0.059"
      ]
     },
     "metadata": {},
     "output_type": "display_data"
    }
   ],
   "source": [
    "round(addalink.geomean - control.geomean, 3)"
   ]
  },
  {
   "cell_type": "code",
   "execution_count": 23,
   "id": "31cfb676",
   "metadata": {},
   "outputs": [
    {
     "data": {
      "text/html": [
       "4.5"
      ],
      "text/latex": [
       "4.5"
      ],
      "text/markdown": [
       "4.5"
      ],
      "text/plain": [
       "[1] 4.5"
      ]
     },
     "metadata": {},
     "output_type": "display_data"
    }
   ],
   "source": [
    "round(100 * (unstructured.geomean - control.geomean) / control.geomean, 1)"
   ]
  },
  {
   "cell_type": "code",
   "execution_count": 24,
   "id": "50d51a85",
   "metadata": {},
   "outputs": [
    {
     "data": {
      "text/html": [
       "18.7"
      ],
      "text/latex": [
       "18.7"
      ],
      "text/markdown": [
       "18.7"
      ],
      "text/plain": [
       "[1] 18.7"
      ]
     },
     "metadata": {},
     "output_type": "display_data"
    }
   ],
   "source": [
    "round(100 * (addalink.geomean - control.geomean) / control.geomean, 1)"
   ]
  },
  {
   "cell_type": "markdown",
   "id": "afda0d82-2c65-4d96-a864-b223a619b015",
   "metadata": {},
   "source": [
    "Difference between the unstructured and structured task groups:"
   ]
  },
  {
   "cell_type": "code",
   "execution_count": 24,
   "id": "ed8501fe-f955-4a58-8ee8-0d3f1a6ea8a3",
   "metadata": {},
   "outputs": [
    {
     "data": {
      "text/html": [
       "0.045"
      ],
      "text/latex": [
       "0.045"
      ],
      "text/markdown": [
       "0.045"
      ],
      "text/plain": [
       "[1] 0.045"
      ]
     },
     "metadata": {},
     "output_type": "display_data"
    }
   ],
   "source": [
    "round(addalink.geomean - unstructured.geomean, 3)"
   ]
  },
  {
   "cell_type": "code",
   "execution_count": 25,
   "id": "40dba73e-887e-4c08-8f9c-eada277c82b7",
   "metadata": {},
   "outputs": [
    {
     "data": {
      "text/html": [
       "13.5"
      ],
      "text/latex": [
       "13.5"
      ],
      "text/markdown": [
       "13.5"
      ],
      "text/plain": [
       "[1] 13.5"
      ]
     },
     "metadata": {},
     "output_type": "display_data"
    }
   ],
   "source": [
    "round(100 * (addalink.geomean - unstructured.geomean) / unstructured.geomean, 1)"
   ]
  },
  {
   "cell_type": "markdown",
   "id": "4fd6650c-3767-4d16-bac5-d2906d7766d9",
   "metadata": {},
   "source": [
    "Geometric means if we exclude all users who made 0 edits:"
   ]
  },
  {
   "cell_type": "code",
   "execution_count": 45,
   "id": "51a37bbf",
   "metadata": {},
   "outputs": [
    {
     "data": {
      "text/html": [
       "2.093"
      ],
      "text/latex": [
       "2.093"
      ],
      "text/markdown": [
       "2.093"
      ],
      "text/plain": [
       "[1] 2.09"
      ]
     },
     "metadata": {},
     "output_type": "display_data"
    }
   ],
   "source": [
    "control.geomean.nonzero <- exp(\n",
    "    mean(\n",
    "        log(\n",
    "            user_edit_data[(user_edit_data$Group == \"Control\") &\n",
    "                           (user_edit_data$num_total_const_article_edits > 0),]$num_total_const_article_edits\n",
    "        )\n",
    "    )\n",
    ")\n",
    "round(control.geomean.nonzero, 3)"
   ]
  },
  {
   "cell_type": "code",
   "execution_count": 37,
   "id": "f97928af",
   "metadata": {},
   "outputs": [
    {
     "data": {
      "text/html": [
       "2.054"
      ],
      "text/latex": [
       "2.054"
      ],
      "text/markdown": [
       "2.054"
      ],
      "text/plain": [
       "[1] 2.05"
      ]
     },
     "metadata": {},
     "output_type": "display_data"
    }
   ],
   "source": [
    "unstructured.geomean.nonzero <- exp(\n",
    "    mean(\n",
    "        log(\n",
    "            user_edit_data[(user_edit_data$Group == \"Unstructured\") &\n",
    "                               (user_edit_data$num_total_const_article_edits > 0),]$num_total_const_article_edits\n",
    "        )\n",
    "    )\n",
    ")\n",
    "round(unstructured.geomean.nonzero, 3)"
   ]
  },
  {
   "cell_type": "code",
   "execution_count": 38,
   "id": "cb5ead65",
   "metadata": {},
   "outputs": [
    {
     "data": {
      "text/html": [
       "2.122"
      ],
      "text/latex": [
       "2.122"
      ],
      "text/markdown": [
       "2.122"
      ],
      "text/plain": [
       "[1] 2.12"
      ]
     },
     "metadata": {},
     "output_type": "display_data"
    }
   ],
   "source": [
    "addalink.geomean.nonzero <- exp(\n",
    "    mean(\n",
    "        log(\n",
    "            user_edit_data[(user_edit_data$Group == \"Add-a-link\") &\n",
    "                           (user_edit_data$num_total_const_article_edits > 0),]$num_total_const_article_edits\n",
    "        )\n",
    "    )\n",
    ")\n",
    "round(addalink.geomean.nonzero, 3)"
   ]
  },
  {
   "cell_type": "code",
   "execution_count": 39,
   "id": "8bc0da19",
   "metadata": {},
   "outputs": [
    {
     "data": {
      "text/html": [
       "-0.039"
      ],
      "text/latex": [
       "-0.039"
      ],
      "text/markdown": [
       "-0.039"
      ],
      "text/plain": [
       "[1] -0.039"
      ]
     },
     "metadata": {},
     "output_type": "display_data"
    }
   ],
   "source": [
    "round(unstructured.geomean.nonzero - control.geomean.nonzero, 3)"
   ]
  },
  {
   "cell_type": "code",
   "execution_count": 40,
   "id": "84e90bd5",
   "metadata": {},
   "outputs": [
    {
     "data": {
      "text/html": [
       "0.029"
      ],
      "text/latex": [
       "0.029"
      ],
      "text/markdown": [
       "0.029"
      ],
      "text/plain": [
       "[1] 0.029"
      ]
     },
     "metadata": {},
     "output_type": "display_data"
    }
   ],
   "source": [
    "round(addalink.geomean.nonzero - control.geomean.nonzero, 3)"
   ]
  },
  {
   "cell_type": "code",
   "execution_count": 41,
   "id": "4ff0508d",
   "metadata": {},
   "outputs": [
    {
     "data": {
      "text/html": [
       "-1.9"
      ],
      "text/latex": [
       "-1.9"
      ],
      "text/markdown": [
       "-1.9"
      ],
      "text/plain": [
       "[1] -1.9"
      ]
     },
     "metadata": {},
     "output_type": "display_data"
    }
   ],
   "source": [
    "round(100 * (unstructured.geomean.nonzero - control.geomean.nonzero) / control.geomean.nonzero, 1)"
   ]
  },
  {
   "cell_type": "code",
   "execution_count": 42,
   "id": "19e9608f",
   "metadata": {},
   "outputs": [
    {
     "data": {
      "text/html": [
       "1.4"
      ],
      "text/latex": [
       "1.4"
      ],
      "text/markdown": [
       "1.4"
      ],
      "text/plain": [
       "[1] 1.4"
      ]
     },
     "metadata": {},
     "output_type": "display_data"
    }
   ],
   "source": [
    "round(100 * (addalink.geomean.nonzero - control.geomean.nonzero) / control.geomean.nonzero, 1)"
   ]
  },
  {
   "cell_type": "code",
   "execution_count": 84,
   "id": "2f4a8a9e",
   "metadata": {},
   "outputs": [
    {
     "name": "stderr",
     "output_type": "stream",
     "text": [
      "`summarise()` regrouping output by 'platform' (override with `.groups` argument)\n",
      "\n"
     ]
    },
    {
     "data": {
      "text/html": [
       "<table>\n",
       "<caption>A grouped_df: 6 × 3</caption>\n",
       "<thead>\n",
       "\t<tr><th scope=col>platform</th><th scope=col>Group</th><th scope=col>geo_mean</th></tr>\n",
       "\t<tr><th scope=col>&lt;fct&gt;</th><th scope=col>&lt;fct&gt;</th><th scope=col>&lt;dbl&gt;</th></tr>\n",
       "</thead>\n",
       "<tbody>\n",
       "\t<tr><td>desktop</td><td>Control     </td><td>0.402</td></tr>\n",
       "\t<tr><td>desktop</td><td>Unstructured</td><td>0.417</td></tr>\n",
       "\t<tr><td>desktop</td><td>Add-a-link  </td><td>0.462</td></tr>\n",
       "\t<tr><td>mobile </td><td>Control     </td><td>0.245</td></tr>\n",
       "\t<tr><td>mobile </td><td>Unstructured</td><td>0.256</td></tr>\n",
       "\t<tr><td>mobile </td><td>Add-a-link  </td><td>0.301</td></tr>\n",
       "</tbody>\n",
       "</table>\n"
      ],
      "text/latex": [
       "A grouped\\_df: 6 × 3\n",
       "\\begin{tabular}{lll}\n",
       " platform & Group & geo\\_mean\\\\\n",
       " <fct> & <fct> & <dbl>\\\\\n",
       "\\hline\n",
       "\t desktop & Control      & 0.402\\\\\n",
       "\t desktop & Unstructured & 0.417\\\\\n",
       "\t desktop & Add-a-link   & 0.462\\\\\n",
       "\t mobile  & Control      & 0.245\\\\\n",
       "\t mobile  & Unstructured & 0.256\\\\\n",
       "\t mobile  & Add-a-link   & 0.301\\\\\n",
       "\\end{tabular}\n"
      ],
      "text/markdown": [
       "\n",
       "A grouped_df: 6 × 3\n",
       "\n",
       "| platform &lt;fct&gt; | Group &lt;fct&gt; | geo_mean &lt;dbl&gt; |\n",
       "|---|---|---|\n",
       "| desktop | Control      | 0.402 |\n",
       "| desktop | Unstructured | 0.417 |\n",
       "| desktop | Add-a-link   | 0.462 |\n",
       "| mobile  | Control      | 0.245 |\n",
       "| mobile  | Unstructured | 0.256 |\n",
       "| mobile  | Add-a-link   | 0.301 |\n",
       "\n"
      ],
      "text/plain": [
       "  platform Group        geo_mean\n",
       "1 desktop  Control      0.402   \n",
       "2 desktop  Unstructured 0.417   \n",
       "3 desktop  Add-a-link   0.462   \n",
       "4 mobile   Control      0.245   \n",
       "5 mobile   Unstructured 0.256   \n",
       "6 mobile   Add-a-link   0.301   "
      ]
     },
     "metadata": {},
     "output_type": "display_data"
    }
   ],
   "source": [
    "user_edit_data %>%\n",
    "    group_by(platform, Group) %>%\n",
    "    summarise(geo_mean = exp(mean(log(1 + num_total_const_article_edits))) -1)"
   ]
  },
  {
   "cell_type": "markdown",
   "id": "f30dde43",
   "metadata": {},
   "source": [
    "# Graphs\n",
    "\n",
    "## Edit Volume"
   ]
  },
  {
   "cell_type": "code",
   "execution_count": 69,
   "id": "3e4880a4",
   "metadata": {},
   "outputs": [
    {
     "name": "stderr",
     "output_type": "stream",
     "text": [
      "`summarise()` ungrouping output (override with `.groups` argument)\n",
      "\n"
     ]
    },
    {
     "data": {
      "image/png": "[encoded data removed]",
      "text/plain": [
       "plot without title"
      ]
     },
     "metadata": {
      "image/png": {
       "height": 360,
       "width": 540
      }
     },
     "output_type": "display_data"
    }
   ],
   "source": [
    "# Give me wider plots, please\n",
    "options(repr.plot.width = 9, repr.plot.height = 6)\n",
    "\n",
    "## Note to self: mutate() operates on a per-row basis, summarise() operates on the groups when using group_by()\n",
    "user_edit_data %>%\n",
    "    group_by(Group) %>%\n",
    "    summarise(geo_mean = exp(mean(log(1 + num_total_const_article_edits))) -1) %>%\n",
    "    ggplot(aes(x = Group, y = geo_mean, fill = Group)) +\n",
    "        labs(title = 'Edit Volume – Article Namespace', x = 'Group', y = 'Average Number of Edits') +\n",
    "        hrbrthemes::theme_ipsum(\"DejaVu Sans\", base_size = 16, strip_text_face = \"bold\", strip_text_size = 18,\n",
    "                            caption_size = 12, axis_title_size = 14, subtitle_size = 14,\n",
    "                            axis_title_just = 'cm') +\n",
    "        guides(fill = 'none') +\n",
    "        scale_fill_brewer() +\n",
    "        geom_col() +\n",
    "        scale_y_continuous(limits = c(0, 0.41)) +\n",
    "        geom_text(aes(label = round(geo_mean, 3)), fontface = 'plain', nudge_y = 0.011, size = 5)\n",
    "ggsave(\n",
    "    'add-a-link-article-namespace-constructive-edit-volume-2021-experiment.png',\n",
    "    path = 'graphs',\n",
    "    width = 9, height = 6, units = \"in\", dpi = \"screen\")"
   ]
  }
 ],
 "metadata": {
  "kernelspec": {
   "display_name": "R",
   "language": "R",
   "name": "ir"
  },
  "language_info": {
   "codemirror_mode": "r",
   "file_extension": ".r",
   "mimetype": "text/x-r-source",
   "name": "R",
   "pygments_lexer": "r",
   "version": "3.5.2"
  }
 },
 "nbformat": 4,
 "nbformat_minor": 5
}
