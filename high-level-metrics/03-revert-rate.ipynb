{
 "cells": [
  {
   "cell_type": "markdown",
   "id": "202e6816",
   "metadata": {},
   "source": [
    "# Revert Rate\n",
    "\n",
    "We'll do this the same way as we did for NEWTEA and NEWTEA Revisited, with a zero/one-inflated beta model in `brms`"
   ]
  },
  {
   "cell_type": "code",
   "execution_count": 1,
   "id": "e8acfcf1",
   "metadata": {},
   "outputs": [
    {
     "name": "stderr",
     "output_type": "stream",
     "text": [
      "── \u001b[1mAttaching packages\u001b[22m ─────────────────────────────────────── tidyverse 1.3.0 ──\n",
      "\n",
      "\u001b[32m✔\u001b[39m \u001b[34mggplot2\u001b[39m 3.3.2     \u001b[32m✔\u001b[39m \u001b[34mpurrr  \u001b[39m 0.3.4\n",
      "\u001b[32m✔\u001b[39m \u001b[34mtibble \u001b[39m 3.0.4     \u001b[32m✔\u001b[39m \u001b[34mdplyr  \u001b[39m 1.0.2\n",
      "\u001b[32m✔\u001b[39m \u001b[34mtidyr  \u001b[39m 1.1.2     \u001b[32m✔\u001b[39m \u001b[34mstringr\u001b[39m 1.4.0\n",
      "\u001b[32m✔\u001b[39m \u001b[34mreadr  \u001b[39m 1.4.0     \u001b[32m✔\u001b[39m \u001b[34mforcats\u001b[39m 0.5.0\n",
      "\n",
      "── \u001b[1mConflicts\u001b[22m ────────────────────────────────────────── tidyverse_conflicts() ──\n",
      "\u001b[31m✖\u001b[39m \u001b[34mdplyr\u001b[39m::\u001b[32mfilter()\u001b[39m masks \u001b[34mstats\u001b[39m::filter()\n",
      "\u001b[31m✖\u001b[39m \u001b[34mdplyr\u001b[39m::\u001b[32mlag()\u001b[39m    masks \u001b[34mstats\u001b[39m::lag()\n",
      "\n",
      "\n",
      "Attaching package: ‘lubridate’\n",
      "\n",
      "\n",
      "The following objects are masked from ‘package:base’:\n",
      "\n",
      "    date, intersect, setdiff, union\n",
      "\n",
      "\n",
      "This is bayesplot version 1.7.2\n",
      "\n",
      "- Online documentation and vignettes at mc-stan.org/bayesplot\n",
      "\n",
      "- bayesplot theme set to bayesplot::theme_default()\n",
      "\n",
      "   * Does _not_ affect other ggplot2 plots\n",
      "\n",
      "   * See ?bayesplot_theme_set for details on theme setting\n",
      "\n",
      "Loading required package: Matrix\n",
      "\n",
      "\n",
      "Attaching package: ‘Matrix’\n",
      "\n",
      "\n",
      "The following objects are masked from ‘package:tidyr’:\n",
      "\n",
      "    expand, pack, unpack\n",
      "\n",
      "\n",
      "For binary classification, the first factor level is assumed to be the event.\n",
      "Use the argument `event_level = \"second\"` to alter this as needed.\n",
      "\n",
      "\n",
      "Attaching package: ‘yardstick’\n",
      "\n",
      "\n",
      "The following object is masked from ‘package:readr’:\n",
      "\n",
      "    spec\n",
      "\n",
      "\n",
      "Loading required package: lattice\n",
      "\n",
      "\n",
      "Attaching package: ‘caret’\n",
      "\n",
      "\n",
      "The following objects are masked from ‘package:yardstick’:\n",
      "\n",
      "    precision, recall, sensitivity, specificity\n",
      "\n",
      "\n",
      "The following object is masked from ‘package:purrr’:\n",
      "\n",
      "    lift\n",
      "\n",
      "\n"
     ]
    }
   ],
   "source": [
    "library(tidyverse)\n",
    "library(broom)\n",
    "\n",
    "#library(brms) # install.packages(\"brms\")\n",
    "#library(loo) # install.packages(\"loo\")\n",
    "#library(rstanarm) # install.packages(\"rstanarm\")\n",
    "\n",
    "library(lubridate)\n",
    "library(bayesplot)\n",
    "\n",
    "library(lme4)\n",
    "library(yardstick) # install.packages(\"yardstick\")\n",
    "\n",
    "library(caret)"
   ]
  },
  {
   "cell_type": "markdown",
   "id": "013c2ce9",
   "metadata": {},
   "source": [
    "# R Configuration variables"
   ]
  },
  {
   "cell_type": "code",
   "execution_count": 2,
   "id": "26c02f15",
   "metadata": {},
   "outputs": [],
   "source": [
    "## NOTE: `loo`, which we use for model comparisons, has a tendency to use lots or run out of memory.\n",
    "## Therefore, I've often had to set mc.cores to 1 before running it. However, if we set its `pointwise`\n",
    "## parameter, it'll use less memory. And it'll use BLAS, so we restrict the number of BLAS threads to 1.\n",
    "## Then mc.cores controls the number of parallel processes.\n",
    "\n",
    "## blas_set_num_threads() also controls the number of threads that glmer() uses. Depending on the load\n",
    "## on the server at the time we're doing our analysis we can tune the number of threads.\n",
    "\n",
    "library(RhpcBLASctl)\n",
    "blas_set_num_threads(1)\n",
    "options(mc.cores = 4, digits = 3, scipen = 500)\n",
    "\n",
    "# Give me wider plots, please\n",
    "options(repr.plot.width = 14, repr.plot.height = 7)"
   ]
  },
  {
   "cell_type": "markdown",
   "id": "014b9c70",
   "metadata": {},
   "source": [
    "# Helper functions"
   ]
  },
  {
   "cell_type": "code",
   "execution_count": 3,
   "id": "2807d487",
   "metadata": {},
   "outputs": [],
   "source": [
    "## Function that takes in a model, the validation set, the name of the predicted column,\n",
    "## and returns a plot of the ROC curve\n",
    "plot_ROC <- function(mod, val_data, col_name) {\n",
    "    val_data$estimate = predict(mod, val_data, type = \"response\")\n",
    "    roc_curve(val_data, {{ col_name }}, estimate, event_level = 'second') %>%\n",
    "        ggplot(aes(x = 1 - specificity, y = sensitivity)) +\n",
    "        geom_path() +\n",
    "        geom_abline(lty = 3) +\n",
    "        coord_equal() +\n",
    "        theme_bw()\n",
    "}"
   ]
  },
  {
   "cell_type": "code",
   "execution_count": 4,
   "id": "79f3fe2e",
   "metadata": {},
   "outputs": [],
   "source": [
    "## Function that takes in the filename of the user edit data, reads it in,\n",
    "## and creates all the various derived columns we need.\n",
    "read_user_dataset <- function(dataset_filename) {\n",
    "    read_tsv(\n",
    "        dataset_filename,\n",
    "        col_types = user_dataset_column_types) %>%\n",
    "    mutate(\n",
    "        Group = factor(hp_enabled, levels = c(0, 1), labels = c(\"C\", \"HP\")),\n",
    "        platform = factor(reg_on_mobile == 1, c(FALSE, TRUE), c(\"desktop\", \"mobile\")),\n",
    "        ## Registration month, for later joins on month\n",
    "        reg_month = floor_date(user_registration_timestamp, unit = 'month'),\n",
    "        # Number of edits:\n",
    "        num_total_edits_24hrs = num_article_edits_24hrs + num_other_edits_24hrs,\n",
    "        num_total_edits_2w = num_article_edits_2w + num_other_edits_2w,\n",
    "        num_total_edits = num_total_edits_24hrs + num_total_edits_2w,\n",
    "        num_total_article_edits = num_article_edits_24hrs + num_article_edits_2w,\n",
    "        num_total_other_edits = num_other_edits_24hrs + num_total_edits_2w,\n",
    "        # Log number of total edits is used as a control variable in the revert analysis\n",
    "        log_num_total_edits = log(1 + num_total_edits),\n",
    "        # Number of reverts:\n",
    "        num_reverts_24hrs = num_article_reverts_24hrs + num_other_reverts_24hrs,\n",
    "        num_reverts_2w = num_article_reverts_2w + num_other_reverts_2w,\n",
    "        num_total_reverts = num_reverts_24hrs + num_reverts_2w,\n",
    "        ## Control variables for the number of edits made (used for ex. in revert analysis)\n",
    "        log_num_article_edits_24hrs = log(1 + num_article_edits_24hrs),\n",
    "        log_num_other_edits_24hrs = log(1 + num_other_edits_24hrs),\n",
    "        log_num_edits_24hrs = log(1 + num_article_edits_24hrs + num_other_edits_24hrs),\n",
    "        # Control variables for the number of constructive edits made\n",
    "        log_num_const_article_edits_24hrs = log(\n",
    "            1 + num_article_edits_24hrs - num_article_reverts_24hrs),\n",
    "        log_num_const_other_edits_24hrs = log(\n",
    "            1 + num_other_edits_24hrs - num_other_reverts_24hrs),\n",
    "        log_num_const_edits_24hrs = log(\n",
    "            1 + num_article_edits_24hrs + num_other_edits_24hrs -\n",
    "                num_article_reverts_24hrs - num_other_reverts_24hrs),\n",
    "        # Revert rate:\n",
    "        prop_rev_edits = ifelse(num_total_edits > 0, num_total_reverts / num_total_edits, 0),\n",
    "        # Did they activate?\n",
    "        is_activated_article = num_article_edits_24hrs > 0,\n",
    "        is_activated_other = num_other_edits_24hrs > 0,\n",
    "        is_activated = is_activated_article | is_activated_other,\n",
    "        # Did they activate through constructive edits?\n",
    "        is_const_activated_article = (num_article_edits_24hrs - num_article_reverts_24hrs) > 0,\n",
    "        is_const_activated_other = (num_other_edits_24hrs - num_other_reverts_24hrs) > 0,\n",
    "        is_const_activated = is_const_activated_article | is_const_activated_other,\n",
    "        # Were they retained?\n",
    "        is_retained_article = is_activated_article & (num_article_edits_2w > 0),\n",
    "        is_retained_other = is_activated_other & (num_other_edits_2w > 0),\n",
    "        is_retained = is_activated & ((num_article_edits_2w + num_other_edits_2w) > 0),\n",
    "        # Were they retained through constructive edits?\n",
    "        is_const_retained_article = is_const_activated_article &\n",
    "            ((num_article_edits_2w - num_article_reverts_2w) > 0),\n",
    "        is_const_retained_other = is_const_activated_other &\n",
    "            ((num_other_edits_2w - num_other_reverts_2w) > 0),\n",
    "        is_const_retained = is_const_activated &\n",
    "            ((num_article_edits_2w + num_other_edits_2w -\n",
    "              num_article_reverts_2w - num_other_reverts_2w) > 0)\n",
    "    ) \n",
    "}"
   ]
  },
  {
   "cell_type": "code",
   "execution_count": 5,
   "id": "04076df0",
   "metadata": {},
   "outputs": [],
   "source": [
    "## Function that takes in the filename of the active editors dataset,\n",
    "## and adds a registration month column for easy joining with the user dataset.\n",
    "read_active_editors_dataset <- function(dataset_filename) {\n",
    "    read_tsv(\n",
    "        dataset_filename,\n",
    "        col_types = active_editors_column_types) %>%\n",
    "    mutate(wiki_db = factor(wiki_db),\n",
    "           reg_month = month + months(1))\n",
    "}"
   ]
  },
  {
   "cell_type": "markdown",
   "id": "c6aad660",
   "metadata": {},
   "source": [
    "# Experiment Configuration Variables\n",
    "\n",
    "We define a set of configuration variables that are useful for the analysis. One obvious one is where the edit dataset is located.\n",
    "\n",
    "A less obvious one is a variable for when the experiment started. We often use this seeking to model the community's initial response to changes in newcomer behaviour, as well as long-term trends in the outcome variable when working with user data gathered across a relatively long time period."
   ]
  },
  {
   "cell_type": "code",
   "execution_count": 6,
   "id": "4c2928a1",
   "metadata": {},
   "outputs": [],
   "source": [
    "## Path to the datasets with user edits\n",
    "user_dataset_filenames <- c(\n",
    "    '/home/nettrom/src/2021-Growth-structured-tasks/datasets/add-a-link-edit-data.tsv'\n",
    "    )\n",
    "\n",
    "## Column types in the dataset: wiki is a factor, HP variant is a factor, registration is a date time,\n",
    "## everything else are integers.\n",
    "user_dataset_column_types <- 'fiTiifiiiiiiii'\n",
    "\n",
    "## Path to the dataset with counts of the number of active editors\n",
    "active_editors_filenames <- c()\n",
    "\n",
    "## Column types in the active editors dataset: month is a date, wiki is a factor\n",
    "active_editors_column_types <- 'Dfiii'\n",
    "\n",
    "## Deployment timestamps for Add a Link on each of the wikis\n",
    "## Note that we turn wiki_db into a factor, otherwise wiki_db in the edit dataset\n",
    "## becomes a character after joining the two.\n",
    "exp_start_timestamps <- tribble(\n",
    "    ~wiki_db, ~exp_start_timestamp,\n",
    "    'arwiki', ymd_hms('2021-05-27 19:12:03', tz = 'UTC'),\n",
    "    'bnwiki', ymd_hms('2021-05-27 19:12:03', tz = 'UTC'),\n",
    "    'cswiki', ymd_hms('2021-05-27 19:12:03', tz = 'UTC'),\n",
    "    'viwiki', ymd_hms('2021-05-27 19:12:03', tz = 'UTC'),\n",
    "    'fawiki', ymd_hms('2021-07-21 11:11:21', tz = 'UTC'),\n",
    "    'frwiki', ymd_hms('2021-07-21 11:11:21', tz = 'UTC'),\n",
    "    'huwiki', ymd_hms('2021-07-21 11:11:21', tz = 'UTC'),\n",
    "    'plwiki', ymd_hms('2021-07-21 11:11:21', tz = 'UTC'),\n",
    "    'rowiki', ymd_hms('2021-07-21 11:11:21', tz = 'UTC'),\n",
    "    'ruwiki', ymd_hms('2021-07-21 11:11:21', tz = 'UTC'),\n",
    "\n",
    ") %>% mutate(wiki_db = factor(wiki_db))\n",
    "\n",
    "## Path to the dataset with editing status at account registration\n",
    "editing_status_filenames <- c()\n",
    "\n",
    "## Column types in the editing status dataset: wiki is a factor, everything else are integers\n",
    "editing_status_column_types <- 'fii'\n",
    "\n",
    "## Path to the dataset with Welcome Survey responses\n",
    "survey_response_filenames <- c()\n",
    "\n",
    "## Columns types in the survey response data: user ID is an integer, number of languages is a number,\n",
    "## everything else are factors\n",
    "survey_response_column_types <- 'fifffn'"
   ]
  },
  {
   "cell_type": "markdown",
   "id": "73941e22",
   "metadata": {},
   "source": [
    "# Data import and setup"
   ]
  },
  {
   "cell_type": "code",
   "execution_count": 7,
   "id": "1b0dc6fa",
   "metadata": {},
   "outputs": [],
   "source": [
    "user_edit_data <- map_dfr(user_dataset_filenames, read_user_dataset)"
   ]
  },
  {
   "cell_type": "code",
   "execution_count": 8,
   "id": "d6b4caac",
   "metadata": {},
   "outputs": [
    {
     "data": {
      "text/html": [
       "130179"
      ],
      "text/latex": [
       "130179"
      ],
      "text/markdown": [
       "130179"
      ],
      "text/plain": [
       "[1] 130179"
      ]
     },
     "metadata": {},
     "output_type": "display_data"
    }
   ],
   "source": [
    "nrow(user_edit_data)"
   ]
  },
  {
   "cell_type": "markdown",
   "id": "b8000708",
   "metadata": {},
   "source": [
    "## Time since experiment start"
   ]
  },
  {
   "cell_type": "markdown",
   "id": "af6e9826",
   "metadata": {},
   "source": [
    "Join the edits data with the experiment timestamps and measure time since the start to enable controlling for that:"
   ]
  },
  {
   "cell_type": "code",
   "execution_count": 9,
   "id": "78bd4709",
   "metadata": {},
   "outputs": [],
   "source": [
    "user_edit_data <- user_edit_data %>%\n",
    "    inner_join(exp_start_timestamps, by = 'wiki_db') %>%\n",
    "    mutate(\n",
    "        # Time as a measurement since deployment\n",
    "        exp_days = difftime(user_registration_timestamp, exp_start_timestamp, units = 'days'),\n",
    "        ln_exp_days = ifelse(exp_days < 0, 0, log(1 + as.numeric(exp_days))),\n",
    "        ln_exp_weeks = ifelse(exp_days < 0, 0, log(1 + as.numeric(exp_days)/7))\n",
    "    )"
   ]
  },
  {
   "cell_type": "code",
   "execution_count": 10,
   "id": "24dcaf92",
   "metadata": {},
   "outputs": [
    {
     "data": {
      "text/html": [
       "130179"
      ],
      "text/latex": [
       "130179"
      ],
      "text/markdown": [
       "130179"
      ],
      "text/plain": [
       "[1] 130179"
      ]
     },
     "metadata": {},
     "output_type": "display_data"
    }
   ],
   "source": [
    "nrow(user_edit_data)"
   ]
  },
  {
   "cell_type": "markdown",
   "id": "3c5f8228",
   "metadata": {},
   "source": [
    "Made sure that we're not dropping any users at this stage, we're good to move forward."
   ]
  },
  {
   "cell_type": "markdown",
   "id": "59785f6f",
   "metadata": {},
   "source": [
    "## Additional variables\n",
    "\n",
    "We've previously focused on Control vs Growth Features in our analysis. In this case we'll focus primarily on Unstructured Link Task vs Add a Link, but also check against the control group. This means we want the single variable `Group` to reflect one of three options depending on `hp_enabled` and `hp_variant`"
   ]
  },
  {
   "cell_type": "code",
   "execution_count": 11,
   "id": "01a63644",
   "metadata": {},
   "outputs": [],
   "source": [
    "user_edit_data <- user_edit_data %>%\n",
    "    mutate(Group = factor(ifelse(\n",
    "        hp_enabled == 0, 'Control',\n",
    "        ifelse(hp_variant == 'control', 'Unstructured', 'Add-a-link')),\n",
    "                          c('Control', 'Unstructured', 'Add-a-link')))"
   ]
  },
  {
   "cell_type": "markdown",
   "id": "400d72a0",
   "metadata": {},
   "source": [
    "## Checking number of accounts for each wiki\n",
    "\n",
    "We might be looking at very small wikis, in case we might want to not include them in the analysis."
   ]
  },
  {
   "cell_type": "code",
   "execution_count": 12,
   "id": "a901cd44",
   "metadata": {},
   "outputs": [
    {
     "name": "stderr",
     "output_type": "stream",
     "text": [
      "`summarise()` regrouping output by 'wiki_db' (override with `.groups` argument)\n",
      "\n"
     ]
    },
    {
     "data": {
      "text/html": [
       "<table>\n",
       "<caption>A grouped_df: 30 × 3</caption>\n",
       "<thead>\n",
       "\t<tr><th scope=col>wiki_db</th><th scope=col>Group</th><th scope=col>n</th></tr>\n",
       "\t<tr><th scope=col>&lt;fct&gt;</th><th scope=col>&lt;fct&gt;</th><th scope=col>&lt;int&gt;</th></tr>\n",
       "</thead>\n",
       "<tbody>\n",
       "\t<tr><td>arwiki</td><td>Control     </td><td> 7698</td></tr>\n",
       "\t<tr><td>arwiki</td><td>Unstructured</td><td>13426</td></tr>\n",
       "\t<tr><td>arwiki</td><td>Add-a-link  </td><td>13213</td></tr>\n",
       "\t<tr><td>bnwiki</td><td>Control     </td><td> 1583</td></tr>\n",
       "\t<tr><td>bnwiki</td><td>Unstructured</td><td> 2664</td></tr>\n",
       "\t<tr><td>bnwiki</td><td>Add-a-link  </td><td> 2679</td></tr>\n",
       "\t<tr><td>cswiki</td><td>Control     </td><td>  787</td></tr>\n",
       "\t<tr><td>cswiki</td><td>Unstructured</td><td> 1419</td></tr>\n",
       "\t<tr><td>cswiki</td><td>Add-a-link  </td><td> 1447</td></tr>\n",
       "\t<tr><td>fawiki</td><td>Control     </td><td> 2739</td></tr>\n",
       "\t<tr><td>fawiki</td><td>Unstructured</td><td> 5555</td></tr>\n",
       "\t<tr><td>fawiki</td><td>Add-a-link  </td><td> 5440</td></tr>\n",
       "\t<tr><td>frwiki</td><td>Control     </td><td> 5578</td></tr>\n",
       "\t<tr><td>frwiki</td><td>Unstructured</td><td>11146</td></tr>\n",
       "\t<tr><td>frwiki</td><td>Add-a-link  </td><td>11274</td></tr>\n",
       "\t<tr><td>huwiki</td><td>Control     </td><td>  315</td></tr>\n",
       "\t<tr><td>huwiki</td><td>Unstructured</td><td>  638</td></tr>\n",
       "\t<tr><td>huwiki</td><td>Add-a-link  </td><td>  632</td></tr>\n",
       "\t<tr><td>plwiki</td><td>Control     </td><td>  949</td></tr>\n",
       "\t<tr><td>plwiki</td><td>Unstructured</td><td> 1924</td></tr>\n",
       "\t<tr><td>plwiki</td><td>Add-a-link  </td><td> 1930</td></tr>\n",
       "\t<tr><td>rowiki</td><td>Control     </td><td>  294</td></tr>\n",
       "\t<tr><td>rowiki</td><td>Unstructured</td><td>  575</td></tr>\n",
       "\t<tr><td>rowiki</td><td>Add-a-link  </td><td>  565</td></tr>\n",
       "\t<tr><td>ruwiki</td><td>Control     </td><td> 4069</td></tr>\n",
       "\t<tr><td>ruwiki</td><td>Unstructured</td><td> 8176</td></tr>\n",
       "\t<tr><td>ruwiki</td><td>Add-a-link  </td><td> 8222</td></tr>\n",
       "\t<tr><td>viwiki</td><td>Control     </td><td> 3324</td></tr>\n",
       "\t<tr><td>viwiki</td><td>Unstructured</td><td> 5956</td></tr>\n",
       "\t<tr><td>viwiki</td><td>Add-a-link  </td><td> 5962</td></tr>\n",
       "</tbody>\n",
       "</table>\n"
      ],
      "text/latex": [
       "A grouped\\_df: 30 × 3\n",
       "\\begin{tabular}{lll}\n",
       " wiki\\_db & Group & n\\\\\n",
       " <fct> & <fct> & <int>\\\\\n",
       "\\hline\n",
       "\t arwiki & Control      &  7698\\\\\n",
       "\t arwiki & Unstructured & 13426\\\\\n",
       "\t arwiki & Add-a-link   & 13213\\\\\n",
       "\t bnwiki & Control      &  1583\\\\\n",
       "\t bnwiki & Unstructured &  2664\\\\\n",
       "\t bnwiki & Add-a-link   &  2679\\\\\n",
       "\t cswiki & Control      &   787\\\\\n",
       "\t cswiki & Unstructured &  1419\\\\\n",
       "\t cswiki & Add-a-link   &  1447\\\\\n",
       "\t fawiki & Control      &  2739\\\\\n",
       "\t fawiki & Unstructured &  5555\\\\\n",
       "\t fawiki & Add-a-link   &  5440\\\\\n",
       "\t frwiki & Control      &  5578\\\\\n",
       "\t frwiki & Unstructured & 11146\\\\\n",
       "\t frwiki & Add-a-link   & 11274\\\\\n",
       "\t huwiki & Control      &   315\\\\\n",
       "\t huwiki & Unstructured &   638\\\\\n",
       "\t huwiki & Add-a-link   &   632\\\\\n",
       "\t plwiki & Control      &   949\\\\\n",
       "\t plwiki & Unstructured &  1924\\\\\n",
       "\t plwiki & Add-a-link   &  1930\\\\\n",
       "\t rowiki & Control      &   294\\\\\n",
       "\t rowiki & Unstructured &   575\\\\\n",
       "\t rowiki & Add-a-link   &   565\\\\\n",
       "\t ruwiki & Control      &  4069\\\\\n",
       "\t ruwiki & Unstructured &  8176\\\\\n",
       "\t ruwiki & Add-a-link   &  8222\\\\\n",
       "\t viwiki & Control      &  3324\\\\\n",
       "\t viwiki & Unstructured &  5956\\\\\n",
       "\t viwiki & Add-a-link   &  5962\\\\\n",
       "\\end{tabular}\n"
      ],
      "text/markdown": [
       "\n",
       "A grouped_df: 30 × 3\n",
       "\n",
       "| wiki_db &lt;fct&gt; | Group &lt;fct&gt; | n &lt;int&gt; |\n",
       "|---|---|---|\n",
       "| arwiki | Control      |  7698 |\n",
       "| arwiki | Unstructured | 13426 |\n",
       "| arwiki | Add-a-link   | 13213 |\n",
       "| bnwiki | Control      |  1583 |\n",
       "| bnwiki | Unstructured |  2664 |\n",
       "| bnwiki | Add-a-link   |  2679 |\n",
       "| cswiki | Control      |   787 |\n",
       "| cswiki | Unstructured |  1419 |\n",
       "| cswiki | Add-a-link   |  1447 |\n",
       "| fawiki | Control      |  2739 |\n",
       "| fawiki | Unstructured |  5555 |\n",
       "| fawiki | Add-a-link   |  5440 |\n",
       "| frwiki | Control      |  5578 |\n",
       "| frwiki | Unstructured | 11146 |\n",
       "| frwiki | Add-a-link   | 11274 |\n",
       "| huwiki | Control      |   315 |\n",
       "| huwiki | Unstructured |   638 |\n",
       "| huwiki | Add-a-link   |   632 |\n",
       "| plwiki | Control      |   949 |\n",
       "| plwiki | Unstructured |  1924 |\n",
       "| plwiki | Add-a-link   |  1930 |\n",
       "| rowiki | Control      |   294 |\n",
       "| rowiki | Unstructured |   575 |\n",
       "| rowiki | Add-a-link   |   565 |\n",
       "| ruwiki | Control      |  4069 |\n",
       "| ruwiki | Unstructured |  8176 |\n",
       "| ruwiki | Add-a-link   |  8222 |\n",
       "| viwiki | Control      |  3324 |\n",
       "| viwiki | Unstructured |  5956 |\n",
       "| viwiki | Add-a-link   |  5962 |\n",
       "\n"
      ],
      "text/plain": [
       "   wiki_db Group        n    \n",
       "1  arwiki  Control       7698\n",
       "2  arwiki  Unstructured 13426\n",
       "3  arwiki  Add-a-link   13213\n",
       "4  bnwiki  Control       1583\n",
       "5  bnwiki  Unstructured  2664\n",
       "6  bnwiki  Add-a-link    2679\n",
       "7  cswiki  Control        787\n",
       "8  cswiki  Unstructured  1419\n",
       "9  cswiki  Add-a-link    1447\n",
       "10 fawiki  Control       2739\n",
       "11 fawiki  Unstructured  5555\n",
       "12 fawiki  Add-a-link    5440\n",
       "13 frwiki  Control       5578\n",
       "14 frwiki  Unstructured 11146\n",
       "15 frwiki  Add-a-link   11274\n",
       "16 huwiki  Control        315\n",
       "17 huwiki  Unstructured   638\n",
       "18 huwiki  Add-a-link     632\n",
       "19 plwiki  Control        949\n",
       "20 plwiki  Unstructured  1924\n",
       "21 plwiki  Add-a-link    1930\n",
       "22 rowiki  Control        294\n",
       "23 rowiki  Unstructured   575\n",
       "24 rowiki  Add-a-link     565\n",
       "25 ruwiki  Control       4069\n",
       "26 ruwiki  Unstructured  8176\n",
       "27 ruwiki  Add-a-link    8222\n",
       "28 viwiki  Control       3324\n",
       "29 viwiki  Unstructured  5956\n",
       "30 viwiki  Add-a-link    5962"
      ]
     },
     "metadata": {},
     "output_type": "display_data"
    }
   ],
   "source": [
    "user_edit_data %>%\n",
    "    group_by(wiki_db, Group) %>%\n",
    "    summarize(n = n())"
   ]
  },
  {
   "cell_type": "markdown",
   "id": "bb3b022a",
   "metadata": {},
   "source": [
    "## Splitting into Training, Test, and Validation Datasets\n",
    "\n",
    "Split the dataset into training, test, and validation data sets."
   ]
  },
  {
   "cell_type": "code",
   "execution_count": 13,
   "id": "15f02d70",
   "metadata": {},
   "outputs": [
    {
     "name": "stderr",
     "output_type": "stream",
     "text": [
      "Warning message:\n",
      "“The `i` argument of ``[`()` can't be a matrix as of tibble 3.0.0.\n",
      "Convert to a vector.\n",
      "\u001b[90mThis warning is displayed once every 8 hours.\u001b[39m\n",
      "\u001b[90mCall `lifecycle::last_warnings()` to see where this warning was generated.\u001b[39m”\n"
     ]
    }
   ],
   "source": [
    "## set the random seed so train/test/validation splits can be reproduced\n",
    "set.seed(42)\n",
    "\n",
    "trainIndex <- caret::createDataPartition(user_edit_data$Group,\n",
    "                                         p = .8,\n",
    "                                         list = FALSE,\n",
    "                                         times = 1)\n",
    "user_data_train = user_edit_data[trainIndex,]\n",
    "user_data_second = user_edit_data[-trainIndex,]\n",
    "\n",
    "testIndex = caret::createDataPartition(user_data_second$Group, p = .5, list = FALSE, times = 1)\n",
    "\n",
    "user_data_test = user_data_second[testIndex,]\n",
    "user_data_validate = user_data_second[-testIndex,]"
   ]
  },
  {
   "cell_type": "code",
   "execution_count": 14,
   "id": "45daa5a9",
   "metadata": {},
   "outputs": [],
   "source": [
    "user_data_test$is_activated_fct <- factor(user_data_test$is_activated,\n",
    "                                          labels = c('No', 'Yes'))\n",
    "user_data_validate$is_activated_fct <- factor(user_data_validate$is_activated,\n",
    "                                          labels = c('No', 'Yes'))"
   ]
  },
  {
   "cell_type": "markdown",
   "id": "c8e92590",
   "metadata": {},
   "source": [
    "## Visualization of revert rates overall\n",
    "\n",
    "This plots a histogram of revert rates for users that did not have either 0% or 100% reverts."
   ]
  },
  {
   "cell_type": "code",
   "execution_count": 15,
   "id": "5249d69c",
   "metadata": {},
   "outputs": [
    {
     "data": {
      "image/png": "[encoded data removed]",
      "text/plain": [
       "plot without title"
      ]
     },
     "metadata": {
      "image/png": {
       "height": 420,
       "width": 840
      }
     },
     "output_type": "display_data"
    }
   ],
   "source": [
    "options(repr.plot.width = 14, repr.plot.height = 7)\n",
    "\n",
    "user_edit_data %>%\n",
    "    filter(num_total_edits > 0 & prop_rev_edits > 0 & prop_rev_edits < 1) %>%\n",
    "    ggplot(aes(x = prop_rev_edits)) +\n",
    "    geom_histogram(binwidth = 0.025) +\n",
    "    hrbrthemes::theme_ipsum(\"DejaVu Sans\", base_size = 16, strip_text_face = \"bold\", strip_text_size = 18,\n",
    "                            caption_size = 12, axis_title_size = 14, subtitle_size = 14,\n",
    "                            axis_title_just = 'cm') +\n",
    "    scale_x_continuous(\"Proportion of reverted edits\")"
   ]
  },
  {
   "cell_type": "code",
   "execution_count": 16,
   "id": "dd7478aa",
   "metadata": {},
   "outputs": [
    {
     "data": {
      "image/png": "[encoded data removed]",
      "text/plain": [
       "plot without title"
      ]
     },
     "metadata": {
      "image/png": {
       "height": 420,
       "width": 840
      }
     },
     "output_type": "display_data"
    }
   ],
   "source": [
    "user_edit_data %>%\n",
    "    filter(num_total_edits > 0) %>%\n",
    "    ggplot(aes(x = prop_rev_edits)) +\n",
    "    geom_histogram(binwidth = 0.025) +\n",
    "    hrbrthemes::theme_ipsum(\"DejaVu Sans\", base_size = 16, strip_text_face = \"bold\", strip_text_size = 18,\n",
    "                            caption_size = 12, axis_title_size = 14, subtitle_size = 14,\n",
    "                            axis_title_just = 'cm') +\n",
    "    scale_x_continuous(\"Proportion of reverted edits\")"
   ]
  },
  {
   "cell_type": "markdown",
   "id": "ce09efec",
   "metadata": {},
   "source": [
    "## Revert rate split by wiki, platform, and group\n",
    "\n",
    "This plot needs work as we now have 27 wikis in our dataset. I've removed it for now."
   ]
  },
  {
   "cell_type": "code",
   "execution_count": null,
   "id": "e8aa870d",
   "metadata": {},
   "outputs": [],
   "source": [
    "user_edit_data %>%\n",
    "    filter(num_total_edits > 0 & prop_rev_edits > 0 & prop_rev_edits < 1) %>%\n",
    "    ggplot(aes(x = prop_rev_edits)) +\n",
    "    geom_histogram(binwidth = 0.025, aes(y = ..count.. / sum(..count..))) +\n",
    "    facet_grid(Group ~ platform) +\n",
    "    coord_cartesian(ylim = c(0, 0.02)) +\n",
    "    hrbrthemes::theme_ipsum(\"DejaVu Sans\", axis_title_just = 'cm') +\n",
    "    labs(x = 'Proportion of reverted edits', y = 'Proportion of users')"
   ]
  },
  {
   "cell_type": "code",
   "execution_count": null,
   "id": "b6b36c51",
   "metadata": {},
   "outputs": [],
   "source": [
    "user_edit_data %>%\n",
    "    filter(num_total_edits > 0) %>%\n",
    "    ggplot(aes(x = prop_rev_edits)) +\n",
    "    geom_histogram(binwidth = 0.025, aes(y = ..count.. / sum(..count..))) +\n",
    "    facet_grid(Group ~ platform) +\n",
    "    coord_cartesian(ylim = c(0, 0.02)) +\n",
    "    hrbrthemes::theme_ipsum(\"DejaVu Sans\", axis_title_just = 'cm') +\n",
    "    labs(x = 'Proportion of reverted edits', y = 'Proportion of users')"
   ]
  },
  {
   "cell_type": "markdown",
   "id": "89288122",
   "metadata": {},
   "source": [
    "## Homepage only\n",
    "\n",
    "Without controlling for other factors, does the Homepage appear to have an overall effect on revert rate?"
   ]
  },
  {
   "cell_type": "code",
   "execution_count": null,
   "id": "2f24dc9a",
   "metadata": {},
   "outputs": [],
   "source": [
    "zoib_formula.1 <- bf(\n",
    "  prop_rev_edits ~ Group,\n",
    "  phi ~ Group,\n",
    "  zoi ~ Group,\n",
    "  coi ~ Group, \n",
    "  family = zero_one_inflated_beta()\n",
    ")"
   ]
  },
  {
   "cell_type": "code",
   "execution_count": null,
   "id": "52e01987",
   "metadata": {},
   "outputs": [],
   "source": [
    "zoib_model.1 <- user_edit_data %>%\n",
    "    filter(num_total_edits > 0) %>%\n",
    "    brm(\n",
    "      formula = zoib_formula.1\n",
    "    )"
   ]
  },
  {
   "cell_type": "code",
   "execution_count": null,
   "id": "4ed2a0b5",
   "metadata": {},
   "outputs": [],
   "source": [
    "## save the model for reference\n",
    "save(zoib_model.1, file='../models/revert_rate_zoib_model.1.Robj')"
   ]
  },
  {
   "cell_type": "markdown",
   "id": "b04c3ef2",
   "metadata": {},
   "source": [
    "Model summary:"
   ]
  },
  {
   "cell_type": "code",
   "execution_count": null,
   "id": "111ced5b",
   "metadata": {},
   "outputs": [],
   "source": [
    "summary(zoib_model.1)"
   ]
  },
  {
   "cell_type": "markdown",
   "id": "5a500e8c",
   "metadata": {},
   "source": [
    "## Distribution by number of edits\n",
    "\n",
    "We examine whether there's a difference in the distribution of revert proportion by number of edits. Since the variable is skewed, we use a log scale for this. Handily, we already have variables for this in our dataset, and look mainly at the `log_num_total_edits` variable."
   ]
  },
  {
   "cell_type": "code",
   "execution_count": 15,
   "id": "7472c3ae",
   "metadata": {},
   "outputs": [],
   "source": [
    "user_edit_data <- user_edit_data %>%\n",
    "    mutate(log_num_total_edits = log(1 + num_total_edits))"
   ]
  },
  {
   "cell_type": "code",
   "execution_count": 18,
   "id": "0c52b954",
   "metadata": {},
   "outputs": [
    {
     "data": {
      "text/plain": [
       "   Min. 1st Qu.  Median    Mean 3rd Qu.    Max. \n",
       "   0.00    0.00    0.00    0.50    0.69    6.72 "
      ]
     },
     "metadata": {},
     "output_type": "display_data"
    }
   ],
   "source": [
    "summary(user_edit_data$log_num_total_edits)"
   ]
  },
  {
   "cell_type": "markdown",
   "id": "a7e6dac1",
   "metadata": {},
   "source": [
    "Make buckets based on the number of edits by flooring the log count."
   ]
  },
  {
   "cell_type": "code",
   "execution_count": 17,
   "id": "ea2e4ff4",
   "metadata": {},
   "outputs": [],
   "source": [
    "user_edit_data$num_total_edits_bucket = floor(user_edit_data$log_num_total_edits)"
   ]
  },
  {
   "cell_type": "code",
   "execution_count": 20,
   "id": "c97e4b19",
   "metadata": {},
   "outputs": [
    {
     "data": {
      "image/png": "[encoded data removed]",
      "text/plain": [
       "plot without title"
      ]
     },
     "metadata": {
      "image/png": {
       "height": 840,
       "width": 840
      }
     },
     "output_type": "display_data"
    }
   ],
   "source": [
    "options(repr.plot.width = 14, repr.plot.height = 14)\n",
    "user_edit_data %>%\n",
    "    filter(num_total_edits > 0) %>%\n",
    "    ggplot(aes(x = prop_rev_edits)) +\n",
    "    geom_histogram(binwidth = 0.025, aes(y=..count../sum(..count..))) +\n",
    "    hrbrthemes::theme_ipsum(\"DejaVu Sans\", axis_title_just = 'cm') +\n",
    "    labs(x = 'Proportion of reverted edits', y = 'Proportion of users') +\n",
    "    facet_grid(num_total_edits_bucket ~ ., scales = \"free_y\")"
   ]
  },
  {
   "cell_type": "code",
   "execution_count": 16,
   "id": "4bbb4af5",
   "metadata": {},
   "outputs": [],
   "source": [
    "user_edit_data <- user_edit_data %>%\n",
    "    mutate(log2_num_total_edits = log2(num_total_edits))"
   ]
  },
  {
   "cell_type": "markdown",
   "id": "da52197c",
   "metadata": {},
   "source": [
    "Make buckets based on the number of edits by flooring the log count."
   ]
  },
  {
   "cell_type": "code",
   "execution_count": 17,
   "id": "b07cebfe",
   "metadata": {},
   "outputs": [],
   "source": [
    "user_edit_data$num_total_edits_bucket_log2 = floor(user_edit_data$log2_num_total_edits)"
   ]
  },
  {
   "cell_type": "code",
   "execution_count": 22,
   "id": "a974aaae",
   "metadata": {},
   "outputs": [
    {
     "data": {
      "image/png": "[encoded data removed]",
      "text/plain": [
       "plot without title"
      ]
     },
     "metadata": {
      "image/png": {
       "height": 840,
       "width": 840
      }
     },
     "output_type": "display_data"
    }
   ],
   "source": [
    "options(repr.plot.width = 14, repr.plot.height = 14)\n",
    "user_edit_data %>%\n",
    "    filter(num_total_edits > 0) %>%\n",
    "    ggplot(aes(x = prop_rev_edits)) +\n",
    "    geom_histogram(binwidth = 0.025, aes(y=..count../sum(..count..))) +\n",
    "    hrbrthemes::theme_ipsum(\"DejaVu Sans\", axis_title_just = 'cm') +\n",
    "    labs(x = 'Proportion of reverted edits', y = 'Proportion of users') +\n",
    "    facet_grid(num_total_edits_bucket_log2 ~ Group, scales = \"free_y\")"
   ]
  },
  {
   "cell_type": "markdown",
   "id": "6c4c1ce5",
   "metadata": {},
   "source": [
    "It's not a problem that the Y-axis isn't the same for each plot, because we're interested in understanding how the distribution changes based on edit count. What we can see is that the mean and precision of the beta distribution changes by edit count. Secondly, the probability of zero-or-one and the conditional probability of ones also changes. This suggests that we should incorporate number of edits into all four estimates in the model."
   ]
  },
  {
   "cell_type": "markdown",
   "id": "b7a161b4",
   "metadata": {},
   "source": [
    "## Full Model\n",
    "\n",
    "We reuse Model 6 from NEWTEA, because it used a hierarchical model rather than interaction between wiki and platform. Whenever we have a fairly large number of wikis (e.g. more than 3–4), that's definitely preferable. We'll continue to focus on the article namespace first, because that's where we've seen the most promising results."
   ]
  },
  {
   "cell_type": "code",
   "execution_count": 19,
   "id": "eca24cf4",
   "metadata": {},
   "outputs": [],
   "source": [
    "user_edit_data <- user_edit_data %>%\n",
    "    mutate(prop_rev_article_edits = ifelse(\n",
    "        num_total_article_edits > 0, \n",
    "        (num_article_reverts_24hrs + num_article_reverts_2w) / num_total_article_edits, 0),\n",
    "          log_num_total_article_edits = log(1 + num_total_article_edits))"
   ]
  },
  {
   "cell_type": "code",
   "execution_count": 22,
   "id": "01261adc",
   "metadata": {},
   "outputs": [],
   "source": [
    "zoib_formula.6 <- bf(\n",
    "  prop_rev_article_edits ~ Group + log_num_total_article_edits + platform + (1 + platform | wiki_db),\n",
    "  phi ~ Group + log_num_total_article_edits + platform + (1 + platform | wiki_db) ,\n",
    "  zoi ~ Group + log_num_total_article_edits + platform + (1 + platform | wiki_db),\n",
    "  coi ~ Group + log_num_total_article_edits + platform + (1 + platform | wiki_db),\n",
    "  family = zero_one_inflated_beta()\n",
    ")"
   ]
  },
  {
   "cell_type": "code",
   "execution_count": null,
   "id": "36e5367c",
   "metadata": {},
   "outputs": [
    {
     "name": "stderr",
     "output_type": "stream",
     "text": [
      "Compiling Stan program...\n",
      "\n",
      "Start sampling\n",
      "\n"
     ]
    }
   ],
   "source": [
    "zoib_model.6 <- user_edit_data %>%\n",
    "    filter(num_total_article_edits > 0) %>%\n",
    "    brm(\n",
    "        formula = zoib_formula.6,\n",
    "        control = list(adapt_delta = 0.95,\n",
    "                 max_treedepth = 15)\n",
    "    )"
   ]
  },
  {
   "cell_type": "code",
   "execution_count": null,
   "id": "fb6278e5",
   "metadata": {},
   "outputs": [],
   "source": [
    "## Save the model\n",
    "save(zoib_model.6, file='../models/revisited_zoib_model.6.Robj')"
   ]
  },
  {
   "cell_type": "markdown",
   "id": "23088f6f",
   "metadata": {},
   "source": [
    "Model summary:"
   ]
  },
  {
   "cell_type": "code",
   "execution_count": 28,
   "id": "25d5bd5a",
   "metadata": {},
   "outputs": [
    {
     "name": "stderr",
     "output_type": "stream",
     "text": [
      "Warning message:\n",
      "“There were 1 divergent transitions after warmup. Increasing adapt_delta above 0.95 may help. See http://mc-stan.org/misc/warnings.html#divergent-transitions-after-warmup”\n"
     ]
    },
    {
     "data": {
      "text/plain": [
       " Family: zero_one_inflated_beta \n",
       "  Links: mu = logit; phi = log; zoi = logit; coi = logit \n",
       "Formula: prop_rev_article_edits ~ Group + log_num_total_article_edits + platform + (1 + platform | wiki_db) \n",
       "         phi ~ Group + log_num_total_article_edits + platform + (1 + platform | wiki_db)\n",
       "         zoi ~ Group + log_num_total_article_edits + platform + (1 + platform | wiki_db)\n",
       "         coi ~ Group + log_num_total_article_edits + platform + (1 + platform | wiki_db)\n",
       "   Data: . (Number of observations: 40501) \n",
       "  Draws: 4 chains, each with iter = 2000; warmup = 1000; thin = 1;\n",
       "         total post-warmup draws = 4000\n",
       "\n",
       "Group-Level Effects: \n",
       "~wiki_db (Number of levels: 10) \n",
       "                                      Estimate Est.Error l-95% CI u-95% CI Rhat\n",
       "sd(Intercept)                             0.11      0.05     0.04     0.23 1.00\n",
       "sd(platformmobile)                        0.15      0.08     0.03     0.34 1.00\n",
       "sd(phi_Intercept)                         0.03      0.03     0.00     0.10 1.00\n",
       "sd(phi_platformmobile)                    0.04      0.04     0.00     0.14 1.00\n",
       "sd(zoi_Intercept)                         0.33      0.10     0.19     0.59 1.00\n",
       "sd(zoi_platformmobile)                    0.45      0.15     0.23     0.82 1.00\n",
       "sd(coi_Intercept)                         0.30      0.10     0.18     0.54 1.00\n",
       "sd(coi_platformmobile)                    0.52      0.16     0.30     0.92 1.00\n",
       "cor(Intercept,platformmobile)            -0.18      0.44    -0.89     0.70 1.00\n",
       "cor(phi_Intercept,phi_platformmobile)    -0.19      0.58    -0.98     0.92 1.00\n",
       "cor(zoi_Intercept,zoi_platformmobile)    -0.73      0.20    -0.96    -0.19 1.00\n",
       "cor(coi_Intercept,coi_platformmobile)    -0.30      0.31    -0.80     0.37 1.00\n",
       "                                      Bulk_ESS Tail_ESS\n",
       "sd(Intercept)                             1561     1749\n",
       "sd(platformmobile)                        1053     1267\n",
       "sd(phi_Intercept)                         2340     1698\n",
       "sd(phi_platformmobile)                    2336     2008\n",
       "sd(zoi_Intercept)                         1706     2482\n",
       "sd(zoi_platformmobile)                    1387     2157\n",
       "sd(coi_Intercept)                         1802     2094\n",
       "sd(coi_platformmobile)                    1707     2243\n",
       "cor(Intercept,platformmobile)             1705     2483\n",
       "cor(phi_Intercept,phi_platformmobile)     3901     3110\n",
       "cor(zoi_Intercept,zoi_platformmobile)     1876     2829\n",
       "cor(coi_Intercept,coi_platformmobile)     1833     2445\n",
       "\n",
       "Population-Level Effects: \n",
       "                                Estimate Est.Error l-95% CI u-95% CI Rhat\n",
       "Intercept                           0.23      0.06     0.12     0.34 1.00\n",
       "phi_Intercept                       3.06      0.07     2.93     3.21 1.00\n",
       "zoi_Intercept                       4.75      0.13     4.50     5.00 1.00\n",
       "coi_Intercept                      -1.31      0.11    -1.53    -1.09 1.00\n",
       "GroupUnstructured                   0.04      0.03    -0.02     0.10 1.00\n",
       "GroupAddMaMlink                    -0.03      0.03    -0.09     0.03 1.00\n",
       "log_num_total_article_edits        -0.32      0.02    -0.35    -0.29 1.00\n",
       "platformmobile                      0.18      0.06     0.06     0.32 1.00\n",
       "phi_GroupUnstructured               0.01      0.05    -0.08     0.10 1.00\n",
       "phi_GroupAddMaMlink                 0.02      0.05    -0.07     0.12 1.00\n",
       "phi_log_num_total_article_edits    -0.68      0.02    -0.73    -0.63 1.00\n",
       "phi_platformmobile                 -0.08      0.04    -0.16     0.01 1.00\n",
       "zoi_GroupUnstructured              -0.05      0.05    -0.15     0.04 1.00\n",
       "zoi_GroupAddMaMlink                -0.01      0.05    -0.10     0.09 1.00\n",
       "zoi_log_num_total_article_edits    -1.65      0.02    -1.69    -1.61 1.00\n",
       "zoi_platformmobile                 -0.56      0.16    -0.88    -0.26 1.00\n",
       "coi_GroupUnstructured               0.02      0.03    -0.05     0.09 1.00\n",
       "coi_GroupAddMaMlink                -0.18      0.03    -0.25    -0.11 1.00\n",
       "coi_log_num_total_article_edits    -0.31      0.03    -0.36    -0.26 1.00\n",
       "coi_platformmobile                  0.92      0.17     0.58     1.27 1.00\n",
       "                                Bulk_ESS Tail_ESS\n",
       "Intercept                           3150     2582\n",
       "phi_Intercept                       6175     3254\n",
       "zoi_Intercept                       1995     2280\n",
       "coi_Intercept                       1925     2291\n",
       "GroupUnstructured                   4622     2981\n",
       "GroupAddMaMlink                     5210     3018\n",
       "log_num_total_article_edits         6480     2826\n",
       "platformmobile                      2151     2666\n",
       "phi_GroupUnstructured               5667     3518\n",
       "phi_GroupAddMaMlink                 5682     3385\n",
       "phi_log_num_total_article_edits     5813     2572\n",
       "phi_platformmobile                  5551     2794\n",
       "zoi_GroupUnstructured               5150     3165\n",
       "zoi_GroupAddMaMlink                 5635     3122\n",
       "zoi_log_num_total_article_edits     7348     2978\n",
       "zoi_platformmobile                  2132     2455\n",
       "coi_GroupUnstructured               5635     2996\n",
       "coi_GroupAddMaMlink                 5141     3423\n",
       "coi_log_num_total_article_edits     8466     2790\n",
       "coi_platformmobile                  1840     2283\n",
       "\n",
       "Draws were sampled using sampling(NUTS). For each parameter, Bulk_ESS\n",
       "and Tail_ESS are effective sample size measures, and Rhat is the potential\n",
       "scale reduction factor on split chains (at convergence, Rhat = 1)."
      ]
     },
     "metadata": {},
     "output_type": "display_data"
    }
   ],
   "source": [
    "summary(zoib_model.6)"
   ]
  },
  {
   "cell_type": "markdown",
   "id": "eb048166",
   "metadata": {},
   "source": [
    "**NEXT UP:**\n",
    "\n",
    "* Interpret the overall results.\n",
    "* Use RStudio to interpret the model, since the output of `ranef()` and `coef()` is messed up in the notebook.\n",
    "* Consider whether we should test interaction effects, or check for per-wiki variation.\n",
    "  * Based on the overall statistics by platform, the reduction in revert rate on mobile is much larger in both relative and absolute terms. Therefore, testing `Group * platform` as a next step sounds very reasonable."
   ]
  },
  {
   "cell_type": "markdown",
   "id": "e8f0f0f0",
   "metadata": {},
   "source": [
    "## Overview Statistics\n",
    "\n",
    "For the draft report, we gather a few statistics to get a sense of the revert rate per group. Based on the results for mobile registrations (higher revert rates), we should split this by platform."
   ]
  },
  {
   "cell_type": "code",
   "execution_count": 20,
   "id": "080dcf28",
   "metadata": {},
   "outputs": [
    {
     "data": {
      "text/html": [
       "<table>\n",
       "<caption>A grouped_df: 6 × 5</caption>\n",
       "<thead>\n",
       "\t<tr><th scope=col>platform</th><th scope=col>Group</th><th scope=col>n</th><th scope=col>mean_prop_rev_article_edits</th><th scope=col>mean_perc_rev_article_edits_rounded</th></tr>\n",
       "\t<tr><th scope=col>&lt;fct&gt;</th><th scope=col>&lt;fct&gt;</th><th scope=col>&lt;int&gt;</th><th scope=col>&lt;dbl&gt;</th><th scope=col>&lt;dbl&gt;</th></tr>\n",
       "</thead>\n",
       "<tbody>\n",
       "\t<tr><td>desktop</td><td>Control     </td><td>4318</td><td>0.193</td><td>19.3</td></tr>\n",
       "\t<tr><td>desktop</td><td>Unstructured</td><td>8761</td><td>0.193</td><td>19.3</td></tr>\n",
       "\t<tr><td>desktop</td><td>Add-a-link  </td><td>9027</td><td>0.181</td><td>18.1</td></tr>\n",
       "\t<tr><td>mobile </td><td>Control     </td><td>3695</td><td>0.355</td><td>35.5</td></tr>\n",
       "\t<tr><td>mobile </td><td>Unstructured</td><td>7095</td><td>0.362</td><td>36.2</td></tr>\n",
       "\t<tr><td>mobile </td><td>Add-a-link  </td><td>7605</td><td>0.306</td><td>30.6</td></tr>\n",
       "</tbody>\n",
       "</table>\n"
      ],
      "text/latex": [
       "A grouped\\_df: 6 × 5\n",
       "\\begin{tabular}{lllll}\n",
       " platform & Group & n & mean\\_prop\\_rev\\_article\\_edits & mean\\_perc\\_rev\\_article\\_edits\\_rounded\\\\\n",
       " <fct> & <fct> & <int> & <dbl> & <dbl>\\\\\n",
       "\\hline\n",
       "\t desktop & Control      & 4318 & 0.193 & 19.3\\\\\n",
       "\t desktop & Unstructured & 8761 & 0.193 & 19.3\\\\\n",
       "\t desktop & Add-a-link   & 9027 & 0.181 & 18.1\\\\\n",
       "\t mobile  & Control      & 3695 & 0.355 & 35.5\\\\\n",
       "\t mobile  & Unstructured & 7095 & 0.362 & 36.2\\\\\n",
       "\t mobile  & Add-a-link   & 7605 & 0.306 & 30.6\\\\\n",
       "\\end{tabular}\n"
      ],
      "text/markdown": [
       "\n",
       "A grouped_df: 6 × 5\n",
       "\n",
       "| platform &lt;fct&gt; | Group &lt;fct&gt; | n &lt;int&gt; | mean_prop_rev_article_edits &lt;dbl&gt; | mean_perc_rev_article_edits_rounded &lt;dbl&gt; |\n",
       "|---|---|---|---|---|\n",
       "| desktop | Control      | 4318 | 0.193 | 19.3 |\n",
       "| desktop | Unstructured | 8761 | 0.193 | 19.3 |\n",
       "| desktop | Add-a-link   | 9027 | 0.181 | 18.1 |\n",
       "| mobile  | Control      | 3695 | 0.355 | 35.5 |\n",
       "| mobile  | Unstructured | 7095 | 0.362 | 36.2 |\n",
       "| mobile  | Add-a-link   | 7605 | 0.306 | 30.6 |\n",
       "\n"
      ],
      "text/plain": [
       "  platform Group        n    mean_prop_rev_article_edits\n",
       "1 desktop  Control      4318 0.193                      \n",
       "2 desktop  Unstructured 8761 0.193                      \n",
       "3 desktop  Add-a-link   9027 0.181                      \n",
       "4 mobile   Control      3695 0.355                      \n",
       "5 mobile   Unstructured 7095 0.362                      \n",
       "6 mobile   Add-a-link   7605 0.306                      \n",
       "  mean_perc_rev_article_edits_rounded\n",
       "1 19.3                               \n",
       "2 19.3                               \n",
       "3 18.1                               \n",
       "4 35.5                               \n",
       "5 36.2                               \n",
       "6 30.6                               "
      ]
     },
     "metadata": {},
     "output_type": "display_data"
    }
   ],
   "source": [
    "# Aggregate by platform and calculate average revert rate for users who edited\n",
    "rate.platform.agg <- user_edit_data %>%\n",
    "    filter(num_total_article_edits > 0) %>%\n",
    "    group_by(platform, Group) %>%\n",
    "    summarize(n = n(), mean_prop_rev_article_edits = mean(prop_rev_article_edits),\n",
    "              mean_perc_rev_article_edits_rounded = round(100.0 * mean(prop_rev_article_edits), 1),\n",
    "              .groups = 'keep') %>%\n",
    "    group_by(platform, Group)\n",
    "rate.platform.agg"
   ]
  },
  {
   "cell_type": "code",
   "execution_count": 32,
   "id": "c2870241",
   "metadata": {},
   "outputs": [
    {
     "data": {
      "text/html": [
       "<table>\n",
       "<caption>A data.frame: 1 × 1</caption>\n",
       "<thead>\n",
       "\t<tr><th scope=col>mean_prop_rev_article_edits</th></tr>\n",
       "\t<tr><th scope=col>&lt;dbl&gt;</th></tr>\n",
       "</thead>\n",
       "<tbody>\n",
       "\t<tr><td>0</td></tr>\n",
       "</tbody>\n",
       "</table>\n"
      ],
      "text/latex": [
       "A data.frame: 1 × 1\n",
       "\\begin{tabular}{l}\n",
       " mean\\_prop\\_rev\\_article\\_edits\\\\\n",
       " <dbl>\\\\\n",
       "\\hline\n",
       "\t 0\\\\\n",
       "\\end{tabular}\n"
      ],
      "text/markdown": [
       "\n",
       "A data.frame: 1 × 1\n",
       "\n",
       "| mean_prop_rev_article_edits &lt;dbl&gt; |\n",
       "|---|\n",
       "| 0 |\n",
       "\n"
      ],
      "text/plain": [
       "  mean_prop_rev_article_edits\n",
       "1 0                          "
      ]
     },
     "metadata": {},
     "output_type": "display_data"
    }
   ],
   "source": [
    "## Calculate increase in percent\n",
    "round(100.0 * (rate.platform.agg[2, \"mean_prop_rev_article_edits\"] -\n",
    "      rate.platform.agg[1, \"mean_prop_rev_article_edits\"]), 1)"
   ]
  },
  {
   "cell_type": "code",
   "execution_count": 33,
   "id": "6f7967ee",
   "metadata": {},
   "outputs": [
    {
     "data": {
      "text/html": [
       "<table>\n",
       "<caption>A data.frame: 1 × 1</caption>\n",
       "<thead>\n",
       "\t<tr><th scope=col>mean_prop_rev_article_edits</th></tr>\n",
       "\t<tr><th scope=col>&lt;dbl&gt;</th></tr>\n",
       "</thead>\n",
       "<tbody>\n",
       "\t<tr><td>-1.2</td></tr>\n",
       "</tbody>\n",
       "</table>\n"
      ],
      "text/latex": [
       "A data.frame: 1 × 1\n",
       "\\begin{tabular}{l}\n",
       " mean\\_prop\\_rev\\_article\\_edits\\\\\n",
       " <dbl>\\\\\n",
       "\\hline\n",
       "\t -1.2\\\\\n",
       "\\end{tabular}\n"
      ],
      "text/markdown": [
       "\n",
       "A data.frame: 1 × 1\n",
       "\n",
       "| mean_prop_rev_article_edits &lt;dbl&gt; |\n",
       "|---|\n",
       "| -1.2 |\n",
       "\n"
      ],
      "text/plain": [
       "  mean_prop_rev_article_edits\n",
       "1 -1.2                       "
      ]
     },
     "metadata": {},
     "output_type": "display_data"
    }
   ],
   "source": [
    "## Calculate increase in percent\n",
    "round(100.0 * (rate.platform.agg[3, \"mean_prop_rev_article_edits\"] -\n",
    "      rate.platform.agg[1, \"mean_prop_rev_article_edits\"]), 1)"
   ]
  },
  {
   "cell_type": "code",
   "execution_count": 34,
   "id": "c02035ed",
   "metadata": {},
   "outputs": [
    {
     "data": {
      "text/html": [
       "<table>\n",
       "<caption>A data.frame: 1 × 1</caption>\n",
       "<thead>\n",
       "\t<tr><th scope=col>mean_prop_rev_article_edits</th></tr>\n",
       "\t<tr><th scope=col>&lt;dbl&gt;</th></tr>\n",
       "</thead>\n",
       "<tbody>\n",
       "\t<tr><td>-6.3</td></tr>\n",
       "</tbody>\n",
       "</table>\n"
      ],
      "text/latex": [
       "A data.frame: 1 × 1\n",
       "\\begin{tabular}{l}\n",
       " mean\\_prop\\_rev\\_article\\_edits\\\\\n",
       " <dbl>\\\\\n",
       "\\hline\n",
       "\t -6.3\\\\\n",
       "\\end{tabular}\n"
      ],
      "text/markdown": [
       "\n",
       "A data.frame: 1 × 1\n",
       "\n",
       "| mean_prop_rev_article_edits &lt;dbl&gt; |\n",
       "|---|\n",
       "| -6.3 |\n",
       "\n"
      ],
      "text/plain": [
       "  mean_prop_rev_article_edits\n",
       "1 -6.3                       "
      ]
     },
     "metadata": {},
     "output_type": "display_data"
    }
   ],
   "source": [
    "## Calculate increase in percent\n",
    "round(100.0 * (rate.platform.agg[3, \"mean_prop_rev_article_edits\"] -\n",
    "               rate.platform.agg[1, \"mean_prop_rev_article_edits\"]) /\n",
    "        rate.platform.agg[1,\"mean_prop_rev_article_edits\"], 1)"
   ]
  },
  {
   "cell_type": "code",
   "execution_count": 36,
   "id": "595f28d7",
   "metadata": {},
   "outputs": [
    {
     "data": {
      "text/html": [
       "<table>\n",
       "<caption>A data.frame: 1 × 1</caption>\n",
       "<thead>\n",
       "\t<tr><th scope=col>mean_prop_rev_article_edits</th></tr>\n",
       "\t<tr><th scope=col>&lt;dbl&gt;</th></tr>\n",
       "</thead>\n",
       "<tbody>\n",
       "\t<tr><td>0.8</td></tr>\n",
       "</tbody>\n",
       "</table>\n"
      ],
      "text/latex": [
       "A data.frame: 1 × 1\n",
       "\\begin{tabular}{l}\n",
       " mean\\_prop\\_rev\\_article\\_edits\\\\\n",
       " <dbl>\\\\\n",
       "\\hline\n",
       "\t 0.8\\\\\n",
       "\\end{tabular}\n"
      ],
      "text/markdown": [
       "\n",
       "A data.frame: 1 × 1\n",
       "\n",
       "| mean_prop_rev_article_edits &lt;dbl&gt; |\n",
       "|---|\n",
       "| 0.8 |\n",
       "\n"
      ],
      "text/plain": [
       "  mean_prop_rev_article_edits\n",
       "1 0.8                        "
      ]
     },
     "metadata": {},
     "output_type": "display_data"
    }
   ],
   "source": [
    "## Calculate increase in percent\n",
    "round(100.0 * (rate.platform.agg[5, \"mean_prop_rev_article_edits\"] -\n",
    "      rate.platform.agg[4, \"mean_prop_rev_article_edits\"]), 1)"
   ]
  },
  {
   "cell_type": "code",
   "execution_count": 38,
   "id": "54649122",
   "metadata": {},
   "outputs": [
    {
     "data": {
      "text/html": [
       "<table>\n",
       "<caption>A data.frame: 1 × 1</caption>\n",
       "<thead>\n",
       "\t<tr><th scope=col>mean_prop_rev_article_edits</th></tr>\n",
       "\t<tr><th scope=col>&lt;dbl&gt;</th></tr>\n",
       "</thead>\n",
       "<tbody>\n",
       "\t<tr><td>2.2</td></tr>\n",
       "</tbody>\n",
       "</table>\n"
      ],
      "text/latex": [
       "A data.frame: 1 × 1\n",
       "\\begin{tabular}{l}\n",
       " mean\\_prop\\_rev\\_article\\_edits\\\\\n",
       " <dbl>\\\\\n",
       "\\hline\n",
       "\t 2.2\\\\\n",
       "\\end{tabular}\n"
      ],
      "text/markdown": [
       "\n",
       "A data.frame: 1 × 1\n",
       "\n",
       "| mean_prop_rev_article_edits &lt;dbl&gt; |\n",
       "|---|\n",
       "| 2.2 |\n",
       "\n"
      ],
      "text/plain": [
       "  mean_prop_rev_article_edits\n",
       "1 2.2                        "
      ]
     },
     "metadata": {},
     "output_type": "display_data"
    }
   ],
   "source": [
    "## Calculate increase in percent\n",
    "round(100.0 * (rate.platform.agg[5, \"mean_prop_rev_article_edits\"] -\n",
    "               rate.platform.agg[4, \"mean_prop_rev_article_edits\"]) /\n",
    "        rate.platform.agg[4,\"mean_prop_rev_article_edits\"], 1)"
   ]
  },
  {
   "cell_type": "code",
   "execution_count": 37,
   "id": "cdcb7cc7",
   "metadata": {},
   "outputs": [
    {
     "data": {
      "text/html": [
       "<table>\n",
       "<caption>A data.frame: 1 × 1</caption>\n",
       "<thead>\n",
       "\t<tr><th scope=col>mean_prop_rev_article_edits</th></tr>\n",
       "\t<tr><th scope=col>&lt;dbl&gt;</th></tr>\n",
       "</thead>\n",
       "<tbody>\n",
       "\t<tr><td>-4.9</td></tr>\n",
       "</tbody>\n",
       "</table>\n"
      ],
      "text/latex": [
       "A data.frame: 1 × 1\n",
       "\\begin{tabular}{l}\n",
       " mean\\_prop\\_rev\\_article\\_edits\\\\\n",
       " <dbl>\\\\\n",
       "\\hline\n",
       "\t -4.9\\\\\n",
       "\\end{tabular}\n"
      ],
      "text/markdown": [
       "\n",
       "A data.frame: 1 × 1\n",
       "\n",
       "| mean_prop_rev_article_edits &lt;dbl&gt; |\n",
       "|---|\n",
       "| -4.9 |\n",
       "\n"
      ],
      "text/plain": [
       "  mean_prop_rev_article_edits\n",
       "1 -4.9                       "
      ]
     },
     "metadata": {},
     "output_type": "display_data"
    }
   ],
   "source": [
    "## Calculate increase in percent\n",
    "round(100.0 * (rate.platform.agg[6, \"mean_prop_rev_article_edits\"] -\n",
    "      rate.platform.agg[4, \"mean_prop_rev_article_edits\"]), 1)"
   ]
  },
  {
   "cell_type": "code",
   "execution_count": 39,
   "id": "f001f56f",
   "metadata": {},
   "outputs": [
    {
     "data": {
      "text/html": [
       "<table>\n",
       "<caption>A data.frame: 1 × 1</caption>\n",
       "<thead>\n",
       "\t<tr><th scope=col>mean_prop_rev_article_edits</th></tr>\n",
       "\t<tr><th scope=col>&lt;dbl&gt;</th></tr>\n",
       "</thead>\n",
       "<tbody>\n",
       "\t<tr><td>-13.7</td></tr>\n",
       "</tbody>\n",
       "</table>\n"
      ],
      "text/latex": [
       "A data.frame: 1 × 1\n",
       "\\begin{tabular}{l}\n",
       " mean\\_prop\\_rev\\_article\\_edits\\\\\n",
       " <dbl>\\\\\n",
       "\\hline\n",
       "\t -13.7\\\\\n",
       "\\end{tabular}\n"
      ],
      "text/markdown": [
       "\n",
       "A data.frame: 1 × 1\n",
       "\n",
       "| mean_prop_rev_article_edits &lt;dbl&gt; |\n",
       "|---|\n",
       "| -13.7 |\n",
       "\n"
      ],
      "text/plain": [
       "  mean_prop_rev_article_edits\n",
       "1 -13.7                      "
      ]
     },
     "metadata": {},
     "output_type": "display_data"
    }
   ],
   "source": [
    "## Calculate increase in percent\n",
    "round(100.0 * (rate.platform.agg[6, \"mean_prop_rev_article_edits\"] -\n",
    "               rate.platform.agg[4, \"mean_prop_rev_article_edits\"]) /\n",
    "        rate.platform.agg[4,\"mean_prop_rev_article_edits\"], 1)"
   ]
  },
  {
   "cell_type": "code",
   "execution_count": 24,
   "id": "f0554dd4",
   "metadata": {},
   "outputs": [],
   "source": [
    "# Establish three user groups based on revert rate (all, none, or some)\n",
    "user_edit_data <- user_edit_data %>%\n",
    "    mutate(revert_group = ifelse(\n",
    "        prop_rev_article_edits == 0, 'None reverted',\n",
    "        ifelse(prop_rev_article_edits == 1, 'All reverted', 'Some reverted')\n",
    "        )\n",
    "   )"
   ]
  },
  {
   "cell_type": "code",
   "execution_count": 41,
   "id": "42b1c3ca",
   "metadata": {},
   "outputs": [
    {
     "data": {
      "text/html": [
       "<table>\n",
       "<caption>A grouped_df: 18 × 6</caption>\n",
       "<thead>\n",
       "\t<tr><th scope=col>platform</th><th scope=col>Group</th><th scope=col>revert_group</th><th scope=col>n</th><th scope=col>perc</th><th scope=col>rounded_perc</th></tr>\n",
       "\t<tr><th scope=col>&lt;fct&gt;</th><th scope=col>&lt;fct&gt;</th><th scope=col>&lt;chr&gt;</th><th scope=col>&lt;int&gt;</th><th scope=col>&lt;dbl&gt;</th><th scope=col>&lt;dbl&gt;</th></tr>\n",
       "</thead>\n",
       "<tbody>\n",
       "\t<tr><td>desktop</td><td>Control     </td><td>All reverted </td><td> 661</td><td>15.3</td><td>15.3</td></tr>\n",
       "\t<tr><td>desktop</td><td>Control     </td><td>None reverted</td><td>3184</td><td>73.7</td><td>73.7</td></tr>\n",
       "\t<tr><td>desktop</td><td>Control     </td><td>Some reverted</td><td> 473</td><td>11.0</td><td>11.0</td></tr>\n",
       "\t<tr><td>desktop</td><td>Unstructured</td><td>All reverted </td><td>1344</td><td>15.3</td><td>15.3</td></tr>\n",
       "\t<tr><td>desktop</td><td>Unstructured</td><td>None reverted</td><td>6497</td><td>74.2</td><td>74.2</td></tr>\n",
       "\t<tr><td>desktop</td><td>Unstructured</td><td>Some reverted</td><td> 920</td><td>10.5</td><td>10.5</td></tr>\n",
       "\t<tr><td>desktop</td><td>Add-a-link  </td><td>All reverted </td><td>1274</td><td>14.1</td><td>14.1</td></tr>\n",
       "\t<tr><td>desktop</td><td>Add-a-link  </td><td>None reverted</td><td>6718</td><td>74.4</td><td>74.4</td></tr>\n",
       "\t<tr><td>desktop</td><td>Add-a-link  </td><td>Some reverted</td><td>1035</td><td>11.5</td><td>11.5</td></tr>\n",
       "\t<tr><td>mobile </td><td>Control     </td><td>All reverted </td><td>1088</td><td>29.4</td><td>29.4</td></tr>\n",
       "\t<tr><td>mobile </td><td>Control     </td><td>None reverted</td><td>2095</td><td>56.7</td><td>56.7</td></tr>\n",
       "\t<tr><td>mobile </td><td>Control     </td><td>Some reverted</td><td> 512</td><td>13.9</td><td>13.9</td></tr>\n",
       "\t<tr><td>mobile </td><td>Unstructured</td><td>All reverted </td><td>2108</td><td>29.7</td><td>29.7</td></tr>\n",
       "\t<tr><td>mobile </td><td>Unstructured</td><td>None reverted</td><td>3922</td><td>55.3</td><td>55.3</td></tr>\n",
       "\t<tr><td>mobile </td><td>Unstructured</td><td>Some reverted</td><td>1065</td><td>15.0</td><td>15.0</td></tr>\n",
       "\t<tr><td>mobile </td><td>Add-a-link  </td><td>All reverted </td><td>1876</td><td>24.7</td><td>24.7</td></tr>\n",
       "\t<tr><td>mobile </td><td>Add-a-link  </td><td>None reverted</td><td>4633</td><td>60.9</td><td>60.9</td></tr>\n",
       "\t<tr><td>mobile </td><td>Add-a-link  </td><td>Some reverted</td><td>1096</td><td>14.4</td><td>14.4</td></tr>\n",
       "</tbody>\n",
       "</table>\n"
      ],
      "text/latex": [
       "A grouped\\_df: 18 × 6\n",
       "\\begin{tabular}{llllll}\n",
       " platform & Group & revert\\_group & n & perc & rounded\\_perc\\\\\n",
       " <fct> & <fct> & <chr> & <int> & <dbl> & <dbl>\\\\\n",
       "\\hline\n",
       "\t desktop & Control      & All reverted  &  661 & 15.3 & 15.3\\\\\n",
       "\t desktop & Control      & None reverted & 3184 & 73.7 & 73.7\\\\\n",
       "\t desktop & Control      & Some reverted &  473 & 11.0 & 11.0\\\\\n",
       "\t desktop & Unstructured & All reverted  & 1344 & 15.3 & 15.3\\\\\n",
       "\t desktop & Unstructured & None reverted & 6497 & 74.2 & 74.2\\\\\n",
       "\t desktop & Unstructured & Some reverted &  920 & 10.5 & 10.5\\\\\n",
       "\t desktop & Add-a-link   & All reverted  & 1274 & 14.1 & 14.1\\\\\n",
       "\t desktop & Add-a-link   & None reverted & 6718 & 74.4 & 74.4\\\\\n",
       "\t desktop & Add-a-link   & Some reverted & 1035 & 11.5 & 11.5\\\\\n",
       "\t mobile  & Control      & All reverted  & 1088 & 29.4 & 29.4\\\\\n",
       "\t mobile  & Control      & None reverted & 2095 & 56.7 & 56.7\\\\\n",
       "\t mobile  & Control      & Some reverted &  512 & 13.9 & 13.9\\\\\n",
       "\t mobile  & Unstructured & All reverted  & 2108 & 29.7 & 29.7\\\\\n",
       "\t mobile  & Unstructured & None reverted & 3922 & 55.3 & 55.3\\\\\n",
       "\t mobile  & Unstructured & Some reverted & 1065 & 15.0 & 15.0\\\\\n",
       "\t mobile  & Add-a-link   & All reverted  & 1876 & 24.7 & 24.7\\\\\n",
       "\t mobile  & Add-a-link   & None reverted & 4633 & 60.9 & 60.9\\\\\n",
       "\t mobile  & Add-a-link   & Some reverted & 1096 & 14.4 & 14.4\\\\\n",
       "\\end{tabular}\n"
      ],
      "text/markdown": [
       "\n",
       "A grouped_df: 18 × 6\n",
       "\n",
       "| platform &lt;fct&gt; | Group &lt;fct&gt; | revert_group &lt;chr&gt; | n &lt;int&gt; | perc &lt;dbl&gt; | rounded_perc &lt;dbl&gt; |\n",
       "|---|---|---|---|---|---|\n",
       "| desktop | Control      | All reverted  |  661 | 15.3 | 15.3 |\n",
       "| desktop | Control      | None reverted | 3184 | 73.7 | 73.7 |\n",
       "| desktop | Control      | Some reverted |  473 | 11.0 | 11.0 |\n",
       "| desktop | Unstructured | All reverted  | 1344 | 15.3 | 15.3 |\n",
       "| desktop | Unstructured | None reverted | 6497 | 74.2 | 74.2 |\n",
       "| desktop | Unstructured | Some reverted |  920 | 10.5 | 10.5 |\n",
       "| desktop | Add-a-link   | All reverted  | 1274 | 14.1 | 14.1 |\n",
       "| desktop | Add-a-link   | None reverted | 6718 | 74.4 | 74.4 |\n",
       "| desktop | Add-a-link   | Some reverted | 1035 | 11.5 | 11.5 |\n",
       "| mobile  | Control      | All reverted  | 1088 | 29.4 | 29.4 |\n",
       "| mobile  | Control      | None reverted | 2095 | 56.7 | 56.7 |\n",
       "| mobile  | Control      | Some reverted |  512 | 13.9 | 13.9 |\n",
       "| mobile  | Unstructured | All reverted  | 2108 | 29.7 | 29.7 |\n",
       "| mobile  | Unstructured | None reverted | 3922 | 55.3 | 55.3 |\n",
       "| mobile  | Unstructured | Some reverted | 1065 | 15.0 | 15.0 |\n",
       "| mobile  | Add-a-link   | All reverted  | 1876 | 24.7 | 24.7 |\n",
       "| mobile  | Add-a-link   | None reverted | 4633 | 60.9 | 60.9 |\n",
       "| mobile  | Add-a-link   | Some reverted | 1096 | 14.4 | 14.4 |\n",
       "\n"
      ],
      "text/plain": [
       "   platform Group        revert_group  n    perc rounded_perc\n",
       "1  desktop  Control      All reverted   661 15.3 15.3        \n",
       "2  desktop  Control      None reverted 3184 73.7 73.7        \n",
       "3  desktop  Control      Some reverted  473 11.0 11.0        \n",
       "4  desktop  Unstructured All reverted  1344 15.3 15.3        \n",
       "5  desktop  Unstructured None reverted 6497 74.2 74.2        \n",
       "6  desktop  Unstructured Some reverted  920 10.5 10.5        \n",
       "7  desktop  Add-a-link   All reverted  1274 14.1 14.1        \n",
       "8  desktop  Add-a-link   None reverted 6718 74.4 74.4        \n",
       "9  desktop  Add-a-link   Some reverted 1035 11.5 11.5        \n",
       "10 mobile   Control      All reverted  1088 29.4 29.4        \n",
       "11 mobile   Control      None reverted 2095 56.7 56.7        \n",
       "12 mobile   Control      Some reverted  512 13.9 13.9        \n",
       "13 mobile   Unstructured All reverted  2108 29.7 29.7        \n",
       "14 mobile   Unstructured None reverted 3922 55.3 55.3        \n",
       "15 mobile   Unstructured Some reverted 1065 15.0 15.0        \n",
       "16 mobile   Add-a-link   All reverted  1876 24.7 24.7        \n",
       "17 mobile   Add-a-link   None reverted 4633 60.9 60.9        \n",
       "18 mobile   Add-a-link   Some reverted 1096 14.4 14.4        "
      ]
     },
     "metadata": {},
     "output_type": "display_data"
    }
   ],
   "source": [
    "# Aggregate across platform and Group and calculate\n",
    "# the proportion of users with all, none, or some edits reverted.\n",
    "revert.group.agg <- user_edit_data %>%\n",
    "    filter(num_total_article_edits > 0) %>%\n",
    "    group_by(platform, Group, revert_group) %>%\n",
    "    summarize(n = n(), .groups = 'keep') %>%\n",
    "    group_by(platform, Group) %>%\n",
    "    mutate(perc = 100 * n / sum(n), rounded_perc = round(100 * n / sum(n), 1))\n",
    "revert.group.agg"
   ]
  },
  {
   "cell_type": "code",
   "execution_count": 48,
   "id": "75b6daff",
   "metadata": {},
   "outputs": [
    {
     "data": {
      "text/html": [
       "<table>\n",
       "<caption>A data.frame: 1 × 1</caption>\n",
       "<thead>\n",
       "\t<tr><th scope=col>perc</th></tr>\n",
       "\t<tr><th scope=col>&lt;dbl&gt;</th></tr>\n",
       "</thead>\n",
       "<tbody>\n",
       "\t<tr><td>0</td></tr>\n",
       "</tbody>\n",
       "</table>\n"
      ],
      "text/latex": [
       "A data.frame: 1 × 1\n",
       "\\begin{tabular}{l}\n",
       " perc\\\\\n",
       " <dbl>\\\\\n",
       "\\hline\n",
       "\t 0\\\\\n",
       "\\end{tabular}\n"
      ],
      "text/markdown": [
       "\n",
       "A data.frame: 1 × 1\n",
       "\n",
       "| perc &lt;dbl&gt; |\n",
       "|---|\n",
       "| 0 |\n",
       "\n"
      ],
      "text/plain": [
       "  perc\n",
       "1 0   "
      ]
     },
     "metadata": {},
     "output_type": "display_data"
    }
   ],
   "source": [
    "## Calculate lift\n",
    "round(revert.group.agg[4, \"perc\"] - revert.group.agg[1, \"perc\"], 1)"
   ]
  },
  {
   "cell_type": "code",
   "execution_count": 50,
   "id": "aa850fe8",
   "metadata": {},
   "outputs": [
    {
     "data": {
      "text/html": [
       "<table>\n",
       "<caption>A data.frame: 1 × 1</caption>\n",
       "<thead>\n",
       "\t<tr><th scope=col>perc</th></tr>\n",
       "\t<tr><th scope=col>&lt;dbl&gt;</th></tr>\n",
       "</thead>\n",
       "<tbody>\n",
       "\t<tr><td>-1.2</td></tr>\n",
       "</tbody>\n",
       "</table>\n"
      ],
      "text/latex": [
       "A data.frame: 1 × 1\n",
       "\\begin{tabular}{l}\n",
       " perc\\\\\n",
       " <dbl>\\\\\n",
       "\\hline\n",
       "\t -1.2\\\\\n",
       "\\end{tabular}\n"
      ],
      "text/markdown": [
       "\n",
       "A data.frame: 1 × 1\n",
       "\n",
       "| perc &lt;dbl&gt; |\n",
       "|---|\n",
       "| -1.2 |\n",
       "\n"
      ],
      "text/plain": [
       "  perc\n",
       "1 -1.2"
      ]
     },
     "metadata": {},
     "output_type": "display_data"
    }
   ],
   "source": [
    "## Calculate lift\n",
    "round(revert.group.agg[7, \"perc\"] - revert.group.agg[1, \"perc\"], 1)"
   ]
  },
  {
   "cell_type": "code",
   "execution_count": 51,
   "id": "0f6340fd",
   "metadata": {},
   "outputs": [
    {
     "data": {
      "text/html": [
       "<table>\n",
       "<caption>A data.frame: 1 × 1</caption>\n",
       "<thead>\n",
       "\t<tr><th scope=col>perc</th></tr>\n",
       "\t<tr><th scope=col>&lt;dbl&gt;</th></tr>\n",
       "</thead>\n",
       "<tbody>\n",
       "\t<tr><td>-7.8</td></tr>\n",
       "</tbody>\n",
       "</table>\n"
      ],
      "text/latex": [
       "A data.frame: 1 × 1\n",
       "\\begin{tabular}{l}\n",
       " perc\\\\\n",
       " <dbl>\\\\\n",
       "\\hline\n",
       "\t -7.8\\\\\n",
       "\\end{tabular}\n"
      ],
      "text/markdown": [
       "\n",
       "A data.frame: 1 × 1\n",
       "\n",
       "| perc &lt;dbl&gt; |\n",
       "|---|\n",
       "| -7.8 |\n",
       "\n"
      ],
      "text/plain": [
       "  perc\n",
       "1 -7.8"
      ]
     },
     "metadata": {},
     "output_type": "display_data"
    }
   ],
   "source": [
    "## Calculate diff\n",
    "round(100.0 * (revert.group.agg[7, \"perc\"] -\n",
    "               revert.group.agg[1, \"perc\"]) /\n",
    "        revert.group.agg[1,\"perc\"], 1)"
   ]
  },
  {
   "cell_type": "code",
   "execution_count": 54,
   "id": "10971c98",
   "metadata": {},
   "outputs": [
    {
     "data": {
      "text/html": [
       "<table>\n",
       "<caption>A data.frame: 1 × 1</caption>\n",
       "<thead>\n",
       "\t<tr><th scope=col>perc</th></tr>\n",
       "\t<tr><th scope=col>&lt;dbl&gt;</th></tr>\n",
       "</thead>\n",
       "<tbody>\n",
       "\t<tr><td>0.7</td></tr>\n",
       "</tbody>\n",
       "</table>\n"
      ],
      "text/latex": [
       "A data.frame: 1 × 1\n",
       "\\begin{tabular}{l}\n",
       " perc\\\\\n",
       " <dbl>\\\\\n",
       "\\hline\n",
       "\t 0.7\\\\\n",
       "\\end{tabular}\n"
      ],
      "text/markdown": [
       "\n",
       "A data.frame: 1 × 1\n",
       "\n",
       "| perc &lt;dbl&gt; |\n",
       "|---|\n",
       "| 0.7 |\n",
       "\n"
      ],
      "text/plain": [
       "  perc\n",
       "1 0.7 "
      ]
     },
     "metadata": {},
     "output_type": "display_data"
    }
   ],
   "source": [
    "## Calculate lift\n",
    "round(revert.group.agg[8, \"perc\"] - revert.group.agg[2, \"perc\"], 1)"
   ]
  },
  {
   "cell_type": "code",
   "execution_count": 55,
   "id": "d2214c3c",
   "metadata": {},
   "outputs": [
    {
     "data": {
      "text/html": [
       "<table>\n",
       "<caption>A data.frame: 1 × 1</caption>\n",
       "<thead>\n",
       "\t<tr><th scope=col>perc</th></tr>\n",
       "\t<tr><th scope=col>&lt;dbl&gt;</th></tr>\n",
       "</thead>\n",
       "<tbody>\n",
       "\t<tr><td>0.9</td></tr>\n",
       "</tbody>\n",
       "</table>\n"
      ],
      "text/latex": [
       "A data.frame: 1 × 1\n",
       "\\begin{tabular}{l}\n",
       " perc\\\\\n",
       " <dbl>\\\\\n",
       "\\hline\n",
       "\t 0.9\\\\\n",
       "\\end{tabular}\n"
      ],
      "text/markdown": [
       "\n",
       "A data.frame: 1 × 1\n",
       "\n",
       "| perc &lt;dbl&gt; |\n",
       "|---|\n",
       "| 0.9 |\n",
       "\n"
      ],
      "text/plain": [
       "  perc\n",
       "1 0.9 "
      ]
     },
     "metadata": {},
     "output_type": "display_data"
    }
   ],
   "source": [
    "## Calculate diff\n",
    "round(100.0 * (revert.group.agg[8, \"perc\"] -\n",
    "               revert.group.agg[2, \"perc\"]) /\n",
    "        revert.group.agg[2,\"perc\"], 1)"
   ]
  },
  {
   "cell_type": "code",
   "execution_count": 52,
   "id": "2937f9a1",
   "metadata": {},
   "outputs": [
    {
     "data": {
      "text/html": [
       "<table>\n",
       "<caption>A data.frame: 1 × 1</caption>\n",
       "<thead>\n",
       "\t<tr><th scope=col>perc</th></tr>\n",
       "\t<tr><th scope=col>&lt;dbl&gt;</th></tr>\n",
       "</thead>\n",
       "<tbody>\n",
       "\t<tr><td>0.4</td></tr>\n",
       "</tbody>\n",
       "</table>\n"
      ],
      "text/latex": [
       "A data.frame: 1 × 1\n",
       "\\begin{tabular}{l}\n",
       " perc\\\\\n",
       " <dbl>\\\\\n",
       "\\hline\n",
       "\t 0.4\\\\\n",
       "\\end{tabular}\n"
      ],
      "text/markdown": [
       "\n",
       "A data.frame: 1 × 1\n",
       "\n",
       "| perc &lt;dbl&gt; |\n",
       "|---|\n",
       "| 0.4 |\n",
       "\n"
      ],
      "text/plain": [
       "  perc\n",
       "1 0.4 "
      ]
     },
     "metadata": {},
     "output_type": "display_data"
    }
   ],
   "source": [
    "## Calculate lift\n",
    "round(revert.group.agg[5, \"perc\"] - revert.group.agg[2, \"perc\"], 1)"
   ]
  },
  {
   "cell_type": "code",
   "execution_count": 53,
   "id": "9938d9f6",
   "metadata": {},
   "outputs": [
    {
     "data": {
      "text/html": [
       "<table>\n",
       "<caption>A data.frame: 1 × 1</caption>\n",
       "<thead>\n",
       "\t<tr><th scope=col>perc</th></tr>\n",
       "\t<tr><th scope=col>&lt;dbl&gt;</th></tr>\n",
       "</thead>\n",
       "<tbody>\n",
       "\t<tr><td>0.6</td></tr>\n",
       "</tbody>\n",
       "</table>\n"
      ],
      "text/latex": [
       "A data.frame: 1 × 1\n",
       "\\begin{tabular}{l}\n",
       " perc\\\\\n",
       " <dbl>\\\\\n",
       "\\hline\n",
       "\t 0.6\\\\\n",
       "\\end{tabular}\n"
      ],
      "text/markdown": [
       "\n",
       "A data.frame: 1 × 1\n",
       "\n",
       "| perc &lt;dbl&gt; |\n",
       "|---|\n",
       "| 0.6 |\n",
       "\n"
      ],
      "text/plain": [
       "  perc\n",
       "1 0.6 "
      ]
     },
     "metadata": {},
     "output_type": "display_data"
    }
   ],
   "source": [
    "## Calculate diff\n",
    "round(100.0 * (revert.group.agg[5, \"perc\"] -\n",
    "               revert.group.agg[2, \"perc\"]) /\n",
    "        revert.group.agg[2,\"perc\"], 1)"
   ]
  },
  {
   "cell_type": "code",
   "execution_count": 57,
   "id": "8a18cb57",
   "metadata": {},
   "outputs": [
    {
     "data": {
      "text/html": [
       "<table>\n",
       "<caption>A data.frame: 1 × 1</caption>\n",
       "<thead>\n",
       "\t<tr><th scope=col>perc</th></tr>\n",
       "\t<tr><th scope=col>&lt;dbl&gt;</th></tr>\n",
       "</thead>\n",
       "<tbody>\n",
       "\t<tr><td>-0.5</td></tr>\n",
       "</tbody>\n",
       "</table>\n"
      ],
      "text/latex": [
       "A data.frame: 1 × 1\n",
       "\\begin{tabular}{l}\n",
       " perc\\\\\n",
       " <dbl>\\\\\n",
       "\\hline\n",
       "\t -0.5\\\\\n",
       "\\end{tabular}\n"
      ],
      "text/markdown": [
       "\n",
       "A data.frame: 1 × 1\n",
       "\n",
       "| perc &lt;dbl&gt; |\n",
       "|---|\n",
       "| -0.5 |\n",
       "\n"
      ],
      "text/plain": [
       "  perc\n",
       "1 -0.5"
      ]
     },
     "metadata": {},
     "output_type": "display_data"
    }
   ],
   "source": [
    "## Calculate lift\n",
    "round(revert.group.agg[6, \"perc\"] - revert.group.agg[3, \"perc\"], 1)"
   ]
  },
  {
   "cell_type": "code",
   "execution_count": 58,
   "id": "65bcc293",
   "metadata": {},
   "outputs": [
    {
     "data": {
      "text/html": [
       "<table>\n",
       "<caption>A data.frame: 1 × 1</caption>\n",
       "<thead>\n",
       "\t<tr><th scope=col>perc</th></tr>\n",
       "\t<tr><th scope=col>&lt;dbl&gt;</th></tr>\n",
       "</thead>\n",
       "<tbody>\n",
       "\t<tr><td>-4.1</td></tr>\n",
       "</tbody>\n",
       "</table>\n"
      ],
      "text/latex": [
       "A data.frame: 1 × 1\n",
       "\\begin{tabular}{l}\n",
       " perc\\\\\n",
       " <dbl>\\\\\n",
       "\\hline\n",
       "\t -4.1\\\\\n",
       "\\end{tabular}\n"
      ],
      "text/markdown": [
       "\n",
       "A data.frame: 1 × 1\n",
       "\n",
       "| perc &lt;dbl&gt; |\n",
       "|---|\n",
       "| -4.1 |\n",
       "\n"
      ],
      "text/plain": [
       "  perc\n",
       "1 -4.1"
      ]
     },
     "metadata": {},
     "output_type": "display_data"
    }
   ],
   "source": [
    "## Calculate diff\n",
    "round(100.0 * (revert.group.agg[6, \"perc\"] -\n",
    "               revert.group.agg[3, \"perc\"]) /\n",
    "        revert.group.agg[3,\"perc\"], 1)"
   ]
  },
  {
   "cell_type": "code",
   "execution_count": 59,
   "id": "ff1e8218",
   "metadata": {},
   "outputs": [
    {
     "data": {
      "text/html": [
       "<table>\n",
       "<caption>A data.frame: 1 × 1</caption>\n",
       "<thead>\n",
       "\t<tr><th scope=col>perc</th></tr>\n",
       "\t<tr><th scope=col>&lt;dbl&gt;</th></tr>\n",
       "</thead>\n",
       "<tbody>\n",
       "\t<tr><td>0.5</td></tr>\n",
       "</tbody>\n",
       "</table>\n"
      ],
      "text/latex": [
       "A data.frame: 1 × 1\n",
       "\\begin{tabular}{l}\n",
       " perc\\\\\n",
       " <dbl>\\\\\n",
       "\\hline\n",
       "\t 0.5\\\\\n",
       "\\end{tabular}\n"
      ],
      "text/markdown": [
       "\n",
       "A data.frame: 1 × 1\n",
       "\n",
       "| perc &lt;dbl&gt; |\n",
       "|---|\n",
       "| 0.5 |\n",
       "\n"
      ],
      "text/plain": [
       "  perc\n",
       "1 0.5 "
      ]
     },
     "metadata": {},
     "output_type": "display_data"
    }
   ],
   "source": [
    "## Calculate lift\n",
    "round(revert.group.agg[9, \"perc\"] - revert.group.agg[3, \"perc\"], 1)"
   ]
  },
  {
   "cell_type": "code",
   "execution_count": 60,
   "id": "b431f9f2",
   "metadata": {},
   "outputs": [
    {
     "data": {
      "text/html": [
       "<table>\n",
       "<caption>A data.frame: 1 × 1</caption>\n",
       "<thead>\n",
       "\t<tr><th scope=col>perc</th></tr>\n",
       "\t<tr><th scope=col>&lt;dbl&gt;</th></tr>\n",
       "</thead>\n",
       "<tbody>\n",
       "\t<tr><td>4.7</td></tr>\n",
       "</tbody>\n",
       "</table>\n"
      ],
      "text/latex": [
       "A data.frame: 1 × 1\n",
       "\\begin{tabular}{l}\n",
       " perc\\\\\n",
       " <dbl>\\\\\n",
       "\\hline\n",
       "\t 4.7\\\\\n",
       "\\end{tabular}\n"
      ],
      "text/markdown": [
       "\n",
       "A data.frame: 1 × 1\n",
       "\n",
       "| perc &lt;dbl&gt; |\n",
       "|---|\n",
       "| 4.7 |\n",
       "\n"
      ],
      "text/plain": [
       "  perc\n",
       "1 4.7 "
      ]
     },
     "metadata": {},
     "output_type": "display_data"
    }
   ],
   "source": [
    "## Calculate diff\n",
    "round(100.0 * (revert.group.agg[9, \"perc\"] -\n",
    "               revert.group.agg[3, \"perc\"]) /\n",
    "        revert.group.agg[3,\"perc\"], 1)"
   ]
  },
  {
   "cell_type": "code",
   "execution_count": 61,
   "id": "73b06c1b",
   "metadata": {},
   "outputs": [
    {
     "data": {
      "text/html": [
       "<table>\n",
       "<caption>A data.frame: 1 × 1</caption>\n",
       "<thead>\n",
       "\t<tr><th scope=col>perc</th></tr>\n",
       "\t<tr><th scope=col>&lt;dbl&gt;</th></tr>\n",
       "</thead>\n",
       "<tbody>\n",
       "\t<tr><td>0.3</td></tr>\n",
       "</tbody>\n",
       "</table>\n"
      ],
      "text/latex": [
       "A data.frame: 1 × 1\n",
       "\\begin{tabular}{l}\n",
       " perc\\\\\n",
       " <dbl>\\\\\n",
       "\\hline\n",
       "\t 0.3\\\\\n",
       "\\end{tabular}\n"
      ],
      "text/markdown": [
       "\n",
       "A data.frame: 1 × 1\n",
       "\n",
       "| perc &lt;dbl&gt; |\n",
       "|---|\n",
       "| 0.3 |\n",
       "\n"
      ],
      "text/plain": [
       "  perc\n",
       "1 0.3 "
      ]
     },
     "metadata": {},
     "output_type": "display_data"
    }
   ],
   "source": [
    "## Calculate lift\n",
    "round(revert.group.agg[13, \"perc\"] - revert.group.agg[10, \"perc\"], 1)"
   ]
  },
  {
   "cell_type": "code",
   "execution_count": 62,
   "id": "02c23030",
   "metadata": {},
   "outputs": [
    {
     "data": {
      "text/html": [
       "<table>\n",
       "<caption>A data.frame: 1 × 1</caption>\n",
       "<thead>\n",
       "\t<tr><th scope=col>perc</th></tr>\n",
       "\t<tr><th scope=col>&lt;dbl&gt;</th></tr>\n",
       "</thead>\n",
       "<tbody>\n",
       "\t<tr><td>0.9</td></tr>\n",
       "</tbody>\n",
       "</table>\n"
      ],
      "text/latex": [
       "A data.frame: 1 × 1\n",
       "\\begin{tabular}{l}\n",
       " perc\\\\\n",
       " <dbl>\\\\\n",
       "\\hline\n",
       "\t 0.9\\\\\n",
       "\\end{tabular}\n"
      ],
      "text/markdown": [
       "\n",
       "A data.frame: 1 × 1\n",
       "\n",
       "| perc &lt;dbl&gt; |\n",
       "|---|\n",
       "| 0.9 |\n",
       "\n"
      ],
      "text/plain": [
       "  perc\n",
       "1 0.9 "
      ]
     },
     "metadata": {},
     "output_type": "display_data"
    }
   ],
   "source": [
    "## Calculate diff\n",
    "round(100.0 * (revert.group.agg[13, \"perc\"] -\n",
    "               revert.group.agg[10, \"perc\"]) /\n",
    "        revert.group.agg[10,\"perc\"], 1)"
   ]
  },
  {
   "cell_type": "code",
   "execution_count": 63,
   "id": "ae4c2b68",
   "metadata": {},
   "outputs": [
    {
     "data": {
      "text/html": [
       "<table>\n",
       "<caption>A data.frame: 1 × 1</caption>\n",
       "<thead>\n",
       "\t<tr><th scope=col>perc</th></tr>\n",
       "\t<tr><th scope=col>&lt;dbl&gt;</th></tr>\n",
       "</thead>\n",
       "<tbody>\n",
       "\t<tr><td>-4.8</td></tr>\n",
       "</tbody>\n",
       "</table>\n"
      ],
      "text/latex": [
       "A data.frame: 1 × 1\n",
       "\\begin{tabular}{l}\n",
       " perc\\\\\n",
       " <dbl>\\\\\n",
       "\\hline\n",
       "\t -4.8\\\\\n",
       "\\end{tabular}\n"
      ],
      "text/markdown": [
       "\n",
       "A data.frame: 1 × 1\n",
       "\n",
       "| perc &lt;dbl&gt; |\n",
       "|---|\n",
       "| -4.8 |\n",
       "\n"
      ],
      "text/plain": [
       "  perc\n",
       "1 -4.8"
      ]
     },
     "metadata": {},
     "output_type": "display_data"
    }
   ],
   "source": [
    "## Calculate lift\n",
    "round(revert.group.agg[16, \"perc\"] - revert.group.agg[10, \"perc\"], 1)"
   ]
  },
  {
   "cell_type": "code",
   "execution_count": 64,
   "id": "bb91e406",
   "metadata": {},
   "outputs": [
    {
     "data": {
      "text/html": [
       "<table>\n",
       "<caption>A data.frame: 1 × 1</caption>\n",
       "<thead>\n",
       "\t<tr><th scope=col>perc</th></tr>\n",
       "\t<tr><th scope=col>&lt;dbl&gt;</th></tr>\n",
       "</thead>\n",
       "<tbody>\n",
       "\t<tr><td>-16.2</td></tr>\n",
       "</tbody>\n",
       "</table>\n"
      ],
      "text/latex": [
       "A data.frame: 1 × 1\n",
       "\\begin{tabular}{l}\n",
       " perc\\\\\n",
       " <dbl>\\\\\n",
       "\\hline\n",
       "\t -16.2\\\\\n",
       "\\end{tabular}\n"
      ],
      "text/markdown": [
       "\n",
       "A data.frame: 1 × 1\n",
       "\n",
       "| perc &lt;dbl&gt; |\n",
       "|---|\n",
       "| -16.2 |\n",
       "\n"
      ],
      "text/plain": [
       "  perc \n",
       "1 -16.2"
      ]
     },
     "metadata": {},
     "output_type": "display_data"
    }
   ],
   "source": [
    "## Calculate diff\n",
    "round(100.0 * (revert.group.agg[16, \"perc\"] -\n",
    "               revert.group.agg[10, \"perc\"]) /\n",
    "        revert.group.agg[10,\"perc\"], 1)"
   ]
  },
  {
   "cell_type": "code",
   "execution_count": 65,
   "id": "901a9461",
   "metadata": {},
   "outputs": [
    {
     "data": {
      "text/html": [
       "<table>\n",
       "<caption>A data.frame: 1 × 1</caption>\n",
       "<thead>\n",
       "\t<tr><th scope=col>perc</th></tr>\n",
       "\t<tr><th scope=col>&lt;dbl&gt;</th></tr>\n",
       "</thead>\n",
       "<tbody>\n",
       "\t<tr><td>-1.4</td></tr>\n",
       "</tbody>\n",
       "</table>\n"
      ],
      "text/latex": [
       "A data.frame: 1 × 1\n",
       "\\begin{tabular}{l}\n",
       " perc\\\\\n",
       " <dbl>\\\\\n",
       "\\hline\n",
       "\t -1.4\\\\\n",
       "\\end{tabular}\n"
      ],
      "text/markdown": [
       "\n",
       "A data.frame: 1 × 1\n",
       "\n",
       "| perc &lt;dbl&gt; |\n",
       "|---|\n",
       "| -1.4 |\n",
       "\n"
      ],
      "text/plain": [
       "  perc\n",
       "1 -1.4"
      ]
     },
     "metadata": {},
     "output_type": "display_data"
    }
   ],
   "source": [
    "## Calculate lift\n",
    "round(revert.group.agg[14, \"perc\"] - revert.group.agg[11, \"perc\"], 1)"
   ]
  },
  {
   "cell_type": "code",
   "execution_count": 66,
   "id": "725ba64e",
   "metadata": {},
   "outputs": [
    {
     "data": {
      "text/html": [
       "<table>\n",
       "<caption>A data.frame: 1 × 1</caption>\n",
       "<thead>\n",
       "\t<tr><th scope=col>perc</th></tr>\n",
       "\t<tr><th scope=col>&lt;dbl&gt;</th></tr>\n",
       "</thead>\n",
       "<tbody>\n",
       "\t<tr><td>-2.5</td></tr>\n",
       "</tbody>\n",
       "</table>\n"
      ],
      "text/latex": [
       "A data.frame: 1 × 1\n",
       "\\begin{tabular}{l}\n",
       " perc\\\\\n",
       " <dbl>\\\\\n",
       "\\hline\n",
       "\t -2.5\\\\\n",
       "\\end{tabular}\n"
      ],
      "text/markdown": [
       "\n",
       "A data.frame: 1 × 1\n",
       "\n",
       "| perc &lt;dbl&gt; |\n",
       "|---|\n",
       "| -2.5 |\n",
       "\n"
      ],
      "text/plain": [
       "  perc\n",
       "1 -2.5"
      ]
     },
     "metadata": {},
     "output_type": "display_data"
    }
   ],
   "source": [
    "## Calculate diff\n",
    "round(100.0 * (revert.group.agg[14, \"perc\"] -\n",
    "               revert.group.agg[11, \"perc\"]) /\n",
    "        revert.group.agg[11,\"perc\"], 1)"
   ]
  },
  {
   "cell_type": "code",
   "execution_count": 67,
   "id": "75995c2a",
   "metadata": {},
   "outputs": [
    {
     "data": {
      "text/html": [
       "<table>\n",
       "<caption>A data.frame: 1 × 1</caption>\n",
       "<thead>\n",
       "\t<tr><th scope=col>perc</th></tr>\n",
       "\t<tr><th scope=col>&lt;dbl&gt;</th></tr>\n",
       "</thead>\n",
       "<tbody>\n",
       "\t<tr><td>4.2</td></tr>\n",
       "</tbody>\n",
       "</table>\n"
      ],
      "text/latex": [
       "A data.frame: 1 × 1\n",
       "\\begin{tabular}{l}\n",
       " perc\\\\\n",
       " <dbl>\\\\\n",
       "\\hline\n",
       "\t 4.2\\\\\n",
       "\\end{tabular}\n"
      ],
      "text/markdown": [
       "\n",
       "A data.frame: 1 × 1\n",
       "\n",
       "| perc &lt;dbl&gt; |\n",
       "|---|\n",
       "| 4.2 |\n",
       "\n"
      ],
      "text/plain": [
       "  perc\n",
       "1 4.2 "
      ]
     },
     "metadata": {},
     "output_type": "display_data"
    }
   ],
   "source": [
    "## Calculate lift\n",
    "round(revert.group.agg[17, \"perc\"] - revert.group.agg[11, \"perc\"], 1)"
   ]
  },
  {
   "cell_type": "code",
   "execution_count": 68,
   "id": "9fe647fd",
   "metadata": {},
   "outputs": [
    {
     "data": {
      "text/html": [
       "<table>\n",
       "<caption>A data.frame: 1 × 1</caption>\n",
       "<thead>\n",
       "\t<tr><th scope=col>perc</th></tr>\n",
       "\t<tr><th scope=col>&lt;dbl&gt;</th></tr>\n",
       "</thead>\n",
       "<tbody>\n",
       "\t<tr><td>7.4</td></tr>\n",
       "</tbody>\n",
       "</table>\n"
      ],
      "text/latex": [
       "A data.frame: 1 × 1\n",
       "\\begin{tabular}{l}\n",
       " perc\\\\\n",
       " <dbl>\\\\\n",
       "\\hline\n",
       "\t 7.4\\\\\n",
       "\\end{tabular}\n"
      ],
      "text/markdown": [
       "\n",
       "A data.frame: 1 × 1\n",
       "\n",
       "| perc &lt;dbl&gt; |\n",
       "|---|\n",
       "| 7.4 |\n",
       "\n"
      ],
      "text/plain": [
       "  perc\n",
       "1 7.4 "
      ]
     },
     "metadata": {},
     "output_type": "display_data"
    }
   ],
   "source": [
    "## Calculate diff\n",
    "round(100.0 * (revert.group.agg[17, \"perc\"] -\n",
    "               revert.group.agg[11, \"perc\"]) /\n",
    "        revert.group.agg[11,\"perc\"], 1)"
   ]
  },
  {
   "cell_type": "code",
   "execution_count": 69,
   "id": "09592082",
   "metadata": {},
   "outputs": [
    {
     "data": {
      "text/html": [
       "<table>\n",
       "<caption>A data.frame: 1 × 1</caption>\n",
       "<thead>\n",
       "\t<tr><th scope=col>perc</th></tr>\n",
       "\t<tr><th scope=col>&lt;dbl&gt;</th></tr>\n",
       "</thead>\n",
       "<tbody>\n",
       "\t<tr><td>1.2</td></tr>\n",
       "</tbody>\n",
       "</table>\n"
      ],
      "text/latex": [
       "A data.frame: 1 × 1\n",
       "\\begin{tabular}{l}\n",
       " perc\\\\\n",
       " <dbl>\\\\\n",
       "\\hline\n",
       "\t 1.2\\\\\n",
       "\\end{tabular}\n"
      ],
      "text/markdown": [
       "\n",
       "A data.frame: 1 × 1\n",
       "\n",
       "| perc &lt;dbl&gt; |\n",
       "|---|\n",
       "| 1.2 |\n",
       "\n"
      ],
      "text/plain": [
       "  perc\n",
       "1 1.2 "
      ]
     },
     "metadata": {},
     "output_type": "display_data"
    }
   ],
   "source": [
    "## Calculate lift\n",
    "round(revert.group.agg[15, \"perc\"] - revert.group.agg[12, \"perc\"], 1)"
   ]
  },
  {
   "cell_type": "code",
   "execution_count": 70,
   "id": "e53f74ff",
   "metadata": {},
   "outputs": [
    {
     "data": {
      "text/html": [
       "<table>\n",
       "<caption>A data.frame: 1 × 1</caption>\n",
       "<thead>\n",
       "\t<tr><th scope=col>perc</th></tr>\n",
       "\t<tr><th scope=col>&lt;dbl&gt;</th></tr>\n",
       "</thead>\n",
       "<tbody>\n",
       "\t<tr><td>8.3</td></tr>\n",
       "</tbody>\n",
       "</table>\n"
      ],
      "text/latex": [
       "A data.frame: 1 × 1\n",
       "\\begin{tabular}{l}\n",
       " perc\\\\\n",
       " <dbl>\\\\\n",
       "\\hline\n",
       "\t 8.3\\\\\n",
       "\\end{tabular}\n"
      ],
      "text/markdown": [
       "\n",
       "A data.frame: 1 × 1\n",
       "\n",
       "| perc &lt;dbl&gt; |\n",
       "|---|\n",
       "| 8.3 |\n",
       "\n"
      ],
      "text/plain": [
       "  perc\n",
       "1 8.3 "
      ]
     },
     "metadata": {},
     "output_type": "display_data"
    }
   ],
   "source": [
    "## Calculate diff\n",
    "round(100.0 * (revert.group.agg[15, \"perc\"] -\n",
    "               revert.group.agg[12, \"perc\"]) /\n",
    "        revert.group.agg[12,\"perc\"], 1)"
   ]
  },
  {
   "cell_type": "code",
   "execution_count": 71,
   "id": "2681afe9",
   "metadata": {},
   "outputs": [
    {
     "data": {
      "text/html": [
       "<table>\n",
       "<caption>A data.frame: 1 × 1</caption>\n",
       "<thead>\n",
       "\t<tr><th scope=col>perc</th></tr>\n",
       "\t<tr><th scope=col>&lt;dbl&gt;</th></tr>\n",
       "</thead>\n",
       "<tbody>\n",
       "\t<tr><td>0.6</td></tr>\n",
       "</tbody>\n",
       "</table>\n"
      ],
      "text/latex": [
       "A data.frame: 1 × 1\n",
       "\\begin{tabular}{l}\n",
       " perc\\\\\n",
       " <dbl>\\\\\n",
       "\\hline\n",
       "\t 0.6\\\\\n",
       "\\end{tabular}\n"
      ],
      "text/markdown": [
       "\n",
       "A data.frame: 1 × 1\n",
       "\n",
       "| perc &lt;dbl&gt; |\n",
       "|---|\n",
       "| 0.6 |\n",
       "\n"
      ],
      "text/plain": [
       "  perc\n",
       "1 0.6 "
      ]
     },
     "metadata": {},
     "output_type": "display_data"
    }
   ],
   "source": [
    "## Calculate lift\n",
    "round(revert.group.agg[18, \"perc\"] - revert.group.agg[12, \"perc\"], 1)"
   ]
  },
  {
   "cell_type": "code",
   "execution_count": 72,
   "id": "ff7538c0",
   "metadata": {},
   "outputs": [
    {
     "data": {
      "text/html": [
       "<table>\n",
       "<caption>A data.frame: 1 × 1</caption>\n",
       "<thead>\n",
       "\t<tr><th scope=col>perc</th></tr>\n",
       "\t<tr><th scope=col>&lt;dbl&gt;</th></tr>\n",
       "</thead>\n",
       "<tbody>\n",
       "\t<tr><td>4</td></tr>\n",
       "</tbody>\n",
       "</table>\n"
      ],
      "text/latex": [
       "A data.frame: 1 × 1\n",
       "\\begin{tabular}{l}\n",
       " perc\\\\\n",
       " <dbl>\\\\\n",
       "\\hline\n",
       "\t 4\\\\\n",
       "\\end{tabular}\n"
      ],
      "text/markdown": [
       "\n",
       "A data.frame: 1 × 1\n",
       "\n",
       "| perc &lt;dbl&gt; |\n",
       "|---|\n",
       "| 4 |\n",
       "\n"
      ],
      "text/plain": [
       "  perc\n",
       "1 4   "
      ]
     },
     "metadata": {},
     "output_type": "display_data"
    }
   ],
   "source": [
    "## Calculate diff\n",
    "round(100.0 * (revert.group.agg[18, \"perc\"] -\n",
    "               revert.group.agg[12, \"perc\"]) /\n",
    "        revert.group.agg[12,\"perc\"], 1)"
   ]
  },
  {
   "cell_type": "code",
   "execution_count": 42,
   "id": "ef00cb13",
   "metadata": {},
   "outputs": [
    {
     "data": {
      "text/html": [
       "<table>\n",
       "<caption>A grouped_df: 6 × 5</caption>\n",
       "<thead>\n",
       "\t<tr><th scope=col>platform</th><th scope=col>Group</th><th scope=col>n</th><th scope=col>mean_prop_rev_article_edits</th><th scope=col>mean_perc_rev_article_edits_rounded</th></tr>\n",
       "\t<tr><th scope=col>&lt;fct&gt;</th><th scope=col>&lt;fct&gt;</th><th scope=col>&lt;int&gt;</th><th scope=col>&lt;dbl&gt;</th><th scope=col>&lt;dbl&gt;</th></tr>\n",
       "</thead>\n",
       "<tbody>\n",
       "\t<tr><td>desktop</td><td>Control     </td><td> 473</td><td>0.363</td><td>36.3</td></tr>\n",
       "\t<tr><td>desktop</td><td>Unstructured</td><td> 920</td><td>0.379</td><td>37.9</td></tr>\n",
       "\t<tr><td>desktop</td><td>Add-a-link  </td><td>1035</td><td>0.345</td><td>34.5</td></tr>\n",
       "\t<tr><td>mobile </td><td>Control     </td><td> 512</td><td>0.434</td><td>43.4</td></tr>\n",
       "\t<tr><td>mobile </td><td>Unstructured</td><td>1065</td><td>0.435</td><td>43.5</td></tr>\n",
       "\t<tr><td>mobile </td><td>Add-a-link  </td><td>1096</td><td>0.412</td><td>41.2</td></tr>\n",
       "</tbody>\n",
       "</table>\n"
      ],
      "text/latex": [
       "A grouped\\_df: 6 × 5\n",
       "\\begin{tabular}{lllll}\n",
       " platform & Group & n & mean\\_prop\\_rev\\_article\\_edits & mean\\_perc\\_rev\\_article\\_edits\\_rounded\\\\\n",
       " <fct> & <fct> & <int> & <dbl> & <dbl>\\\\\n",
       "\\hline\n",
       "\t desktop & Control      &  473 & 0.363 & 36.3\\\\\n",
       "\t desktop & Unstructured &  920 & 0.379 & 37.9\\\\\n",
       "\t desktop & Add-a-link   & 1035 & 0.345 & 34.5\\\\\n",
       "\t mobile  & Control      &  512 & 0.434 & 43.4\\\\\n",
       "\t mobile  & Unstructured & 1065 & 0.435 & 43.5\\\\\n",
       "\t mobile  & Add-a-link   & 1096 & 0.412 & 41.2\\\\\n",
       "\\end{tabular}\n"
      ],
      "text/markdown": [
       "\n",
       "A grouped_df: 6 × 5\n",
       "\n",
       "| platform &lt;fct&gt; | Group &lt;fct&gt; | n &lt;int&gt; | mean_prop_rev_article_edits &lt;dbl&gt; | mean_perc_rev_article_edits_rounded &lt;dbl&gt; |\n",
       "|---|---|---|---|---|\n",
       "| desktop | Control      |  473 | 0.363 | 36.3 |\n",
       "| desktop | Unstructured |  920 | 0.379 | 37.9 |\n",
       "| desktop | Add-a-link   | 1035 | 0.345 | 34.5 |\n",
       "| mobile  | Control      |  512 | 0.434 | 43.4 |\n",
       "| mobile  | Unstructured | 1065 | 0.435 | 43.5 |\n",
       "| mobile  | Add-a-link   | 1096 | 0.412 | 41.2 |\n",
       "\n"
      ],
      "text/plain": [
       "  platform Group        n    mean_prop_rev_article_edits\n",
       "1 desktop  Control       473 0.363                      \n",
       "2 desktop  Unstructured  920 0.379                      \n",
       "3 desktop  Add-a-link   1035 0.345                      \n",
       "4 mobile   Control       512 0.434                      \n",
       "5 mobile   Unstructured 1065 0.435                      \n",
       "6 mobile   Add-a-link   1096 0.412                      \n",
       "  mean_perc_rev_article_edits_rounded\n",
       "1 36.3                               \n",
       "2 37.9                               \n",
       "3 34.5                               \n",
       "4 43.4                               \n",
       "5 43.5                               \n",
       "6 41.2                               "
      ]
     },
     "metadata": {},
     "output_type": "display_data"
    }
   ],
   "source": [
    "# For the \"some reverted\" group, calculate the mean revert proportion per group\n",
    "some_reverted.platform.agg <- user_edit_data %>%\n",
    "    filter(num_total_article_edits > 0 & revert_group == 'Some reverted') %>%\n",
    "    group_by(platform, Group) %>%\n",
    "    summarize(n = n(), mean_prop_rev_article_edits = mean(prop_rev_article_edits),\n",
    "              mean_perc_rev_article_edits_rounded = round(100.0 * mean(prop_rev_article_edits), 1),\n",
    "              .groups = 'keep') %>%\n",
    "    group_by(platform, Group)\n",
    "some_reverted.platform.agg"
   ]
  },
  {
   "cell_type": "code",
   "execution_count": 74,
   "id": "df4cfe57",
   "metadata": {},
   "outputs": [
    {
     "data": {
      "text/html": [
       "<table>\n",
       "<caption>A data.frame: 1 × 1</caption>\n",
       "<thead>\n",
       "\t<tr><th scope=col>mean_prop_rev_article_edits</th></tr>\n",
       "\t<tr><th scope=col>&lt;dbl&gt;</th></tr>\n",
       "</thead>\n",
       "<tbody>\n",
       "\t<tr><td>1.6</td></tr>\n",
       "</tbody>\n",
       "</table>\n"
      ],
      "text/latex": [
       "A data.frame: 1 × 1\n",
       "\\begin{tabular}{l}\n",
       " mean\\_prop\\_rev\\_article\\_edits\\\\\n",
       " <dbl>\\\\\n",
       "\\hline\n",
       "\t 1.6\\\\\n",
       "\\end{tabular}\n"
      ],
      "text/markdown": [
       "\n",
       "A data.frame: 1 × 1\n",
       "\n",
       "| mean_prop_rev_article_edits &lt;dbl&gt; |\n",
       "|---|\n",
       "| 1.6 |\n",
       "\n"
      ],
      "text/plain": [
       "  mean_prop_rev_article_edits\n",
       "1 1.6                        "
      ]
     },
     "metadata": {},
     "output_type": "display_data"
    }
   ],
   "source": [
    "## Calculate lift\n",
    "round(100.0 * (some_reverted.platform.agg[2, \"mean_prop_rev_article_edits\"] -\n",
    "      some_reverted.platform.agg[1, \"mean_prop_rev_article_edits\"]), 1)"
   ]
  },
  {
   "cell_type": "code",
   "execution_count": 76,
   "id": "a0e9a21f",
   "metadata": {},
   "outputs": [
    {
     "data": {
      "text/html": [
       "<table>\n",
       "<caption>A data.frame: 1 × 1</caption>\n",
       "<thead>\n",
       "\t<tr><th scope=col>mean_prop_rev_article_edits</th></tr>\n",
       "\t<tr><th scope=col>&lt;dbl&gt;</th></tr>\n",
       "</thead>\n",
       "<tbody>\n",
       "\t<tr><td>4.3</td></tr>\n",
       "</tbody>\n",
       "</table>\n"
      ],
      "text/latex": [
       "A data.frame: 1 × 1\n",
       "\\begin{tabular}{l}\n",
       " mean\\_prop\\_rev\\_article\\_edits\\\\\n",
       " <dbl>\\\\\n",
       "\\hline\n",
       "\t 4.3\\\\\n",
       "\\end{tabular}\n"
      ],
      "text/markdown": [
       "\n",
       "A data.frame: 1 × 1\n",
       "\n",
       "| mean_prop_rev_article_edits &lt;dbl&gt; |\n",
       "|---|\n",
       "| 4.3 |\n",
       "\n"
      ],
      "text/plain": [
       "  mean_prop_rev_article_edits\n",
       "1 4.3                        "
      ]
     },
     "metadata": {},
     "output_type": "display_data"
    }
   ],
   "source": [
    "## Calculate diff in percent\n",
    "round(100.0 * (some_reverted.platform.agg[2, \"mean_prop_rev_article_edits\"] -\n",
    "               some_reverted.platform.agg[1, \"mean_prop_rev_article_edits\"]) /\n",
    "        some_reverted.platform.agg[1,\"mean_prop_rev_article_edits\"], 1)"
   ]
  },
  {
   "cell_type": "code",
   "execution_count": 77,
   "id": "04b000e2",
   "metadata": {},
   "outputs": [
    {
     "data": {
      "text/html": [
       "<table>\n",
       "<caption>A data.frame: 1 × 1</caption>\n",
       "<thead>\n",
       "\t<tr><th scope=col>mean_prop_rev_article_edits</th></tr>\n",
       "\t<tr><th scope=col>&lt;dbl&gt;</th></tr>\n",
       "</thead>\n",
       "<tbody>\n",
       "\t<tr><td>-1.8</td></tr>\n",
       "</tbody>\n",
       "</table>\n"
      ],
      "text/latex": [
       "A data.frame: 1 × 1\n",
       "\\begin{tabular}{l}\n",
       " mean\\_prop\\_rev\\_article\\_edits\\\\\n",
       " <dbl>\\\\\n",
       "\\hline\n",
       "\t -1.8\\\\\n",
       "\\end{tabular}\n"
      ],
      "text/markdown": [
       "\n",
       "A data.frame: 1 × 1\n",
       "\n",
       "| mean_prop_rev_article_edits &lt;dbl&gt; |\n",
       "|---|\n",
       "| -1.8 |\n",
       "\n"
      ],
      "text/plain": [
       "  mean_prop_rev_article_edits\n",
       "1 -1.8                       "
      ]
     },
     "metadata": {},
     "output_type": "display_data"
    }
   ],
   "source": [
    "## Calculate lift\n",
    "round(100.0 * (some_reverted.platform.agg[3, \"mean_prop_rev_article_edits\"] -\n",
    "      some_reverted.platform.agg[1, \"mean_prop_rev_article_edits\"]), 1)"
   ]
  },
  {
   "cell_type": "code",
   "execution_count": 78,
   "id": "40160ea8",
   "metadata": {},
   "outputs": [
    {
     "data": {
      "text/html": [
       "<table>\n",
       "<caption>A data.frame: 1 × 1</caption>\n",
       "<thead>\n",
       "\t<tr><th scope=col>mean_prop_rev_article_edits</th></tr>\n",
       "\t<tr><th scope=col>&lt;dbl&gt;</th></tr>\n",
       "</thead>\n",
       "<tbody>\n",
       "\t<tr><td>-5</td></tr>\n",
       "</tbody>\n",
       "</table>\n"
      ],
      "text/latex": [
       "A data.frame: 1 × 1\n",
       "\\begin{tabular}{l}\n",
       " mean\\_prop\\_rev\\_article\\_edits\\\\\n",
       " <dbl>\\\\\n",
       "\\hline\n",
       "\t -5\\\\\n",
       "\\end{tabular}\n"
      ],
      "text/markdown": [
       "\n",
       "A data.frame: 1 × 1\n",
       "\n",
       "| mean_prop_rev_article_edits &lt;dbl&gt; |\n",
       "|---|\n",
       "| -5 |\n",
       "\n"
      ],
      "text/plain": [
       "  mean_prop_rev_article_edits\n",
       "1 -5                         "
      ]
     },
     "metadata": {},
     "output_type": "display_data"
    }
   ],
   "source": [
    "## Calculate increase in percent\n",
    "round(100.0 * (some_reverted.platform.agg[3, \"mean_prop_rev_article_edits\"] -\n",
    "               some_reverted.platform.agg[1, \"mean_prop_rev_article_edits\"]) /\n",
    "        some_reverted.platform.agg[1,\"mean_prop_rev_article_edits\"], 1)"
   ]
  },
  {
   "cell_type": "code",
   "execution_count": 79,
   "id": "3f435b12",
   "metadata": {},
   "outputs": [
    {
     "data": {
      "text/html": [
       "<table>\n",
       "<caption>A data.frame: 1 × 1</caption>\n",
       "<thead>\n",
       "\t<tr><th scope=col>mean_prop_rev_article_edits</th></tr>\n",
       "\t<tr><th scope=col>&lt;dbl&gt;</th></tr>\n",
       "</thead>\n",
       "<tbody>\n",
       "\t<tr><td>0</td></tr>\n",
       "</tbody>\n",
       "</table>\n"
      ],
      "text/latex": [
       "A data.frame: 1 × 1\n",
       "\\begin{tabular}{l}\n",
       " mean\\_prop\\_rev\\_article\\_edits\\\\\n",
       " <dbl>\\\\\n",
       "\\hline\n",
       "\t 0\\\\\n",
       "\\end{tabular}\n"
      ],
      "text/markdown": [
       "\n",
       "A data.frame: 1 × 1\n",
       "\n",
       "| mean_prop_rev_article_edits &lt;dbl&gt; |\n",
       "|---|\n",
       "| 0 |\n",
       "\n"
      ],
      "text/plain": [
       "  mean_prop_rev_article_edits\n",
       "1 0                          "
      ]
     },
     "metadata": {},
     "output_type": "display_data"
    }
   ],
   "source": [
    "## Calculate lift\n",
    "round(100.0 * (some_reverted.platform.agg[5, \"mean_prop_rev_article_edits\"] -\n",
    "      some_reverted.platform.agg[4, \"mean_prop_rev_article_edits\"]), 1)"
   ]
  },
  {
   "cell_type": "code",
   "execution_count": 80,
   "id": "57a817fa",
   "metadata": {},
   "outputs": [
    {
     "data": {
      "text/html": [
       "<table>\n",
       "<caption>A data.frame: 1 × 1</caption>\n",
       "<thead>\n",
       "\t<tr><th scope=col>mean_prop_rev_article_edits</th></tr>\n",
       "\t<tr><th scope=col>&lt;dbl&gt;</th></tr>\n",
       "</thead>\n",
       "<tbody>\n",
       "\t<tr><td>0.1</td></tr>\n",
       "</tbody>\n",
       "</table>\n"
      ],
      "text/latex": [
       "A data.frame: 1 × 1\n",
       "\\begin{tabular}{l}\n",
       " mean\\_prop\\_rev\\_article\\_edits\\\\\n",
       " <dbl>\\\\\n",
       "\\hline\n",
       "\t 0.1\\\\\n",
       "\\end{tabular}\n"
      ],
      "text/markdown": [
       "\n",
       "A data.frame: 1 × 1\n",
       "\n",
       "| mean_prop_rev_article_edits &lt;dbl&gt; |\n",
       "|---|\n",
       "| 0.1 |\n",
       "\n"
      ],
      "text/plain": [
       "  mean_prop_rev_article_edits\n",
       "1 0.1                        "
      ]
     },
     "metadata": {},
     "output_type": "display_data"
    }
   ],
   "source": [
    "## Calculate increase in percent\n",
    "round(100.0 * (some_reverted.platform.agg[5, \"mean_prop_rev_article_edits\"] -\n",
    "               some_reverted.platform.agg[4, \"mean_prop_rev_article_edits\"]) /\n",
    "        some_reverted.platform.agg[4,\"mean_prop_rev_article_edits\"], 1)"
   ]
  },
  {
   "cell_type": "code",
   "execution_count": 81,
   "id": "72c3e356",
   "metadata": {},
   "outputs": [
    {
     "data": {
      "text/html": [
       "<table>\n",
       "<caption>A data.frame: 1 × 1</caption>\n",
       "<thead>\n",
       "\t<tr><th scope=col>mean_prop_rev_article_edits</th></tr>\n",
       "\t<tr><th scope=col>&lt;dbl&gt;</th></tr>\n",
       "</thead>\n",
       "<tbody>\n",
       "\t<tr><td>-2.3</td></tr>\n",
       "</tbody>\n",
       "</table>\n"
      ],
      "text/latex": [
       "A data.frame: 1 × 1\n",
       "\\begin{tabular}{l}\n",
       " mean\\_prop\\_rev\\_article\\_edits\\\\\n",
       " <dbl>\\\\\n",
       "\\hline\n",
       "\t -2.3\\\\\n",
       "\\end{tabular}\n"
      ],
      "text/markdown": [
       "\n",
       "A data.frame: 1 × 1\n",
       "\n",
       "| mean_prop_rev_article_edits &lt;dbl&gt; |\n",
       "|---|\n",
       "| -2.3 |\n",
       "\n"
      ],
      "text/plain": [
       "  mean_prop_rev_article_edits\n",
       "1 -2.3                       "
      ]
     },
     "metadata": {},
     "output_type": "display_data"
    }
   ],
   "source": [
    "## Calculate lift\n",
    "round(100.0 * (some_reverted.platform.agg[6, \"mean_prop_rev_article_edits\"] -\n",
    "      some_reverted.platform.agg[4, \"mean_prop_rev_article_edits\"]), 1)"
   ]
  },
  {
   "cell_type": "code",
   "execution_count": 82,
   "id": "96e6f24f",
   "metadata": {},
   "outputs": [
    {
     "data": {
      "text/html": [
       "<table>\n",
       "<caption>A data.frame: 1 × 1</caption>\n",
       "<thead>\n",
       "\t<tr><th scope=col>mean_prop_rev_article_edits</th></tr>\n",
       "\t<tr><th scope=col>&lt;dbl&gt;</th></tr>\n",
       "</thead>\n",
       "<tbody>\n",
       "\t<tr><td>-5.2</td></tr>\n",
       "</tbody>\n",
       "</table>\n"
      ],
      "text/latex": [
       "A data.frame: 1 × 1\n",
       "\\begin{tabular}{l}\n",
       " mean\\_prop\\_rev\\_article\\_edits\\\\\n",
       " <dbl>\\\\\n",
       "\\hline\n",
       "\t -5.2\\\\\n",
       "\\end{tabular}\n"
      ],
      "text/markdown": [
       "\n",
       "A data.frame: 1 × 1\n",
       "\n",
       "| mean_prop_rev_article_edits &lt;dbl&gt; |\n",
       "|---|\n",
       "| -5.2 |\n",
       "\n"
      ],
      "text/plain": [
       "  mean_prop_rev_article_edits\n",
       "1 -5.2                       "
      ]
     },
     "metadata": {},
     "output_type": "display_data"
    }
   ],
   "source": [
    "## Calculate increase in percent\n",
    "round(100.0 * (some_reverted.platform.agg[6, \"mean_prop_rev_article_edits\"] -\n",
    "               some_reverted.platform.agg[4, \"mean_prop_rev_article_edits\"]) /\n",
    "        some_reverted.platform.agg[4,\"mean_prop_rev_article_edits\"], 1)"
   ]
  },
  {
   "cell_type": "markdown",
   "id": "b657ceed",
   "metadata": {},
   "source": [
    "Overall revert rate by group:"
   ]
  },
  {
   "cell_type": "code",
   "execution_count": 21,
   "id": "ffc065a2",
   "metadata": {},
   "outputs": [
    {
     "data": {
      "text/html": [
       "<table>\n",
       "<caption>A grouped_df: 3 × 4</caption>\n",
       "<thead>\n",
       "\t<tr><th scope=col>Group</th><th scope=col>n</th><th scope=col>mean_prop_rev_article_edits</th><th scope=col>mean_perc_rev_article_edits_rounded</th></tr>\n",
       "\t<tr><th scope=col>&lt;fct&gt;</th><th scope=col>&lt;int&gt;</th><th scope=col>&lt;dbl&gt;</th><th scope=col>&lt;dbl&gt;</th></tr>\n",
       "</thead>\n",
       "<tbody>\n",
       "\t<tr><td>Control     </td><td> 8013</td><td>0.267</td><td>26.7</td></tr>\n",
       "\t<tr><td>Unstructured</td><td>15856</td><td>0.269</td><td>26.9</td></tr>\n",
       "\t<tr><td>Add-a-link  </td><td>16632</td><td>0.238</td><td>23.8</td></tr>\n",
       "</tbody>\n",
       "</table>\n"
      ],
      "text/latex": [
       "A grouped\\_df: 3 × 4\n",
       "\\begin{tabular}{llll}\n",
       " Group & n & mean\\_prop\\_rev\\_article\\_edits & mean\\_perc\\_rev\\_article\\_edits\\_rounded\\\\\n",
       " <fct> & <int> & <dbl> & <dbl>\\\\\n",
       "\\hline\n",
       "\t Control      &  8013 & 0.267 & 26.7\\\\\n",
       "\t Unstructured & 15856 & 0.269 & 26.9\\\\\n",
       "\t Add-a-link   & 16632 & 0.238 & 23.8\\\\\n",
       "\\end{tabular}\n"
      ],
      "text/markdown": [
       "\n",
       "A grouped_df: 3 × 4\n",
       "\n",
       "| Group &lt;fct&gt; | n &lt;int&gt; | mean_prop_rev_article_edits &lt;dbl&gt; | mean_perc_rev_article_edits_rounded &lt;dbl&gt; |\n",
       "|---|---|---|---|\n",
       "| Control      |  8013 | 0.267 | 26.7 |\n",
       "| Unstructured | 15856 | 0.269 | 26.9 |\n",
       "| Add-a-link   | 16632 | 0.238 | 23.8 |\n",
       "\n"
      ],
      "text/plain": [
       "  Group        n     mean_prop_rev_article_edits\n",
       "1 Control       8013 0.267                      \n",
       "2 Unstructured 15856 0.269                      \n",
       "3 Add-a-link   16632 0.238                      \n",
       "  mean_perc_rev_article_edits_rounded\n",
       "1 26.7                               \n",
       "2 26.9                               \n",
       "3 23.8                               "
      ]
     },
     "metadata": {},
     "output_type": "display_data"
    }
   ],
   "source": [
    "# Aggregate by platform and calculate average revert rate for users who edited\n",
    "rate.group.agg <- user_edit_data %>%\n",
    "    filter(num_total_article_edits > 0) %>%\n",
    "    group_by(Group) %>%\n",
    "    summarize(n = n(), mean_prop_rev_article_edits = mean(prop_rev_article_edits),\n",
    "              mean_perc_rev_article_edits_rounded = round(100.0 * mean(prop_rev_article_edits), 1),\n",
    "              .groups = 'keep')\n",
    "rate.group.agg"
   ]
  },
  {
   "cell_type": "code",
   "execution_count": 22,
   "id": "11cf07b7",
   "metadata": {},
   "outputs": [
    {
     "data": {
      "text/html": [
       "<table>\n",
       "<caption>A data.frame: 1 × 1</caption>\n",
       "<thead>\n",
       "\t<tr><th scope=col>mean_prop_rev_article_edits</th></tr>\n",
       "\t<tr><th scope=col>&lt;dbl&gt;</th></tr>\n",
       "</thead>\n",
       "<tbody>\n",
       "\t<tr><td>0.1</td></tr>\n",
       "</tbody>\n",
       "</table>\n"
      ],
      "text/latex": [
       "A data.frame: 1 × 1\n",
       "\\begin{tabular}{l}\n",
       " mean\\_prop\\_rev\\_article\\_edits\\\\\n",
       " <dbl>\\\\\n",
       "\\hline\n",
       "\t 0.1\\\\\n",
       "\\end{tabular}\n"
      ],
      "text/markdown": [
       "\n",
       "A data.frame: 1 × 1\n",
       "\n",
       "| mean_prop_rev_article_edits &lt;dbl&gt; |\n",
       "|---|\n",
       "| 0.1 |\n",
       "\n"
      ],
      "text/plain": [
       "  mean_prop_rev_article_edits\n",
       "1 0.1                        "
      ]
     },
     "metadata": {},
     "output_type": "display_data"
    }
   ],
   "source": [
    "## Calculate lift\n",
    "round(100.0 * (rate.group.agg[2, \"mean_prop_rev_article_edits\"] -\n",
    "      rate.group.agg[1, \"mean_prop_rev_article_edits\"]), 1)"
   ]
  },
  {
   "cell_type": "code",
   "execution_count": 23,
   "id": "01771ff3",
   "metadata": {},
   "outputs": [
    {
     "data": {
      "text/html": [
       "<table>\n",
       "<caption>A data.frame: 1 × 1</caption>\n",
       "<thead>\n",
       "\t<tr><th scope=col>mean_prop_rev_article_edits</th></tr>\n",
       "\t<tr><th scope=col>&lt;dbl&gt;</th></tr>\n",
       "</thead>\n",
       "<tbody>\n",
       "\t<tr><td>-2.9</td></tr>\n",
       "</tbody>\n",
       "</table>\n"
      ],
      "text/latex": [
       "A data.frame: 1 × 1\n",
       "\\begin{tabular}{l}\n",
       " mean\\_prop\\_rev\\_article\\_edits\\\\\n",
       " <dbl>\\\\\n",
       "\\hline\n",
       "\t -2.9\\\\\n",
       "\\end{tabular}\n"
      ],
      "text/markdown": [
       "\n",
       "A data.frame: 1 × 1\n",
       "\n",
       "| mean_prop_rev_article_edits &lt;dbl&gt; |\n",
       "|---|\n",
       "| -2.9 |\n",
       "\n"
      ],
      "text/plain": [
       "  mean_prop_rev_article_edits\n",
       "1 -2.9                       "
      ]
     },
     "metadata": {},
     "output_type": "display_data"
    }
   ],
   "source": [
    "## Calculate lift:\n",
    "round(100.0 * (rate.group.agg[3, \"mean_prop_rev_article_edits\"] -\n",
    "      rate.group.agg[1, \"mean_prop_rev_article_edits\"]), 1)"
   ]
  },
  {
   "cell_type": "code",
   "execution_count": 24,
   "id": "130c7d7a",
   "metadata": {},
   "outputs": [
    {
     "data": {
      "text/html": [
       "<table>\n",
       "<caption>A data.frame: 1 × 1</caption>\n",
       "<thead>\n",
       "\t<tr><th scope=col>mean_prop_rev_article_edits</th></tr>\n",
       "\t<tr><th scope=col>&lt;dbl&gt;</th></tr>\n",
       "</thead>\n",
       "<tbody>\n",
       "\t<tr><td>0.5</td></tr>\n",
       "</tbody>\n",
       "</table>\n"
      ],
      "text/latex": [
       "A data.frame: 1 × 1\n",
       "\\begin{tabular}{l}\n",
       " mean\\_prop\\_rev\\_article\\_edits\\\\\n",
       " <dbl>\\\\\n",
       "\\hline\n",
       "\t 0.5\\\\\n",
       "\\end{tabular}\n"
      ],
      "text/markdown": [
       "\n",
       "A data.frame: 1 × 1\n",
       "\n",
       "| mean_prop_rev_article_edits &lt;dbl&gt; |\n",
       "|---|\n",
       "| 0.5 |\n",
       "\n"
      ],
      "text/plain": [
       "  mean_prop_rev_article_edits\n",
       "1 0.5                        "
      ]
     },
     "metadata": {},
     "output_type": "display_data"
    }
   ],
   "source": [
    "## Calculate increase in percent\n",
    "round(100.0 * (rate.group.agg[2, \"mean_prop_rev_article_edits\"] -\n",
    "               rate.group.agg[1, \"mean_prop_rev_article_edits\"]) /\n",
    "        rate.group.agg[1,\"mean_prop_rev_article_edits\"], 1)"
   ]
  },
  {
   "cell_type": "code",
   "execution_count": 25,
   "id": "bed1b326",
   "metadata": {},
   "outputs": [
    {
     "data": {
      "text/html": [
       "<table>\n",
       "<caption>A data.frame: 1 × 1</caption>\n",
       "<thead>\n",
       "\t<tr><th scope=col>mean_prop_rev_article_edits</th></tr>\n",
       "\t<tr><th scope=col>&lt;dbl&gt;</th></tr>\n",
       "</thead>\n",
       "<tbody>\n",
       "\t<tr><td>-11</td></tr>\n",
       "</tbody>\n",
       "</table>\n"
      ],
      "text/latex": [
       "A data.frame: 1 × 1\n",
       "\\begin{tabular}{l}\n",
       " mean\\_prop\\_rev\\_article\\_edits\\\\\n",
       " <dbl>\\\\\n",
       "\\hline\n",
       "\t -11\\\\\n",
       "\\end{tabular}\n"
      ],
      "text/markdown": [
       "\n",
       "A data.frame: 1 × 1\n",
       "\n",
       "| mean_prop_rev_article_edits &lt;dbl&gt; |\n",
       "|---|\n",
       "| -11 |\n",
       "\n"
      ],
      "text/plain": [
       "  mean_prop_rev_article_edits\n",
       "1 -11                        "
      ]
     },
     "metadata": {},
     "output_type": "display_data"
    }
   ],
   "source": [
    "## Calculate increase in percent\n",
    "round(100.0 * (rate.group.agg[3, \"mean_prop_rev_article_edits\"] -\n",
    "               rate.group.agg[1, \"mean_prop_rev_article_edits\"]) /\n",
    "        rate.group.agg[1,\"mean_prop_rev_article_edits\"], 1)"
   ]
  },
  {
   "cell_type": "markdown",
   "id": "3516da6c-a20a-4203-ba89-92ddd2b742a1",
   "metadata": {},
   "source": [
    "Lift and difference between the unstructured and structured task groups:"
   ]
  },
  {
   "cell_type": "code",
   "execution_count": 26,
   "id": "e319b2ed-96de-4147-8758-c3d2bfbc8a73",
   "metadata": {},
   "outputs": [
    {
     "data": {
      "text/html": [
       "<table>\n",
       "<caption>A data.frame: 1 × 1</caption>\n",
       "<thead>\n",
       "\t<tr><th scope=col>mean_prop_rev_article_edits</th></tr>\n",
       "\t<tr><th scope=col>&lt;dbl&gt;</th></tr>\n",
       "</thead>\n",
       "<tbody>\n",
       "\t<tr><td>-3.1</td></tr>\n",
       "</tbody>\n",
       "</table>\n"
      ],
      "text/latex": [
       "A data.frame: 1 × 1\n",
       "\\begin{tabular}{l}\n",
       " mean\\_prop\\_rev\\_article\\_edits\\\\\n",
       " <dbl>\\\\\n",
       "\\hline\n",
       "\t -3.1\\\\\n",
       "\\end{tabular}\n"
      ],
      "text/markdown": [
       "\n",
       "A data.frame: 1 × 1\n",
       "\n",
       "| mean_prop_rev_article_edits &lt;dbl&gt; |\n",
       "|---|\n",
       "| -3.1 |\n",
       "\n"
      ],
      "text/plain": [
       "  mean_prop_rev_article_edits\n",
       "1 -3.1                       "
      ]
     },
     "metadata": {},
     "output_type": "display_data"
    }
   ],
   "source": [
    "## Calculate lift:\n",
    "round(100.0 * (rate.group.agg[3, \"mean_prop_rev_article_edits\"] -\n",
    "      rate.group.agg[2, \"mean_prop_rev_article_edits\"]), 1)"
   ]
  },
  {
   "cell_type": "code",
   "execution_count": 27,
   "id": "f525a179-fc29-4171-b35c-3a68373578fc",
   "metadata": {},
   "outputs": [
    {
     "data": {
      "text/html": [
       "<table>\n",
       "<caption>A data.frame: 1 × 1</caption>\n",
       "<thead>\n",
       "\t<tr><th scope=col>mean_prop_rev_article_edits</th></tr>\n",
       "\t<tr><th scope=col>&lt;dbl&gt;</th></tr>\n",
       "</thead>\n",
       "<tbody>\n",
       "\t<tr><td>-11.5</td></tr>\n",
       "</tbody>\n",
       "</table>\n"
      ],
      "text/latex": [
       "A data.frame: 1 × 1\n",
       "\\begin{tabular}{l}\n",
       " mean\\_prop\\_rev\\_article\\_edits\\\\\n",
       " <dbl>\\\\\n",
       "\\hline\n",
       "\t -11.5\\\\\n",
       "\\end{tabular}\n"
      ],
      "text/markdown": [
       "\n",
       "A data.frame: 1 × 1\n",
       "\n",
       "| mean_prop_rev_article_edits &lt;dbl&gt; |\n",
       "|---|\n",
       "| -11.5 |\n",
       "\n"
      ],
      "text/plain": [
       "  mean_prop_rev_article_edits\n",
       "1 -11.5                      "
      ]
     },
     "metadata": {},
     "output_type": "display_data"
    }
   ],
   "source": [
    "## Calculate increase in percent\n",
    "round(100.0 * (rate.group.agg[3, \"mean_prop_rev_article_edits\"] -\n",
    "               rate.group.agg[2, \"mean_prop_rev_article_edits\"]) /\n",
    "        rate.group.agg[2,\"mean_prop_rev_article_edits\"], 1)"
   ]
  },
  {
   "cell_type": "markdown",
   "id": "598575de",
   "metadata": {},
   "source": [
    "# Graphs\n",
    "\n",
    "## Revert Rate"
   ]
  },
  {
   "cell_type": "code",
   "execution_count": 28,
   "id": "fa5db02d",
   "metadata": {},
   "outputs": [
    {
     "data": {
      "image/png": "[encoded data removed]",
      "text/plain": [
       "plot without title"
      ]
     },
     "metadata": {
      "image/png": {
       "height": 360,
       "width": 540
      }
     },
     "output_type": "display_data"
    }
   ],
   "source": [
    "# Give me wider plots, please\n",
    "options(repr.plot.width = 9, repr.plot.height = 6)\n",
    "\n",
    "## Note to self: mutate() operates on a per-row basis, summarise() operates on the groups when using group_by()\n",
    "rate.group.agg %>%\n",
    "    ggplot(aes(x = Group, y = mean_prop_rev_article_edits, fill = Group)) +\n",
    "        labs(title = 'Revert Rate – Article Namespace', x = 'Group', y = 'Mean Revert Rate') +\n",
    "        hrbrthemes::theme_ipsum(\"DejaVu Sans\", base_size = 16, strip_text_face = \"bold\", strip_text_size = 18,\n",
    "                            caption_size = 12, axis_title_size = 14, subtitle_size = 14,\n",
    "                            axis_title_just = 'cm') +\n",
    "        guides(fill = 'none') +\n",
    "        scale_fill_brewer() +\n",
    "        geom_col() +\n",
    "        hrbrthemes::scale_y_percent(limits = c(0, 0.32)) +\n",
    "        geom_text(aes(label = wmfdata::percent2(mean_prop_rev_article_edits)), nudge_y = 0.01, size = 5)\n",
    "ggsave(\n",
    "    'add-a-link-article-namespace-revert-rate-2021-experiment.png',\n",
    "    path = 'graphs',\n",
    "    width = 9, height = 6, units = \"in\", dpi = \"screen\")"
   ]
  }
 ],
 "metadata": {
  "kernelspec": {
   "display_name": "R",
   "language": "R",
   "name": "ir"
  },
  "language_info": {
   "codemirror_mode": "r",
   "file_extension": ".r",
   "mimetype": "text/x-r-source",
   "name": "R",
   "pygments_lexer": "r",
   "version": "3.5.2"
  }
 },
 "nbformat": 4,
 "nbformat_minor": 5
}
