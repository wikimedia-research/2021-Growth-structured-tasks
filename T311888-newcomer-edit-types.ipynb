{
 "cells": [
  {
   "cell_type": "markdown",
   "id": "26d0eefe-5d5c-4b38-a01b-c2f6689cb481",
   "metadata": {},
   "source": [
    "# Newcomer Edit Types\n",
    "\n",
    "We are trying to understand to what extent newcomers switch to making other types of edits, primarily from Add a Link to other types of suggested edits.\n",
    "\n",
    "In order to understand this, we need to define what we're measuring more specifically and establish a baseline.\n",
    "\n",
    "The easiest way to do this is to look at tagged edits during the period which all newcomer task types where labelled with edit tags, because then we can distinguish between them. This started in late March 2022. This analysis is done in late July, which means that using MediaWiki history we have data available until the end of June 2022. Working with those constraints, we'll look at article edits within a week after registration, and subsequent article edits within 30 days of the first edit. We'll use all registrations in April 2022 on wikis where Add a Link was deployed, with some of the usual limitations.\n",
    "\n",
    "## Requiring Additional Sessions\n",
    "\n",
    "The phab task for this is [T1311888](https://phabricator.wikimedia.org/T311888). The description of the task mentions \"another session\", but I think trying to determine the number of edit sessions a user had and the number of *article* edits they made in those is broadening the scope of this too much. We will instead make it simple and say they had to make their first article edit within a week of registration, and then we will count all additional article edits over the next 30 days and see if those were only Add a Link, or they moved on to other tasks.\n",
    "\n",
    "After having gone through and not required a second edit session, I noticed the proportions of users editing again is very high, and I think that might be because users are making additional article edits in quick succession. Based on this, I went back and redefined this so that it only counts additional edits if the user has a *second edit session*.\n",
    "\n",
    "## Definition Summary\n",
    "\n",
    "For all wikis where Add a Link is deployed:\n",
    "\n",
    "* Limit it to accounts registered on that wiki during April 2022.\n",
    "* Limit it to non-bot accounts.\n",
    "* Remove any known test accounts using our usual method.\n",
    "* A \"newcomer\" is within one week of registration (this will catch 90–95% of newcomers who edit and is a little bit more relaxed than our defintion of activation)\n",
    "* We will only concern ourselves with newcomers who edited an article within that first week.\n",
    "* We will tag if the user's first article edit was a suggested edit.\n",
    "* We will tag if the user's first article edit was an Add a Link edit.\n",
    "* We will tag if the user's first article edit was a copy edit.\n",
    "\n",
    "We then count additional edits as follows:\n",
    "\n",
    "* The set of eligibile users are all users identified using the first set of criteria.\n",
    "* We are only concerning ourselves with article edits.\n",
    "* The user has to have a second article edit session, and it has to start within 37 days of registration (7 + 30 days)\n",
    "* Subsequent edits have to happen within 30 days of the first edit (see above).\n",
    "* We will tag if the edit was an Add a Link edit.\n",
    "* We will tag if the edit was a suggested copy edit.\n",
    "* We will tag if the edit was a suggested edit that was not also an Add a Link Edit or a copy edit."
   ]
  },
  {
   "cell_type": "code",
   "execution_count": 2,
   "id": "615ac7bf-fd06-4434-90ff-aa07316c3194",
   "metadata": {},
   "outputs": [],
   "source": [
    "import datetime as dt\n",
    "\n",
    "import pandas as pd\n",
    "import numpy as np\n",
    "\n",
    "from collections import defaultdict\n",
    "\n",
    "from wmfdata import mariadb, spark"
   ]
  },
  {
   "cell_type": "markdown",
   "id": "4282b124-c8ee-4e70-a6c2-82b4946f774e",
   "metadata": {},
   "source": [
    "## Configuration Variables"
   ]
  },
  {
   "cell_type": "code",
   "execution_count": 3,
   "id": "0ae7ff44-83e7-4487-9891-1fa81510140f",
   "metadata": {},
   "outputs": [],
   "source": [
    "## First and last date of user registrations, per definition above\n",
    "start_date = dt.date(2022, 4, 1)\n",
    "end_date = dt.date(2022, 5, 1)\n",
    "\n",
    "## List of wikis that have Add a Link deployed during the registration window\n",
    "wikis = ['arwiki', 'bnwiki', 'cswiki', 'viwiki', 'fawiki',\n",
    "         'frwiki', 'huwiki', 'plwiki', 'rowiki', 'ruwiki',\n",
    "         'eswiki']\n",
    "\n",
    "## The MediaWiki history snapshot we use for any data gathering\n",
    "mwh_snapshot = '2022-06'\n",
    "\n",
    "## Lists of known users to ignore (e.g. test accounts and experienced users)\n",
    "known_users = defaultdict(set)\n",
    "known_users['cswiki'].update([14, 127629, 303170, 342147, 349875, 44133, 100304, 307410, 439792, 444907,\n",
    "                              454862, 456272, 454003, 454846, 92295, 387915, 398470, 416764, 44751, 132801,\n",
    "                              137787, 138342, 268033, 275298, 317739, 320225, 328302, 339583, 341191,\n",
    "                              357559, 392634, 398626, 404765, 420805, 429109, 443890, 448195, 448438,\n",
    "                              453220, 453628, 453645, 453662, 453663, 453664, 440694, 427497, 272273,\n",
    "                              458025, 458487, 458049, 59563, 118067, 188859, 191908, 314640, 390445,\n",
    "                              451069, 459434, 460802, 460885, 79895, 448735, 453176, 467557, 467745,\n",
    "                              468502, 468583, 468603, 474052, 475184, 475185, 475187, 475188, 294174,\n",
    "                              402906, 298011])\n",
    "\n",
    "known_users['kowiki'].update([303170, 342147, 349875, 189097, 362732, 384066, 416362, 38759, 495265,\n",
    "                              515553, 537326, 566963, 567409, 416360, 414929, 470932, 472019, 485036,\n",
    "                              532123, 558423, 571587, 575553, 576758, 360703, 561281, 595100, 595105,\n",
    "                              595610, 596025, 596651, 596652, 596653, 596654, 596655, 596993, 942,\n",
    "                              13810, 536529])\n",
    "\n",
    "known_users['viwiki'].update([451842, 628512, 628513, 680081, 680083, 680084, 680085, 680086, 355424,\n",
    "                              387563, 443216, 682713, 659235, 700934, 705406, 707272, 707303, 707681, 585762])\n",
    "\n",
    "known_users['arwiki'].update([237660, 272774, 775023, 1175449, 1186377, 1506091, 1515147, 1538902,\n",
    "                              1568858, 1681813, 1683215, 1699418, 1699419, 1699425, 1740419, 1759328, 1763990])\n",
    "\n",
    "## Grab the user IDs of known test accounts so they can be added to the exclusion list\n",
    "\n",
    "def get_known_users(wiki):\n",
    "    '''\n",
    "    Get user IDs of known test accounts and return a set of them.\n",
    "    '''\n",
    "    \n",
    "    username_patterns = [\"MMiller\", \"Zilant\", \"Roan\", \"KHarlan\", \"MWang\", \"SBtest\",\n",
    "                         \"Cloud\", \"Rho2019\", \"Test\"]\n",
    "\n",
    "    known_user_query = '''\n",
    "SELECT user_id\n",
    "FROM user\n",
    "WHERE user_name LIKE \"{name_pattern}%\"\n",
    "    '''\n",
    "    \n",
    "    known_users = set()\n",
    "    \n",
    "    for u_pattern in username_patterns:\n",
    "        new_known = mariadb.run(known_user_query.format(\n",
    "            name_pattern = u_pattern), wiki)\n",
    "        known_users = known_users | set(new_known['user_id'])\n",
    "\n",
    "    return(known_users)\n",
    "        \n",
    "for wiki in wikis:\n",
    "    known_users[wiki] = known_users[wiki] | get_known_users(wiki)"
   ]
  },
  {
   "cell_type": "markdown",
   "id": "7261af28-7d69-4910-9fe8-37472000876f",
   "metadata": {},
   "source": [
    "## Helper Functions"
   ]
  },
  {
   "cell_type": "code",
   "execution_count": 4,
   "id": "1d66878a-fb5e-4a91-b0ef-a9770f4c8878",
   "metadata": {},
   "outputs": [],
   "source": [
    "def make_known_users_sql(kd, wiki_column, user_column):\n",
    "    '''\n",
    "    Based on the dictionary `kd` mapping wiki names to sets of user IDs of known users,\n",
    "    create a SQL expression to exclude users based on the name of the wiki matching `wiki_column`\n",
    "    and the user ID not matching `user_column`\n",
    "    '''\n",
    "    \n",
    "    wiki_exp = '''({w_column} = '{wiki}' AND {u_column} NOT IN ({id_list}))'''\n",
    "    \n",
    "    expressions = list()\n",
    "\n",
    "    ## Iteratively build the expression for each wiki\n",
    "    for wiki_name, wiki_users in kd.items():\n",
    "        expressions.append(wiki_exp.format(\n",
    "            w_column = wiki_column,\n",
    "            wiki = wiki_name,\n",
    "            u_column = user_column,\n",
    "            id_list = ','.join([str(u) for u in wiki_users])\n",
    "        ))\n",
    "    \n",
    "    ## We then join all the expressions with an OR, and we're done.\n",
    "    return(' OR '.join(expressions))\n",
    "    "
   ]
  },
  {
   "cell_type": "markdown",
   "id": "835b4812-b673-4330-b44b-773be2d54980",
   "metadata": {},
   "source": [
    "## Newcomer Edit Activity Query"
   ]
  },
  {
   "cell_type": "code",
   "execution_count": 5,
   "id": "1afcdc49-6d0d-4273-a498-acd1d52df8e7",
   "metadata": {},
   "outputs": [],
   "source": [
    "edit_query = '''\n",
    "WITH article_edits AS (\n",
    "    SELECT\n",
    "        wiki_db,\n",
    "        event_user_id,\n",
    "        event_user_creation_timestamp,\n",
    "        event_timestamp,\n",
    "        revision_tags,\n",
    "        row_number() OVER (PARTITION BY wiki_db, event_user_id ORDER BY event_timestamp) AS edit_number,\n",
    "        LAG(event_timestamp, 1) OVER (PARTITION BY wiki_db, event_user_id ORDER BY event_timestamp)\n",
    "            AS prev_edit_timestamp\n",
    "    FROM wmf.mediawiki_history\n",
    "    WHERE snapshot = \"{wmh_snapshot}\"\n",
    "    AND wiki_db IN ({wiki_list})\n",
    "    AND event_entity = \"revision\"\n",
    "    AND event_type = \"create\"\n",
    "    AND event_user_registration_timestamp >= \"{start_ts}\" -- registration within our time span\n",
    "    AND event_user_registration_timestamp < \"{end_ts}\"\n",
    "    -- one week + 30 days is the max time between edits\n",
    "    AND unix_timestamp(event_timestamp) - unix_timestamp(event_user_creation_timestamp) < 86400*37\n",
    "    AND size(event_user_is_bot_by_historical) = 0 -- not a bot\n",
    "    AND ({known_event_userid_expression})\n",
    "    AND page_namespace = 0 -- article edits\n",
    "),\n",
    "edit_sessions AS(\n",
    "    SELECT\n",
    "        wiki_db,\n",
    "        event_user_id,\n",
    "        event_timestamp,\n",
    "        row_number() OVER (PARTITION BY wiki_db, event_user_id ORDER BY event_timestamp) AS session_number\n",
    "    FROM article_edits\n",
    "    WHERE (prev_edit_timestamp IS NULL -- first edit is always a new session\n",
    "           OR unix_timestamp(event_timestamp) - unix_timestamp(prev_edit_timestamp) >= 3600) -- one hour is a new session\n",
    "),\n",
    "second_sessions AS (\n",
    "    SELECT\n",
    "        *\n",
    "    FROM edit_sessions\n",
    "    WHERE session_number = 2\n",
    "),\n",
    "first_edits AS (\n",
    "    SELECT\n",
    "        article_edits.wiki_db,\n",
    "        article_edits.event_user_id,\n",
    "        article_edits.event_timestamp,\n",
    "        1 AS first_article_edit,\n",
    "        IF(ARRAY_CONTAINS(revision_tags, \"newcomer task\"), 1, 0) AS newcomer_task_edit,\n",
    "        IF(ARRAY_CONTAINS(revision_tags, \"newcomer task add link\"), 1, 0) AS add_link_edit,\n",
    "        IF(ARRAY_CONTAINS(revision_tags, \"newcomer task copyedit\"), 1, 0) AS copyedit_edit\n",
    "    FROM article_edits\n",
    "    WHERE edit_number = 1\n",
    "    -- first edit has to be within a week of registration\n",
    "    AND unix_timestamp(event_timestamp) - unix_timestamp(event_user_creation_timestamp) < 86400*7 \n",
    "),\n",
    "other_edits AS (\n",
    "    SELECT\n",
    "        wmh.wiki_db,\n",
    "        wmh.event_user_id,\n",
    "        COUNT(1) AS num_additional_article_edits,\n",
    "        COUNT(IF(ARRAY_CONTAINS(revision_tags, \"newcomer task\"), 1, NULL)) AS num_additional_newcomer_task_edits,\n",
    "        COUNT(IF(ARRAY_CONTAINS(revision_tags, \"newcomer task add link\"), 1, NULL)) AS num_additional_add_link_edits,\n",
    "        COUNT(IF(ARRAY_CONTAINS(revision_tags, \"newcomer task copyedit\"), 1, NULL)) AS num_additional_copyedit_edits,\n",
    "        COUNT(IF(ARRAY_CONTAINS(revision_tags, \"newcomer task\")\n",
    "                 AND NOT ARRAY_CONTAINS(revision_tags, \"newcomer task add link\")\n",
    "                 AND NOT ARRAY_CONTAINS(revision_tags, \"newcomer task copyedit\"), 1, NULL)) AS num_additional_other_task_edits\n",
    "    FROM wmf.mediawiki_history AS wmh\n",
    "    JOIN first_edits\n",
    "    ON wmh.wiki_db = first_edits.wiki_db\n",
    "    AND wmh.event_user_id = first_edits.event_user_id\n",
    "    JOIN second_sessions\n",
    "    ON wmh.wiki_db = second_sessions.wiki_db\n",
    "    AND wmh.event_user_id = second_sessions.event_user_id\n",
    "    WHERE snapshot = \"{wmh_snapshot}\"\n",
    "    AND wmh.wiki_db IN ({wiki_list})\n",
    "    AND event_entity = \"revision\"\n",
    "    AND event_type = \"create\"\n",
    "    -- only count edits up to 30 days after the first edit\n",
    "    AND unix_timestamp(wmh.event_timestamp) - unix_timestamp(first_edits.event_timestamp) < 86400*30\n",
    "    -- only count edits starting from the second session\n",
    "    AND wmh.event_timestamp >= second_sessions.event_timestamp\n",
    "    -- no bots and known users, and only count article edits\n",
    "    AND size(event_user_is_bot_by_historical) = 0 -- not a bot\n",
    "    AND ({known_wmh_event_userid_expression})\n",
    "    AND page_namespace = 0 -- article edits\n",
    "    GROUP BY wmh.wiki_db, wmh.event_user_id\n",
    ")\n",
    "SELECT\n",
    "    first_edits.*,\n",
    "    IF(other_edits.event_user_id IS NOT NULL, 1, 0) AS edited_again,\n",
    "    COALESCE(other_edits.num_additional_article_edits, 0) AS num_additional_article_edits,\n",
    "    COALESCE(other_edits.num_additional_newcomer_task_edits, 0) AS num_additional_newcomer_task_edits,\n",
    "    COALESCE(other_edits.num_additional_add_link_edits, 0) AS num_additional_add_link_edits,\n",
    "    COALESCE(other_edits.num_additional_copyedit_edits, 0) AS num_additional_copyedit_edits,\n",
    "    COALESCE(other_edits.num_additional_other_task_edits, 0) AS num_additional_other_task_edits\n",
    "FROM first_edits\n",
    "LEFT JOIN other_edits\n",
    "ON first_edits.wiki_db = other_edits.wiki_db\n",
    "AND first_edits.event_user_id = other_edits.event_user_id\n",
    "'''"
   ]
  },
  {
   "cell_type": "code",
   "execution_count": 6,
   "id": "ec47ce89-cd70-4284-8eb5-a4836ed9084b",
   "metadata": {},
   "outputs": [
    {
     "name": "stderr",
     "output_type": "stream",
     "text": [
      "PySpark executors will use /usr/lib/anaconda-wmf/bin/python3.\n"
     ]
    },
    {
     "name": "stdout",
     "output_type": "stream",
     "text": [
      "PYSPARK_PYTHON=/usr/lib/anaconda-wmf/bin/python3\n"
     ]
    },
    {
     "name": "stderr",
     "output_type": "stream",
     "text": [
      "SLF4J: Class path contains multiple SLF4J bindings.\n",
      "SLF4J: Found binding in [jar:file:/usr/lib/spark2/jars/slf4j-log4j12-1.7.16.jar!/org/slf4j/impl/StaticLoggerBinder.class]\n",
      "SLF4J: Found binding in [jar:file:/usr/lib/hadoop/lib/slf4j-log4j12-1.7.25.jar!/org/slf4j/impl/StaticLoggerBinder.class]\n",
      "SLF4J: See http://www.slf4j.org/codes.html#multiple_bindings for an explanation.\n",
      "SLF4J: Actual binding is of type [org.slf4j.impl.Log4jLoggerFactory]\n",
      "Setting default log level to \"WARN\".\n",
      "To adjust logging level use sc.setLogLevel(newLevel). For SparkR, use setLogLevel(newLevel).\n",
      "22/08/08 20:32:59 WARN SparkConf: Note that spark.local.dir will be overridden by the value set by the cluster manager (via SPARK_LOCAL_DIRS in mesos/standalone/kubernetes and LOCAL_DIRS in YARN).\n",
      "22/08/08 20:32:59 WARN Utils: Service 'sparkDriver' could not bind on port 12000. Attempting port 12001.\n",
      "22/08/08 20:32:59 WARN Utils: Service 'SparkUI' could not bind on port 4040. Attempting port 4041.\n",
      "22/08/08 20:33:08 WARN Utils: Service 'org.apache.spark.network.netty.NettyBlockTransferService' could not bind on port 13000. Attempting port 13001.\n",
      "22/08/08 20:33:35 WARN Utils: Truncated the string representation of a plan since it was too large. This behavior can be adjusted by setting 'spark.debug.maxToStringFields' in SparkEnv.conf.\n",
      "                                                                                44]]]\r"
     ]
    }
   ],
   "source": [
    "user_edits = spark.run(\n",
    "    edit_query.format(\n",
    "        wmh_snapshot = mwh_snapshot,\n",
    "        start_ts = start_date.strftime('%Y-%m-%d %H:%M:%S'),\n",
    "        end_ts = end_date.strftime('%Y-%m-%d %H:%M:%S'),\n",
    "        wiki_list = ','.join(['\"{}\"'.format(w) for w in wikis]),\n",
    "        known_event_userid_expression = make_known_users_sql(known_users, 'wiki_db', 'event_user_id'),\n",
    "        known_wmh_event_userid_expression = make_known_users_sql(known_users, 'wmh.wiki_db', 'wmh.event_user_id')\n",
    "    ),\n",
    "    session_type = 'yarn-regular',\n",
    "    extra_settings = {'spark.executor.memory': '12g'}\n",
    ")"
   ]
  },
  {
   "cell_type": "markdown",
   "id": "7f6bb74d-46be-4d2d-beb4-8f08bac4fb2d",
   "metadata": {},
   "source": [
    "## Data Quality Check"
   ]
  },
  {
   "cell_type": "code",
   "execution_count": null,
   "id": "a56487ca-b0dd-4f0d-a911-6f52ab985d0e",
   "metadata": {},
   "outputs": [],
   "source": [
    "user_edits.loc[(user_edits['wiki_db'] == 'frwiki') & (user_edits['newcomer_task_edit'] == 1)].head()"
   ]
  },
  {
   "cell_type": "markdown",
   "id": "85931392-d81f-4728-a97f-55fa752cc94e",
   "metadata": {},
   "source": [
    "I've verified the data by comparing it to MediaWiki's databases, fixed a few bugs in the query, and made an update to the specification. As far as I can tell, the numbers now make sense."
   ]
  },
  {
   "cell_type": "markdown",
   "id": "ca94f5c4-4914-42e8-820d-06f57b2f6ec1",
   "metadata": {},
   "source": [
    "## Baseline Editing\n",
    "\n",
    "We want to know, for users whose first article edit is not a suggested task edit, what is the probability that they make at least one more article edit that is also not a suggested task?\n",
    "\n",
    "Number of users whose first article edit is not a suggested edit:"
   ]
  },
  {
   "cell_type": "code",
   "execution_count": 8,
   "id": "4b77aec7-48bd-4509-909a-7b4febe20387",
   "metadata": {},
   "outputs": [
    {
     "data": {
      "text/plain": [
       "17534"
      ]
     },
     "execution_count": 8,
     "metadata": {},
     "output_type": "execute_result"
    }
   ],
   "source": [
    "len(\n",
    "    user_edits.loc[\n",
    "        (user_edits['newcomer_task_edit'] == 0)\n",
    "    ]\n",
    ")"
   ]
  },
  {
   "cell_type": "markdown",
   "id": "1bd811b5-4eab-400c-aad5-014d218a3c23",
   "metadata": {},
   "source": [
    "And of those, how many made additional edits that were also not suggested edits?"
   ]
  },
  {
   "cell_type": "code",
   "execution_count": 28,
   "id": "56e2df8b-3270-4536-bd4e-5ef6598ddd09",
   "metadata": {},
   "outputs": [
    {
     "data": {
      "text/plain": [
       "4118"
      ]
     },
     "execution_count": 28,
     "metadata": {},
     "output_type": "execute_result"
    }
   ],
   "source": [
    "len(\n",
    "    user_edits.loc[\n",
    "        (user_edits['newcomer_task_edit'] == 0) &\n",
    "        (user_edits['num_additional_article_edits'] > 0)\n",
    "    ]\n",
    ")"
   ]
  },
  {
   "cell_type": "markdown",
   "id": "9d481c03-b388-4a0c-a0e0-609abc0ff647",
   "metadata": {},
   "source": [
    "What percentage does that correspond to?"
   ]
  },
  {
   "cell_type": "code",
   "execution_count": 29,
   "id": "161226a0-4f4f-4d49-b0f8-0ce79ce8234e",
   "metadata": {},
   "outputs": [
    {
     "data": {
      "text/plain": [
       "23.5"
      ]
     },
     "execution_count": 29,
     "metadata": {},
     "output_type": "execute_result"
    }
   ],
   "source": [
    "round(100 * \n",
    "      len(\n",
    "          user_edits.loc[\n",
    "              (user_edits['newcomer_task_edit'] == 0) &\n",
    "              (user_edits['num_additional_article_edits'] > 0)\n",
    "          ]\n",
    "      ) / len(\n",
    "          user_edits.loc[\n",
    "              (user_edits['newcomer_task_edit'] == 0)\n",
    "          ]\n",
    "\n",
    "      ), 1\n",
    ")"
   ]
  },
  {
   "cell_type": "markdown",
   "id": "3e177bc2-caeb-42dd-bee9-661d997c8971",
   "metadata": {
    "tags": []
   },
   "source": [
    "## Newcomer Tasks Editing"
   ]
  },
  {
   "cell_type": "code",
   "execution_count": 30,
   "id": "fc1ac8f9-7ad6-497d-89dd-21d29aa9acd8",
   "metadata": {},
   "outputs": [
    {
     "data": {
      "text/plain": [
       "1905"
      ]
     },
     "execution_count": 30,
     "metadata": {},
     "output_type": "execute_result"
    }
   ],
   "source": [
    "len(\n",
    "    user_edits.loc[\n",
    "        (user_edits['newcomer_task_edit'] == 1)\n",
    "    ]\n",
    ")"
   ]
  },
  {
   "cell_type": "markdown",
   "id": "07b139f4-82ff-4756-aedf-adcf2cfafb54",
   "metadata": {},
   "source": [
    "How many of those make additional edits?"
   ]
  },
  {
   "cell_type": "code",
   "execution_count": 9,
   "id": "15638950-785a-47f4-a53f-a98080f546b0",
   "metadata": {},
   "outputs": [
    {
     "data": {
      "text/plain": [
       "483"
      ]
     },
     "execution_count": 9,
     "metadata": {},
     "output_type": "execute_result"
    }
   ],
   "source": [
    "len(\n",
    "    user_edits.loc[\n",
    "        (user_edits['newcomer_task_edit'] == 1) &\n",
    "        (user_edits['num_additional_article_edits'] > 0)\n",
    "    ]\n",
    ")"
   ]
  },
  {
   "cell_type": "markdown",
   "id": "59862f44-dadb-46d5-b748-d6c2535f2aa5",
   "metadata": {},
   "source": [
    "What proportion is that?"
   ]
  },
  {
   "cell_type": "code",
   "execution_count": 32,
   "id": "dc71109f-6f14-4105-8b8a-8960346bbdcf",
   "metadata": {},
   "outputs": [
    {
     "data": {
      "text/plain": [
       "25.4"
      ]
     },
     "execution_count": 32,
     "metadata": {},
     "output_type": "execute_result"
    }
   ],
   "source": [
    "round(100 * len(\n",
    "    user_edits.loc[\n",
    "        (user_edits['newcomer_task_edit'] == 1) &\n",
    "        (user_edits['num_additional_article_edits'] > 0)\n",
    "    ]\n",
    ") / len(\n",
    "    user_edits.loc[\n",
    "        (user_edits['newcomer_task_edit'] == 1)\n",
    "    ]\n",
    "), 1)      "
   ]
  },
  {
   "cell_type": "markdown",
   "id": "c636d3ed-d550-4387-bb6c-307ca2ee391a",
   "metadata": {},
   "source": [
    "That's a \"roughly comparable\" proportion. Let's get the total, and also look at users who started with an Add a Link Edit."
   ]
  },
  {
   "cell_type": "code",
   "execution_count": 33,
   "id": "0751aff4-be2b-4515-8e29-d74d617d1cf9",
   "metadata": {},
   "outputs": [
    {
     "data": {
      "text/plain": [
       "19439"
      ]
     },
     "execution_count": 33,
     "metadata": {},
     "output_type": "execute_result"
    }
   ],
   "source": [
    "len(user_edits)"
   ]
  },
  {
   "cell_type": "code",
   "execution_count": 35,
   "id": "843a4a0e-e696-4e3e-b3da-868efe5b8238",
   "metadata": {},
   "outputs": [
    {
     "data": {
      "text/plain": [
       "4601"
      ]
     },
     "execution_count": 35,
     "metadata": {},
     "output_type": "execute_result"
    }
   ],
   "source": [
    "len(\n",
    "    user_edits.loc[\n",
    "        (user_edits['num_additional_article_edits'] > 0)\n",
    "    ]\n",
    ")"
   ]
  },
  {
   "cell_type": "code",
   "execution_count": 34,
   "id": "0d0a07fa-933e-453a-8b09-ee60f53de16c",
   "metadata": {},
   "outputs": [
    {
     "data": {
      "text/plain": [
       "23.7"
      ]
     },
     "execution_count": 34,
     "metadata": {},
     "output_type": "execute_result"
    }
   ],
   "source": [
    "round(100 * \n",
    "      len(\n",
    "    user_edits.loc[\n",
    "        (user_edits['num_additional_article_edits'] > 0)\n",
    "    ]\n",
    ")\n",
    "      \n",
    "      / len(user_edits\n",
    "), 1)"
   ]
  },
  {
   "cell_type": "code",
   "execution_count": 37,
   "id": "ba0b9775-1e73-43c9-9b5e-ac8343a324d2",
   "metadata": {},
   "outputs": [
    {
     "data": {
      "text/plain": [
       "984"
      ]
     },
     "execution_count": 37,
     "metadata": {},
     "output_type": "execute_result"
    }
   ],
   "source": [
    "len(user_edits.loc[(user_edits['add_link_edit'] == 1)])"
   ]
  },
  {
   "cell_type": "code",
   "execution_count": 38,
   "id": "e263f7cf-5512-4d16-865b-a0469ad89bbf",
   "metadata": {},
   "outputs": [
    {
     "data": {
      "text/plain": [
       "246"
      ]
     },
     "execution_count": 38,
     "metadata": {},
     "output_type": "execute_result"
    }
   ],
   "source": [
    "len(user_edits.loc[(user_edits['add_link_edit'] == 1) &\n",
    "                   (user_edits['num_additional_article_edits'] > 0)])"
   ]
  },
  {
   "cell_type": "code",
   "execution_count": 39,
   "id": "a0bb3dc1-e7f8-4c36-a749-18c385f7b1a8",
   "metadata": {},
   "outputs": [
    {
     "data": {
      "text/plain": [
       "25.0"
      ]
     },
     "execution_count": 39,
     "metadata": {},
     "output_type": "execute_result"
    }
   ],
   "source": [
    "round(100 * \n",
    "      len(user_edits.loc[(user_edits['add_link_edit'] == 1) &\n",
    "                   (user_edits['num_additional_article_edits'] > 0)])\n",
    "      / len(user_edits.loc[(user_edits['add_link_edit'] == 1)]),\n",
    "      1)"
   ]
  },
  {
   "cell_type": "markdown",
   "id": "d8d11b4e-68c6-4f3c-bab7-d3021a400f50",
   "metadata": {},
   "source": [
    "What about users who didn't start out with a Newcomer Tasks edit. How many of those did or did not make Newcomer Tasks edits later? Since we didn't split this on treatment/control, users who start out with a different edit might still have access to the Newcomer Homepage and make Newcomer Tasks edits later."
   ]
  },
  {
   "cell_type": "code",
   "execution_count": 90,
   "id": "41ce3bc3-cfbd-4ee1-a2eb-f002ae3afd45",
   "metadata": {},
   "outputs": [
    {
     "data": {
      "text/plain": [
       "189"
      ]
     },
     "execution_count": 90,
     "metadata": {},
     "output_type": "execute_result"
    }
   ],
   "source": [
    "len(user_edits.loc[(user_edits['newcomer_task_edit'] == 0) &\n",
    "                   (user_edits['num_additional_article_edits'] > 0) &\n",
    "                   (user_edits['num_additional_newcomer_task_edits'] > 0)])"
   ]
  },
  {
   "cell_type": "code",
   "execution_count": 91,
   "id": "14a64b16-c7ff-493b-9d6c-7bf16f4fe1e7",
   "metadata": {},
   "outputs": [
    {
     "data": {
      "text/plain": [
       "4.6"
      ]
     },
     "execution_count": 91,
     "metadata": {},
     "output_type": "execute_result"
    }
   ],
   "source": [
    "round(100 * \n",
    "      len(user_edits.loc[(user_edits['newcomer_task_edit'] == 0) &\n",
    "                   (user_edits['num_additional_article_edits'] > 0) &\n",
    "                   (user_edits['num_additional_newcomer_task_edits'] > 0)])\n",
    "      / len(user_edits.loc[(user_edits['newcomer_task_edit'] == 0) &\n",
    "                   (user_edits['num_additional_article_edits'] > 0)]),\n",
    "      1)"
   ]
  },
  {
   "cell_type": "markdown",
   "id": "9c1dc1bb-6da3-4690-8a18-ef803e6569cc",
   "metadata": {
    "tags": []
   },
   "source": [
    "## Add a Link Editing"
   ]
  },
  {
   "cell_type": "code",
   "execution_count": 40,
   "id": "2e180196-cf67-4b93-af6c-88de438e0fb8",
   "metadata": {},
   "outputs": [
    {
     "data": {
      "text/plain": [
       "984"
      ]
     },
     "execution_count": 40,
     "metadata": {},
     "output_type": "execute_result"
    }
   ],
   "source": [
    "len(\n",
    "    user_edits.loc[\n",
    "        (user_edits['add_link_edit'] == 1)\n",
    "    ]\n",
    ")"
   ]
  },
  {
   "cell_type": "code",
   "execution_count": 42,
   "id": "3f9b354a-fc5e-4425-b6e5-f4ce2cc7973c",
   "metadata": {},
   "outputs": [
    {
     "data": {
      "text/plain": [
       "85"
      ]
     },
     "execution_count": 42,
     "metadata": {},
     "output_type": "execute_result"
    }
   ],
   "source": [
    "len(\n",
    "    user_edits.loc[\n",
    "        (user_edits['add_link_edit'] == 1) &\n",
    "        (user_edits['num_additional_article_edits'] > 0) &\n",
    "        (user_edits['num_additional_newcomer_task_edits'] == 0)\n",
    "    ]\n",
    ")"
   ]
  },
  {
   "cell_type": "code",
   "execution_count": 43,
   "id": "f2f159e7-7947-4aa3-af6e-6f5f48f8ce89",
   "metadata": {},
   "outputs": [
    {
     "data": {
      "text/plain": [
       "34.6"
      ]
     },
     "execution_count": 43,
     "metadata": {},
     "output_type": "execute_result"
    }
   ],
   "source": [
    "round(100 * \n",
    "      len(\n",
    "    user_edits.loc[\n",
    "        (user_edits['add_link_edit'] == 1) &\n",
    "        (user_edits['num_additional_article_edits'] > 0) &\n",
    "        (user_edits['num_additional_newcomer_task_edits'] == 0)\n",
    "    ]\n",
    ")\n",
    "      \n",
    "      / len(\n",
    "    user_edits.loc[\n",
    "        (user_edits['add_link_edit'] == 1) &\n",
    "        (user_edits['num_additional_article_edits'] > 0)\n",
    "    ]\n",
    "), 1)"
   ]
  },
  {
   "cell_type": "markdown",
   "id": "ee41baf3-b890-478d-8ee8-c3cc316f9abd",
   "metadata": {},
   "source": [
    "The remaining users made some newcomer task edits:"
   ]
  },
  {
   "cell_type": "code",
   "execution_count": 57,
   "id": "d63ff950-1a6a-4ef0-bd4d-b7d16c8fc7b5",
   "metadata": {},
   "outputs": [
    {
     "data": {
      "text/plain": [
       "69"
      ]
     },
     "execution_count": 57,
     "metadata": {},
     "output_type": "execute_result"
    }
   ],
   "source": [
    "len(\n",
    "    user_edits.loc[\n",
    "        (user_edits['add_link_edit'] == 1) &\n",
    "        (user_edits['num_additional_article_edits'] > 0) &\n",
    "        (user_edits['num_additional_article_edits'] == user_edits['num_additional_newcomer_task_edits'])\n",
    "    ]\n",
    ")"
   ]
  },
  {
   "cell_type": "code",
   "execution_count": 60,
   "id": "6ab64a46-80ba-4e57-979e-f1546c438d8f",
   "metadata": {},
   "outputs": [
    {
     "data": {
      "text/plain": [
       "28.0"
      ]
     },
     "execution_count": 60,
     "metadata": {},
     "output_type": "execute_result"
    }
   ],
   "source": [
    "round(100 * \n",
    "      len(\n",
    "    user_edits.loc[\n",
    "        (user_edits['add_link_edit'] == 1) &\n",
    "        (user_edits['num_additional_article_edits'] > 0) &\n",
    "        (user_edits['num_additional_article_edits'] == user_edits['num_additional_newcomer_task_edits'])\n",
    "    ]\n",
    ")\n",
    "      \n",
    "      / len(\n",
    "    user_edits.loc[\n",
    "        (user_edits['add_link_edit'] == 1) &\n",
    "        (user_edits['num_additional_article_edits'] > 0)\n",
    "    ]\n",
    "), 1)"
   ]
  },
  {
   "cell_type": "markdown",
   "id": "6b335dd6-5fc0-41d9-9d85-5089aea00c30",
   "metadata": {},
   "source": [
    "A combination of Newcomer Tasks edits and other article edits:"
   ]
  },
  {
   "cell_type": "code",
   "execution_count": 62,
   "id": "e8e3b51e-60e9-4149-a659-79a74dd2add7",
   "metadata": {},
   "outputs": [
    {
     "data": {
      "text/plain": [
       "92"
      ]
     },
     "execution_count": 62,
     "metadata": {},
     "output_type": "execute_result"
    }
   ],
   "source": [
    "len(\n",
    "    user_edits.loc[\n",
    "        (user_edits['add_link_edit'] == 1) &\n",
    "        (user_edits['num_additional_article_edits'] > 0) &\n",
    "        (user_edits['num_additional_newcomer_task_edits'] > 0) &\n",
    "        (user_edits['num_additional_article_edits'] != user_edits['num_additional_newcomer_task_edits'])\n",
    "    ]\n",
    ")"
   ]
  },
  {
   "cell_type": "code",
   "execution_count": 63,
   "id": "410aca69-444f-4289-a7f0-f4c2ccbcab6c",
   "metadata": {},
   "outputs": [
    {
     "data": {
      "text/plain": [
       "37.4"
      ]
     },
     "execution_count": 63,
     "metadata": {},
     "output_type": "execute_result"
    }
   ],
   "source": [
    "round(100 * \n",
    "      len(\n",
    "    user_edits.loc[\n",
    "        (user_edits['add_link_edit'] == 1) &\n",
    "        (user_edits['num_additional_article_edits'] > 0) &\n",
    "        (user_edits['num_additional_newcomer_task_edits'] > 0) &\n",
    "        (user_edits['num_additional_article_edits'] != user_edits['num_additional_newcomer_task_edits'])\n",
    "    ]\n",
    ")\n",
    "      / len(\n",
    "    user_edits.loc[\n",
    "        (user_edits['add_link_edit'] == 1) &\n",
    "        (user_edits['num_additional_article_edits'] > 0)\n",
    "    ]\n",
    "), 1)"
   ]
  },
  {
   "cell_type": "markdown",
   "id": "24abbbeb-c72b-4fca-94d9-7693d3611579",
   "metadata": {},
   "source": [
    "## Newcomers Who Only Made Newcomer Tasks Edits \n",
    "\n",
    "What kind of tasks did they do? Did they only do Add a Link edits? Only copy edits? Only other types of edits? Some combination of these?"
   ]
  },
  {
   "cell_type": "code",
   "execution_count": 65,
   "id": "cca7f4ab-a169-47a3-ad54-d1ebb5889663",
   "metadata": {},
   "outputs": [
    {
     "data": {
      "text/plain": [
       "31"
      ]
     },
     "execution_count": 65,
     "metadata": {},
     "output_type": "execute_result"
    }
   ],
   "source": [
    "len(\n",
    "    user_edits.loc[\n",
    "        (user_edits['add_link_edit'] == 1) &\n",
    "        (user_edits['num_additional_article_edits'] > 0) &\n",
    "        (user_edits['num_additional_newcomer_task_edits'] == user_edits['num_additional_article_edits']) &\n",
    "        (user_edits['num_additional_article_edits'] == user_edits['num_additional_add_link_edits'])\n",
    "    ]\n",
    ")"
   ]
  },
  {
   "cell_type": "code",
   "execution_count": 66,
   "id": "7ca19426-00f7-4abe-903a-d26050922210",
   "metadata": {},
   "outputs": [
    {
     "data": {
      "text/plain": [
       "44.9"
      ]
     },
     "execution_count": 66,
     "metadata": {},
     "output_type": "execute_result"
    }
   ],
   "source": [
    "round(100 * \n",
    "      len(\n",
    "    user_edits.loc[\n",
    "        (user_edits['add_link_edit'] == 1) &\n",
    "        (user_edits['num_additional_article_edits'] > 0) &\n",
    "        (user_edits['num_additional_newcomer_task_edits'] == user_edits['num_additional_article_edits']) &\n",
    "        (user_edits['num_additional_article_edits'] == user_edits['num_additional_add_link_edits'])\n",
    "    ]\n",
    ")     \n",
    "      / len(\n",
    "    user_edits.loc[\n",
    "        (user_edits['add_link_edit'] == 1) &\n",
    "        (user_edits['num_additional_article_edits'] > 0) &\n",
    "        (user_edits['num_additional_newcomer_task_edits'] == user_edits['num_additional_article_edits'])\n",
    "    ]\n",
    ")     , 1)"
   ]
  },
  {
   "cell_type": "markdown",
   "id": "f2d3c0e6-d04d-4bce-8880-b789d404a7fd",
   "metadata": {},
   "source": [
    "Only copy edits:"
   ]
  },
  {
   "cell_type": "code",
   "execution_count": 67,
   "id": "07ef1af1-ac63-4d6f-bbac-a40dc403eba1",
   "metadata": {},
   "outputs": [
    {
     "data": {
      "text/plain": [
       "5"
      ]
     },
     "execution_count": 67,
     "metadata": {},
     "output_type": "execute_result"
    }
   ],
   "source": [
    "len(\n",
    "    user_edits.loc[\n",
    "        (user_edits['add_link_edit'] == 1) &\n",
    "        (user_edits['num_additional_article_edits'] > 0) &\n",
    "        (user_edits['num_additional_newcomer_task_edits'] == user_edits['num_additional_article_edits']) &\n",
    "        (user_edits['num_additional_article_edits'] == user_edits['num_additional_copyedit_edits'])\n",
    "    ]\n",
    ")"
   ]
  },
  {
   "cell_type": "code",
   "execution_count": 68,
   "id": "10d3cad7-b4cc-483e-bcc5-3d9287ef6766",
   "metadata": {},
   "outputs": [
    {
     "data": {
      "text/plain": [
       "7.2"
      ]
     },
     "execution_count": 68,
     "metadata": {},
     "output_type": "execute_result"
    }
   ],
   "source": [
    "round(100 * \n",
    "      len(\n",
    "    user_edits.loc[\n",
    "        (user_edits['add_link_edit'] == 1) &\n",
    "        (user_edits['num_additional_article_edits'] > 0) &\n",
    "        (user_edits['num_additional_newcomer_task_edits'] == user_edits['num_additional_article_edits']) &\n",
    "        (user_edits['num_additional_article_edits'] == user_edits['num_additional_copyedit_edits'])\n",
    "    ]\n",
    ")     \n",
    "      / len(\n",
    "    user_edits.loc[\n",
    "        (user_edits['add_link_edit'] == 1) &\n",
    "        (user_edits['num_additional_article_edits'] > 0) &\n",
    "        (user_edits['num_additional_newcomer_task_edits'] == user_edits['num_additional_article_edits'])\n",
    "    ]\n",
    ")     , 1)"
   ]
  },
  {
   "cell_type": "markdown",
   "id": "ba2696ee-599e-4a53-b829-174ed8bb23d0",
   "metadata": {},
   "source": [
    "Only other types of Newcomer Tasks:"
   ]
  },
  {
   "cell_type": "code",
   "execution_count": 69,
   "id": "008a28cb-17fd-4ccc-a2a5-4f37385f4e26",
   "metadata": {},
   "outputs": [
    {
     "data": {
      "text/plain": [
       "1"
      ]
     },
     "execution_count": 69,
     "metadata": {},
     "output_type": "execute_result"
    }
   ],
   "source": [
    "len(\n",
    "    user_edits.loc[\n",
    "        (user_edits['add_link_edit'] == 1) &\n",
    "        (user_edits['num_additional_article_edits'] > 0) &\n",
    "        (user_edits['num_additional_newcomer_task_edits'] == user_edits['num_additional_article_edits']) &\n",
    "        (user_edits['num_additional_article_edits'] == user_edits['num_additional_other_task_edits'])\n",
    "    ]\n",
    ")"
   ]
  },
  {
   "cell_type": "code",
   "execution_count": 70,
   "id": "fa2144c8-531b-406b-afa6-5c1af9971bee",
   "metadata": {},
   "outputs": [
    {
     "data": {
      "text/plain": [
       "1.4"
      ]
     },
     "execution_count": 70,
     "metadata": {},
     "output_type": "execute_result"
    }
   ],
   "source": [
    "round(100 * \n",
    "      len(\n",
    "    user_edits.loc[\n",
    "        (user_edits['add_link_edit'] == 1) &\n",
    "        (user_edits['num_additional_article_edits'] > 0) &\n",
    "        (user_edits['num_additional_newcomer_task_edits'] == user_edits['num_additional_article_edits']) &\n",
    "        (user_edits['num_additional_article_edits'] == user_edits['num_additional_other_task_edits'])\n",
    "    ]\n",
    ")     \n",
    "      / len(\n",
    "    user_edits.loc[\n",
    "        (user_edits['add_link_edit'] == 1) &\n",
    "        (user_edits['num_additional_article_edits'] > 0) &\n",
    "        (user_edits['num_additional_newcomer_task_edits'] == user_edits['num_additional_article_edits'])\n",
    "    ]\n",
    ")     , 1)"
   ]
  },
  {
   "cell_type": "markdown",
   "id": "5be207c0-003c-4107-8b4c-13239345ab9e",
   "metadata": {},
   "source": [
    "A combination of Add a Link and copy editing, the two default tasks:"
   ]
  },
  {
   "cell_type": "code",
   "execution_count": 78,
   "id": "be5a8e54-8966-41e0-8db8-4d5e3e27e96b",
   "metadata": {},
   "outputs": [
    {
     "data": {
      "text/plain": [
       "20"
      ]
     },
     "execution_count": 78,
     "metadata": {},
     "output_type": "execute_result"
    }
   ],
   "source": [
    "len(\n",
    "    user_edits.loc[\n",
    "        (user_edits['add_link_edit'] == 1) &\n",
    "        (user_edits['num_additional_article_edits'] > 0) &\n",
    "        (user_edits['num_additional_newcomer_task_edits'] == user_edits['num_additional_article_edits']) &\n",
    "        (user_edits['num_additional_add_link_edits'] > 0) &\n",
    "        (user_edits['num_additional_article_edits'] != user_edits['num_additional_add_link_edits']) &\n",
    "        (user_edits['num_additional_article_edits'] == (user_edits['num_additional_add_link_edits'] +\n",
    "                                                        user_edits['num_additional_copyedit_edits']))\n",
    "    ]\n",
    ")"
   ]
  },
  {
   "cell_type": "code",
   "execution_count": 79,
   "id": "b4919538-b7c4-4c5a-8dee-bec12b599b3c",
   "metadata": {},
   "outputs": [
    {
     "data": {
      "text/plain": [
       "29.0"
      ]
     },
     "execution_count": 79,
     "metadata": {},
     "output_type": "execute_result"
    }
   ],
   "source": [
    "round(100 * \n",
    "      len(\n",
    "    user_edits.loc[\n",
    "        (user_edits['add_link_edit'] == 1) &\n",
    "        (user_edits['num_additional_article_edits'] > 0) &\n",
    "        (user_edits['num_additional_newcomer_task_edits'] == user_edits['num_additional_article_edits']) &\n",
    "        (user_edits['num_additional_add_link_edits'] > 0) &\n",
    "        (user_edits['num_additional_article_edits'] != user_edits['num_additional_add_link_edits']) &\n",
    "        (user_edits['num_additional_article_edits'] == (user_edits['num_additional_add_link_edits'] +\n",
    "                                                        user_edits['num_additional_copyedit_edits']))\n",
    "    ]\n",
    ")\n",
    "      / len(\n",
    "    user_edits.loc[\n",
    "        (user_edits['add_link_edit'] == 1) &\n",
    "        (user_edits['num_additional_article_edits'] > 0) &\n",
    "        (user_edits['num_additional_newcomer_task_edits'] == user_edits['num_additional_article_edits'])\n",
    "    ]\n",
    ")     , 1)"
   ]
  },
  {
   "cell_type": "markdown",
   "id": "4386b299-89a0-4bcd-898d-0c5fc1be6d1f",
   "metadata": {},
   "source": [
    "A combination of Add a Link and other tasks:"
   ]
  },
  {
   "cell_type": "code",
   "execution_count": 80,
   "id": "263bcf59-3574-4ac1-9a97-57678103ebcb",
   "metadata": {},
   "outputs": [
    {
     "data": {
      "text/plain": [
       "5"
      ]
     },
     "execution_count": 80,
     "metadata": {},
     "output_type": "execute_result"
    }
   ],
   "source": [
    "len(\n",
    "    user_edits.loc[\n",
    "        (user_edits['add_link_edit'] == 1) &\n",
    "        (user_edits['num_additional_article_edits'] > 0) &\n",
    "        (user_edits['num_additional_newcomer_task_edits'] == user_edits['num_additional_article_edits']) &\n",
    "        (user_edits['num_additional_add_link_edits'] > 0) &\n",
    "        (user_edits['num_additional_article_edits'] != user_edits['num_additional_add_link_edits']) &\n",
    "        (user_edits['num_additional_article_edits'] == (user_edits['num_additional_add_link_edits'] +\n",
    "                                                        user_edits['num_additional_other_task_edits']))\n",
    "    ]\n",
    ")"
   ]
  },
  {
   "cell_type": "code",
   "execution_count": 81,
   "id": "b3d982f1-a125-4b4a-8d60-79b62f877ee8",
   "metadata": {},
   "outputs": [
    {
     "data": {
      "text/plain": [
       "7.2"
      ]
     },
     "execution_count": 81,
     "metadata": {},
     "output_type": "execute_result"
    }
   ],
   "source": [
    "round(100 * \n",
    "      len(\n",
    "    user_edits.loc[\n",
    "        (user_edits['add_link_edit'] == 1) &\n",
    "        (user_edits['num_additional_article_edits'] > 0) &\n",
    "        (user_edits['num_additional_newcomer_task_edits'] == user_edits['num_additional_article_edits']) &\n",
    "        (user_edits['num_additional_add_link_edits'] > 0) &\n",
    "        (user_edits['num_additional_article_edits'] != user_edits['num_additional_add_link_edits']) &\n",
    "        (user_edits['num_additional_article_edits'] == (user_edits['num_additional_add_link_edits'] +\n",
    "                                                        user_edits['num_additional_other_task_edits']))\n",
    "    ]\n",
    ")\n",
    "      / len(\n",
    "    user_edits.loc[\n",
    "        (user_edits['add_link_edit'] == 1) &\n",
    "        (user_edits['num_additional_article_edits'] > 0) &\n",
    "        (user_edits['num_additional_newcomer_task_edits'] == user_edits['num_additional_article_edits'])\n",
    "    ]\n",
    ")     , 1)"
   ]
  },
  {
   "cell_type": "markdown",
   "id": "c8535a9f-c57b-452d-a959-4f59f65cf71e",
   "metadata": {},
   "source": [
    "A combination of copy editing and other tasks:"
   ]
  },
  {
   "cell_type": "code",
   "execution_count": 82,
   "id": "8caff067-e3d2-4feb-b37c-9ef18e7bdd1d",
   "metadata": {},
   "outputs": [
    {
     "data": {
      "text/plain": [
       "0"
      ]
     },
     "execution_count": 82,
     "metadata": {},
     "output_type": "execute_result"
    }
   ],
   "source": [
    "len(\n",
    "    user_edits.loc[\n",
    "        (user_edits['add_link_edit'] == 1) &\n",
    "        (user_edits['num_additional_article_edits'] > 0) &\n",
    "        (user_edits['num_additional_newcomer_task_edits'] == user_edits['num_additional_article_edits']) &\n",
    "        (user_edits['num_additional_copyedit_edits'] > 0) &\n",
    "        (user_edits['num_additional_article_edits'] != user_edits['num_additional_copyedit_edits']) &\n",
    "        (user_edits['num_additional_article_edits'] == (user_edits['num_additional_copyedit_edits'] +\n",
    "                                                        user_edits['num_additional_other_task_edits']))\n",
    "    ]\n",
    ")"
   ]
  },
  {
   "cell_type": "code",
   "execution_count": 83,
   "id": "610bd955-c44d-4f1f-93e0-1ade9711db57",
   "metadata": {},
   "outputs": [
    {
     "data": {
      "text/plain": [
       "0.0"
      ]
     },
     "execution_count": 83,
     "metadata": {},
     "output_type": "execute_result"
    }
   ],
   "source": [
    "round(100 * \n",
    "      len(\n",
    "    user_edits.loc[\n",
    "        (user_edits['add_link_edit'] == 1) &\n",
    "        (user_edits['num_additional_article_edits'] > 0) &\n",
    "        (user_edits['num_additional_newcomer_task_edits'] == user_edits['num_additional_article_edits']) &\n",
    "        (user_edits['num_additional_copyedit_edits'] > 0) &\n",
    "        (user_edits['num_additional_article_edits'] != user_edits['num_additional_copyedit_edits']) &\n",
    "        (user_edits['num_additional_article_edits'] == (user_edits['num_additional_copyedit_edits'] +\n",
    "                                                        user_edits['num_additional_other_task_edits']))\n",
    "    ]\n",
    ")\n",
    "      / len(\n",
    "    user_edits.loc[\n",
    "        (user_edits['add_link_edit'] == 1) &\n",
    "        (user_edits['num_additional_article_edits'] > 0) &\n",
    "        (user_edits['num_additional_newcomer_task_edits'] == user_edits['num_additional_article_edits'])\n",
    "    ]\n",
    ")     , 1)"
   ]
  },
  {
   "cell_type": "markdown",
   "id": "e6c2de3c-6d46-40c1-95fa-4265f1471119",
   "metadata": {},
   "source": [
    "A combination of all three:"
   ]
  },
  {
   "cell_type": "code",
   "execution_count": 84,
   "id": "872381b5-eba9-4dca-bd7b-bbec0243786c",
   "metadata": {},
   "outputs": [
    {
     "data": {
      "text/plain": [
       "7"
      ]
     },
     "execution_count": 84,
     "metadata": {},
     "output_type": "execute_result"
    }
   ],
   "source": [
    "len(\n",
    "    user_edits.loc[\n",
    "        (user_edits['add_link_edit'] == 1) &\n",
    "        (user_edits['num_additional_article_edits'] > 0) &\n",
    "        (user_edits['num_additional_newcomer_task_edits'] == user_edits['num_additional_article_edits']) &\n",
    "        (user_edits['num_additional_add_link_edits'] > 0) &\n",
    "        (user_edits['num_additional_copyedit_edits'] > 0) &\n",
    "        (user_edits['num_additional_other_task_edits'] > 0) &\n",
    "        (user_edits['num_additional_article_edits'] == (user_edits['num_additional_add_link_edits'] +\n",
    "                                                        user_edits['num_additional_copyedit_edits'] +\n",
    "                                                        user_edits['num_additional_other_task_edits'])) \n",
    "    ]\n",
    ")"
   ]
  },
  {
   "cell_type": "code",
   "execution_count": 85,
   "id": "572030a0-f75d-4fac-8766-644322666bdd",
   "metadata": {},
   "outputs": [
    {
     "data": {
      "text/plain": [
       "10.1"
      ]
     },
     "execution_count": 85,
     "metadata": {},
     "output_type": "execute_result"
    }
   ],
   "source": [
    "round(100 * \n",
    "      len(\n",
    "    user_edits.loc[\n",
    "        (user_edits['add_link_edit'] == 1) &\n",
    "        (user_edits['num_additional_article_edits'] > 0) &\n",
    "        (user_edits['num_additional_newcomer_task_edits'] == user_edits['num_additional_article_edits']) &\n",
    "        (user_edits['num_additional_add_link_edits'] > 0) &\n",
    "        (user_edits['num_additional_copyedit_edits'] > 0) &\n",
    "        (user_edits['num_additional_other_task_edits'] > 0) &\n",
    "        (user_edits['num_additional_article_edits'] == (user_edits['num_additional_add_link_edits'] +\n",
    "                                                        user_edits['num_additional_copyedit_edits'] +\n",
    "                                                        user_edits['num_additional_other_task_edits'])) \n",
    "    ]\n",
    ")\n",
    "      / len(\n",
    "    user_edits.loc[\n",
    "        (user_edits['add_link_edit'] == 1) &\n",
    "        (user_edits['num_additional_article_edits'] > 0) &\n",
    "        (user_edits['num_additional_newcomer_task_edits'] == user_edits['num_additional_article_edits'])\n",
    "    ]\n",
    ")     , 1)"
   ]
  },
  {
   "cell_type": "markdown",
   "id": "9eddb7bf-60d4-41a4-8af6-446ea4136a28",
   "metadata": {
    "tags": []
   },
   "source": [
    "## Non-Add a Link Newcomer Tasks Editing"
   ]
  },
  {
   "cell_type": "code",
   "execution_count": 10,
   "id": "11574e3d-fa35-44e7-b546-51993a92b6ea",
   "metadata": {},
   "outputs": [
    {
     "data": {
      "text/plain": [
       "921"
      ]
     },
     "execution_count": 10,
     "metadata": {},
     "output_type": "execute_result"
    }
   ],
   "source": [
    "len(\n",
    "    user_edits.loc[\n",
    "        (user_edits['newcomer_task_edit'] == 1) &\n",
    "        (user_edits['add_link_edit'] == 0)\n",
    "    ]\n",
    ")"
   ]
  },
  {
   "cell_type": "code",
   "execution_count": 11,
   "id": "41cf08d4-7055-472e-87ad-a9d225bf0380",
   "metadata": {},
   "outputs": [
    {
     "data": {
      "text/plain": [
       "106"
      ]
     },
     "execution_count": 11,
     "metadata": {},
     "output_type": "execute_result"
    }
   ],
   "source": [
    "len(\n",
    "    user_edits.loc[\n",
    "        (user_edits['newcomer_task_edit'] == 1) &\n",
    "        (user_edits['add_link_edit'] == 0) &\n",
    "        (user_edits['num_additional_article_edits'] > 0) &\n",
    "        (user_edits['num_additional_newcomer_task_edits'] == 0)\n",
    "    ]\n",
    ")"
   ]
  },
  {
   "cell_type": "code",
   "execution_count": 12,
   "id": "eed1ecd5-9c7d-49f8-970d-6699f3f11804",
   "metadata": {},
   "outputs": [
    {
     "data": {
      "text/plain": [
       "44.7"
      ]
     },
     "execution_count": 12,
     "metadata": {},
     "output_type": "execute_result"
    }
   ],
   "source": [
    "round(100 * \n",
    "      len(\n",
    "    user_edits.loc[\n",
    "        (user_edits['newcomer_task_edit'] == 1) &\n",
    "        (user_edits['add_link_edit'] == 0) &\n",
    "        (user_edits['num_additional_article_edits'] > 0) &\n",
    "        (user_edits['num_additional_newcomer_task_edits'] == 0)\n",
    "    ]\n",
    ")\n",
    "      \n",
    "      / len(\n",
    "    user_edits.loc[\n",
    "        (user_edits['newcomer_task_edit'] == 1) &\n",
    "        (user_edits['add_link_edit'] == 0) &\n",
    "        (user_edits['num_additional_article_edits'] > 0)\n",
    "    ]\n",
    "), 1)"
   ]
  },
  {
   "cell_type": "markdown",
   "id": "d284a542-58f2-48c9-b95e-78ba22db2d10",
   "metadata": {},
   "source": [
    "The remaining users made some newcomer task edits:"
   ]
  },
  {
   "cell_type": "code",
   "execution_count": 13,
   "id": "29da4294-2dad-455a-99e1-dcac7afc461f",
   "metadata": {},
   "outputs": [
    {
     "data": {
      "text/plain": [
       "44"
      ]
     },
     "execution_count": 13,
     "metadata": {},
     "output_type": "execute_result"
    }
   ],
   "source": [
    "len(\n",
    "    user_edits.loc[\n",
    "        (user_edits['newcomer_task_edit'] == 1) &\n",
    "        (user_edits['add_link_edit'] == 0) &\n",
    "        (user_edits['num_additional_article_edits'] > 0) &\n",
    "        (user_edits['num_additional_article_edits'] == user_edits['num_additional_newcomer_task_edits'])\n",
    "    ]\n",
    ")"
   ]
  },
  {
   "cell_type": "code",
   "execution_count": 14,
   "id": "74667446-7af9-41e9-b57f-f7ffe3e01d2e",
   "metadata": {},
   "outputs": [
    {
     "data": {
      "text/plain": [
       "18.6"
      ]
     },
     "execution_count": 14,
     "metadata": {},
     "output_type": "execute_result"
    }
   ],
   "source": [
    "round(100 * \n",
    "      len(\n",
    "    user_edits.loc[\n",
    "        (user_edits['newcomer_task_edit'] == 1) &\n",
    "        (user_edits['add_link_edit'] == 0) &\n",
    "        (user_edits['num_additional_article_edits'] > 0) &\n",
    "        (user_edits['num_additional_article_edits'] == user_edits['num_additional_newcomer_task_edits'])\n",
    "    ]\n",
    ")\n",
    "      \n",
    "      / len(\n",
    "    user_edits.loc[\n",
    "        (user_edits['newcomer_task_edit'] == 1) &\n",
    "        (user_edits['add_link_edit'] == 0) &\n",
    "        (user_edits['num_additional_article_edits'] > 0)\n",
    "    ]\n",
    "), 1)"
   ]
  },
  {
   "cell_type": "markdown",
   "id": "99b2bb32-a617-4b24-bf9d-c48074de6d2c",
   "metadata": {},
   "source": [
    "A combination of Newcomer Tasks edits and other article edits:"
   ]
  },
  {
   "cell_type": "code",
   "execution_count": 15,
   "id": "277a20e6-76a4-4ce1-a0a5-a8041cb91e75",
   "metadata": {},
   "outputs": [
    {
     "data": {
      "text/plain": [
       "87"
      ]
     },
     "execution_count": 15,
     "metadata": {},
     "output_type": "execute_result"
    }
   ],
   "source": [
    "len(\n",
    "    user_edits.loc[\n",
    "        (user_edits['newcomer_task_edit'] == 1) &\n",
    "        (user_edits['add_link_edit'] == 0) &\n",
    "        (user_edits['num_additional_article_edits'] > 0) &\n",
    "        (user_edits['num_additional_newcomer_task_edits'] > 0) &\n",
    "        (user_edits['num_additional_article_edits'] != user_edits['num_additional_newcomer_task_edits'])\n",
    "    ]\n",
    ")"
   ]
  },
  {
   "cell_type": "code",
   "execution_count": 16,
   "id": "5a0a6271-ebff-4c42-bf56-ca399556e417",
   "metadata": {},
   "outputs": [
    {
     "data": {
      "text/plain": [
       "36.7"
      ]
     },
     "execution_count": 16,
     "metadata": {},
     "output_type": "execute_result"
    }
   ],
   "source": [
    "round(100 * \n",
    "      len(\n",
    "    user_edits.loc[\n",
    "        (user_edits['newcomer_task_edit'] == 1) &\n",
    "        (user_edits['add_link_edit'] == 0) &\n",
    "        (user_edits['num_additional_article_edits'] > 0) &\n",
    "        (user_edits['num_additional_newcomer_task_edits'] > 0) &\n",
    "        (user_edits['num_additional_article_edits'] != user_edits['num_additional_newcomer_task_edits'])\n",
    "    ]\n",
    ")\n",
    "      / len(\n",
    "    user_edits.loc[\n",
    "        (user_edits['newcomer_task_edit'] == 1) &\n",
    "        (user_edits['add_link_edit'] == 0) &\n",
    "        (user_edits['num_additional_article_edits'] > 0)\n",
    "    ]\n",
    "), 1)"
   ]
  }
 ],
 "metadata": {
  "kernelspec": {
   "display_name": "Python 3 (ipykernel)",
   "language": "python",
   "name": "python3"
  },
  "language_info": {
   "codemirror_mode": {
    "name": "ipython",
    "version": 3
   },
   "file_extension": ".py",
   "mimetype": "text/x-python",
   "name": "python",
   "nbconvert_exporter": "python",
   "pygments_lexer": "ipython3",
   "version": "3.7.11"
  }
 },
 "nbformat": 4,
 "nbformat_minor": 5
}
